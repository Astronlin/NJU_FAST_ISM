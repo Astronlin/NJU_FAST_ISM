{
 "cells": [
  {
   "cell_type": "markdown",
   "id": "210268ea-f602-4be8-abb5-9ea363c0ba67",
   "metadata": {},
   "source": [
    "#### In this document, we show how to use the FISH (FAST InterSterllar HI) scripts to calibrate the FAST CRAFTS data."
   ]
  },
  {
   "cell_type": "markdown",
   "id": "678d05b3-309a-4ba9-be08-7556e77e0253",
   "metadata": {},
   "source": [
    "### Import necessary packages"
   ]
  },
  {
   "cell_type": "code",
   "execution_count": 1,
   "id": "58215dc8-b803-43cf-b10f-d03cbcfc153b",
   "metadata": {},
   "outputs": [],
   "source": [
    "import os\n",
    "import numpy as np\n",
    "import sys\n",
    "import gc\n",
    "import multiprocessing as mp\n",
    "sys.path.append('/bb8/lingrui/my_projects/FAST_pipeline/FISH_scripts/')"
   ]
  },
  {
   "cell_type": "code",
   "execution_count": 2,
   "id": "201a5b41-e8f0-4f22-b749-ae2d118f322d",
   "metadata": {},
   "outputs": [
    {
     "name": "stdout",
     "output_type": "stream",
     "text": [
      "/bb8/lingrui/my_projects/FAST_pipeline\n"
     ]
    }
   ],
   "source": [
    "!pwd"
   ]
  },
  {
   "cell_type": "markdown",
   "id": "8d72fb43-afe6-4c2b-8d78-9ff88c839bf1",
   "metadata": {},
   "source": [
    "### Create soft links to the psr data and and spec data"
   ]
  },
  {
   "cell_type": "code",
   "execution_count": 3,
   "id": "91c2a2c4-ea90-47b1-b0c0-04e525695092",
   "metadata": {},
   "outputs": [
    {
     "data": {
      "text/plain": [
       "0"
      ]
     },
     "execution_count": 3,
     "metadata": {},
     "output_type": "execute_result"
    }
   ],
   "source": [
    "os.system('rm org_psr org_spec')\n",
    "os.system('ln -s /TheForce/fast_data/PT2021_0055_1/ org_psr')\n",
    "os.system('ln -s /TheForce/fast_data/PT2021_0055_2/ org_spec')"
   ]
  },
  {
   "cell_type": "markdown",
   "id": "995ea1ed-73a6-416e-aff8-ab2e46395131",
   "metadata": {},
   "source": [
    "### Prepare the output directories"
   ]
  },
  {
   "cell_type": "code",
   "execution_count": 2,
   "id": "aa8d886c-4098-4798-9f98-c6bd3f567ebd",
   "metadata": {},
   "outputs": [],
   "source": [
    "Scan_name = ['Sun17_A_00','Sun17_A_01','Sun17_A_02','Sun17_A_03','Sun17_A_04','Sun17_A_05','Sun17_A_06','Sun17_A_07','Sun17_A_08','Sun17_A_09','Sun17_A_10']"
   ]
  },
  {
   "cell_type": "code",
   "execution_count": 3,
   "id": "2d5669ea-b009-4eb7-acbe-490fcffe1487",
   "metadata": {},
   "outputs": [],
   "source": [
    "Beam_name = ['M01','M02','M03','M04','M05','M06','M07','M08','M09','M10','M11','M12','M13','M14','M15','M16','M17','M18','M19']"
   ]
  },
  {
   "cell_type": "code",
   "execution_count": null,
   "id": "f12a63fa-bced-4659-bfad-09671a6f79be",
   "metadata": {
    "tags": []
   },
   "outputs": [],
   "source": [
    "# ## \n",
    "# for i in Scan_name:\n",
    "#     os.system('rm -rf {}'.format(i))      \n",
    "#     os.system('mkdir {}'.format(i))\n",
    "#     for j in Beam_name:\n",
    "#         os.system('mkdir {}/{}'.format(i,j))\n",
    "#         os.system('mkdir {}/{}/HighCAL'.format(i,j))\n",
    "#         os.system('mkdir {}/{}/Calibrated'.format(i,j))"
   ]
  },
  {
   "cell_type": "markdown",
   "id": "652249f9-b3e7-452f-be29-a35848bee767",
   "metadata": {},
   "source": [
    "#### Generate PSR file list"
   ]
  },
  {
   "cell_type": "code",
   "execution_count": null,
   "id": "28da3557-49e7-42e3-8d96-a452974e4535",
   "metadata": {},
   "outputs": [],
   "source": [
    "rootwd = os.getcwd()\n",
    "\n",
    "for i in Scan_name:\n",
    "    for j in Beam_name:\n",
    "        os.system('ls $PWD/org_psr/{0}/*/*{1}*.fits > {0}/{1}/mypsrlist_{0}_{1}'.format(i,j))"
   ]
  },
  {
   "cell_type": "markdown",
   "id": "19b275e8-4a5f-48d9-959f-ac9d030c1a9c",
   "metadata": {},
   "source": [
    "#### Extract cal (Noise_On and Noise_Off)"
   ]
  },
  {
   "cell_type": "code",
   "execution_count": null,
   "id": "4041c7a0-9031-49a6-90d0-7ed2a29541e8",
   "metadata": {
    "tags": []
   },
   "outputs": [],
   "source": [
    "from extract_crafts_cal import extract_crafts_cal\n",
    "\n",
    "rootwd = os.getcwd()\n",
    "\n",
    "def target_extract_crafts_cal(i,j):\n",
    "    os.chdir(rootwd+'/'+'{0}/{1}'.format(i,j))\n",
    "    #print('Dealing with mypsrlist_{0}_{1}'.format(i,j))\n",
    "    psrlist = np.loadtxt('mypsrlist_{0}_{1}'.format(i,j),dtype=str)\n",
    "    for psrfits in psrlist:\n",
    "        extract_crafts_cal(psrfits)\n",
    "\n",
    "def run_process(i):\n",
    "    process = []\n",
    "    for j in Beam_name:\n",
    "        process.append(mp.Process(target=target_extract_crafts_cal,args=(i,j)))\n",
    "    [p.start() for p in process]\n",
    "    [p.join()  for p in process]\n",
    "\n",
    "for i in Scan_name:\n",
    "    run_process(i)"
   ]
  },
  {
   "cell_type": "markdown",
   "id": "bbb5bed8-1abd-49f2-b71b-59b94f5bec21",
   "metadata": {},
   "source": [
    "#### Generate the cal_list"
   ]
  },
  {
   "cell_type": "code",
   "execution_count": null,
   "id": "b9377c92-9a6c-4fcb-aa9f-522e0ba81fc7",
   "metadata": {},
   "outputs": [],
   "source": [
    "for i in Scan_name:\n",
    "    for j in Beam_name:\n",
    "        os.system('ls $PWD/{0}/{1}/HighCAL/* > {0}/{1}/mycallist_{0}_{1}'.format(i,j))"
   ]
  },
  {
   "cell_type": "markdown",
   "id": "1074643b-bf77-470a-a580-67c9f45e6823",
   "metadata": {
    "jupyter": {
     "outputs_hidden": true
    },
    "tags": []
   },
   "source": [
    "#### Generate Tsys_psr\n"
   ]
  },
  {
   "cell_type": "code",
   "execution_count": null,
   "id": "b5c4302a-d1b4-4403-a087-038d70564709",
   "metadata": {
    "tags": []
   },
   "outputs": [],
   "source": [
    "from Tsys_cal import gaincal\n",
    "!pwd"
   ]
  },
  {
   "cell_type": "code",
   "execution_count": null,
   "id": "f45af200-689e-4415-abcb-bddca46c13c8",
   "metadata": {
    "tags": []
   },
   "outputs": [],
   "source": [
    "Tcalfits = '/bb8/lingrui/my_projects/FAST_pipeline/FISH_scripts/Tcal/20201014/CAL.20201014.low.W.fits'\n",
    "rootwd = os.getcwd()\n",
    "\n",
    "def target_gaincal(i,j):\n",
    "    os.chdir(rootwd+'/'+'{0}/{1}'.format(i,j))\n",
    "    beam = int(j.split('M')[-1])\n",
    "    print('Dealing with mycallist_{0}_{1}'.format(i,j))\n",
    "    gaincal(callist='mycallist_{0}_{1}'.format(i,j),outname='Tsys_psr_{0}_{1}'.format(i,j),Tcalfits=Tcalfits,beam=beam,plot=True)\n",
    "    print('Tsys_psr_{0}_{1} Created!'.format(i,j))\n",
    "    gc.collect()\n",
    "\n",
    "def run_process(j):\n",
    "    process = []\n",
    "    for i in Scan_name:\n",
    "        process.append(mp.Process(target=target_gaincal,args=(i,j)))\n",
    "    [p.start() for p in process]\n",
    "    [p.join()  for p in process]\n",
    "\n",
    "for j in Beam_name:\n",
    "    run_process(j)\n",
    "\n",
    "os.chdir(rootwd)"
   ]
  },
  {
   "cell_type": "markdown",
   "id": "e9e1d921-aad0-47a1-823d-5e5f60077c9e",
   "metadata": {},
   "source": [
    "#### Generate speclist"
   ]
  },
  {
   "cell_type": "code",
   "execution_count": null,
   "id": "ef1f2996-bba1-4d55-9f3a-fc6757c926a6",
   "metadata": {},
   "outputs": [],
   "source": [
    "for i in Scan_name:\n",
    "    for j in Beam_name:\n",
    "        os.system('ls $PWD/org_spec/{0}/*/*{1}*N* > {0}/{1}/myspeclist_N_{0}_{1}'.format(i,j))"
   ]
  },
  {
   "cell_type": "markdown",
   "id": "c996d314-c34f-4015-8829-a273285e249f",
   "metadata": {},
   "source": [
    "#### Apply cal"
   ]
  },
  {
   "cell_type": "code",
   "execution_count": null,
   "id": "b569678e-e9a1-4b26-94a7-64904a53d342",
   "metadata": {
    "tags": []
   },
   "outputs": [],
   "source": [
    "from apply_cal import applycal\n",
    "import numpy\n",
    "import glob\n",
    "\n",
    "rootwd = os.getcwd()\n",
    "\n",
    "def target_applycal(i,j):\n",
    "    os.chdir(rootwd+'/'+'{}/{}'.format(i,j))\n",
    "    print('Dealing with myspeclist_N_{}_{}'.format(i,j))\n",
    "    tsysfits = glob.glob('Tsys_psr*.fits')[0]\n",
    "    speclist = np.loadtxt('myspeclist_N_{}_{}'.format(i,j),dtype=str)\n",
    "    for specfits in speclist:\n",
    "        applycal(specfits,tsysfits,restfreq=1.420405751768,plot=True)\n",
    "        print('Calibrated file of {} Created!'.format(specfits))\n",
    "    gc.collect()\n",
    "\n",
    "def run_process(i):\n",
    "    process = []\n",
    "    for j in Beam_name:\n",
    "        process.append(mp.Process(target=target_applycal,args=(i,j)))\n",
    "    [p.start() for p in process]\n",
    "    [p.join()  for p in process]\n",
    "\n",
    "for i in Scan_name:\n",
    "    run_process(i)"
   ]
  },
  {
   "cell_type": "markdown",
   "id": "ba9cc4c8-0dd0-40c6-b8af-87795a36dec5",
   "metadata": {
    "tags": []
   },
   "source": [
    "#### xyz2radec"
   ]
  },
  {
   "cell_type": "code",
   "execution_count": null,
   "id": "d97d2c27-7e4d-420f-a952-972015cfd90c",
   "metadata": {},
   "outputs": [],
   "source": [
    "for i in Scan_name:\n",
    "    for j in Beam_name:\n",
    "        os.system('ls $PWD/{0}/{1}/Calibrated/*calibrated.fits > {0}/{1}/myspeclist_N_{0}_{1}_calibrated'.format(i,j))\n",
    "\n",
    "from xyz2celestial import xyz2celestial\n",
    "import glob\n",
    "import pandas as pd\n",
    "\n",
    "os.system('ln -s /TheForce/fast_data/PT2021_0055_KY PT2021_0055_KY')"
   ]
  },
  {
   "cell_type": "code",
   "execution_count": null,
   "id": "67615b19-0cfc-46b4-8cce-8f6e700670b8",
   "metadata": {
    "tags": []
   },
   "outputs": [],
   "source": [
    "rootwd = os.getcwd()\n",
    "\n",
    "def target_xyz2celestial(i,j,xyztable):\n",
    "    os.chdir(rootwd+'/'+'{}/{}'.format(i,j))\n",
    "    print('Dealing with myspeclist_N_{0}_{1}_calibrated'.format(i,j))\n",
    "    beam = int(j.split('M')[-1])\n",
    "    speclist = np.loadtxt('myspeclist_N_{0}_{1}_calibrated'.format(i,j),dtype=str)\n",
    "    for specfits in speclist:\n",
    "        xyz2celestial(specfits,xyztable,beam=beam,plot=False)\n",
    "\n",
    "def run_process(i,xyztable):\n",
    "    process = []\n",
    "    for j in Beam_name:\n",
    "        process.append(mp.Process(target=target_xyz2celestial,args=(i,j,xyztable)))\n",
    "    [p.start() for p in process]\n",
    "    [p.join()  for p in process]\n",
    "\n",
    "for i in Scan_name:\n",
    "    table = glob.glob(rootwd+'/*KY/'+'{}*.xlsx'.format(i))[0]\n",
    "    xyztable = pd.read_excel(table,sheet_name=0)\n",
    "    run_process(i,xyztable)"
   ]
  },
  {
   "cell_type": "markdown",
   "id": "2b89bde2-d1c2-4731-87cb-e02a314ace78",
   "metadata": {},
   "source": [
    "#### Ta to Tmb"
   ]
  },
  {
   "cell_type": "code",
   "execution_count": 5,
   "id": "be308bc8-3bb8-4f87-9b46-89f7ba81e26e",
   "metadata": {},
   "outputs": [],
   "source": [
    "for i in Scan_name:\n",
    "    for j in Beam_name:\n",
    "        os.system('ls $PWD/{0}/{1}/Calibrated/*calibrated_icrs.fits > {0}/{1}/myspeclist_N_{0}_{1}_calibrated_icrs'.format(i,j))"
   ]
  },
  {
   "cell_type": "code",
   "execution_count": 5,
   "id": "9bfd2bd4-de43-408c-8cb2-0485a6f0cbec",
   "metadata": {},
   "outputs": [],
   "source": [
    "from Ta2Tmb import Ta2Tmb\n",
    "import glob\n",
    "import pandas as pd"
   ]
  },
  {
   "cell_type": "code",
   "execution_count": 6,
   "id": "98a27b75-2b22-4647-93f3-ab18889a83a7",
   "metadata": {},
   "outputs": [
    {
     "name": "stdout",
     "output_type": "stream",
     "text": [
      "Help on function Ta2Tmb in module Ta2Tmb:\n",
      "\n",
      "Ta2Tmb(specfits, beam=1, restfreq=1420.405751768)\n",
      "\n"
     ]
    }
   ],
   "source": [
    "help(Ta2Tmb)"
   ]
  },
  {
   "cell_type": "code",
   "execution_count": null,
   "id": "c052bdad-8580-41c1-90e6-3ee616062403",
   "metadata": {
    "collapsed": true,
    "jupyter": {
     "outputs_hidden": true
    },
    "tags": []
   },
   "outputs": [
    {
     "name": "stdout",
     "output_type": "stream",
     "text": [
      "Dealing with myspeclist_N_Sun17_A_00_M01_calibrated_icrs\n",
      "Dealing with myspeclist_N_Sun17_A_00_M02_calibrated_icrs\n",
      "Dealing with myspeclist_N_Sun17_A_00_M03_calibrated_icrs\n",
      "Dealing with myspeclist_N_Sun17_A_00_M04_calibrated_icrs\n",
      "Dealing with myspeclist_N_Sun17_A_00_M05_calibrated_icrs\n",
      "Dealing with myspeclist_N_Sun17_A_00_M06_calibrated_icrs\n",
      "Dealing with myspeclist_N_Sun17_A_00_M07_calibrated_icrs\n",
      "Dealing with myspeclist_N_Sun17_A_00_M08_calibrated_icrs\n",
      "Dealing with myspeclist_N_Sun17_A_00_M09_calibrated_icrs\n",
      "Dealing with myspeclist_N_Sun17_A_00_M10_calibrated_icrs\n",
      "Dealing with myspeclist_N_Sun17_A_00_M11_calibrated_icrs\n",
      "Dealing with myspeclist_N_Sun17_A_00_M12_calibrated_icrs\n",
      "Dealing with myspeclist_N_Sun17_A_00_M13_calibrated_icrs\n",
      "Dealing with myspeclist_N_Sun17_A_00_M14_calibrated_icrsDealing with myspeclist_N_Sun17_A_00_M15_calibrated_icrs\n",
      "\n",
      "\n",
      "Dealing with myspeclist_N_Sun17_A_00_M16_calibrated_icrsDealing with myspeclist_N_Sun17_A_00_M17_calibrated_icrsDealing with myspeclist_N_Sun17_A_00_M18_calibrated_icrs\n",
      "\n",
      "Dealing with myspeclist_N_Sun17_A_00_M19_calibrated_icrs\n"
     ]
    },
    {
     "name": "stderr",
     "output_type": "stream",
     "text": [
      "/home/lingrui/.local/lib/python3.10/site-packages/astropy/time/utils.py:179: RuntimeWarning: overflow encountered in double_scalars\n",
      "  c = 134217729. * a  # 2**27+1.\n",
      "/home/lingrui/.local/lib/python3.10/site-packages/astropy/time/utils.py:181: RuntimeWarning: invalid value encountered in double_scalars\n",
      "  ah = c - abig\n",
      "/home/lingrui/.local/lib/python3.10/site-packages/astropy/time/utils.py:179: RuntimeWarning: overflow encountered in double_scalars\n",
      "  c = 134217729. * a  # 2**27+1.\n",
      "/home/lingrui/.local/lib/python3.10/site-packages/astropy/time/utils.py:179: RuntimeWarning: overflow encountered in double_scalars\n",
      "  c = 134217729. * a  # 2**27+1.\n",
      "/home/lingrui/.local/lib/python3.10/site-packages/astropy/time/utils.py:181: RuntimeWarning: invalid value encountered in double_scalars\n",
      "  ah = c - abig\n",
      "/home/lingrui/.local/lib/python3.10/site-packages/astropy/time/utils.py:181: RuntimeWarning: invalid value encountered in double_scalars\n",
      "  ah = c - abig\n",
      "/home/lingrui/.local/lib/python3.10/site-packages/astropy/time/utils.py:179: RuntimeWarning: overflow encountered in double_scalars\n",
      "  c = 134217729. * a  # 2**27+1.\n",
      "/home/lingrui/.local/lib/python3.10/site-packages/astropy/time/utils.py:181: RuntimeWarning: invalid value encountered in double_scalars\n",
      "  ah = c - abig\n",
      "/home/lingrui/.local/lib/python3.10/site-packages/astropy/time/utils.py:179: RuntimeWarning: overflow encountered in double_scalars\n",
      "  c = 134217729. * a  # 2**27+1.\n",
      "/home/lingrui/.local/lib/python3.10/site-packages/astropy/time/utils.py:181: RuntimeWarning: invalid value encountered in double_scalars\n",
      "  ah = c - abig\n",
      "/home/lingrui/.local/lib/python3.10/site-packages/astropy/time/utils.py:179: RuntimeWarning: overflow encountered in double_scalars\n",
      "  c = 134217729. * a  # 2**27+1.\n",
      "/home/lingrui/.local/lib/python3.10/site-packages/astropy/time/utils.py:181: RuntimeWarning: invalid value encountered in double_scalars\n",
      "  ah = c - abig\n",
      "/home/lingrui/.local/lib/python3.10/site-packages/astropy/time/utils.py:179: RuntimeWarning: overflow encountered in double_scalars\n",
      "  c = 134217729. * a  # 2**27+1.\n",
      "/home/lingrui/.local/lib/python3.10/site-packages/astropy/time/utils.py:181: RuntimeWarning: invalid value encountered in double_scalars\n",
      "  ah = c - abig\n",
      "/home/lingrui/.local/lib/python3.10/site-packages/astropy/time/utils.py:179: RuntimeWarning: overflow encountered in double_scalars\n",
      "  c = 134217729. * a  # 2**27+1.\n",
      "/home/lingrui/.local/lib/python3.10/site-packages/astropy/time/utils.py:181: RuntimeWarning: invalid value encountered in double_scalars\n",
      "  ah = c - abig\n",
      "/home/lingrui/.local/lib/python3.10/site-packages/astropy/time/utils.py:179: RuntimeWarning: overflow encountered in double_scalars\n",
      "  c = 134217729. * a  # 2**27+1.\n",
      "/home/lingrui/.local/lib/python3.10/site-packages/astropy/time/utils.py:181: RuntimeWarning: invalid value encountered in double_scalars\n",
      "  ah = c - abig\n",
      "/home/lingrui/.local/lib/python3.10/site-packages/astropy/time/utils.py:179: RuntimeWarning: overflow encountered in double_scalars\n",
      "  c = 134217729. * a  # 2**27+1.\n",
      "/home/lingrui/.local/lib/python3.10/site-packages/astropy/time/utils.py:181: RuntimeWarning: invalid value encountered in double_scalars\n",
      "  ah = c - abig\n",
      "/home/lingrui/.local/lib/python3.10/site-packages/astropy/time/utils.py:179: RuntimeWarning: overflow encountered in double_scalars\n",
      "  c = 134217729. * a  # 2**27+1.\n",
      "/home/lingrui/.local/lib/python3.10/site-packages/astropy/time/utils.py:181: RuntimeWarning: invalid value encountered in double_scalars\n",
      "  ah = c - abig\n",
      "/home/lingrui/.local/lib/python3.10/site-packages/astropy/time/utils.py:179: RuntimeWarning: overflow encountered in double_scalars\n",
      "  c = 134217729. * a  # 2**27+1.\n",
      "/home/lingrui/.local/lib/python3.10/site-packages/astropy/time/utils.py:179: RuntimeWarning: overflow encountered in double_scalars\n",
      "  c = 134217729. * a  # 2**27+1.\n",
      "/home/lingrui/.local/lib/python3.10/site-packages/astropy/time/utils.py:179: RuntimeWarning: overflow encountered in double_scalars\n",
      "  c = 134217729. * a  # 2**27+1.\n",
      "/home/lingrui/.local/lib/python3.10/site-packages/astropy/time/utils.py:181: RuntimeWarning: invalid value encountered in double_scalars\n",
      "  ah = c - abig\n",
      "/home/lingrui/.local/lib/python3.10/site-packages/astropy/time/utils.py:179: RuntimeWarning: overflow encountered in double_scalars\n",
      "  c = 134217729. * a  # 2**27+1.\n",
      "/home/lingrui/.local/lib/python3.10/site-packages/astropy/time/utils.py:181: RuntimeWarning: invalid value encountered in double_scalars\n",
      "  ah = c - abig\n",
      "/home/lingrui/.local/lib/python3.10/site-packages/astropy/time/utils.py:181: RuntimeWarning: invalid value encountered in double_scalars\n",
      "  ah = c - abig\n",
      "/home/lingrui/.local/lib/python3.10/site-packages/astropy/time/utils.py:181: RuntimeWarning: invalid value encountered in double_scalars\n",
      "  ah = c - abig\n",
      "/home/lingrui/.local/lib/python3.10/site-packages/astropy/time/utils.py:179: RuntimeWarning: overflow encountered in double_scalars\n",
      "  c = 134217729. * a  # 2**27+1.\n",
      "/home/lingrui/.local/lib/python3.10/site-packages/astropy/time/utils.py:181: RuntimeWarning: invalid value encountered in double_scalars\n",
      "  ah = c - abig\n",
      "/home/lingrui/.local/lib/python3.10/site-packages/astropy/time/utils.py:179: RuntimeWarning: overflow encountered in double_scalars\n",
      "  c = 134217729. * a  # 2**27+1.\n",
      "/home/lingrui/.local/lib/python3.10/site-packages/astropy/time/utils.py:181: RuntimeWarning: invalid value encountered in double_scalars\n",
      "  ah = c - abig\n",
      "/home/lingrui/.local/lib/python3.10/site-packages/astropy/time/utils.py:179: RuntimeWarning: overflow encountered in double_scalars\n",
      "  c = 134217729. * a  # 2**27+1.\n",
      "/home/lingrui/.local/lib/python3.10/site-packages/astropy/time/utils.py:179: RuntimeWarning: overflow encountered in double_scalars\n",
      "  c = 134217729. * a  # 2**27+1.\n",
      "/home/lingrui/.local/lib/python3.10/site-packages/astropy/time/utils.py:181: RuntimeWarning: invalid value encountered in double_scalars\n",
      "  ah = c - abig\n",
      "/home/lingrui/.local/lib/python3.10/site-packages/astropy/time/utils.py:181: RuntimeWarning: invalid value encountered in double_scalars\n",
      "  ah = c - abig\n",
      "WARNING: IERSStaleWarning: leap-second file is expired. [astropy.utils.iers.iers]WARNINGWARNINGWARNINGWARNINGWARNINGWARNING: IERSStaleWarning: leap-second file is expired. [astropy.utils.iers.iers]: IERSStaleWarning: leap-second file is expired. [astropy.utils.iers.iers]WARNING: IERSStaleWarning: leap-second file is expired. [astropy.utils.iers.iers]\n",
      ": IERSStaleWarning: leap-second file is expired. [astropy.utils.iers.iers]: IERSStaleWarning: leap-second file is expired. [astropy.utils.iers.iers]\n",
      ": IERSStaleWarning: leap-second file is expired. [astropy.utils.iers.iers]\n",
      "\n",
      ": IERSStaleWarning: leap-second file is expired. [astropy.utils.iers.iers]WARNING\n",
      "WARNING\n",
      "\n",
      "WARNINGWARNINGWARNINGWARNING\n",
      ": IERSStaleWarning: leap-second file is expired. [astropy.utils.iers.iers]WARNING: IERSStaleWarning: leap-second file is expired. [astropy.utils.iers.iers]WARNINGWARNING: IERSStaleWarning: leap-second file is expired. [astropy.utils.iers.iers]: IERSStaleWarning: leap-second file is expired. [astropy.utils.iers.iers]WARNING\n",
      ": IERSStaleWarning: leap-second file is expired. [astropy.utils.iers.iers]WARNING\n",
      "\n",
      ": IERSStaleWarning: leap-second file is expired. [astropy.utils.iers.iers]: IERSStaleWarning: leap-second file is expired. [astropy.utils.iers.iers]: IERSStaleWarning: leap-second file is expired. [astropy.utils.iers.iers]: IERSStaleWarning: leap-second file is expired. [astropy.utils.iers.iers]\n",
      ": IERSStaleWarning: leap-second file is expired. [astropy.utils.iers.iers]\n",
      ": IERSStaleWarning: leap-second file is expired. [astropy.utils.iers.iers]\n",
      "\n",
      "\n",
      "\n",
      "\n",
      "\n"
     ]
    },
    {
     "name": "stdout",
     "output_type": "stream",
     "text": [
      "Dealing with myspeclist_N_Sun17_A_01_M01_calibrated_icrsDealing with myspeclist_N_Sun17_A_01_M02_calibrated_icrs\n",
      "\n",
      "Dealing with myspeclist_N_Sun17_A_01_M03_calibrated_icrs\n",
      "Dealing with myspeclist_N_Sun17_A_01_M04_calibrated_icrs\n",
      "Dealing with myspeclist_N_Sun17_A_01_M05_calibrated_icrs\n",
      "Dealing with myspeclist_N_Sun17_A_01_M06_calibrated_icrs\n",
      "Dealing with myspeclist_N_Sun17_A_01_M07_calibrated_icrs\n",
      "Dealing with myspeclist_N_Sun17_A_01_M08_calibrated_icrs\n",
      "\n",
      "Dealing with myspeclist_N_Sun17_A_01_M09_calibrated_icrsDealing with myspeclist_N_Sun17_A_01_M10_calibrated_icrs\n",
      "Dealing with myspeclist_N_Sun17_A_01_M11_calibrated_icrs\n",
      "Dealing with myspeclist_N_Sun17_A_01_M12_calibrated_icrs\n",
      "Dealing with myspeclist_N_Sun17_A_01_M13_calibrated_icrs\n",
      "Dealing with myspeclist_N_Sun17_A_01_M14_calibrated_icrs\n",
      "Dealing with myspeclist_N_Sun17_A_01_M15_calibrated_icrs\n",
      "Dealing with myspeclist_N_Sun17_A_01_M16_calibrated_icrs\n",
      "Dealing with myspeclist_N_Sun17_A_01_M17_calibrated_icrsDealing with myspeclist_N_Sun17_A_01_M18_calibrated_icrs\n",
      "\n",
      "Dealing with myspeclist_N_Sun17_A_01_M19_calibrated_icrs\n"
     ]
    },
    {
     "name": "stderr",
     "output_type": "stream",
     "text": [
      "/home/lingrui/.local/lib/python3.10/site-packages/astropy/time/utils.py:179: RuntimeWarning: overflow encountered in double_scalars\n",
      "  c = 134217729. * a  # 2**27+1.\n",
      "/home/lingrui/.local/lib/python3.10/site-packages/astropy/time/utils.py:181: RuntimeWarning: invalid value encountered in double_scalars\n",
      "  ah = c - abig\n",
      "/home/lingrui/.local/lib/python3.10/site-packages/astropy/time/utils.py:179: RuntimeWarning: overflow encountered in double_scalars\n",
      "  c = 134217729. * a  # 2**27+1.\n",
      "/home/lingrui/.local/lib/python3.10/site-packages/astropy/time/utils.py:181: RuntimeWarning: invalid value encountered in double_scalars\n",
      "  ah = c - abig\n",
      "/home/lingrui/.local/lib/python3.10/site-packages/astropy/time/utils.py:179: RuntimeWarning: overflow encountered in double_scalars\n",
      "  c = 134217729. * a  # 2**27+1.\n",
      "/home/lingrui/.local/lib/python3.10/site-packages/astropy/time/utils.py:181: RuntimeWarning: invalid value encountered in double_scalars\n",
      "  ah = c - abig\n",
      "/home/lingrui/.local/lib/python3.10/site-packages/astropy/time/utils.py:179: RuntimeWarning: overflow encountered in double_scalars\n",
      "  c = 134217729. * a  # 2**27+1.\n",
      "/home/lingrui/.local/lib/python3.10/site-packages/astropy/time/utils.py:179: RuntimeWarning: overflow encountered in double_scalars\n",
      "  c = 134217729. * a  # 2**27+1.\n",
      "/home/lingrui/.local/lib/python3.10/site-packages/astropy/time/utils.py:181: RuntimeWarning: invalid value encountered in double_scalars\n",
      "  ah = c - abig\n",
      "/home/lingrui/.local/lib/python3.10/site-packages/astropy/time/utils.py:181: RuntimeWarning: invalid value encountered in double_scalars\n",
      "  ah = c - abig\n",
      "/home/lingrui/.local/lib/python3.10/site-packages/astropy/time/utils.py:179: RuntimeWarning: overflow encountered in double_scalars\n",
      "  c = 134217729. * a  # 2**27+1.\n",
      "/home/lingrui/.local/lib/python3.10/site-packages/astropy/time/utils.py:181: RuntimeWarning: invalid value encountered in double_scalars\n",
      "  ah = c - abig\n",
      "/home/lingrui/.local/lib/python3.10/site-packages/astropy/time/utils.py:179: RuntimeWarning: overflow encountered in double_scalars\n",
      "  c = 134217729. * a  # 2**27+1.\n",
      "/home/lingrui/.local/lib/python3.10/site-packages/astropy/time/utils.py:181: RuntimeWarning: invalid value encountered in double_scalars\n",
      "  ah = c - abig\n",
      "/home/lingrui/.local/lib/python3.10/site-packages/astropy/time/utils.py:179: RuntimeWarning: overflow encountered in double_scalars\n",
      "  c = 134217729. * a  # 2**27+1.\n",
      "/home/lingrui/.local/lib/python3.10/site-packages/astropy/time/utils.py:181: RuntimeWarning: invalid value encountered in double_scalars\n",
      "  ah = c - abig\n",
      "/home/lingrui/.local/lib/python3.10/site-packages/astropy/time/utils.py:179: RuntimeWarning: overflow encountered in double_scalars\n",
      "  c = 134217729. * a  # 2**27+1.\n",
      "/home/lingrui/.local/lib/python3.10/site-packages/astropy/time/utils.py:181: RuntimeWarning: invalid value encountered in double_scalars\n",
      "  ah = c - abig\n",
      "/home/lingrui/.local/lib/python3.10/site-packages/astropy/time/utils.py:179: RuntimeWarning: overflow encountered in double_scalars\n",
      "  c = 134217729. * a  # 2**27+1.\n",
      "/home/lingrui/.local/lib/python3.10/site-packages/astropy/time/utils.py:179: RuntimeWarning: overflow encountered in double_scalars\n",
      "  c = 134217729. * a  # 2**27+1.\n",
      "/home/lingrui/.local/lib/python3.10/site-packages/astropy/time/utils.py:181: RuntimeWarning: invalid value encountered in double_scalars\n",
      "  ah = c - abig\n",
      "/home/lingrui/.local/lib/python3.10/site-packages/astropy/time/utils.py:181: RuntimeWarning: invalid value encountered in double_scalars\n",
      "  ah = c - abig\n",
      "/home/lingrui/.local/lib/python3.10/site-packages/astropy/time/utils.py:179: RuntimeWarning: overflow encountered in double_scalars\n",
      "  c = 134217729. * a  # 2**27+1.\n",
      "/home/lingrui/.local/lib/python3.10/site-packages/astropy/time/utils.py:181: RuntimeWarning: invalid value encountered in double_scalars\n",
      "  ah = c - abig\n",
      "/home/lingrui/.local/lib/python3.10/site-packages/astropy/time/utils.py:179: RuntimeWarning: overflow encountered in double_scalars\n",
      "  c = 134217729. * a  # 2**27+1.\n",
      "/home/lingrui/.local/lib/python3.10/site-packages/astropy/time/utils.py:181: RuntimeWarning: invalid value encountered in double_scalars\n",
      "  ah = c - abig\n",
      "/home/lingrui/.local/lib/python3.10/site-packages/astropy/time/utils.py:179: RuntimeWarning: overflow encountered in double_scalars\n",
      "  c = 134217729. * a  # 2**27+1.\n",
      "/home/lingrui/.local/lib/python3.10/site-packages/astropy/time/utils.py:179: RuntimeWarning: overflow encountered in double_scalars\n",
      "  c = 134217729. * a  # 2**27+1.\n",
      "/home/lingrui/.local/lib/python3.10/site-packages/astropy/time/utils.py:181: RuntimeWarning: invalid value encountered in double_scalars\n",
      "  ah = c - abig\n",
      "/home/lingrui/.local/lib/python3.10/site-packages/astropy/time/utils.py:181: RuntimeWarning: invalid value encountered in double_scalars\n",
      "  ah = c - abig\n",
      "/home/lingrui/.local/lib/python3.10/site-packages/astropy/time/utils.py:179: RuntimeWarning: overflow encountered in double_scalars\n",
      "  c = 134217729. * a  # 2**27+1.\n",
      "/home/lingrui/.local/lib/python3.10/site-packages/astropy/time/utils.py:181: RuntimeWarning: invalid value encountered in double_scalars\n",
      "  ah = c - abig\n",
      "/home/lingrui/.local/lib/python3.10/site-packages/astropy/time/utils.py:179: RuntimeWarning: overflow encountered in double_scalars\n",
      "  c = 134217729. * a  # 2**27+1.\n",
      "/home/lingrui/.local/lib/python3.10/site-packages/astropy/time/utils.py:181: RuntimeWarning: invalid value encountered in double_scalars\n",
      "  ah = c - abig\n",
      "/home/lingrui/.local/lib/python3.10/site-packages/astropy/time/utils.py:179: RuntimeWarning: overflow encountered in double_scalars\n",
      "  c = 134217729. * a  # 2**27+1.\n",
      "/home/lingrui/.local/lib/python3.10/site-packages/astropy/time/utils.py:181: RuntimeWarning: invalid value encountered in double_scalars\n",
      "  ah = c - abig\n",
      "/home/lingrui/.local/lib/python3.10/site-packages/astropy/time/utils.py:179: RuntimeWarning: overflow encountered in double_scalars\n",
      "  c = 134217729. * a  # 2**27+1.\n",
      "/home/lingrui/.local/lib/python3.10/site-packages/astropy/time/utils.py:181: RuntimeWarning: invalid value encountered in double_scalars\n",
      "  ah = c - abig\n",
      "WARNING: IERSStaleWarning: leap-second file is expired. [astropy.utils.iers.iers]\n",
      "WARNING: IERSStaleWarning: leap-second file is expired. [astropy.utils.iers.iers]WARNING\n",
      ": IERSStaleWarning: leap-second file is expired. [astropy.utils.iers.iers]\n",
      "WARNING: IERSStaleWarning: leap-second file is expired. [astropy.utils.iers.iers]WARNINGWARNING\n",
      ": IERSStaleWarning: leap-second file is expired. [astropy.utils.iers.iers]: IERSStaleWarning: leap-second file is expired. [astropy.utils.iers.iers]\n",
      "\n",
      "WARNING: IERSStaleWarning: leap-second file is expired. [astropy.utils.iers.iers]\n",
      "WARNINGWARNING: IERSStaleWarning: leap-second file is expired. [astropy.utils.iers.iers]\n",
      ": IERSStaleWarning: leap-second file is expired. [astropy.utils.iers.iers]\n",
      "WARNING: IERSStaleWarning: leap-second file is expired. [astropy.utils.iers.iers]\n",
      "WARNING: IERSStaleWarning: leap-second file is expired. [astropy.utils.iers.iers]\n",
      "WARNING: IERSStaleWarning: leap-second file is expired. [astropy.utils.iers.iers]\n",
      "WARNING: IERSStaleWarning: leap-second file is expired. [astropy.utils.iers.iers]\n",
      "WARNING: IERSStaleWarning: leap-second file is expired. [astropy.utils.iers.iers]\n",
      "WARNING: IERSStaleWarning: leap-second file is expired. [astropy.utils.iers.iers]WARNING\n",
      ": IERSStaleWarning: leap-second file is expired. [astropy.utils.iers.iers]\n",
      "WARNING: IERSStaleWarning: leap-second file is expired. [astropy.utils.iers.iers]\n",
      "WARNINGWARNING: IERSStaleWarning: leap-second file is expired. [astropy.utils.iers.iers]\n",
      ": IERSStaleWarning: leap-second file is expired. [astropy.utils.iers.iers]\n"
     ]
    },
    {
     "name": "stdout",
     "output_type": "stream",
     "text": [
      "Dealing with myspeclist_N_Sun17_A_02_M01_calibrated_icrs\n",
      "Dealing with myspeclist_N_Sun17_A_02_M02_calibrated_icrs\n",
      "Dealing with myspeclist_N_Sun17_A_02_M03_calibrated_icrs\n",
      "Dealing with myspeclist_N_Sun17_A_02_M04_calibrated_icrs\n",
      "Dealing with myspeclist_N_Sun17_A_02_M05_calibrated_icrs\n",
      "Dealing with myspeclist_N_Sun17_A_02_M06_calibrated_icrs\n",
      "Dealing with myspeclist_N_Sun17_A_02_M07_calibrated_icrs\n",
      "Dealing with myspeclist_N_Sun17_A_02_M08_calibrated_icrs\n",
      "Dealing with myspeclist_N_Sun17_A_02_M09_calibrated_icrs\n",
      "Dealing with myspeclist_N_Sun17_A_02_M10_calibrated_icrs\n",
      "Dealing with myspeclist_N_Sun17_A_02_M11_calibrated_icrs\n",
      "Dealing with myspeclist_N_Sun17_A_02_M12_calibrated_icrs\n",
      "Dealing with myspeclist_N_Sun17_A_02_M13_calibrated_icrs\n",
      "Dealing with myspeclist_N_Sun17_A_02_M14_calibrated_icrs\n",
      "Dealing with myspeclist_N_Sun17_A_02_M15_calibrated_icrs\n",
      "Dealing with myspeclist_N_Sun17_A_02_M16_calibrated_icrs\n",
      "Dealing with myspeclist_N_Sun17_A_02_M17_calibrated_icrsDealing with myspeclist_N_Sun17_A_02_M18_calibrated_icrs\n",
      "\n",
      "Dealing with myspeclist_N_Sun17_A_02_M19_calibrated_icrs\n"
     ]
    },
    {
     "name": "stderr",
     "output_type": "stream",
     "text": [
      "/home/lingrui/.local/lib/python3.10/site-packages/astropy/time/utils.py:179: RuntimeWarning: overflow encountered in double_scalars\n",
      "  c = 134217729. * a  # 2**27+1.\n",
      "/home/lingrui/.local/lib/python3.10/site-packages/astropy/time/utils.py:179: RuntimeWarning: overflow encountered in double_scalars\n",
      "  c = 134217729. * a  # 2**27+1.\n",
      "/home/lingrui/.local/lib/python3.10/site-packages/astropy/time/utils.py:181: RuntimeWarning: invalid value encountered in double_scalars\n",
      "  ah = c - abig\n",
      "/home/lingrui/.local/lib/python3.10/site-packages/astropy/time/utils.py:181: RuntimeWarning: invalid value encountered in double_scalars\n",
      "  ah = c - abig\n",
      "/home/lingrui/.local/lib/python3.10/site-packages/astropy/time/utils.py:179: RuntimeWarning: overflow encountered in double_scalars\n",
      "  c = 134217729. * a  # 2**27+1.\n",
      "/home/lingrui/.local/lib/python3.10/site-packages/astropy/time/utils.py:181: RuntimeWarning: invalid value encountered in double_scalars\n",
      "  ah = c - abig\n",
      "/home/lingrui/.local/lib/python3.10/site-packages/astropy/time/utils.py:179: RuntimeWarning: overflow encountered in double_scalars\n",
      "  c = 134217729. * a  # 2**27+1.\n",
      "/home/lingrui/.local/lib/python3.10/site-packages/astropy/time/utils.py:181: RuntimeWarning: invalid value encountered in double_scalars\n",
      "  ah = c - abig\n",
      "/home/lingrui/.local/lib/python3.10/site-packages/astropy/time/utils.py:179: RuntimeWarning: overflow encountered in double_scalars\n",
      "  c = 134217729. * a  # 2**27+1.\n",
      "/home/lingrui/.local/lib/python3.10/site-packages/astropy/time/utils.py:181: RuntimeWarning: invalid value encountered in double_scalars\n",
      "  ah = c - abig\n",
      "/home/lingrui/.local/lib/python3.10/site-packages/astropy/time/utils.py:179: RuntimeWarning: overflow encountered in double_scalars\n",
      "  c = 134217729. * a  # 2**27+1.\n",
      "/home/lingrui/.local/lib/python3.10/site-packages/astropy/time/utils.py:181: RuntimeWarning: invalid value encountered in double_scalars\n",
      "  ah = c - abig\n",
      "/home/lingrui/.local/lib/python3.10/site-packages/astropy/time/utils.py:179: RuntimeWarning: overflow encountered in double_scalars\n",
      "  c = 134217729. * a  # 2**27+1.\n",
      "/home/lingrui/.local/lib/python3.10/site-packages/astropy/time/utils.py:181: RuntimeWarning: invalid value encountered in double_scalars\n",
      "  ah = c - abig\n",
      "/home/lingrui/.local/lib/python3.10/site-packages/astropy/time/utils.py:179: RuntimeWarning: overflow encountered in double_scalars\n",
      "  c = 134217729. * a  # 2**27+1.\n",
      "/home/lingrui/.local/lib/python3.10/site-packages/astropy/time/utils.py:179: RuntimeWarning: overflow encountered in double_scalars\n",
      "  c = 134217729. * a  # 2**27+1.\n",
      "/home/lingrui/.local/lib/python3.10/site-packages/astropy/time/utils.py:181: RuntimeWarning: invalid value encountered in double_scalars\n",
      "  ah = c - abig\n",
      "/home/lingrui/.local/lib/python3.10/site-packages/astropy/time/utils.py:181: RuntimeWarning: invalid value encountered in double_scalars\n",
      "  ah = c - abig\n",
      "/home/lingrui/.local/lib/python3.10/site-packages/astropy/time/utils.py:179: RuntimeWarning: overflow encountered in double_scalars\n",
      "  c = 134217729. * a  # 2**27+1.\n",
      "/home/lingrui/.local/lib/python3.10/site-packages/astropy/time/utils.py:181: RuntimeWarning: invalid value encountered in double_scalars\n",
      "  ah = c - abig\n",
      "/home/lingrui/.local/lib/python3.10/site-packages/astropy/time/utils.py:179: RuntimeWarning: overflow encountered in double_scalars\n",
      "  c = 134217729. * a  # 2**27+1.\n",
      "/home/lingrui/.local/lib/python3.10/site-packages/astropy/time/utils.py:179: RuntimeWarning: overflow encountered in double_scalars\n",
      "  c = 134217729. * a  # 2**27+1.\n",
      "/home/lingrui/.local/lib/python3.10/site-packages/astropy/time/utils.py:181: RuntimeWarning: invalid value encountered in double_scalars\n",
      "  ah = c - abig\n",
      "/home/lingrui/.local/lib/python3.10/site-packages/astropy/time/utils.py:181: RuntimeWarning: invalid value encountered in double_scalars\n",
      "  ah = c - abig\n",
      "/home/lingrui/.local/lib/python3.10/site-packages/astropy/time/utils.py:179: RuntimeWarning: overflow encountered in double_scalars\n",
      "  c = 134217729. * a  # 2**27+1.\n",
      "/home/lingrui/.local/lib/python3.10/site-packages/astropy/time/utils.py:181: RuntimeWarning: invalid value encountered in double_scalars\n",
      "  ah = c - abig\n",
      "/home/lingrui/.local/lib/python3.10/site-packages/astropy/time/utils.py:179: RuntimeWarning: overflow encountered in double_scalars\n",
      "  c = 134217729. * a  # 2**27+1.\n",
      "/home/lingrui/.local/lib/python3.10/site-packages/astropy/time/utils.py:181: RuntimeWarning: invalid value encountered in double_scalars\n",
      "  ah = c - abig\n",
      "/home/lingrui/.local/lib/python3.10/site-packages/astropy/time/utils.py:179: RuntimeWarning: overflow encountered in double_scalars\n",
      "  c = 134217729. * a  # 2**27+1.\n",
      "/home/lingrui/.local/lib/python3.10/site-packages/astropy/time/utils.py:181: RuntimeWarning: invalid value encountered in double_scalars\n",
      "  ah = c - abig\n",
      "/home/lingrui/.local/lib/python3.10/site-packages/astropy/time/utils.py:179: RuntimeWarning: overflow encountered in double_scalars\n",
      "  c = 134217729. * a  # 2**27+1.\n",
      "/home/lingrui/.local/lib/python3.10/site-packages/astropy/time/utils.py:181: RuntimeWarning: invalid value encountered in double_scalars\n",
      "  ah = c - abig\n",
      "/home/lingrui/.local/lib/python3.10/site-packages/astropy/time/utils.py:179: RuntimeWarning: overflow encountered in double_scalars\n",
      "  c = 134217729. * a  # 2**27+1.\n",
      "/home/lingrui/.local/lib/python3.10/site-packages/astropy/time/utils.py:181: RuntimeWarning: invalid value encountered in double_scalars\n",
      "  ah = c - abig\n",
      "/home/lingrui/.local/lib/python3.10/site-packages/astropy/time/utils.py:179: RuntimeWarning: overflow encountered in double_scalars\n",
      "  c = 134217729. * a  # 2**27+1.\n",
      "/home/lingrui/.local/lib/python3.10/site-packages/astropy/time/utils.py:179: RuntimeWarning: overflow encountered in double_scalars\n",
      "  c = 134217729. * a  # 2**27+1.\n",
      "/home/lingrui/.local/lib/python3.10/site-packages/astropy/time/utils.py:181: RuntimeWarning: invalid value encountered in double_scalars\n",
      "  ah = c - abig\n",
      "/home/lingrui/.local/lib/python3.10/site-packages/astropy/time/utils.py:181: RuntimeWarning: invalid value encountered in double_scalars\n",
      "  ah = c - abig\n",
      "WARNINGWARNING: IERSStaleWarning: leap-second file is expired. [astropy.utils.iers.iers]: IERSStaleWarning: leap-second file is expired. [astropy.utils.iers.iers]\n",
      "\n",
      "WARNINGWARNINGWARNINGWARNING: IERSStaleWarning: leap-second file is expired. [astropy.utils.iers.iers]: IERSStaleWarning: leap-second file is expired. [astropy.utils.iers.iers]: IERSStaleWarning: leap-second file is expired. [astropy.utils.iers.iers]: IERSStaleWarning: leap-second file is expired. [astropy.utils.iers.iers]WARNINGWARNINGWARNINGWARNINGWARNING\n",
      "WARNING\n",
      "\n",
      "\n",
      "WARNINGWARNINGWARNINGWARNING: IERSStaleWarning: leap-second file is expired. [astropy.utils.iers.iers]: IERSStaleWarning: leap-second file is expired. [astropy.utils.iers.iers]: IERSStaleWarning: leap-second file is expired. [astropy.utils.iers.iers]: IERSStaleWarning: leap-second file is expired. [astropy.utils.iers.iers]: IERSStaleWarning: leap-second file is expired. [astropy.utils.iers.iers]WARNINGWARNING: IERSStaleWarning: leap-second file is expired. [astropy.utils.iers.iers]WARNING: IERSStaleWarning: leap-second file is expired. [astropy.utils.iers.iers]: IERSStaleWarning: leap-second file is expired. [astropy.utils.iers.iers]: IERSStaleWarning: leap-second file is expired. [astropy.utils.iers.iers]\n",
      ": IERSStaleWarning: leap-second file is expired. [astropy.utils.iers.iers]\n",
      "\n",
      ": IERSStaleWarning: leap-second file is expired. [astropy.utils.iers.iers]\n",
      ": IERSStaleWarning: leap-second file is expired. [astropy.utils.iers.iers]\n",
      "\n",
      "\n",
      "\n",
      "\n",
      ": IERSStaleWarning: leap-second file is expired. [astropy.utils.iers.iers]\n",
      "\n",
      "\n",
      "\n"
     ]
    },
    {
     "name": "stdout",
     "output_type": "stream",
     "text": [
      "Dealing with myspeclist_N_Sun17_A_03_M01_calibrated_icrs\n",
      "Dealing with myspeclist_N_Sun17_A_03_M02_calibrated_icrs\n",
      "Dealing with myspeclist_N_Sun17_A_03_M03_calibrated_icrs\n",
      "Dealing with myspeclist_N_Sun17_A_03_M04_calibrated_icrs\n",
      "Dealing with myspeclist_N_Sun17_A_03_M05_calibrated_icrs\n",
      "Dealing with myspeclist_N_Sun17_A_03_M06_calibrated_icrs\n",
      "Dealing with myspeclist_N_Sun17_A_03_M07_calibrated_icrs\n",
      "Dealing with myspeclist_N_Sun17_A_03_M08_calibrated_icrs\n",
      "Dealing with myspeclist_N_Sun17_A_03_M09_calibrated_icrs\n",
      "\n",
      "Dealing with myspeclist_N_Sun17_A_03_M10_calibrated_icrsDealing with myspeclist_N_Sun17_A_03_M11_calibrated_icrs\n",
      "Dealing with myspeclist_N_Sun17_A_03_M12_calibrated_icrs\n",
      "Dealing with myspeclist_N_Sun17_A_03_M13_calibrated_icrs\n",
      "Dealing with myspeclist_N_Sun17_A_03_M14_calibrated_icrs\n",
      "Dealing with myspeclist_N_Sun17_A_03_M15_calibrated_icrs\n",
      "Dealing with myspeclist_N_Sun17_A_03_M16_calibrated_icrs\n",
      "Dealing with myspeclist_N_Sun17_A_03_M17_calibrated_icrs\n",
      "Dealing with myspeclist_N_Sun17_A_03_M18_calibrated_icrs"
     ]
    },
    {
     "name": "stderr",
     "output_type": "stream",
     "text": [
      "/home/lingrui/.local/lib/python3.10/site-packages/astropy/time/utils.py:179: RuntimeWarning: overflow encountered in double_scalars\n",
      "  c = 134217729. * a  # 2**27+1.\n"
     ]
    },
    {
     "name": "stdout",
     "output_type": "stream",
     "text": [
      "\n"
     ]
    },
    {
     "name": "stderr",
     "output_type": "stream",
     "text": [
      "/home/lingrui/.local/lib/python3.10/site-packages/astropy/time/utils.py:181: RuntimeWarning: invalid value encountered in double_scalars\n",
      "  ah = c - abig\n"
     ]
    },
    {
     "name": "stdout",
     "output_type": "stream",
     "text": [
      "Dealing with myspeclist_N_Sun17_A_03_M19_calibrated_icrs\n"
     ]
    },
    {
     "name": "stderr",
     "output_type": "stream",
     "text": [
      "/home/lingrui/.local/lib/python3.10/site-packages/astropy/time/utils.py:179: RuntimeWarning: overflow encountered in double_scalars\n",
      "  c = 134217729. * a  # 2**27+1.\n",
      "/home/lingrui/.local/lib/python3.10/site-packages/astropy/time/utils.py:181: RuntimeWarning: invalid value encountered in double_scalars\n",
      "  ah = c - abig\n",
      "/home/lingrui/.local/lib/python3.10/site-packages/astropy/time/utils.py:179: RuntimeWarning: overflow encountered in double_scalars\n",
      "  c = 134217729. * a  # 2**27+1.\n",
      "/home/lingrui/.local/lib/python3.10/site-packages/astropy/time/utils.py:181: RuntimeWarning: invalid value encountered in double_scalars\n",
      "  ah = c - abig\n",
      "/home/lingrui/.local/lib/python3.10/site-packages/astropy/time/utils.py:179: RuntimeWarning: overflow encountered in double_scalars\n",
      "  c = 134217729. * a  # 2**27+1.\n",
      "/home/lingrui/.local/lib/python3.10/site-packages/astropy/time/utils.py:181: RuntimeWarning: invalid value encountered in double_scalars\n",
      "  ah = c - abig\n",
      "/home/lingrui/.local/lib/python3.10/site-packages/astropy/time/utils.py:179: RuntimeWarning: overflow encountered in double_scalars\n",
      "  c = 134217729. * a  # 2**27+1.\n",
      "/home/lingrui/.local/lib/python3.10/site-packages/astropy/time/utils.py:181: RuntimeWarning: invalid value encountered in double_scalars\n",
      "  ah = c - abig\n",
      "/home/lingrui/.local/lib/python3.10/site-packages/astropy/time/utils.py:179: RuntimeWarning: overflow encountered in double_scalars\n",
      "  c = 134217729. * a  # 2**27+1.\n",
      "/home/lingrui/.local/lib/python3.10/site-packages/astropy/time/utils.py:179: RuntimeWarning: overflow encountered in double_scalars\n",
      "  c = 134217729. * a  # 2**27+1.\n",
      "/home/lingrui/.local/lib/python3.10/site-packages/astropy/time/utils.py:181: RuntimeWarning: invalid value encountered in double_scalars\n",
      "  ah = c - abig\n",
      "/home/lingrui/.local/lib/python3.10/site-packages/astropy/time/utils.py:181: RuntimeWarning: invalid value encountered in double_scalars\n",
      "  ah = c - abig\n",
      "/home/lingrui/.local/lib/python3.10/site-packages/astropy/time/utils.py:179: RuntimeWarning: overflow encountered in double_scalars\n",
      "  c = 134217729. * a  # 2**27+1.\n",
      "/home/lingrui/.local/lib/python3.10/site-packages/astropy/time/utils.py:181: RuntimeWarning: invalid value encountered in double_scalars\n",
      "  ah = c - abig\n",
      "/home/lingrui/.local/lib/python3.10/site-packages/astropy/time/utils.py:179: RuntimeWarning: overflow encountered in double_scalars\n",
      "  c = 134217729. * a  # 2**27+1.\n",
      "/home/lingrui/.local/lib/python3.10/site-packages/astropy/time/utils.py:181: RuntimeWarning: invalid value encountered in double_scalars\n",
      "  ah = c - abig\n",
      "/home/lingrui/.local/lib/python3.10/site-packages/astropy/time/utils.py:179: RuntimeWarning: overflow encountered in double_scalars\n",
      "  c = 134217729. * a  # 2**27+1.\n",
      "/home/lingrui/.local/lib/python3.10/site-packages/astropy/time/utils.py:181: RuntimeWarning: invalid value encountered in double_scalars\n",
      "  ah = c - abig\n",
      "/home/lingrui/.local/lib/python3.10/site-packages/astropy/time/utils.py:179: RuntimeWarning: overflow encountered in double_scalars\n",
      "  c = 134217729. * a  # 2**27+1.\n",
      "/home/lingrui/.local/lib/python3.10/site-packages/astropy/time/utils.py:181: RuntimeWarning: invalid value encountered in double_scalars\n",
      "  ah = c - abig\n",
      "/home/lingrui/.local/lib/python3.10/site-packages/astropy/time/utils.py:179: RuntimeWarning: overflow encountered in double_scalars\n",
      "  c = 134217729. * a  # 2**27+1.\n",
      "/home/lingrui/.local/lib/python3.10/site-packages/astropy/time/utils.py:181: RuntimeWarning: invalid value encountered in double_scalars\n",
      "  ah = c - abig\n",
      "/home/lingrui/.local/lib/python3.10/site-packages/astropy/time/utils.py:179: RuntimeWarning: overflow encountered in double_scalars\n",
      "  c = 134217729. * a  # 2**27+1.\n",
      "/home/lingrui/.local/lib/python3.10/site-packages/astropy/time/utils.py:179: RuntimeWarning: overflow encountered in double_scalars\n",
      "  c = 134217729. * a  # 2**27+1.\n",
      "/home/lingrui/.local/lib/python3.10/site-packages/astropy/time/utils.py:181: RuntimeWarning: invalid value encountered in double_scalars\n",
      "  ah = c - abig\n",
      "/home/lingrui/.local/lib/python3.10/site-packages/astropy/time/utils.py:181: RuntimeWarning: invalid value encountered in double_scalars\n",
      "  ah = c - abig\n",
      "/home/lingrui/.local/lib/python3.10/site-packages/astropy/time/utils.py:179: RuntimeWarning: overflow encountered in double_scalars\n",
      "  c = 134217729. * a  # 2**27+1.\n",
      "/home/lingrui/.local/lib/python3.10/site-packages/astropy/time/utils.py:181: RuntimeWarning: invalid value encountered in double_scalars\n",
      "  ah = c - abig\n",
      "/home/lingrui/.local/lib/python3.10/site-packages/astropy/time/utils.py:179: RuntimeWarning: overflow encountered in double_scalars\n",
      "  c = 134217729. * a  # 2**27+1.\n",
      "/home/lingrui/.local/lib/python3.10/site-packages/astropy/time/utils.py:181: RuntimeWarning: invalid value encountered in double_scalars\n",
      "  ah = c - abig\n",
      "/home/lingrui/.local/lib/python3.10/site-packages/astropy/time/utils.py:179: RuntimeWarning: overflow encountered in double_scalars\n",
      "  c = 134217729. * a  # 2**27+1.\n",
      "/home/lingrui/.local/lib/python3.10/site-packages/astropy/time/utils.py:181: RuntimeWarning: invalid value encountered in double_scalars\n",
      "  ah = c - abig\n",
      "/home/lingrui/.local/lib/python3.10/site-packages/astropy/time/utils.py:179: RuntimeWarning: overflow encountered in double_scalars\n",
      "  c = 134217729. * a  # 2**27+1.\n",
      "/home/lingrui/.local/lib/python3.10/site-packages/astropy/time/utils.py:181: RuntimeWarning: invalid value encountered in double_scalars\n",
      "  ah = c - abig\n",
      "/home/lingrui/.local/lib/python3.10/site-packages/astropy/time/utils.py:179: RuntimeWarning: overflow encountered in double_scalars\n",
      "  c = 134217729. * a  # 2**27+1.\n",
      "/home/lingrui/.local/lib/python3.10/site-packages/astropy/time/utils.py:181: RuntimeWarning: invalid value encountered in double_scalars\n",
      "  ah = c - abig\n",
      "WARNING: IERSStaleWarning: leap-second file is expired. [astropy.utils.iers.iers]\n",
      "WARNING: IERSStaleWarning: leap-second file is expired. [astropy.utils.iers.iers]\n",
      "WARNING: IERSStaleWarning: leap-second file is expired. [astropy.utils.iers.iers]WARNINGWARNING: IERSStaleWarning: leap-second file is expired. [astropy.utils.iers.iers]\n",
      ": IERSStaleWarning: leap-second file is expired. [astropy.utils.iers.iers]WARNING\n",
      "\n",
      ": IERSStaleWarning: leap-second file is expired. [astropy.utils.iers.iers]\n",
      "WARNINGWARNING: IERSStaleWarning: leap-second file is expired. [astropy.utils.iers.iers]WARNING: IERSStaleWarning: leap-second file is expired. [astropy.utils.iers.iers]\n",
      ": IERSStaleWarning: leap-second file is expired. [astropy.utils.iers.iers]\n",
      "\n",
      "WARNING: IERSStaleWarning: leap-second file is expired. [astropy.utils.iers.iers]\n",
      "WARNING: IERSStaleWarning: leap-second file is expired. [astropy.utils.iers.iers]\n",
      "WARNING: IERSStaleWarning: leap-second file is expired. [astropy.utils.iers.iers]\n",
      "WARNINGWARNING: IERSStaleWarning: leap-second file is expired. [astropy.utils.iers.iers]WARNING: IERSStaleWarning: leap-second file is expired. [astropy.utils.iers.iers]\n",
      "\n",
      ": IERSStaleWarning: leap-second file is expired. [astropy.utils.iers.iers]\n",
      "WARNING: IERSStaleWarning: leap-second file is expired. [astropy.utils.iers.iers]\n",
      "WARNINGWARNING: IERSStaleWarning: leap-second file is expired. [astropy.utils.iers.iers]: IERSStaleWarning: leap-second file is expired. [astropy.utils.iers.iers]\n",
      "\n",
      "WARNING: IERSStaleWarning: leap-second file is expired. [astropy.utils.iers.iers]\n"
     ]
    }
   ],
   "source": [
    "rootwd = os.getcwd()\n",
    "\n",
    "def target_Ta2Tmb(i,j):\n",
    "    os.chdir(rootwd+'/'+'{}/{}'.format(i,j))\n",
    "    print('Dealing with myspeclist_N_{0}_{1}_calibrated_icrs'.format(i,j))\n",
    "    beam = int(j.split('M')[-1])\n",
    "    speclist = np.loadtxt('myspeclist_N_{0}_{1}_calibrated_icrs'.format(i,j),dtype=str)\n",
    "    for specfits in speclist:\n",
    "        Ta2Tmb(specfits,beam=beam,restfreq=1420.405751768)\n",
    "\n",
    "def run_process(i):\n",
    "    process = []\n",
    "    for j in Beam_name:\n",
    "        process.append(mp.Process(target=target_Ta2Tmb,args=(i,j)))\n",
    "    [p.start() for p in process]\n",
    "    [p.join()  for p in process]\n",
    "\n",
    "for i in Scan_name:\n",
    "    run_process(i)"
   ]
  },
  {
   "cell_type": "markdown",
   "id": "6cc6b21a-fa81-45f4-a7f4-13d802293bbf",
   "metadata": {},
   "source": [
    "#### Gridding "
   ]
  },
  {
   "cell_type": "code",
   "execution_count": 8,
   "id": "96df6b9f-cbb5-4f5b-a74d-58a86e508b89",
   "metadata": {},
   "outputs": [
    {
     "data": {
      "text/plain": [
       "0"
      ]
     },
     "execution_count": 8,
     "metadata": {},
     "output_type": "execute_result"
    }
   ],
   "source": [
    "# os.system('ls $PWD/Sun17_A_00/*/Calibrated/*_calibrated_icrs.fits \\\n",
    "#               $PWD/Sun17_A_01/*/Calibrated/*_calibrated_icrs.fits \\\n",
    "#               $PWD/Sun17_A_02/*/Calibrated/*_calibrated_icrs.fits \\\n",
    "#               $PWD/Sun17_A_03/*/Calibrated/*_calibrated_icrs.fits \\\n",
    "#               $PWD/Sun17_A_04/*/Calibrated/*_calibrated_icrs.fits > mygridlist')\n",
    "\n",
    "os.system('ls $PWD/*/*/Calibrated/*_calibrated_icrs_Tmb.fits > mygridlist_all')"
   ]
  },
  {
   "cell_type": "code",
   "execution_count": 9,
   "id": "f5e14b74-31ec-4f3f-aa45-b3ffd3d9ae9c",
   "metadata": {
    "tags": []
   },
   "outputs": [],
   "source": [
    "# from gridding import gridding\n",
    "\n",
    "# speclist = 'mygridlist'\n",
    "# center = [284.0,6.0]\n",
    "# gridding(speclist=speclist, center=center, imsize=[300, 300], cell=1/60, rest_freq=1.420405751768, vmin=-200, vmax=100, p=0, outname='Sun17_A_scans.fits', overwrite=False)"
   ]
  },
  {
   "cell_type": "code",
   "execution_count": 10,
   "id": "65d3dd07-cffa-41d5-805d-e81702108d30",
   "metadata": {
    "collapsed": true,
    "jupyter": {
     "outputs_hidden": true
    },
    "tags": []
   },
   "outputs": [
    {
     "name": "stdout",
     "output_type": "stream",
     "text": [
      "{'NAXIS': 2, 'NAXIS1': 360, 'NAXIS2': 360, 'CTYPE1': 'RA---SIN', 'CTYPE2': 'DEC--SIN', 'CUNIT1': 'deg', 'CUNIT2': 'deg', 'CDELT1': -0.016666666666666666, 'CDELT2': 0.016666666666666666, 'CRPIX1': 180.0, 'CRPIX2': 180.0, 'CRVAL1': 284.5, 'CRVAL2': 6.5}\n",
      "Gridding /bb8/lingrui/my_projects/FAST_pipeline/Sun17_A_00/M01/Calibrated/Sun17_A_00_arcdrift-M01_N_0001_211010_100500to211010_101152_calibrated_icrs_Tmb.fits\n",
      "Doing Doppler Tracking!\n"
     ]
    },
    {
     "name": "stderr",
     "output_type": "stream",
     "text": [
      "WARNING: NoVelocityWarning: No velocity defined on frame, assuming (0., 0., 0.) km / s. [astropy.coordinates.spectral_coordinate]\n",
      "WARNING: NoDistanceWarning: Distance on coordinate object is dimensionless, an arbitrary distance value of 1000000.0 kpc will be set instead. [astropy.coordinates.spectral_coordinate]\n",
      "/home/lingrui/.local/lib/python3.10/site-packages/astropy/time/utils.py:179: RuntimeWarning: overflow encountered in double_scalars\n",
      "  c = 134217729. * a  # 2**27+1.\n",
      "/home/lingrui/.local/lib/python3.10/site-packages/astropy/time/utils.py:181: RuntimeWarning: invalid value encountered in double_scalars\n",
      "  ah = c - abig\n",
      "WARNING: IERSStaleWarning: leap-second file is expired. [astropy.utils.iers.iers]\n"
     ]
    },
    {
     "name": "stdout",
     "output_type": "stream",
     "text": [
      "Doing Doppler Tracking!\n"
     ]
    },
    {
     "name": "stderr",
     "output_type": "stream",
     "text": [
      "WARNING: NoVelocityWarning: No velocity defined on frame, assuming (0., 0., 0.) km / s. [astropy.coordinates.spectral_coordinate]\n",
      "WARNING: NoDistanceWarning: Distance on coordinate object is dimensionless, an arbitrary distance value of 1000000.0 kpc will be set instead. [astropy.coordinates.spectral_coordinate]\n"
     ]
    },
    {
     "name": "stdout",
     "output_type": "stream",
     "text": [
      "Gridding /bb8/lingrui/my_projects/FAST_pipeline/Sun17_A_00/M15/Calibrated/Sun17_A_00_arcdrift-M15_N_0002_211010_101152to211010_101844_calibrated_icrs_Tmb.fits\n",
      "Doing Doppler Tracking!\n"
     ]
    },
    {
     "name": "stderr",
     "output_type": "stream",
     "text": [
      "WARNING: NoVelocityWarning: No velocity defined on frame, assuming (0., 0., 0.) km / s. [astropy.coordinates.spectral_coordinate]\n",
      "WARNING: NoDistanceWarning: Distance on coordinate object is dimensionless, an arbitrary distance value of 1000000.0 kpc will be set instead. [astropy.coordinates.spectral_coordinate]\n"
     ]
    },
    {
     "name": "stdout",
     "output_type": "stream",
     "text": [
      "Gridding /bb8/lingrui/my_projects/FAST_pipeline/Sun17_A_00/M15/Calibrated/Sun17_A_00_arcdrift-M15_N_0003_211010_101844to211010_101848_calibrated_icrs_Tmb.fits\n",
      "Doing Doppler Tracking!\n"
     ]
    },
    {
     "name": "stderr",
     "output_type": "stream",
     "text": [
      "WARNING: NoVelocityWarning: No velocity defined on frame, assuming (0., 0., 0.) km / s. [astropy.coordinates.spectral_coordinate]\n",
      "WARNING: NoDistanceWarning: Distance on coordinate object is dimensionless, an arbitrary distance value of 1000000.0 kpc will be set instead. [astropy.coordinates.spectral_coordinate]\n"
     ]
    },
    {
     "name": "stdout",
     "output_type": "stream",
     "text": [
      "Gridding /bb8/lingrui/my_projects/FAST_pipeline/Sun17_A_00/M16/Calibrated/Sun17_A_00_arcdrift-M16_N_0001_211010_100500to211010_101152_calibrated_icrs_Tmb.fits\n",
      "Doing Doppler Tracking!\n"
     ]
    },
    {
     "name": "stderr",
     "output_type": "stream",
     "text": [
      "WARNING: NoVelocityWarning: No velocity defined on frame, assuming (0., 0., 0.) km / s. [astropy.coordinates.spectral_coordinate]\n",
      "WARNING: NoDistanceWarning: Distance on coordinate object is dimensionless, an arbitrary distance value of 1000000.0 kpc will be set instead. [astropy.coordinates.spectral_coordinate]\n"
     ]
    },
    {
     "name": "stdout",
     "output_type": "stream",
     "text": [
      "Gridding /bb8/lingrui/my_projects/FAST_pipeline/Sun17_A_00/M16/Calibrated/Sun17_A_00_arcdrift-M16_N_0002_211010_101152to211010_101844_calibrated_icrs_Tmb.fits\n",
      "Doing Doppler Tracking!\n"
     ]
    },
    {
     "name": "stderr",
     "output_type": "stream",
     "text": [
      "WARNING: NoVelocityWarning: No velocity defined on frame, assuming (0., 0., 0.) km / s. [astropy.coordinates.spectral_coordinate]\n",
      "WARNING: NoDistanceWarning: Distance on coordinate object is dimensionless, an arbitrary distance value of 1000000.0 kpc will be set instead. [astropy.coordinates.spectral_coordinate]\n"
     ]
    },
    {
     "name": "stdout",
     "output_type": "stream",
     "text": [
      "Gridding /bb8/lingrui/my_projects/FAST_pipeline/Sun17_A_00/M16/Calibrated/Sun17_A_00_arcdrift-M16_N_0003_211010_101844to211010_101848_calibrated_icrs_Tmb.fits\n",
      "Doing Doppler Tracking!\n"
     ]
    },
    {
     "name": "stderr",
     "output_type": "stream",
     "text": [
      "WARNING: NoVelocityWarning: No velocity defined on frame, assuming (0., 0., 0.) km / s. [astropy.coordinates.spectral_coordinate]\n",
      "WARNING: NoDistanceWarning: Distance on coordinate object is dimensionless, an arbitrary distance value of 1000000.0 kpc will be set instead. [astropy.coordinates.spectral_coordinate]\n"
     ]
    },
    {
     "name": "stdout",
     "output_type": "stream",
     "text": [
      "Gridding /bb8/lingrui/my_projects/FAST_pipeline/Sun17_A_00/M17/Calibrated/Sun17_A_00_arcdrift-M17_N_0001_211010_100500to211010_101152_calibrated_icrs_Tmb.fits\n",
      "Doing Doppler Tracking!\n"
     ]
    },
    {
     "name": "stderr",
     "output_type": "stream",
     "text": [
      "WARNING: NoVelocityWarning: No velocity defined on frame, assuming (0., 0., 0.) km / s. [astropy.coordinates.spectral_coordinate]\n",
      "WARNING: NoDistanceWarning: Distance on coordinate object is dimensionless, an arbitrary distance value of 1000000.0 kpc will be set instead. [astropy.coordinates.spectral_coordinate]\n"
     ]
    },
    {
     "name": "stdout",
     "output_type": "stream",
     "text": [
      "Gridding /bb8/lingrui/my_projects/FAST_pipeline/Sun17_A_00/M17/Calibrated/Sun17_A_00_arcdrift-M17_N_0002_211010_101152to211010_101844_calibrated_icrs_Tmb.fits\n",
      "Doing Doppler Tracking!\n"
     ]
    },
    {
     "name": "stderr",
     "output_type": "stream",
     "text": [
      "WARNING: NoVelocityWarning: No velocity defined on frame, assuming (0., 0., 0.) km / s. [astropy.coordinates.spectral_coordinate]\n",
      "WARNING: NoDistanceWarning: Distance on coordinate object is dimensionless, an arbitrary distance value of 1000000.0 kpc will be set instead. [astropy.coordinates.spectral_coordinate]\n"
     ]
    },
    {
     "name": "stdout",
     "output_type": "stream",
     "text": [
      "Gridding /bb8/lingrui/my_projects/FAST_pipeline/Sun17_A_00/M17/Calibrated/Sun17_A_00_arcdrift-M17_N_0003_211010_101844to211010_101848_calibrated_icrs_Tmb.fits\n",
      "Doing Doppler Tracking!\n"
     ]
    },
    {
     "name": "stderr",
     "output_type": "stream",
     "text": [
      "WARNING: NoVelocityWarning: No velocity defined on frame, assuming (0., 0., 0.) km / s. [astropy.coordinates.spectral_coordinate]\n",
      "WARNING: NoDistanceWarning: Distance on coordinate object is dimensionless, an arbitrary distance value of 1000000.0 kpc will be set instead. [astropy.coordinates.spectral_coordinate]\n"
     ]
    },
    {
     "name": "stdout",
     "output_type": "stream",
     "text": [
      "Gridding /bb8/lingrui/my_projects/FAST_pipeline/Sun17_A_00/M18/Calibrated/Sun17_A_00_arcdrift-M18_N_0001_211010_100500to211010_101152_calibrated_icrs_Tmb.fits\n",
      "Doing Doppler Tracking!\n"
     ]
    },
    {
     "name": "stderr",
     "output_type": "stream",
     "text": [
      "WARNING: NoVelocityWarning: No velocity defined on frame, assuming (0., 0., 0.) km / s. [astropy.coordinates.spectral_coordinate]\n",
      "WARNING: NoDistanceWarning: Distance on coordinate object is dimensionless, an arbitrary distance value of 1000000.0 kpc will be set instead. [astropy.coordinates.spectral_coordinate]\n"
     ]
    },
    {
     "name": "stdout",
     "output_type": "stream",
     "text": [
      "Gridding /bb8/lingrui/my_projects/FAST_pipeline/Sun17_A_00/M18/Calibrated/Sun17_A_00_arcdrift-M18_N_0002_211010_101152to211010_101844_calibrated_icrs_Tmb.fits\n",
      "Doing Doppler Tracking!\n"
     ]
    },
    {
     "name": "stderr",
     "output_type": "stream",
     "text": [
      "WARNING: NoVelocityWarning: No velocity defined on frame, assuming (0., 0., 0.) km / s. [astropy.coordinates.spectral_coordinate]\n",
      "WARNING: NoDistanceWarning: Distance on coordinate object is dimensionless, an arbitrary distance value of 1000000.0 kpc will be set instead. [astropy.coordinates.spectral_coordinate]\n"
     ]
    },
    {
     "name": "stdout",
     "output_type": "stream",
     "text": [
      "Gridding /bb8/lingrui/my_projects/FAST_pipeline/Sun17_A_00/M18/Calibrated/Sun17_A_00_arcdrift-M18_N_0003_211010_101844to211010_101848_calibrated_icrs_Tmb.fits\n",
      "Doing Doppler Tracking!\n"
     ]
    },
    {
     "name": "stderr",
     "output_type": "stream",
     "text": [
      "WARNING: NoVelocityWarning: No velocity defined on frame, assuming (0., 0., 0.) km / s. [astropy.coordinates.spectral_coordinate]\n",
      "WARNING: NoDistanceWarning: Distance on coordinate object is dimensionless, an arbitrary distance value of 1000000.0 kpc will be set instead. [astropy.coordinates.spectral_coordinate]\n"
     ]
    },
    {
     "name": "stdout",
     "output_type": "stream",
     "text": [
      "Gridding /bb8/lingrui/my_projects/FAST_pipeline/Sun17_A_00/M19/Calibrated/Sun17_A_00_arcdrift-M19_N_0001_211010_100500to211010_101152_calibrated_icrs_Tmb.fits\n",
      "Doing Doppler Tracking!\n"
     ]
    },
    {
     "name": "stderr",
     "output_type": "stream",
     "text": [
      "WARNING: NoVelocityWarning: No velocity defined on frame, assuming (0., 0., 0.) km / s. [astropy.coordinates.spectral_coordinate]\n",
      "WARNING: NoDistanceWarning: Distance on coordinate object is dimensionless, an arbitrary distance value of 1000000.0 kpc will be set instead. [astropy.coordinates.spectral_coordinate]\n"
     ]
    },
    {
     "name": "stdout",
     "output_type": "stream",
     "text": [
      "Gridding /bb8/lingrui/my_projects/FAST_pipeline/Sun17_A_00/M19/Calibrated/Sun17_A_00_arcdrift-M19_N_0002_211010_101152to211010_101844_calibrated_icrs_Tmb.fits\n",
      "Doing Doppler Tracking!\n"
     ]
    },
    {
     "name": "stderr",
     "output_type": "stream",
     "text": [
      "WARNING: NoVelocityWarning: No velocity defined on frame, assuming (0., 0., 0.) km / s. [astropy.coordinates.spectral_coordinate]\n",
      "WARNING: NoDistanceWarning: Distance on coordinate object is dimensionless, an arbitrary distance value of 1000000.0 kpc will be set instead. [astropy.coordinates.spectral_coordinate]\n"
     ]
    },
    {
     "name": "stdout",
     "output_type": "stream",
     "text": [
      "Gridding /bb8/lingrui/my_projects/FAST_pipeline/Sun17_A_00/M19/Calibrated/Sun17_A_00_arcdrift-M19_N_0003_211010_101844to211010_101848_calibrated_icrs_Tmb.fits\n",
      "Doing Doppler Tracking!\n"
     ]
    },
    {
     "name": "stderr",
     "output_type": "stream",
     "text": [
      "WARNING: NoVelocityWarning: No velocity defined on frame, assuming (0., 0., 0.) km / s. [astropy.coordinates.spectral_coordinate]\n",
      "WARNING: NoDistanceWarning: Distance on coordinate object is dimensionless, an arbitrary distance value of 1000000.0 kpc will be set instead. [astropy.coordinates.spectral_coordinate]\n"
     ]
    },
    {
     "name": "stdout",
     "output_type": "stream",
     "text": [
      "Gridding /bb8/lingrui/my_projects/FAST_pipeline/Sun17_A_01/M01/Calibrated/Sun17_A_01_arcdrift-M01_N_0001_211010_103100to211010_103752_calibrated_icrs_Tmb.fits\n",
      "Doing Doppler Tracking!\n"
     ]
    },
    {
     "name": "stderr",
     "output_type": "stream",
     "text": [
      "WARNING: NoVelocityWarning: No velocity defined on frame, assuming (0., 0., 0.) km / s. [astropy.coordinates.spectral_coordinate]\n",
      "WARNING: NoDistanceWarning: Distance on coordinate object is dimensionless, an arbitrary distance value of 1000000.0 kpc will be set instead. [astropy.coordinates.spectral_coordinate]\n"
     ]
    },
    {
     "name": "stdout",
     "output_type": "stream",
     "text": [
      "Gridding /bb8/lingrui/my_projects/FAST_pipeline/Sun17_A_01/M01/Calibrated/Sun17_A_01_arcdrift-M01_N_0002_211010_103752to211010_104444_calibrated_icrs_Tmb.fits\n",
      "Doing Doppler Tracking!\n"
     ]
    },
    {
     "name": "stderr",
     "output_type": "stream",
     "text": [
      "WARNING: NoVelocityWarning: No velocity defined on frame, assuming (0., 0., 0.) km / s. [astropy.coordinates.spectral_coordinate]\n",
      "WARNING: NoDistanceWarning: Distance on coordinate object is dimensionless, an arbitrary distance value of 1000000.0 kpc will be set instead. [astropy.coordinates.spectral_coordinate]\n"
     ]
    },
    {
     "name": "stdout",
     "output_type": "stream",
     "text": [
      "Gridding /bb8/lingrui/my_projects/FAST_pipeline/Sun17_A_01/M01/Calibrated/Sun17_A_01_arcdrift-M01_N_0003_211010_104444to211010_104448_calibrated_icrs_Tmb.fits\n",
      "Doing Doppler Tracking!\n"
     ]
    },
    {
     "name": "stderr",
     "output_type": "stream",
     "text": [
      "WARNING: NoVelocityWarning: No velocity defined on frame, assuming (0., 0., 0.) km / s. [astropy.coordinates.spectral_coordinate]\n",
      "WARNING: NoDistanceWarning: Distance on coordinate object is dimensionless, an arbitrary distance value of 1000000.0 kpc will be set instead. [astropy.coordinates.spectral_coordinate]\n"
     ]
    },
    {
     "name": "stdout",
     "output_type": "stream",
     "text": [
      "Gridding /bb8/lingrui/my_projects/FAST_pipeline/Sun17_A_01/M02/Calibrated/Sun17_A_01_arcdrift-M02_N_0001_211010_103100to211010_103752_calibrated_icrs_Tmb.fits\n",
      "Doing Doppler Tracking!\n"
     ]
    },
    {
     "name": "stderr",
     "output_type": "stream",
     "text": [
      "WARNING: NoVelocityWarning: No velocity defined on frame, assuming (0., 0., 0.) km / s. [astropy.coordinates.spectral_coordinate]\n",
      "WARNING: NoDistanceWarning: Distance on coordinate object is dimensionless, an arbitrary distance value of 1000000.0 kpc will be set instead. [astropy.coordinates.spectral_coordinate]\n"
     ]
    },
    {
     "name": "stdout",
     "output_type": "stream",
     "text": [
      "Gridding /bb8/lingrui/my_projects/FAST_pipeline/Sun17_A_01/M02/Calibrated/Sun17_A_01_arcdrift-M02_N_0002_211010_103752to211010_104444_calibrated_icrs_Tmb.fits\n",
      "Doing Doppler Tracking!\n"
     ]
    },
    {
     "name": "stderr",
     "output_type": "stream",
     "text": [
      "WARNING: NoVelocityWarning: No velocity defined on frame, assuming (0., 0., 0.) km / s. [astropy.coordinates.spectral_coordinate]\n",
      "WARNING: NoDistanceWarning: Distance on coordinate object is dimensionless, an arbitrary distance value of 1000000.0 kpc will be set instead. [astropy.coordinates.spectral_coordinate]\n"
     ]
    },
    {
     "name": "stdout",
     "output_type": "stream",
     "text": [
      "Gridding /bb8/lingrui/my_projects/FAST_pipeline/Sun17_A_01/M02/Calibrated/Sun17_A_01_arcdrift-M02_N_0003_211010_104444to211010_104448_calibrated_icrs_Tmb.fits\n",
      "Doing Doppler Tracking!\n"
     ]
    },
    {
     "name": "stderr",
     "output_type": "stream",
     "text": [
      "WARNING: NoVelocityWarning: No velocity defined on frame, assuming (0., 0., 0.) km / s. [astropy.coordinates.spectral_coordinate]\n",
      "WARNING: NoDistanceWarning: Distance on coordinate object is dimensionless, an arbitrary distance value of 1000000.0 kpc will be set instead. [astropy.coordinates.spectral_coordinate]\n"
     ]
    },
    {
     "name": "stdout",
     "output_type": "stream",
     "text": [
      "Gridding /bb8/lingrui/my_projects/FAST_pipeline/Sun17_A_01/M03/Calibrated/Sun17_A_01_arcdrift-M03_N_0001_211010_103100to211010_103752_calibrated_icrs_Tmb.fits\n",
      "Doing Doppler Tracking!\n"
     ]
    },
    {
     "name": "stderr",
     "output_type": "stream",
     "text": [
      "WARNING: NoVelocityWarning: No velocity defined on frame, assuming (0., 0., 0.) km / s. [astropy.coordinates.spectral_coordinate]\n",
      "WARNING: NoDistanceWarning: Distance on coordinate object is dimensionless, an arbitrary distance value of 1000000.0 kpc will be set instead. [astropy.coordinates.spectral_coordinate]\n"
     ]
    },
    {
     "name": "stdout",
     "output_type": "stream",
     "text": [
      "Gridding /bb8/lingrui/my_projects/FAST_pipeline/Sun17_A_01/M03/Calibrated/Sun17_A_01_arcdrift-M03_N_0002_211010_103752to211010_104444_calibrated_icrs_Tmb.fits\n",
      "Doing Doppler Tracking!\n"
     ]
    },
    {
     "name": "stderr",
     "output_type": "stream",
     "text": [
      "WARNING: NoVelocityWarning: No velocity defined on frame, assuming (0., 0., 0.) km / s. [astropy.coordinates.spectral_coordinate]\n",
      "WARNING: NoDistanceWarning: Distance on coordinate object is dimensionless, an arbitrary distance value of 1000000.0 kpc will be set instead. [astropy.coordinates.spectral_coordinate]\n"
     ]
    },
    {
     "name": "stdout",
     "output_type": "stream",
     "text": [
      "Gridding /bb8/lingrui/my_projects/FAST_pipeline/Sun17_A_01/M03/Calibrated/Sun17_A_01_arcdrift-M03_N_0003_211010_104444to211010_104448_calibrated_icrs_Tmb.fits\n",
      "Doing Doppler Tracking!\n"
     ]
    },
    {
     "name": "stderr",
     "output_type": "stream",
     "text": [
      "WARNING: NoVelocityWarning: No velocity defined on frame, assuming (0., 0., 0.) km / s. [astropy.coordinates.spectral_coordinate]\n",
      "WARNING: NoDistanceWarning: Distance on coordinate object is dimensionless, an arbitrary distance value of 1000000.0 kpc will be set instead. [astropy.coordinates.spectral_coordinate]\n"
     ]
    },
    {
     "name": "stdout",
     "output_type": "stream",
     "text": [
      "Gridding /bb8/lingrui/my_projects/FAST_pipeline/Sun17_A_01/M04/Calibrated/Sun17_A_01_arcdrift-M04_N_0001_211010_103100to211010_103752_calibrated_icrs_Tmb.fits\n",
      "Doing Doppler Tracking!\n"
     ]
    },
    {
     "name": "stderr",
     "output_type": "stream",
     "text": [
      "WARNING: NoVelocityWarning: No velocity defined on frame, assuming (0., 0., 0.) km / s. [astropy.coordinates.spectral_coordinate]\n",
      "WARNING: NoDistanceWarning: Distance on coordinate object is dimensionless, an arbitrary distance value of 1000000.0 kpc will be set instead. [astropy.coordinates.spectral_coordinate]\n"
     ]
    },
    {
     "name": "stdout",
     "output_type": "stream",
     "text": [
      "Gridding /bb8/lingrui/my_projects/FAST_pipeline/Sun17_A_01/M04/Calibrated/Sun17_A_01_arcdrift-M04_N_0002_211010_103752to211010_104444_calibrated_icrs_Tmb.fits\n",
      "Doing Doppler Tracking!\n"
     ]
    },
    {
     "name": "stderr",
     "output_type": "stream",
     "text": [
      "WARNING: NoVelocityWarning: No velocity defined on frame, assuming (0., 0., 0.) km / s. [astropy.coordinates.spectral_coordinate]\n",
      "WARNING: NoDistanceWarning: Distance on coordinate object is dimensionless, an arbitrary distance value of 1000000.0 kpc will be set instead. [astropy.coordinates.spectral_coordinate]\n"
     ]
    },
    {
     "name": "stdout",
     "output_type": "stream",
     "text": [
      "Gridding /bb8/lingrui/my_projects/FAST_pipeline/Sun17_A_01/M04/Calibrated/Sun17_A_01_arcdrift-M04_N_0003_211010_104444to211010_104448_calibrated_icrs_Tmb.fits\n",
      "Doing Doppler Tracking!\n"
     ]
    },
    {
     "name": "stderr",
     "output_type": "stream",
     "text": [
      "WARNING: NoVelocityWarning: No velocity defined on frame, assuming (0., 0., 0.) km / s. [astropy.coordinates.spectral_coordinate]\n",
      "WARNING: NoDistanceWarning: Distance on coordinate object is dimensionless, an arbitrary distance value of 1000000.0 kpc will be set instead. [astropy.coordinates.spectral_coordinate]\n"
     ]
    },
    {
     "name": "stdout",
     "output_type": "stream",
     "text": [
      "Gridding /bb8/lingrui/my_projects/FAST_pipeline/Sun17_A_01/M05/Calibrated/Sun17_A_01_arcdrift-M05_N_0001_211010_103100to211010_103752_calibrated_icrs_Tmb.fits\n",
      "Doing Doppler Tracking!\n"
     ]
    },
    {
     "name": "stderr",
     "output_type": "stream",
     "text": [
      "WARNING: NoVelocityWarning: No velocity defined on frame, assuming (0., 0., 0.) km / s. [astropy.coordinates.spectral_coordinate]\n",
      "WARNING: NoDistanceWarning: Distance on coordinate object is dimensionless, an arbitrary distance value of 1000000.0 kpc will be set instead. [astropy.coordinates.spectral_coordinate]\n"
     ]
    },
    {
     "name": "stdout",
     "output_type": "stream",
     "text": [
      "Gridding /bb8/lingrui/my_projects/FAST_pipeline/Sun17_A_01/M05/Calibrated/Sun17_A_01_arcdrift-M05_N_0002_211010_103752to211010_104444_calibrated_icrs_Tmb.fits\n",
      "Doing Doppler Tracking!\n"
     ]
    },
    {
     "name": "stderr",
     "output_type": "stream",
     "text": [
      "WARNING: NoVelocityWarning: No velocity defined on frame, assuming (0., 0., 0.) km / s. [astropy.coordinates.spectral_coordinate]\n",
      "WARNING: NoDistanceWarning: Distance on coordinate object is dimensionless, an arbitrary distance value of 1000000.0 kpc will be set instead. [astropy.coordinates.spectral_coordinate]\n"
     ]
    },
    {
     "name": "stdout",
     "output_type": "stream",
     "text": [
      "Gridding /bb8/lingrui/my_projects/FAST_pipeline/Sun17_A_01/M05/Calibrated/Sun17_A_01_arcdrift-M05_N_0003_211010_104444to211010_104448_calibrated_icrs_Tmb.fits\n",
      "Doing Doppler Tracking!\n"
     ]
    },
    {
     "name": "stderr",
     "output_type": "stream",
     "text": [
      "WARNING: NoVelocityWarning: No velocity defined on frame, assuming (0., 0., 0.) km / s. [astropy.coordinates.spectral_coordinate]\n",
      "WARNING: NoDistanceWarning: Distance on coordinate object is dimensionless, an arbitrary distance value of 1000000.0 kpc will be set instead. [astropy.coordinates.spectral_coordinate]\n"
     ]
    },
    {
     "name": "stdout",
     "output_type": "stream",
     "text": [
      "Gridding /bb8/lingrui/my_projects/FAST_pipeline/Sun17_A_01/M06/Calibrated/Sun17_A_01_arcdrift-M06_N_0001_211010_103100to211010_103752_calibrated_icrs_Tmb.fits\n",
      "Doing Doppler Tracking!\n"
     ]
    },
    {
     "name": "stderr",
     "output_type": "stream",
     "text": [
      "WARNING: NoVelocityWarning: No velocity defined on frame, assuming (0., 0., 0.) km / s. [astropy.coordinates.spectral_coordinate]\n",
      "WARNING: NoDistanceWarning: Distance on coordinate object is dimensionless, an arbitrary distance value of 1000000.0 kpc will be set instead. [astropy.coordinates.spectral_coordinate]\n"
     ]
    },
    {
     "name": "stdout",
     "output_type": "stream",
     "text": [
      "Gridding /bb8/lingrui/my_projects/FAST_pipeline/Sun17_A_01/M06/Calibrated/Sun17_A_01_arcdrift-M06_N_0002_211010_103752to211010_104444_calibrated_icrs_Tmb.fits\n",
      "Doing Doppler Tracking!\n"
     ]
    },
    {
     "name": "stderr",
     "output_type": "stream",
     "text": [
      "WARNING: NoVelocityWarning: No velocity defined on frame, assuming (0., 0., 0.) km / s. [astropy.coordinates.spectral_coordinate]\n",
      "WARNING: NoDistanceWarning: Distance on coordinate object is dimensionless, an arbitrary distance value of 1000000.0 kpc will be set instead. [astropy.coordinates.spectral_coordinate]\n"
     ]
    },
    {
     "name": "stdout",
     "output_type": "stream",
     "text": [
      "Gridding /bb8/lingrui/my_projects/FAST_pipeline/Sun17_A_01/M06/Calibrated/Sun17_A_01_arcdrift-M06_N_0003_211010_104444to211010_104448_calibrated_icrs_Tmb.fits\n",
      "Doing Doppler Tracking!\n"
     ]
    },
    {
     "name": "stderr",
     "output_type": "stream",
     "text": [
      "WARNING: NoVelocityWarning: No velocity defined on frame, assuming (0., 0., 0.) km / s. [astropy.coordinates.spectral_coordinate]\n",
      "WARNING: NoDistanceWarning: Distance on coordinate object is dimensionless, an arbitrary distance value of 1000000.0 kpc will be set instead. [astropy.coordinates.spectral_coordinate]\n"
     ]
    },
    {
     "name": "stdout",
     "output_type": "stream",
     "text": [
      "Gridding /bb8/lingrui/my_projects/FAST_pipeline/Sun17_A_01/M07/Calibrated/Sun17_A_01_arcdrift-M07_N_0001_211010_103100to211010_103752_calibrated_icrs_Tmb.fits\n",
      "Doing Doppler Tracking!\n"
     ]
    },
    {
     "name": "stderr",
     "output_type": "stream",
     "text": [
      "WARNING: NoVelocityWarning: No velocity defined on frame, assuming (0., 0., 0.) km / s. [astropy.coordinates.spectral_coordinate]\n",
      "WARNING: NoDistanceWarning: Distance on coordinate object is dimensionless, an arbitrary distance value of 1000000.0 kpc will be set instead. [astropy.coordinates.spectral_coordinate]\n"
     ]
    },
    {
     "name": "stdout",
     "output_type": "stream",
     "text": [
      "Gridding /bb8/lingrui/my_projects/FAST_pipeline/Sun17_A_01/M07/Calibrated/Sun17_A_01_arcdrift-M07_N_0002_211010_103752to211010_104444_calibrated_icrs_Tmb.fits\n",
      "Doing Doppler Tracking!\n"
     ]
    },
    {
     "name": "stderr",
     "output_type": "stream",
     "text": [
      "WARNING: NoVelocityWarning: No velocity defined on frame, assuming (0., 0., 0.) km / s. [astropy.coordinates.spectral_coordinate]\n",
      "WARNING: NoDistanceWarning: Distance on coordinate object is dimensionless, an arbitrary distance value of 1000000.0 kpc will be set instead. [astropy.coordinates.spectral_coordinate]\n"
     ]
    },
    {
     "name": "stdout",
     "output_type": "stream",
     "text": [
      "Gridding /bb8/lingrui/my_projects/FAST_pipeline/Sun17_A_01/M07/Calibrated/Sun17_A_01_arcdrift-M07_N_0003_211010_104444to211010_104448_calibrated_icrs_Tmb.fits\n",
      "Doing Doppler Tracking!\n"
     ]
    },
    {
     "name": "stderr",
     "output_type": "stream",
     "text": [
      "WARNING: NoVelocityWarning: No velocity defined on frame, assuming (0., 0., 0.) km / s. [astropy.coordinates.spectral_coordinate]\n",
      "WARNING: NoDistanceWarning: Distance on coordinate object is dimensionless, an arbitrary distance value of 1000000.0 kpc will be set instead. [astropy.coordinates.spectral_coordinate]\n"
     ]
    },
    {
     "name": "stdout",
     "output_type": "stream",
     "text": [
      "Gridding /bb8/lingrui/my_projects/FAST_pipeline/Sun17_A_01/M08/Calibrated/Sun17_A_01_arcdrift-M08_N_0001_211010_103100to211010_103752_calibrated_icrs_Tmb.fits\n",
      "Doing Doppler Tracking!\n"
     ]
    },
    {
     "name": "stderr",
     "output_type": "stream",
     "text": [
      "WARNING: NoVelocityWarning: No velocity defined on frame, assuming (0., 0., 0.) km / s. [astropy.coordinates.spectral_coordinate]\n",
      "WARNING: NoDistanceWarning: Distance on coordinate object is dimensionless, an arbitrary distance value of 1000000.0 kpc will be set instead. [astropy.coordinates.spectral_coordinate]\n"
     ]
    },
    {
     "name": "stdout",
     "output_type": "stream",
     "text": [
      "Gridding /bb8/lingrui/my_projects/FAST_pipeline/Sun17_A_01/M08/Calibrated/Sun17_A_01_arcdrift-M08_N_0002_211010_103752to211010_104444_calibrated_icrs_Tmb.fits\n",
      "Doing Doppler Tracking!\n"
     ]
    },
    {
     "name": "stderr",
     "output_type": "stream",
     "text": [
      "WARNING: NoVelocityWarning: No velocity defined on frame, assuming (0., 0., 0.) km / s. [astropy.coordinates.spectral_coordinate]\n",
      "WARNING: NoDistanceWarning: Distance on coordinate object is dimensionless, an arbitrary distance value of 1000000.0 kpc will be set instead. [astropy.coordinates.spectral_coordinate]\n"
     ]
    },
    {
     "name": "stdout",
     "output_type": "stream",
     "text": [
      "Gridding /bb8/lingrui/my_projects/FAST_pipeline/Sun17_A_01/M08/Calibrated/Sun17_A_01_arcdrift-M08_N_0003_211010_104444to211010_104448_calibrated_icrs_Tmb.fits\n",
      "Doing Doppler Tracking!\n"
     ]
    },
    {
     "name": "stderr",
     "output_type": "stream",
     "text": [
      "WARNING: NoVelocityWarning: No velocity defined on frame, assuming (0., 0., 0.) km / s. [astropy.coordinates.spectral_coordinate]\n",
      "WARNING: NoDistanceWarning: Distance on coordinate object is dimensionless, an arbitrary distance value of 1000000.0 kpc will be set instead. [astropy.coordinates.spectral_coordinate]\n"
     ]
    },
    {
     "name": "stdout",
     "output_type": "stream",
     "text": [
      "Gridding /bb8/lingrui/my_projects/FAST_pipeline/Sun17_A_01/M09/Calibrated/Sun17_A_01_arcdrift-M09_N_0001_211010_103100to211010_103752_calibrated_icrs_Tmb.fits\n",
      "Doing Doppler Tracking!\n"
     ]
    },
    {
     "name": "stderr",
     "output_type": "stream",
     "text": [
      "WARNING: NoVelocityWarning: No velocity defined on frame, assuming (0., 0., 0.) km / s. [astropy.coordinates.spectral_coordinate]\n",
      "WARNING: NoDistanceWarning: Distance on coordinate object is dimensionless, an arbitrary distance value of 1000000.0 kpc will be set instead. [astropy.coordinates.spectral_coordinate]\n"
     ]
    },
    {
     "name": "stdout",
     "output_type": "stream",
     "text": [
      "Gridding /bb8/lingrui/my_projects/FAST_pipeline/Sun17_A_01/M09/Calibrated/Sun17_A_01_arcdrift-M09_N_0002_211010_103752to211010_104444_calibrated_icrs_Tmb.fits\n",
      "Doing Doppler Tracking!\n"
     ]
    },
    {
     "name": "stderr",
     "output_type": "stream",
     "text": [
      "WARNING: NoVelocityWarning: No velocity defined on frame, assuming (0., 0., 0.) km / s. [astropy.coordinates.spectral_coordinate]\n",
      "WARNING: NoDistanceWarning: Distance on coordinate object is dimensionless, an arbitrary distance value of 1000000.0 kpc will be set instead. [astropy.coordinates.spectral_coordinate]\n"
     ]
    },
    {
     "name": "stdout",
     "output_type": "stream",
     "text": [
      "Gridding /bb8/lingrui/my_projects/FAST_pipeline/Sun17_A_01/M09/Calibrated/Sun17_A_01_arcdrift-M09_N_0003_211010_104444to211010_104448_calibrated_icrs_Tmb.fits\n",
      "Doing Doppler Tracking!\n"
     ]
    },
    {
     "name": "stderr",
     "output_type": "stream",
     "text": [
      "WARNING: NoVelocityWarning: No velocity defined on frame, assuming (0., 0., 0.) km / s. [astropy.coordinates.spectral_coordinate]\n",
      "WARNING: NoDistanceWarning: Distance on coordinate object is dimensionless, an arbitrary distance value of 1000000.0 kpc will be set instead. [astropy.coordinates.spectral_coordinate]\n"
     ]
    },
    {
     "name": "stdout",
     "output_type": "stream",
     "text": [
      "Gridding /bb8/lingrui/my_projects/FAST_pipeline/Sun17_A_01/M10/Calibrated/Sun17_A_01_arcdrift-M10_N_0001_211010_103100to211010_103752_calibrated_icrs_Tmb.fits\n",
      "Doing Doppler Tracking!\n"
     ]
    },
    {
     "name": "stderr",
     "output_type": "stream",
     "text": [
      "WARNING: NoVelocityWarning: No velocity defined on frame, assuming (0., 0., 0.) km / s. [astropy.coordinates.spectral_coordinate]\n",
      "WARNING: NoDistanceWarning: Distance on coordinate object is dimensionless, an arbitrary distance value of 1000000.0 kpc will be set instead. [astropy.coordinates.spectral_coordinate]\n"
     ]
    },
    {
     "name": "stdout",
     "output_type": "stream",
     "text": [
      "Gridding /bb8/lingrui/my_projects/FAST_pipeline/Sun17_A_01/M10/Calibrated/Sun17_A_01_arcdrift-M10_N_0002_211010_103752to211010_104444_calibrated_icrs_Tmb.fits\n",
      "Doing Doppler Tracking!\n"
     ]
    },
    {
     "name": "stderr",
     "output_type": "stream",
     "text": [
      "WARNING: NoVelocityWarning: No velocity defined on frame, assuming (0., 0., 0.) km / s. [astropy.coordinates.spectral_coordinate]\n",
      "WARNING: NoDistanceWarning: Distance on coordinate object is dimensionless, an arbitrary distance value of 1000000.0 kpc will be set instead. [astropy.coordinates.spectral_coordinate]\n"
     ]
    },
    {
     "name": "stdout",
     "output_type": "stream",
     "text": [
      "Gridding /bb8/lingrui/my_projects/FAST_pipeline/Sun17_A_01/M10/Calibrated/Sun17_A_01_arcdrift-M10_N_0003_211010_104444to211010_104448_calibrated_icrs_Tmb.fits\n",
      "Doing Doppler Tracking!\n"
     ]
    },
    {
     "name": "stderr",
     "output_type": "stream",
     "text": [
      "WARNING: NoVelocityWarning: No velocity defined on frame, assuming (0., 0., 0.) km / s. [astropy.coordinates.spectral_coordinate]\n",
      "WARNING: NoDistanceWarning: Distance on coordinate object is dimensionless, an arbitrary distance value of 1000000.0 kpc will be set instead. [astropy.coordinates.spectral_coordinate]\n"
     ]
    },
    {
     "name": "stdout",
     "output_type": "stream",
     "text": [
      "Gridding /bb8/lingrui/my_projects/FAST_pipeline/Sun17_A_01/M11/Calibrated/Sun17_A_01_arcdrift-M11_N_0001_211010_103100to211010_103752_calibrated_icrs_Tmb.fits\n",
      "Doing Doppler Tracking!\n"
     ]
    },
    {
     "name": "stderr",
     "output_type": "stream",
     "text": [
      "WARNING: NoVelocityWarning: No velocity defined on frame, assuming (0., 0., 0.) km / s. [astropy.coordinates.spectral_coordinate]\n",
      "WARNING: NoDistanceWarning: Distance on coordinate object is dimensionless, an arbitrary distance value of 1000000.0 kpc will be set instead. [astropy.coordinates.spectral_coordinate]\n"
     ]
    },
    {
     "name": "stdout",
     "output_type": "stream",
     "text": [
      "Gridding /bb8/lingrui/my_projects/FAST_pipeline/Sun17_A_01/M11/Calibrated/Sun17_A_01_arcdrift-M11_N_0002_211010_103752to211010_104444_calibrated_icrs_Tmb.fits\n",
      "Doing Doppler Tracking!\n"
     ]
    },
    {
     "name": "stderr",
     "output_type": "stream",
     "text": [
      "WARNING: NoVelocityWarning: No velocity defined on frame, assuming (0., 0., 0.) km / s. [astropy.coordinates.spectral_coordinate]\n",
      "WARNING: NoDistanceWarning: Distance on coordinate object is dimensionless, an arbitrary distance value of 1000000.0 kpc will be set instead. [astropy.coordinates.spectral_coordinate]\n"
     ]
    },
    {
     "name": "stdout",
     "output_type": "stream",
     "text": [
      "Gridding /bb8/lingrui/my_projects/FAST_pipeline/Sun17_A_01/M11/Calibrated/Sun17_A_01_arcdrift-M11_N_0003_211010_104444to211010_104448_calibrated_icrs_Tmb.fits\n",
      "Doing Doppler Tracking!\n"
     ]
    },
    {
     "name": "stderr",
     "output_type": "stream",
     "text": [
      "WARNING: NoVelocityWarning: No velocity defined on frame, assuming (0., 0., 0.) km / s. [astropy.coordinates.spectral_coordinate]\n",
      "WARNING: NoDistanceWarning: Distance on coordinate object is dimensionless, an arbitrary distance value of 1000000.0 kpc will be set instead. [astropy.coordinates.spectral_coordinate]\n"
     ]
    },
    {
     "name": "stdout",
     "output_type": "stream",
     "text": [
      "Gridding /bb8/lingrui/my_projects/FAST_pipeline/Sun17_A_01/M12/Calibrated/Sun17_A_01_arcdrift-M12_N_0001_211010_103100to211010_103752_calibrated_icrs_Tmb.fits\n",
      "Doing Doppler Tracking!\n"
     ]
    },
    {
     "name": "stderr",
     "output_type": "stream",
     "text": [
      "WARNING: NoVelocityWarning: No velocity defined on frame, assuming (0., 0., 0.) km / s. [astropy.coordinates.spectral_coordinate]\n",
      "WARNING: NoDistanceWarning: Distance on coordinate object is dimensionless, an arbitrary distance value of 1000000.0 kpc will be set instead. [astropy.coordinates.spectral_coordinate]\n"
     ]
    },
    {
     "name": "stdout",
     "output_type": "stream",
     "text": [
      "Gridding /bb8/lingrui/my_projects/FAST_pipeline/Sun17_A_01/M12/Calibrated/Sun17_A_01_arcdrift-M12_N_0002_211010_103752to211010_104444_calibrated_icrs_Tmb.fits\n",
      "Doing Doppler Tracking!\n"
     ]
    },
    {
     "name": "stderr",
     "output_type": "stream",
     "text": [
      "WARNING: NoVelocityWarning: No velocity defined on frame, assuming (0., 0., 0.) km / s. [astropy.coordinates.spectral_coordinate]\n",
      "WARNING: NoDistanceWarning: Distance on coordinate object is dimensionless, an arbitrary distance value of 1000000.0 kpc will be set instead. [astropy.coordinates.spectral_coordinate]\n"
     ]
    },
    {
     "name": "stdout",
     "output_type": "stream",
     "text": [
      "Gridding /bb8/lingrui/my_projects/FAST_pipeline/Sun17_A_01/M12/Calibrated/Sun17_A_01_arcdrift-M12_N_0003_211010_104444to211010_104448_calibrated_icrs_Tmb.fits\n",
      "Doing Doppler Tracking!\n"
     ]
    },
    {
     "name": "stderr",
     "output_type": "stream",
     "text": [
      "WARNING: NoVelocityWarning: No velocity defined on frame, assuming (0., 0., 0.) km / s. [astropy.coordinates.spectral_coordinate]\n",
      "WARNING: NoDistanceWarning: Distance on coordinate object is dimensionless, an arbitrary distance value of 1000000.0 kpc will be set instead. [astropy.coordinates.spectral_coordinate]\n"
     ]
    },
    {
     "name": "stdout",
     "output_type": "stream",
     "text": [
      "Gridding /bb8/lingrui/my_projects/FAST_pipeline/Sun17_A_01/M13/Calibrated/Sun17_A_01_arcdrift-M13_N_0001_211010_103100to211010_103752_calibrated_icrs_Tmb.fits\n",
      "Doing Doppler Tracking!\n"
     ]
    },
    {
     "name": "stderr",
     "output_type": "stream",
     "text": [
      "WARNING: NoVelocityWarning: No velocity defined on frame, assuming (0., 0., 0.) km / s. [astropy.coordinates.spectral_coordinate]\n",
      "WARNING: NoDistanceWarning: Distance on coordinate object is dimensionless, an arbitrary distance value of 1000000.0 kpc will be set instead. [astropy.coordinates.spectral_coordinate]\n"
     ]
    },
    {
     "name": "stdout",
     "output_type": "stream",
     "text": [
      "Gridding /bb8/lingrui/my_projects/FAST_pipeline/Sun17_A_01/M13/Calibrated/Sun17_A_01_arcdrift-M13_N_0002_211010_103752to211010_104444_calibrated_icrs_Tmb.fits\n",
      "Doing Doppler Tracking!\n"
     ]
    },
    {
     "name": "stderr",
     "output_type": "stream",
     "text": [
      "WARNING: NoVelocityWarning: No velocity defined on frame, assuming (0., 0., 0.) km / s. [astropy.coordinates.spectral_coordinate]\n",
      "WARNING: NoDistanceWarning: Distance on coordinate object is dimensionless, an arbitrary distance value of 1000000.0 kpc will be set instead. [astropy.coordinates.spectral_coordinate]\n"
     ]
    },
    {
     "name": "stdout",
     "output_type": "stream",
     "text": [
      "Gridding /bb8/lingrui/my_projects/FAST_pipeline/Sun17_A_01/M13/Calibrated/Sun17_A_01_arcdrift-M13_N_0003_211010_104444to211010_104448_calibrated_icrs_Tmb.fits\n",
      "Doing Doppler Tracking!\n"
     ]
    },
    {
     "name": "stderr",
     "output_type": "stream",
     "text": [
      "WARNING: NoVelocityWarning: No velocity defined on frame, assuming (0., 0., 0.) km / s. [astropy.coordinates.spectral_coordinate]\n",
      "WARNING: NoDistanceWarning: Distance on coordinate object is dimensionless, an arbitrary distance value of 1000000.0 kpc will be set instead. [astropy.coordinates.spectral_coordinate]\n"
     ]
    },
    {
     "name": "stdout",
     "output_type": "stream",
     "text": [
      "Gridding /bb8/lingrui/my_projects/FAST_pipeline/Sun17_A_01/M14/Calibrated/Sun17_A_01_arcdrift-M14_N_0001_211010_103100to211010_103752_calibrated_icrs_Tmb.fits\n",
      "Doing Doppler Tracking!\n"
     ]
    },
    {
     "name": "stderr",
     "output_type": "stream",
     "text": [
      "WARNING: NoVelocityWarning: No velocity defined on frame, assuming (0., 0., 0.) km / s. [astropy.coordinates.spectral_coordinate]\n",
      "WARNING: NoDistanceWarning: Distance on coordinate object is dimensionless, an arbitrary distance value of 1000000.0 kpc will be set instead. [astropy.coordinates.spectral_coordinate]\n"
     ]
    },
    {
     "name": "stdout",
     "output_type": "stream",
     "text": [
      "Gridding /bb8/lingrui/my_projects/FAST_pipeline/Sun17_A_01/M14/Calibrated/Sun17_A_01_arcdrift-M14_N_0002_211010_103752to211010_104444_calibrated_icrs_Tmb.fits\n",
      "Doing Doppler Tracking!\n"
     ]
    },
    {
     "name": "stderr",
     "output_type": "stream",
     "text": [
      "WARNING: NoVelocityWarning: No velocity defined on frame, assuming (0., 0., 0.) km / s. [astropy.coordinates.spectral_coordinate]\n",
      "WARNING: NoDistanceWarning: Distance on coordinate object is dimensionless, an arbitrary distance value of 1000000.0 kpc will be set instead. [astropy.coordinates.spectral_coordinate]\n"
     ]
    },
    {
     "name": "stdout",
     "output_type": "stream",
     "text": [
      "Gridding /bb8/lingrui/my_projects/FAST_pipeline/Sun17_A_01/M14/Calibrated/Sun17_A_01_arcdrift-M14_N_0003_211010_104444to211010_104448_calibrated_icrs_Tmb.fits\n",
      "Doing Doppler Tracking!\n"
     ]
    },
    {
     "name": "stderr",
     "output_type": "stream",
     "text": [
      "WARNING: NoVelocityWarning: No velocity defined on frame, assuming (0., 0., 0.) km / s. [astropy.coordinates.spectral_coordinate]\n",
      "WARNING: NoDistanceWarning: Distance on coordinate object is dimensionless, an arbitrary distance value of 1000000.0 kpc will be set instead. [astropy.coordinates.spectral_coordinate]\n"
     ]
    },
    {
     "name": "stdout",
     "output_type": "stream",
     "text": [
      "Gridding /bb8/lingrui/my_projects/FAST_pipeline/Sun17_A_01/M15/Calibrated/Sun17_A_01_arcdrift-M15_N_0001_211010_103100to211010_103752_calibrated_icrs_Tmb.fits\n",
      "Doing Doppler Tracking!\n"
     ]
    },
    {
     "name": "stderr",
     "output_type": "stream",
     "text": [
      "WARNING: NoVelocityWarning: No velocity defined on frame, assuming (0., 0., 0.) km / s. [astropy.coordinates.spectral_coordinate]\n",
      "WARNING: NoDistanceWarning: Distance on coordinate object is dimensionless, an arbitrary distance value of 1000000.0 kpc will be set instead. [astropy.coordinates.spectral_coordinate]\n"
     ]
    },
    {
     "name": "stdout",
     "output_type": "stream",
     "text": [
      "Gridding /bb8/lingrui/my_projects/FAST_pipeline/Sun17_A_01/M15/Calibrated/Sun17_A_01_arcdrift-M15_N_0002_211010_103752to211010_104444_calibrated_icrs_Tmb.fits\n",
      "Doing Doppler Tracking!\n"
     ]
    },
    {
     "name": "stderr",
     "output_type": "stream",
     "text": [
      "WARNING: NoVelocityWarning: No velocity defined on frame, assuming (0., 0., 0.) km / s. [astropy.coordinates.spectral_coordinate]\n",
      "WARNING: NoDistanceWarning: Distance on coordinate object is dimensionless, an arbitrary distance value of 1000000.0 kpc will be set instead. [astropy.coordinates.spectral_coordinate]\n"
     ]
    },
    {
     "name": "stdout",
     "output_type": "stream",
     "text": [
      "Gridding /bb8/lingrui/my_projects/FAST_pipeline/Sun17_A_01/M15/Calibrated/Sun17_A_01_arcdrift-M15_N_0003_211010_104444to211010_104448_calibrated_icrs_Tmb.fits\n",
      "Doing Doppler Tracking!\n"
     ]
    },
    {
     "name": "stderr",
     "output_type": "stream",
     "text": [
      "WARNING: NoVelocityWarning: No velocity defined on frame, assuming (0., 0., 0.) km / s. [astropy.coordinates.spectral_coordinate]\n",
      "WARNING: NoDistanceWarning: Distance on coordinate object is dimensionless, an arbitrary distance value of 1000000.0 kpc will be set instead. [astropy.coordinates.spectral_coordinate]\n"
     ]
    },
    {
     "name": "stdout",
     "output_type": "stream",
     "text": [
      "Gridding /bb8/lingrui/my_projects/FAST_pipeline/Sun17_A_01/M16/Calibrated/Sun17_A_01_arcdrift-M16_N_0001_211010_103100to211010_103752_calibrated_icrs_Tmb.fits\n",
      "Doing Doppler Tracking!\n"
     ]
    },
    {
     "name": "stderr",
     "output_type": "stream",
     "text": [
      "WARNING: NoVelocityWarning: No velocity defined on frame, assuming (0., 0., 0.) km / s. [astropy.coordinates.spectral_coordinate]\n",
      "WARNING: NoDistanceWarning: Distance on coordinate object is dimensionless, an arbitrary distance value of 1000000.0 kpc will be set instead. [astropy.coordinates.spectral_coordinate]\n"
     ]
    },
    {
     "name": "stdout",
     "output_type": "stream",
     "text": [
      "Gridding /bb8/lingrui/my_projects/FAST_pipeline/Sun17_A_01/M16/Calibrated/Sun17_A_01_arcdrift-M16_N_0002_211010_103752to211010_104444_calibrated_icrs_Tmb.fits\n",
      "Doing Doppler Tracking!\n"
     ]
    },
    {
     "name": "stderr",
     "output_type": "stream",
     "text": [
      "WARNING: NoVelocityWarning: No velocity defined on frame, assuming (0., 0., 0.) km / s. [astropy.coordinates.spectral_coordinate]\n",
      "WARNING: NoDistanceWarning: Distance on coordinate object is dimensionless, an arbitrary distance value of 1000000.0 kpc will be set instead. [astropy.coordinates.spectral_coordinate]\n"
     ]
    },
    {
     "name": "stdout",
     "output_type": "stream",
     "text": [
      "Gridding /bb8/lingrui/my_projects/FAST_pipeline/Sun17_A_01/M16/Calibrated/Sun17_A_01_arcdrift-M16_N_0003_211010_104444to211010_104448_calibrated_icrs_Tmb.fits\n",
      "Doing Doppler Tracking!\n"
     ]
    },
    {
     "name": "stderr",
     "output_type": "stream",
     "text": [
      "WARNING: NoVelocityWarning: No velocity defined on frame, assuming (0., 0., 0.) km / s. [astropy.coordinates.spectral_coordinate]\n",
      "WARNING: NoDistanceWarning: Distance on coordinate object is dimensionless, an arbitrary distance value of 1000000.0 kpc will be set instead. [astropy.coordinates.spectral_coordinate]\n"
     ]
    },
    {
     "name": "stdout",
     "output_type": "stream",
     "text": [
      "Gridding /bb8/lingrui/my_projects/FAST_pipeline/Sun17_A_01/M17/Calibrated/Sun17_A_01_arcdrift-M17_N_0001_211010_103100to211010_103752_calibrated_icrs_Tmb.fits\n",
      "Doing Doppler Tracking!\n"
     ]
    },
    {
     "name": "stderr",
     "output_type": "stream",
     "text": [
      "WARNING: NoVelocityWarning: No velocity defined on frame, assuming (0., 0., 0.) km / s. [astropy.coordinates.spectral_coordinate]\n",
      "WARNING: NoDistanceWarning: Distance on coordinate object is dimensionless, an arbitrary distance value of 1000000.0 kpc will be set instead. [astropy.coordinates.spectral_coordinate]\n"
     ]
    },
    {
     "name": "stdout",
     "output_type": "stream",
     "text": [
      "Gridding /bb8/lingrui/my_projects/FAST_pipeline/Sun17_A_01/M17/Calibrated/Sun17_A_01_arcdrift-M17_N_0002_211010_103752to211010_104444_calibrated_icrs_Tmb.fits\n",
      "Doing Doppler Tracking!\n"
     ]
    },
    {
     "name": "stderr",
     "output_type": "stream",
     "text": [
      "WARNING: NoVelocityWarning: No velocity defined on frame, assuming (0., 0., 0.) km / s. [astropy.coordinates.spectral_coordinate]\n",
      "WARNING: NoDistanceWarning: Distance on coordinate object is dimensionless, an arbitrary distance value of 1000000.0 kpc will be set instead. [astropy.coordinates.spectral_coordinate]\n"
     ]
    },
    {
     "name": "stdout",
     "output_type": "stream",
     "text": [
      "Gridding /bb8/lingrui/my_projects/FAST_pipeline/Sun17_A_01/M17/Calibrated/Sun17_A_01_arcdrift-M17_N_0003_211010_104444to211010_104448_calibrated_icrs_Tmb.fits\n",
      "Doing Doppler Tracking!\n"
     ]
    },
    {
     "name": "stderr",
     "output_type": "stream",
     "text": [
      "WARNING: NoVelocityWarning: No velocity defined on frame, assuming (0., 0., 0.) km / s. [astropy.coordinates.spectral_coordinate]\n",
      "WARNING: NoDistanceWarning: Distance on coordinate object is dimensionless, an arbitrary distance value of 1000000.0 kpc will be set instead. [astropy.coordinates.spectral_coordinate]\n"
     ]
    },
    {
     "name": "stdout",
     "output_type": "stream",
     "text": [
      "Gridding /bb8/lingrui/my_projects/FAST_pipeline/Sun17_A_01/M18/Calibrated/Sun17_A_01_arcdrift-M18_N_0001_211010_103100to211010_103752_calibrated_icrs_Tmb.fits\n",
      "Doing Doppler Tracking!\n"
     ]
    },
    {
     "name": "stderr",
     "output_type": "stream",
     "text": [
      "WARNING: NoVelocityWarning: No velocity defined on frame, assuming (0., 0., 0.) km / s. [astropy.coordinates.spectral_coordinate]\n",
      "WARNING: NoDistanceWarning: Distance on coordinate object is dimensionless, an arbitrary distance value of 1000000.0 kpc will be set instead. [astropy.coordinates.spectral_coordinate]\n"
     ]
    },
    {
     "name": "stdout",
     "output_type": "stream",
     "text": [
      "Gridding /bb8/lingrui/my_projects/FAST_pipeline/Sun17_A_01/M18/Calibrated/Sun17_A_01_arcdrift-M18_N_0002_211010_103752to211010_104444_calibrated_icrs_Tmb.fits\n",
      "Doing Doppler Tracking!\n"
     ]
    },
    {
     "name": "stderr",
     "output_type": "stream",
     "text": [
      "WARNING: NoVelocityWarning: No velocity defined on frame, assuming (0., 0., 0.) km / s. [astropy.coordinates.spectral_coordinate]\n",
      "WARNING: NoDistanceWarning: Distance on coordinate object is dimensionless, an arbitrary distance value of 1000000.0 kpc will be set instead. [astropy.coordinates.spectral_coordinate]\n"
     ]
    },
    {
     "name": "stdout",
     "output_type": "stream",
     "text": [
      "Gridding /bb8/lingrui/my_projects/FAST_pipeline/Sun17_A_01/M18/Calibrated/Sun17_A_01_arcdrift-M18_N_0003_211010_104444to211010_104448_calibrated_icrs_Tmb.fits\n",
      "Doing Doppler Tracking!\n"
     ]
    },
    {
     "name": "stderr",
     "output_type": "stream",
     "text": [
      "WARNING: NoVelocityWarning: No velocity defined on frame, assuming (0., 0., 0.) km / s. [astropy.coordinates.spectral_coordinate]\n",
      "WARNING: NoDistanceWarning: Distance on coordinate object is dimensionless, an arbitrary distance value of 1000000.0 kpc will be set instead. [astropy.coordinates.spectral_coordinate]\n"
     ]
    },
    {
     "name": "stdout",
     "output_type": "stream",
     "text": [
      "Gridding /bb8/lingrui/my_projects/FAST_pipeline/Sun17_A_01/M19/Calibrated/Sun17_A_01_arcdrift-M19_N_0001_211010_103100to211010_103752_calibrated_icrs_Tmb.fits\n",
      "Doing Doppler Tracking!\n"
     ]
    },
    {
     "name": "stderr",
     "output_type": "stream",
     "text": [
      "WARNING: NoVelocityWarning: No velocity defined on frame, assuming (0., 0., 0.) km / s. [astropy.coordinates.spectral_coordinate]\n",
      "WARNING: NoDistanceWarning: Distance on coordinate object is dimensionless, an arbitrary distance value of 1000000.0 kpc will be set instead. [astropy.coordinates.spectral_coordinate]\n"
     ]
    },
    {
     "name": "stdout",
     "output_type": "stream",
     "text": [
      "Gridding /bb8/lingrui/my_projects/FAST_pipeline/Sun17_A_01/M19/Calibrated/Sun17_A_01_arcdrift-M19_N_0002_211010_103752to211010_104444_calibrated_icrs_Tmb.fits\n",
      "Doing Doppler Tracking!\n"
     ]
    },
    {
     "name": "stderr",
     "output_type": "stream",
     "text": [
      "WARNING: NoVelocityWarning: No velocity defined on frame, assuming (0., 0., 0.) km / s. [astropy.coordinates.spectral_coordinate]\n",
      "WARNING: NoDistanceWarning: Distance on coordinate object is dimensionless, an arbitrary distance value of 1000000.0 kpc will be set instead. [astropy.coordinates.spectral_coordinate]\n"
     ]
    },
    {
     "name": "stdout",
     "output_type": "stream",
     "text": [
      "Gridding /bb8/lingrui/my_projects/FAST_pipeline/Sun17_A_01/M19/Calibrated/Sun17_A_01_arcdrift-M19_N_0003_211010_104444to211010_104448_calibrated_icrs_Tmb.fits\n",
      "Doing Doppler Tracking!\n"
     ]
    },
    {
     "name": "stderr",
     "output_type": "stream",
     "text": [
      "WARNING: NoVelocityWarning: No velocity defined on frame, assuming (0., 0., 0.) km / s. [astropy.coordinates.spectral_coordinate]\n",
      "WARNING: NoDistanceWarning: Distance on coordinate object is dimensionless, an arbitrary distance value of 1000000.0 kpc will be set instead. [astropy.coordinates.spectral_coordinate]\n"
     ]
    },
    {
     "name": "stdout",
     "output_type": "stream",
     "text": [
      "Gridding /bb8/lingrui/my_projects/FAST_pipeline/Sun17_A_02/M01/Calibrated/Sun17_A_02_arcdrift-M01_N_0001_211010_105700to211010_110352_calibrated_icrs_Tmb.fits\n",
      "Doing Doppler Tracking!\n"
     ]
    },
    {
     "name": "stderr",
     "output_type": "stream",
     "text": [
      "WARNING: NoVelocityWarning: No velocity defined on frame, assuming (0., 0., 0.) km / s. [astropy.coordinates.spectral_coordinate]\n",
      "WARNING: NoDistanceWarning: Distance on coordinate object is dimensionless, an arbitrary distance value of 1000000.0 kpc will be set instead. [astropy.coordinates.spectral_coordinate]\n"
     ]
    },
    {
     "name": "stdout",
     "output_type": "stream",
     "text": [
      "Gridding /bb8/lingrui/my_projects/FAST_pipeline/Sun17_A_02/M01/Calibrated/Sun17_A_02_arcdrift-M01_N_0002_211010_110352to211010_111044_calibrated_icrs_Tmb.fits\n",
      "Doing Doppler Tracking!\n"
     ]
    },
    {
     "name": "stderr",
     "output_type": "stream",
     "text": [
      "WARNING: NoVelocityWarning: No velocity defined on frame, assuming (0., 0., 0.) km / s. [astropy.coordinates.spectral_coordinate]\n",
      "WARNING: NoDistanceWarning: Distance on coordinate object is dimensionless, an arbitrary distance value of 1000000.0 kpc will be set instead. [astropy.coordinates.spectral_coordinate]\n"
     ]
    },
    {
     "name": "stdout",
     "output_type": "stream",
     "text": [
      "Gridding /bb8/lingrui/my_projects/FAST_pipeline/Sun17_A_02/M01/Calibrated/Sun17_A_02_arcdrift-M01_N_0003_211010_111044to211010_111048_calibrated_icrs_Tmb.fits\n",
      "Doing Doppler Tracking!\n"
     ]
    },
    {
     "name": "stderr",
     "output_type": "stream",
     "text": [
      "WARNING: NoVelocityWarning: No velocity defined on frame, assuming (0., 0., 0.) km / s. [astropy.coordinates.spectral_coordinate]\n",
      "WARNING: NoDistanceWarning: Distance on coordinate object is dimensionless, an arbitrary distance value of 1000000.0 kpc will be set instead. [astropy.coordinates.spectral_coordinate]\n"
     ]
    },
    {
     "name": "stdout",
     "output_type": "stream",
     "text": [
      "Gridding /bb8/lingrui/my_projects/FAST_pipeline/Sun17_A_02/M02/Calibrated/Sun17_A_02_arcdrift-M02_N_0001_211010_105700to211010_110352_calibrated_icrs_Tmb.fits\n",
      "Doing Doppler Tracking!\n"
     ]
    },
    {
     "name": "stderr",
     "output_type": "stream",
     "text": [
      "WARNING: NoVelocityWarning: No velocity defined on frame, assuming (0., 0., 0.) km / s. [astropy.coordinates.spectral_coordinate]\n",
      "WARNING: NoDistanceWarning: Distance on coordinate object is dimensionless, an arbitrary distance value of 1000000.0 kpc will be set instead. [astropy.coordinates.spectral_coordinate]\n"
     ]
    },
    {
     "name": "stdout",
     "output_type": "stream",
     "text": [
      "Gridding /bb8/lingrui/my_projects/FAST_pipeline/Sun17_A_02/M02/Calibrated/Sun17_A_02_arcdrift-M02_N_0002_211010_110352to211010_111044_calibrated_icrs_Tmb.fits\n",
      "Doing Doppler Tracking!\n"
     ]
    },
    {
     "name": "stderr",
     "output_type": "stream",
     "text": [
      "WARNING: NoVelocityWarning: No velocity defined on frame, assuming (0., 0., 0.) km / s. [astropy.coordinates.spectral_coordinate]\n",
      "WARNING: NoDistanceWarning: Distance on coordinate object is dimensionless, an arbitrary distance value of 1000000.0 kpc will be set instead. [astropy.coordinates.spectral_coordinate]\n"
     ]
    },
    {
     "name": "stdout",
     "output_type": "stream",
     "text": [
      "Gridding /bb8/lingrui/my_projects/FAST_pipeline/Sun17_A_02/M02/Calibrated/Sun17_A_02_arcdrift-M02_N_0003_211010_111044to211010_111048_calibrated_icrs_Tmb.fits\n",
      "Doing Doppler Tracking!\n"
     ]
    },
    {
     "name": "stderr",
     "output_type": "stream",
     "text": [
      "WARNING: NoVelocityWarning: No velocity defined on frame, assuming (0., 0., 0.) km / s. [astropy.coordinates.spectral_coordinate]\n",
      "WARNING: NoDistanceWarning: Distance on coordinate object is dimensionless, an arbitrary distance value of 1000000.0 kpc will be set instead. [astropy.coordinates.spectral_coordinate]\n"
     ]
    },
    {
     "name": "stdout",
     "output_type": "stream",
     "text": [
      "Gridding /bb8/lingrui/my_projects/FAST_pipeline/Sun17_A_02/M03/Calibrated/Sun17_A_02_arcdrift-M03_N_0001_211010_105700to211010_110352_calibrated_icrs_Tmb.fits\n",
      "Doing Doppler Tracking!\n"
     ]
    },
    {
     "name": "stderr",
     "output_type": "stream",
     "text": [
      "WARNING: NoVelocityWarning: No velocity defined on frame, assuming (0., 0., 0.) km / s. [astropy.coordinates.spectral_coordinate]\n",
      "WARNING: NoDistanceWarning: Distance on coordinate object is dimensionless, an arbitrary distance value of 1000000.0 kpc will be set instead. [astropy.coordinates.spectral_coordinate]\n"
     ]
    },
    {
     "name": "stdout",
     "output_type": "stream",
     "text": [
      "Gridding /bb8/lingrui/my_projects/FAST_pipeline/Sun17_A_02/M03/Calibrated/Sun17_A_02_arcdrift-M03_N_0002_211010_110352to211010_111044_calibrated_icrs_Tmb.fits\n",
      "Doing Doppler Tracking!\n"
     ]
    },
    {
     "name": "stderr",
     "output_type": "stream",
     "text": [
      "WARNING: NoVelocityWarning: No velocity defined on frame, assuming (0., 0., 0.) km / s. [astropy.coordinates.spectral_coordinate]\n",
      "WARNING: NoDistanceWarning: Distance on coordinate object is dimensionless, an arbitrary distance value of 1000000.0 kpc will be set instead. [astropy.coordinates.spectral_coordinate]\n"
     ]
    },
    {
     "name": "stdout",
     "output_type": "stream",
     "text": [
      "Gridding /bb8/lingrui/my_projects/FAST_pipeline/Sun17_A_02/M03/Calibrated/Sun17_A_02_arcdrift-M03_N_0003_211010_111044to211010_111048_calibrated_icrs_Tmb.fits\n",
      "Doing Doppler Tracking!\n"
     ]
    },
    {
     "name": "stderr",
     "output_type": "stream",
     "text": [
      "WARNING: NoVelocityWarning: No velocity defined on frame, assuming (0., 0., 0.) km / s. [astropy.coordinates.spectral_coordinate]\n",
      "WARNING: NoDistanceWarning: Distance on coordinate object is dimensionless, an arbitrary distance value of 1000000.0 kpc will be set instead. [astropy.coordinates.spectral_coordinate]\n"
     ]
    },
    {
     "name": "stdout",
     "output_type": "stream",
     "text": [
      "Gridding /bb8/lingrui/my_projects/FAST_pipeline/Sun17_A_02/M04/Calibrated/Sun17_A_02_arcdrift-M04_N_0001_211010_105700to211010_110352_calibrated_icrs_Tmb.fits\n",
      "Doing Doppler Tracking!\n"
     ]
    },
    {
     "name": "stderr",
     "output_type": "stream",
     "text": [
      "WARNING: NoVelocityWarning: No velocity defined on frame, assuming (0., 0., 0.) km / s. [astropy.coordinates.spectral_coordinate]\n",
      "WARNING: NoDistanceWarning: Distance on coordinate object is dimensionless, an arbitrary distance value of 1000000.0 kpc will be set instead. [astropy.coordinates.spectral_coordinate]\n"
     ]
    },
    {
     "name": "stdout",
     "output_type": "stream",
     "text": [
      "Gridding /bb8/lingrui/my_projects/FAST_pipeline/Sun17_A_02/M04/Calibrated/Sun17_A_02_arcdrift-M04_N_0002_211010_110352to211010_111044_calibrated_icrs_Tmb.fits\n",
      "Doing Doppler Tracking!\n"
     ]
    },
    {
     "name": "stderr",
     "output_type": "stream",
     "text": [
      "WARNING: NoVelocityWarning: No velocity defined on frame, assuming (0., 0., 0.) km / s. [astropy.coordinates.spectral_coordinate]\n",
      "WARNING: NoDistanceWarning: Distance on coordinate object is dimensionless, an arbitrary distance value of 1000000.0 kpc will be set instead. [astropy.coordinates.spectral_coordinate]\n"
     ]
    },
    {
     "name": "stdout",
     "output_type": "stream",
     "text": [
      "Gridding /bb8/lingrui/my_projects/FAST_pipeline/Sun17_A_02/M04/Calibrated/Sun17_A_02_arcdrift-M04_N_0003_211010_111044to211010_111048_calibrated_icrs_Tmb.fits\n",
      "Doing Doppler Tracking!\n"
     ]
    },
    {
     "name": "stderr",
     "output_type": "stream",
     "text": [
      "WARNING: NoVelocityWarning: No velocity defined on frame, assuming (0., 0., 0.) km / s. [astropy.coordinates.spectral_coordinate]\n",
      "WARNING: NoDistanceWarning: Distance on coordinate object is dimensionless, an arbitrary distance value of 1000000.0 kpc will be set instead. [astropy.coordinates.spectral_coordinate]\n"
     ]
    },
    {
     "name": "stdout",
     "output_type": "stream",
     "text": [
      "Gridding /bb8/lingrui/my_projects/FAST_pipeline/Sun17_A_02/M05/Calibrated/Sun17_A_02_arcdrift-M05_N_0001_211010_105700to211010_110352_calibrated_icrs_Tmb.fits\n",
      "Doing Doppler Tracking!\n"
     ]
    },
    {
     "name": "stderr",
     "output_type": "stream",
     "text": [
      "WARNING: NoVelocityWarning: No velocity defined on frame, assuming (0., 0., 0.) km / s. [astropy.coordinates.spectral_coordinate]\n",
      "WARNING: NoDistanceWarning: Distance on coordinate object is dimensionless, an arbitrary distance value of 1000000.0 kpc will be set instead. [astropy.coordinates.spectral_coordinate]\n"
     ]
    },
    {
     "name": "stdout",
     "output_type": "stream",
     "text": [
      "Gridding /bb8/lingrui/my_projects/FAST_pipeline/Sun17_A_02/M05/Calibrated/Sun17_A_02_arcdrift-M05_N_0002_211010_110352to211010_111044_calibrated_icrs_Tmb.fits\n",
      "Doing Doppler Tracking!\n"
     ]
    },
    {
     "name": "stderr",
     "output_type": "stream",
     "text": [
      "WARNING: NoVelocityWarning: No velocity defined on frame, assuming (0., 0., 0.) km / s. [astropy.coordinates.spectral_coordinate]\n",
      "WARNING: NoDistanceWarning: Distance on coordinate object is dimensionless, an arbitrary distance value of 1000000.0 kpc will be set instead. [astropy.coordinates.spectral_coordinate]\n"
     ]
    },
    {
     "name": "stdout",
     "output_type": "stream",
     "text": [
      "Gridding /bb8/lingrui/my_projects/FAST_pipeline/Sun17_A_02/M05/Calibrated/Sun17_A_02_arcdrift-M05_N_0003_211010_111044to211010_111048_calibrated_icrs_Tmb.fits\n",
      "Doing Doppler Tracking!\n"
     ]
    },
    {
     "name": "stderr",
     "output_type": "stream",
     "text": [
      "WARNING: NoVelocityWarning: No velocity defined on frame, assuming (0., 0., 0.) km / s. [astropy.coordinates.spectral_coordinate]\n",
      "WARNING: NoDistanceWarning: Distance on coordinate object is dimensionless, an arbitrary distance value of 1000000.0 kpc will be set instead. [astropy.coordinates.spectral_coordinate]\n"
     ]
    },
    {
     "name": "stdout",
     "output_type": "stream",
     "text": [
      "Gridding /bb8/lingrui/my_projects/FAST_pipeline/Sun17_A_02/M06/Calibrated/Sun17_A_02_arcdrift-M06_N_0001_211010_105700to211010_110352_calibrated_icrs_Tmb.fits\n",
      "Doing Doppler Tracking!\n"
     ]
    },
    {
     "name": "stderr",
     "output_type": "stream",
     "text": [
      "WARNING: NoVelocityWarning: No velocity defined on frame, assuming (0., 0., 0.) km / s. [astropy.coordinates.spectral_coordinate]\n",
      "WARNING: NoDistanceWarning: Distance on coordinate object is dimensionless, an arbitrary distance value of 1000000.0 kpc will be set instead. [astropy.coordinates.spectral_coordinate]\n"
     ]
    },
    {
     "name": "stdout",
     "output_type": "stream",
     "text": [
      "Gridding /bb8/lingrui/my_projects/FAST_pipeline/Sun17_A_02/M06/Calibrated/Sun17_A_02_arcdrift-M06_N_0002_211010_110352to211010_111044_calibrated_icrs_Tmb.fits\n",
      "Doing Doppler Tracking!\n"
     ]
    },
    {
     "name": "stderr",
     "output_type": "stream",
     "text": [
      "WARNING: NoVelocityWarning: No velocity defined on frame, assuming (0., 0., 0.) km / s. [astropy.coordinates.spectral_coordinate]\n",
      "WARNING: NoDistanceWarning: Distance on coordinate object is dimensionless, an arbitrary distance value of 1000000.0 kpc will be set instead. [astropy.coordinates.spectral_coordinate]\n"
     ]
    },
    {
     "name": "stdout",
     "output_type": "stream",
     "text": [
      "Gridding /bb8/lingrui/my_projects/FAST_pipeline/Sun17_A_02/M06/Calibrated/Sun17_A_02_arcdrift-M06_N_0003_211010_111044to211010_111048_calibrated_icrs_Tmb.fits\n",
      "Doing Doppler Tracking!\n"
     ]
    },
    {
     "name": "stderr",
     "output_type": "stream",
     "text": [
      "WARNING: NoVelocityWarning: No velocity defined on frame, assuming (0., 0., 0.) km / s. [astropy.coordinates.spectral_coordinate]\n",
      "WARNING: NoDistanceWarning: Distance on coordinate object is dimensionless, an arbitrary distance value of 1000000.0 kpc will be set instead. [astropy.coordinates.spectral_coordinate]\n"
     ]
    },
    {
     "name": "stdout",
     "output_type": "stream",
     "text": [
      "Gridding /bb8/lingrui/my_projects/FAST_pipeline/Sun17_A_02/M07/Calibrated/Sun17_A_02_arcdrift-M07_N_0001_211010_105700to211010_110352_calibrated_icrs_Tmb.fits\n",
      "Doing Doppler Tracking!\n"
     ]
    },
    {
     "name": "stderr",
     "output_type": "stream",
     "text": [
      "WARNING: NoVelocityWarning: No velocity defined on frame, assuming (0., 0., 0.) km / s. [astropy.coordinates.spectral_coordinate]\n",
      "WARNING: NoDistanceWarning: Distance on coordinate object is dimensionless, an arbitrary distance value of 1000000.0 kpc will be set instead. [astropy.coordinates.spectral_coordinate]\n"
     ]
    },
    {
     "name": "stdout",
     "output_type": "stream",
     "text": [
      "Gridding /bb8/lingrui/my_projects/FAST_pipeline/Sun17_A_02/M07/Calibrated/Sun17_A_02_arcdrift-M07_N_0002_211010_110352to211010_111044_calibrated_icrs_Tmb.fits\n",
      "Doing Doppler Tracking!\n"
     ]
    },
    {
     "name": "stderr",
     "output_type": "stream",
     "text": [
      "WARNING: NoVelocityWarning: No velocity defined on frame, assuming (0., 0., 0.) km / s. [astropy.coordinates.spectral_coordinate]\n",
      "WARNING: NoDistanceWarning: Distance on coordinate object is dimensionless, an arbitrary distance value of 1000000.0 kpc will be set instead. [astropy.coordinates.spectral_coordinate]\n"
     ]
    },
    {
     "name": "stdout",
     "output_type": "stream",
     "text": [
      "Gridding /bb8/lingrui/my_projects/FAST_pipeline/Sun17_A_02/M07/Calibrated/Sun17_A_02_arcdrift-M07_N_0003_211010_111044to211010_111048_calibrated_icrs_Tmb.fits\n",
      "Doing Doppler Tracking!\n"
     ]
    },
    {
     "name": "stderr",
     "output_type": "stream",
     "text": [
      "WARNING: NoVelocityWarning: No velocity defined on frame, assuming (0., 0., 0.) km / s. [astropy.coordinates.spectral_coordinate]\n",
      "WARNING: NoDistanceWarning: Distance on coordinate object is dimensionless, an arbitrary distance value of 1000000.0 kpc will be set instead. [astropy.coordinates.spectral_coordinate]\n"
     ]
    },
    {
     "name": "stdout",
     "output_type": "stream",
     "text": [
      "Gridding /bb8/lingrui/my_projects/FAST_pipeline/Sun17_A_02/M08/Calibrated/Sun17_A_02_arcdrift-M08_N_0001_211010_105700to211010_110352_calibrated_icrs_Tmb.fits\n",
      "Doing Doppler Tracking!\n"
     ]
    },
    {
     "name": "stderr",
     "output_type": "stream",
     "text": [
      "WARNING: NoVelocityWarning: No velocity defined on frame, assuming (0., 0., 0.) km / s. [astropy.coordinates.spectral_coordinate]\n",
      "WARNING: NoDistanceWarning: Distance on coordinate object is dimensionless, an arbitrary distance value of 1000000.0 kpc will be set instead. [astropy.coordinates.spectral_coordinate]\n"
     ]
    },
    {
     "name": "stdout",
     "output_type": "stream",
     "text": [
      "Gridding /bb8/lingrui/my_projects/FAST_pipeline/Sun17_A_02/M08/Calibrated/Sun17_A_02_arcdrift-M08_N_0002_211010_110352to211010_111044_calibrated_icrs_Tmb.fits\n",
      "Doing Doppler Tracking!\n"
     ]
    },
    {
     "name": "stderr",
     "output_type": "stream",
     "text": [
      "WARNING: NoVelocityWarning: No velocity defined on frame, assuming (0., 0., 0.) km / s. [astropy.coordinates.spectral_coordinate]\n",
      "WARNING: NoDistanceWarning: Distance on coordinate object is dimensionless, an arbitrary distance value of 1000000.0 kpc will be set instead. [astropy.coordinates.spectral_coordinate]\n"
     ]
    },
    {
     "name": "stdout",
     "output_type": "stream",
     "text": [
      "Gridding /bb8/lingrui/my_projects/FAST_pipeline/Sun17_A_02/M08/Calibrated/Sun17_A_02_arcdrift-M08_N_0003_211010_111044to211010_111048_calibrated_icrs_Tmb.fits\n",
      "Doing Doppler Tracking!\n"
     ]
    },
    {
     "name": "stderr",
     "output_type": "stream",
     "text": [
      "WARNING: NoVelocityWarning: No velocity defined on frame, assuming (0., 0., 0.) km / s. [astropy.coordinates.spectral_coordinate]\n",
      "WARNING: NoDistanceWarning: Distance on coordinate object is dimensionless, an arbitrary distance value of 1000000.0 kpc will be set instead. [astropy.coordinates.spectral_coordinate]\n"
     ]
    },
    {
     "name": "stdout",
     "output_type": "stream",
     "text": [
      "Gridding /bb8/lingrui/my_projects/FAST_pipeline/Sun17_A_02/M09/Calibrated/Sun17_A_02_arcdrift-M09_N_0001_211010_105700to211010_110352_calibrated_icrs_Tmb.fits\n",
      "Doing Doppler Tracking!\n"
     ]
    },
    {
     "name": "stderr",
     "output_type": "stream",
     "text": [
      "WARNING: NoVelocityWarning: No velocity defined on frame, assuming (0., 0., 0.) km / s. [astropy.coordinates.spectral_coordinate]\n",
      "WARNING: NoDistanceWarning: Distance on coordinate object is dimensionless, an arbitrary distance value of 1000000.0 kpc will be set instead. [astropy.coordinates.spectral_coordinate]\n"
     ]
    },
    {
     "name": "stdout",
     "output_type": "stream",
     "text": [
      "Gridding /bb8/lingrui/my_projects/FAST_pipeline/Sun17_A_02/M09/Calibrated/Sun17_A_02_arcdrift-M09_N_0002_211010_110352to211010_111044_calibrated_icrs_Tmb.fits\n",
      "Doing Doppler Tracking!\n"
     ]
    },
    {
     "name": "stderr",
     "output_type": "stream",
     "text": [
      "WARNING: NoVelocityWarning: No velocity defined on frame, assuming (0., 0., 0.) km / s. [astropy.coordinates.spectral_coordinate]\n",
      "WARNING: NoDistanceWarning: Distance on coordinate object is dimensionless, an arbitrary distance value of 1000000.0 kpc will be set instead. [astropy.coordinates.spectral_coordinate]\n"
     ]
    },
    {
     "name": "stdout",
     "output_type": "stream",
     "text": [
      "Gridding /bb8/lingrui/my_projects/FAST_pipeline/Sun17_A_02/M09/Calibrated/Sun17_A_02_arcdrift-M09_N_0003_211010_111044to211010_111048_calibrated_icrs_Tmb.fits\n",
      "Doing Doppler Tracking!\n"
     ]
    },
    {
     "name": "stderr",
     "output_type": "stream",
     "text": [
      "WARNING: NoVelocityWarning: No velocity defined on frame, assuming (0., 0., 0.) km / s. [astropy.coordinates.spectral_coordinate]\n",
      "WARNING: NoDistanceWarning: Distance on coordinate object is dimensionless, an arbitrary distance value of 1000000.0 kpc will be set instead. [astropy.coordinates.spectral_coordinate]\n"
     ]
    },
    {
     "name": "stdout",
     "output_type": "stream",
     "text": [
      "Gridding /bb8/lingrui/my_projects/FAST_pipeline/Sun17_A_02/M10/Calibrated/Sun17_A_02_arcdrift-M10_N_0001_211010_105700to211010_110352_calibrated_icrs_Tmb.fits\n",
      "Doing Doppler Tracking!\n"
     ]
    },
    {
     "name": "stderr",
     "output_type": "stream",
     "text": [
      "WARNING: NoVelocityWarning: No velocity defined on frame, assuming (0., 0., 0.) km / s. [astropy.coordinates.spectral_coordinate]\n",
      "WARNING: NoDistanceWarning: Distance on coordinate object is dimensionless, an arbitrary distance value of 1000000.0 kpc will be set instead. [astropy.coordinates.spectral_coordinate]\n"
     ]
    },
    {
     "name": "stdout",
     "output_type": "stream",
     "text": [
      "Gridding /bb8/lingrui/my_projects/FAST_pipeline/Sun17_A_02/M10/Calibrated/Sun17_A_02_arcdrift-M10_N_0002_211010_110352to211010_111044_calibrated_icrs_Tmb.fits\n",
      "Doing Doppler Tracking!\n"
     ]
    },
    {
     "name": "stderr",
     "output_type": "stream",
     "text": [
      "WARNING: NoVelocityWarning: No velocity defined on frame, assuming (0., 0., 0.) km / s. [astropy.coordinates.spectral_coordinate]\n",
      "WARNING: NoDistanceWarning: Distance on coordinate object is dimensionless, an arbitrary distance value of 1000000.0 kpc will be set instead. [astropy.coordinates.spectral_coordinate]\n"
     ]
    },
    {
     "name": "stdout",
     "output_type": "stream",
     "text": [
      "Gridding /bb8/lingrui/my_projects/FAST_pipeline/Sun17_A_02/M10/Calibrated/Sun17_A_02_arcdrift-M10_N_0003_211010_111044to211010_111048_calibrated_icrs_Tmb.fits\n",
      "Doing Doppler Tracking!\n"
     ]
    },
    {
     "name": "stderr",
     "output_type": "stream",
     "text": [
      "WARNING: NoVelocityWarning: No velocity defined on frame, assuming (0., 0., 0.) km / s. [astropy.coordinates.spectral_coordinate]\n",
      "WARNING: NoDistanceWarning: Distance on coordinate object is dimensionless, an arbitrary distance value of 1000000.0 kpc will be set instead. [astropy.coordinates.spectral_coordinate]\n"
     ]
    },
    {
     "name": "stdout",
     "output_type": "stream",
     "text": [
      "Gridding /bb8/lingrui/my_projects/FAST_pipeline/Sun17_A_02/M11/Calibrated/Sun17_A_02_arcdrift-M11_N_0001_211010_105700to211010_110352_calibrated_icrs_Tmb.fits\n",
      "Doing Doppler Tracking!\n"
     ]
    },
    {
     "name": "stderr",
     "output_type": "stream",
     "text": [
      "WARNING: NoVelocityWarning: No velocity defined on frame, assuming (0., 0., 0.) km / s. [astropy.coordinates.spectral_coordinate]\n",
      "WARNING: NoDistanceWarning: Distance on coordinate object is dimensionless, an arbitrary distance value of 1000000.0 kpc will be set instead. [astropy.coordinates.spectral_coordinate]\n"
     ]
    },
    {
     "name": "stdout",
     "output_type": "stream",
     "text": [
      "Gridding /bb8/lingrui/my_projects/FAST_pipeline/Sun17_A_02/M11/Calibrated/Sun17_A_02_arcdrift-M11_N_0002_211010_110352to211010_111044_calibrated_icrs_Tmb.fits\n",
      "Doing Doppler Tracking!\n"
     ]
    },
    {
     "name": "stderr",
     "output_type": "stream",
     "text": [
      "WARNING: NoVelocityWarning: No velocity defined on frame, assuming (0., 0., 0.) km / s. [astropy.coordinates.spectral_coordinate]\n",
      "WARNING: NoDistanceWarning: Distance on coordinate object is dimensionless, an arbitrary distance value of 1000000.0 kpc will be set instead. [astropy.coordinates.spectral_coordinate]\n"
     ]
    },
    {
     "name": "stdout",
     "output_type": "stream",
     "text": [
      "Gridding /bb8/lingrui/my_projects/FAST_pipeline/Sun17_A_02/M11/Calibrated/Sun17_A_02_arcdrift-M11_N_0003_211010_111044to211010_111048_calibrated_icrs_Tmb.fits\n",
      "Doing Doppler Tracking!\n"
     ]
    },
    {
     "name": "stderr",
     "output_type": "stream",
     "text": [
      "WARNING: NoVelocityWarning: No velocity defined on frame, assuming (0., 0., 0.) km / s. [astropy.coordinates.spectral_coordinate]\n",
      "WARNING: NoDistanceWarning: Distance on coordinate object is dimensionless, an arbitrary distance value of 1000000.0 kpc will be set instead. [astropy.coordinates.spectral_coordinate]\n"
     ]
    },
    {
     "name": "stdout",
     "output_type": "stream",
     "text": [
      "Gridding /bb8/lingrui/my_projects/FAST_pipeline/Sun17_A_02/M12/Calibrated/Sun17_A_02_arcdrift-M12_N_0001_211010_105700to211010_110352_calibrated_icrs_Tmb.fits\n",
      "Doing Doppler Tracking!\n"
     ]
    },
    {
     "name": "stderr",
     "output_type": "stream",
     "text": [
      "WARNING: NoVelocityWarning: No velocity defined on frame, assuming (0., 0., 0.) km / s. [astropy.coordinates.spectral_coordinate]\n",
      "WARNING: NoDistanceWarning: Distance on coordinate object is dimensionless, an arbitrary distance value of 1000000.0 kpc will be set instead. [astropy.coordinates.spectral_coordinate]\n"
     ]
    },
    {
     "name": "stdout",
     "output_type": "stream",
     "text": [
      "Gridding /bb8/lingrui/my_projects/FAST_pipeline/Sun17_A_02/M12/Calibrated/Sun17_A_02_arcdrift-M12_N_0002_211010_110352to211010_111044_calibrated_icrs_Tmb.fits\n",
      "Doing Doppler Tracking!\n"
     ]
    },
    {
     "name": "stderr",
     "output_type": "stream",
     "text": [
      "WARNING: NoVelocityWarning: No velocity defined on frame, assuming (0., 0., 0.) km / s. [astropy.coordinates.spectral_coordinate]\n",
      "WARNING: NoDistanceWarning: Distance on coordinate object is dimensionless, an arbitrary distance value of 1000000.0 kpc will be set instead. [astropy.coordinates.spectral_coordinate]\n"
     ]
    },
    {
     "name": "stdout",
     "output_type": "stream",
     "text": [
      "Gridding /bb8/lingrui/my_projects/FAST_pipeline/Sun17_A_02/M12/Calibrated/Sun17_A_02_arcdrift-M12_N_0003_211010_111044to211010_111048_calibrated_icrs_Tmb.fits\n",
      "Doing Doppler Tracking!\n"
     ]
    },
    {
     "name": "stderr",
     "output_type": "stream",
     "text": [
      "WARNING: NoVelocityWarning: No velocity defined on frame, assuming (0., 0., 0.) km / s. [astropy.coordinates.spectral_coordinate]\n",
      "WARNING: NoDistanceWarning: Distance on coordinate object is dimensionless, an arbitrary distance value of 1000000.0 kpc will be set instead. [astropy.coordinates.spectral_coordinate]\n"
     ]
    },
    {
     "name": "stdout",
     "output_type": "stream",
     "text": [
      "Gridding /bb8/lingrui/my_projects/FAST_pipeline/Sun17_A_02/M13/Calibrated/Sun17_A_02_arcdrift-M13_N_0001_211010_105700to211010_110352_calibrated_icrs_Tmb.fits\n",
      "Doing Doppler Tracking!\n"
     ]
    },
    {
     "name": "stderr",
     "output_type": "stream",
     "text": [
      "WARNING: NoVelocityWarning: No velocity defined on frame, assuming (0., 0., 0.) km / s. [astropy.coordinates.spectral_coordinate]\n",
      "WARNING: NoDistanceWarning: Distance on coordinate object is dimensionless, an arbitrary distance value of 1000000.0 kpc will be set instead. [astropy.coordinates.spectral_coordinate]\n"
     ]
    },
    {
     "name": "stdout",
     "output_type": "stream",
     "text": [
      "Gridding /bb8/lingrui/my_projects/FAST_pipeline/Sun17_A_02/M13/Calibrated/Sun17_A_02_arcdrift-M13_N_0002_211010_110352to211010_111044_calibrated_icrs_Tmb.fits\n",
      "Doing Doppler Tracking!\n"
     ]
    },
    {
     "name": "stderr",
     "output_type": "stream",
     "text": [
      "WARNING: NoVelocityWarning: No velocity defined on frame, assuming (0., 0., 0.) km / s. [astropy.coordinates.spectral_coordinate]\n",
      "WARNING: NoDistanceWarning: Distance on coordinate object is dimensionless, an arbitrary distance value of 1000000.0 kpc will be set instead. [astropy.coordinates.spectral_coordinate]\n"
     ]
    },
    {
     "name": "stdout",
     "output_type": "stream",
     "text": [
      "Gridding /bb8/lingrui/my_projects/FAST_pipeline/Sun17_A_02/M13/Calibrated/Sun17_A_02_arcdrift-M13_N_0003_211010_111044to211010_111048_calibrated_icrs_Tmb.fits\n",
      "Doing Doppler Tracking!\n"
     ]
    },
    {
     "name": "stderr",
     "output_type": "stream",
     "text": [
      "WARNING: NoVelocityWarning: No velocity defined on frame, assuming (0., 0., 0.) km / s. [astropy.coordinates.spectral_coordinate]\n",
      "WARNING: NoDistanceWarning: Distance on coordinate object is dimensionless, an arbitrary distance value of 1000000.0 kpc will be set instead. [astropy.coordinates.spectral_coordinate]\n"
     ]
    },
    {
     "name": "stdout",
     "output_type": "stream",
     "text": [
      "Gridding /bb8/lingrui/my_projects/FAST_pipeline/Sun17_A_02/M14/Calibrated/Sun17_A_02_arcdrift-M14_N_0001_211010_105700to211010_110352_calibrated_icrs_Tmb.fits\n",
      "Doing Doppler Tracking!\n"
     ]
    },
    {
     "name": "stderr",
     "output_type": "stream",
     "text": [
      "WARNING: NoVelocityWarning: No velocity defined on frame, assuming (0., 0., 0.) km / s. [astropy.coordinates.spectral_coordinate]\n",
      "WARNING: NoDistanceWarning: Distance on coordinate object is dimensionless, an arbitrary distance value of 1000000.0 kpc will be set instead. [astropy.coordinates.spectral_coordinate]\n"
     ]
    },
    {
     "name": "stdout",
     "output_type": "stream",
     "text": [
      "Gridding /bb8/lingrui/my_projects/FAST_pipeline/Sun17_A_02/M14/Calibrated/Sun17_A_02_arcdrift-M14_N_0002_211010_110352to211010_111044_calibrated_icrs_Tmb.fits\n",
      "Doing Doppler Tracking!\n"
     ]
    },
    {
     "name": "stderr",
     "output_type": "stream",
     "text": [
      "WARNING: NoVelocityWarning: No velocity defined on frame, assuming (0., 0., 0.) km / s. [astropy.coordinates.spectral_coordinate]\n",
      "WARNING: NoDistanceWarning: Distance on coordinate object is dimensionless, an arbitrary distance value of 1000000.0 kpc will be set instead. [astropy.coordinates.spectral_coordinate]\n"
     ]
    },
    {
     "name": "stdout",
     "output_type": "stream",
     "text": [
      "Gridding /bb8/lingrui/my_projects/FAST_pipeline/Sun17_A_02/M14/Calibrated/Sun17_A_02_arcdrift-M14_N_0003_211010_111044to211010_111048_calibrated_icrs_Tmb.fits\n",
      "Doing Doppler Tracking!\n"
     ]
    },
    {
     "name": "stderr",
     "output_type": "stream",
     "text": [
      "WARNING: NoVelocityWarning: No velocity defined on frame, assuming (0., 0., 0.) km / s. [astropy.coordinates.spectral_coordinate]\n",
      "WARNING: NoDistanceWarning: Distance on coordinate object is dimensionless, an arbitrary distance value of 1000000.0 kpc will be set instead. [astropy.coordinates.spectral_coordinate]\n"
     ]
    },
    {
     "name": "stdout",
     "output_type": "stream",
     "text": [
      "Gridding /bb8/lingrui/my_projects/FAST_pipeline/Sun17_A_02/M15/Calibrated/Sun17_A_02_arcdrift-M15_N_0001_211010_105700to211010_110352_calibrated_icrs_Tmb.fits\n",
      "Doing Doppler Tracking!\n"
     ]
    },
    {
     "name": "stderr",
     "output_type": "stream",
     "text": [
      "WARNING: NoVelocityWarning: No velocity defined on frame, assuming (0., 0., 0.) km / s. [astropy.coordinates.spectral_coordinate]\n",
      "WARNING: NoDistanceWarning: Distance on coordinate object is dimensionless, an arbitrary distance value of 1000000.0 kpc will be set instead. [astropy.coordinates.spectral_coordinate]\n"
     ]
    },
    {
     "name": "stdout",
     "output_type": "stream",
     "text": [
      "Gridding /bb8/lingrui/my_projects/FAST_pipeline/Sun17_A_02/M15/Calibrated/Sun17_A_02_arcdrift-M15_N_0002_211010_110352to211010_111044_calibrated_icrs_Tmb.fits\n",
      "Doing Doppler Tracking!\n"
     ]
    },
    {
     "name": "stderr",
     "output_type": "stream",
     "text": [
      "WARNING: NoVelocityWarning: No velocity defined on frame, assuming (0., 0., 0.) km / s. [astropy.coordinates.spectral_coordinate]\n",
      "WARNING: NoDistanceWarning: Distance on coordinate object is dimensionless, an arbitrary distance value of 1000000.0 kpc will be set instead. [astropy.coordinates.spectral_coordinate]\n"
     ]
    },
    {
     "name": "stdout",
     "output_type": "stream",
     "text": [
      "Gridding /bb8/lingrui/my_projects/FAST_pipeline/Sun17_A_02/M15/Calibrated/Sun17_A_02_arcdrift-M15_N_0003_211010_111044to211010_111048_calibrated_icrs_Tmb.fits\n",
      "Doing Doppler Tracking!\n"
     ]
    },
    {
     "name": "stderr",
     "output_type": "stream",
     "text": [
      "WARNING: NoVelocityWarning: No velocity defined on frame, assuming (0., 0., 0.) km / s. [astropy.coordinates.spectral_coordinate]\n",
      "WARNING: NoDistanceWarning: Distance on coordinate object is dimensionless, an arbitrary distance value of 1000000.0 kpc will be set instead. [astropy.coordinates.spectral_coordinate]\n"
     ]
    },
    {
     "name": "stdout",
     "output_type": "stream",
     "text": [
      "Gridding /bb8/lingrui/my_projects/FAST_pipeline/Sun17_A_02/M16/Calibrated/Sun17_A_02_arcdrift-M16_N_0001_211010_105700to211010_110352_calibrated_icrs_Tmb.fits\n",
      "Doing Doppler Tracking!\n"
     ]
    },
    {
     "name": "stderr",
     "output_type": "stream",
     "text": [
      "WARNING: NoVelocityWarning: No velocity defined on frame, assuming (0., 0., 0.) km / s. [astropy.coordinates.spectral_coordinate]\n",
      "WARNING: NoDistanceWarning: Distance on coordinate object is dimensionless, an arbitrary distance value of 1000000.0 kpc will be set instead. [astropy.coordinates.spectral_coordinate]\n"
     ]
    },
    {
     "name": "stdout",
     "output_type": "stream",
     "text": [
      "Gridding /bb8/lingrui/my_projects/FAST_pipeline/Sun17_A_02/M16/Calibrated/Sun17_A_02_arcdrift-M16_N_0002_211010_110352to211010_111044_calibrated_icrs_Tmb.fits\n",
      "Doing Doppler Tracking!\n"
     ]
    },
    {
     "name": "stderr",
     "output_type": "stream",
     "text": [
      "WARNING: NoVelocityWarning: No velocity defined on frame, assuming (0., 0., 0.) km / s. [astropy.coordinates.spectral_coordinate]\n",
      "WARNING: NoDistanceWarning: Distance on coordinate object is dimensionless, an arbitrary distance value of 1000000.0 kpc will be set instead. [astropy.coordinates.spectral_coordinate]\n"
     ]
    },
    {
     "name": "stdout",
     "output_type": "stream",
     "text": [
      "Gridding /bb8/lingrui/my_projects/FAST_pipeline/Sun17_A_02/M16/Calibrated/Sun17_A_02_arcdrift-M16_N_0003_211010_111044to211010_111048_calibrated_icrs_Tmb.fits\n",
      "Doing Doppler Tracking!\n"
     ]
    },
    {
     "name": "stderr",
     "output_type": "stream",
     "text": [
      "WARNING: NoVelocityWarning: No velocity defined on frame, assuming (0., 0., 0.) km / s. [astropy.coordinates.spectral_coordinate]\n",
      "WARNING: NoDistanceWarning: Distance on coordinate object is dimensionless, an arbitrary distance value of 1000000.0 kpc will be set instead. [astropy.coordinates.spectral_coordinate]\n"
     ]
    },
    {
     "name": "stdout",
     "output_type": "stream",
     "text": [
      "Gridding /bb8/lingrui/my_projects/FAST_pipeline/Sun17_A_02/M17/Calibrated/Sun17_A_02_arcdrift-M17_N_0001_211010_105700to211010_110352_calibrated_icrs_Tmb.fits\n",
      "Doing Doppler Tracking!\n"
     ]
    },
    {
     "name": "stderr",
     "output_type": "stream",
     "text": [
      "WARNING: NoVelocityWarning: No velocity defined on frame, assuming (0., 0., 0.) km / s. [astropy.coordinates.spectral_coordinate]\n",
      "WARNING: NoDistanceWarning: Distance on coordinate object is dimensionless, an arbitrary distance value of 1000000.0 kpc will be set instead. [astropy.coordinates.spectral_coordinate]\n"
     ]
    },
    {
     "name": "stdout",
     "output_type": "stream",
     "text": [
      "Gridding /bb8/lingrui/my_projects/FAST_pipeline/Sun17_A_02/M17/Calibrated/Sun17_A_02_arcdrift-M17_N_0002_211010_110352to211010_111044_calibrated_icrs_Tmb.fits\n",
      "Doing Doppler Tracking!\n"
     ]
    },
    {
     "name": "stderr",
     "output_type": "stream",
     "text": [
      "WARNING: NoVelocityWarning: No velocity defined on frame, assuming (0., 0., 0.) km / s. [astropy.coordinates.spectral_coordinate]\n",
      "WARNING: NoDistanceWarning: Distance on coordinate object is dimensionless, an arbitrary distance value of 1000000.0 kpc will be set instead. [astropy.coordinates.spectral_coordinate]\n"
     ]
    },
    {
     "name": "stdout",
     "output_type": "stream",
     "text": [
      "Gridding /bb8/lingrui/my_projects/FAST_pipeline/Sun17_A_02/M17/Calibrated/Sun17_A_02_arcdrift-M17_N_0003_211010_111044to211010_111048_calibrated_icrs_Tmb.fits\n",
      "Doing Doppler Tracking!\n"
     ]
    },
    {
     "name": "stderr",
     "output_type": "stream",
     "text": [
      "WARNING: NoVelocityWarning: No velocity defined on frame, assuming (0., 0., 0.) km / s. [astropy.coordinates.spectral_coordinate]\n",
      "WARNING: NoDistanceWarning: Distance on coordinate object is dimensionless, an arbitrary distance value of 1000000.0 kpc will be set instead. [astropy.coordinates.spectral_coordinate]\n"
     ]
    },
    {
     "name": "stdout",
     "output_type": "stream",
     "text": [
      "Gridding /bb8/lingrui/my_projects/FAST_pipeline/Sun17_A_02/M18/Calibrated/Sun17_A_02_arcdrift-M18_N_0001_211010_105700to211010_110352_calibrated_icrs_Tmb.fits\n",
      "Doing Doppler Tracking!\n"
     ]
    },
    {
     "name": "stderr",
     "output_type": "stream",
     "text": [
      "WARNING: NoVelocityWarning: No velocity defined on frame, assuming (0., 0., 0.) km / s. [astropy.coordinates.spectral_coordinate]\n",
      "WARNING: NoDistanceWarning: Distance on coordinate object is dimensionless, an arbitrary distance value of 1000000.0 kpc will be set instead. [astropy.coordinates.spectral_coordinate]\n"
     ]
    },
    {
     "name": "stdout",
     "output_type": "stream",
     "text": [
      "Gridding /bb8/lingrui/my_projects/FAST_pipeline/Sun17_A_02/M18/Calibrated/Sun17_A_02_arcdrift-M18_N_0002_211010_110352to211010_111044_calibrated_icrs_Tmb.fits\n",
      "Doing Doppler Tracking!\n"
     ]
    },
    {
     "name": "stderr",
     "output_type": "stream",
     "text": [
      "WARNING: NoVelocityWarning: No velocity defined on frame, assuming (0., 0., 0.) km / s. [astropy.coordinates.spectral_coordinate]\n",
      "WARNING: NoDistanceWarning: Distance on coordinate object is dimensionless, an arbitrary distance value of 1000000.0 kpc will be set instead. [astropy.coordinates.spectral_coordinate]\n"
     ]
    },
    {
     "name": "stdout",
     "output_type": "stream",
     "text": [
      "Gridding /bb8/lingrui/my_projects/FAST_pipeline/Sun17_A_03/M13/Calibrated/Sun17_A_03_arcdrift-M13_N_0002_211010_112952to211010_113644_calibrated_icrs_Tmb.fits\n",
      "Doing Doppler Tracking!\n"
     ]
    },
    {
     "name": "stderr",
     "output_type": "stream",
     "text": [
      "WARNING: NoVelocityWarning: No velocity defined on frame, assuming (0., 0., 0.) km / s. [astropy.coordinates.spectral_coordinate]\n",
      "WARNING: NoDistanceWarning: Distance on coordinate object is dimensionless, an arbitrary distance value of 1000000.0 kpc will be set instead. [astropy.coordinates.spectral_coordinate]\n"
     ]
    },
    {
     "name": "stdout",
     "output_type": "stream",
     "text": [
      "Gridding /bb8/lingrui/my_projects/FAST_pipeline/Sun17_A_03/M13/Calibrated/Sun17_A_03_arcdrift-M13_N_0003_211010_113644to211010_113648_calibrated_icrs_Tmb.fits\n",
      "Doing Doppler Tracking!\n"
     ]
    },
    {
     "name": "stderr",
     "output_type": "stream",
     "text": [
      "WARNING: NoVelocityWarning: No velocity defined on frame, assuming (0., 0., 0.) km / s. [astropy.coordinates.spectral_coordinate]\n",
      "WARNING: NoDistanceWarning: Distance on coordinate object is dimensionless, an arbitrary distance value of 1000000.0 kpc will be set instead. [astropy.coordinates.spectral_coordinate]\n"
     ]
    },
    {
     "name": "stdout",
     "output_type": "stream",
     "text": [
      "Gridding /bb8/lingrui/my_projects/FAST_pipeline/Sun17_A_03/M14/Calibrated/Sun17_A_03_arcdrift-M14_N_0001_211010_112300to211010_112952_calibrated_icrs_Tmb.fits\n",
      "Doing Doppler Tracking!\n"
     ]
    },
    {
     "name": "stderr",
     "output_type": "stream",
     "text": [
      "WARNING: NoVelocityWarning: No velocity defined on frame, assuming (0., 0., 0.) km / s. [astropy.coordinates.spectral_coordinate]\n",
      "WARNING: NoDistanceWarning: Distance on coordinate object is dimensionless, an arbitrary distance value of 1000000.0 kpc will be set instead. [astropy.coordinates.spectral_coordinate]\n"
     ]
    },
    {
     "name": "stdout",
     "output_type": "stream",
     "text": [
      "Gridding /bb8/lingrui/my_projects/FAST_pipeline/Sun17_A_03/M14/Calibrated/Sun17_A_03_arcdrift-M14_N_0002_211010_112952to211010_113644_calibrated_icrs_Tmb.fits\n",
      "Doing Doppler Tracking!\n"
     ]
    },
    {
     "name": "stderr",
     "output_type": "stream",
     "text": [
      "WARNING: NoVelocityWarning: No velocity defined on frame, assuming (0., 0., 0.) km / s. [astropy.coordinates.spectral_coordinate]\n",
      "WARNING: NoDistanceWarning: Distance on coordinate object is dimensionless, an arbitrary distance value of 1000000.0 kpc will be set instead. [astropy.coordinates.spectral_coordinate]\n"
     ]
    },
    {
     "name": "stdout",
     "output_type": "stream",
     "text": [
      "Gridding /bb8/lingrui/my_projects/FAST_pipeline/Sun17_A_03/M14/Calibrated/Sun17_A_03_arcdrift-M14_N_0003_211010_113644to211010_113648_calibrated_icrs_Tmb.fits\n",
      "Doing Doppler Tracking!\n"
     ]
    },
    {
     "name": "stderr",
     "output_type": "stream",
     "text": [
      "WARNING: NoVelocityWarning: No velocity defined on frame, assuming (0., 0., 0.) km / s. [astropy.coordinates.spectral_coordinate]\n",
      "WARNING: NoDistanceWarning: Distance on coordinate object is dimensionless, an arbitrary distance value of 1000000.0 kpc will be set instead. [astropy.coordinates.spectral_coordinate]\n"
     ]
    },
    {
     "name": "stdout",
     "output_type": "stream",
     "text": [
      "Gridding /bb8/lingrui/my_projects/FAST_pipeline/Sun17_A_03/M15/Calibrated/Sun17_A_03_arcdrift-M15_N_0001_211010_112300to211010_112952_calibrated_icrs_Tmb.fits\n",
      "Doing Doppler Tracking!\n"
     ]
    },
    {
     "name": "stderr",
     "output_type": "stream",
     "text": [
      "WARNING: NoVelocityWarning: No velocity defined on frame, assuming (0., 0., 0.) km / s. [astropy.coordinates.spectral_coordinate]\n",
      "WARNING: NoDistanceWarning: Distance on coordinate object is dimensionless, an arbitrary distance value of 1000000.0 kpc will be set instead. [astropy.coordinates.spectral_coordinate]\n"
     ]
    },
    {
     "name": "stdout",
     "output_type": "stream",
     "text": [
      "Gridding /bb8/lingrui/my_projects/FAST_pipeline/Sun17_A_03/M15/Calibrated/Sun17_A_03_arcdrift-M15_N_0002_211010_112952to211010_113644_calibrated_icrs_Tmb.fits\n",
      "Doing Doppler Tracking!\n"
     ]
    },
    {
     "name": "stderr",
     "output_type": "stream",
     "text": [
      "WARNING: NoVelocityWarning: No velocity defined on frame, assuming (0., 0., 0.) km / s. [astropy.coordinates.spectral_coordinate]\n",
      "WARNING: NoDistanceWarning: Distance on coordinate object is dimensionless, an arbitrary distance value of 1000000.0 kpc will be set instead. [astropy.coordinates.spectral_coordinate]\n"
     ]
    },
    {
     "name": "stdout",
     "output_type": "stream",
     "text": [
      "Gridding /bb8/lingrui/my_projects/FAST_pipeline/Sun17_A_03/M15/Calibrated/Sun17_A_03_arcdrift-M15_N_0003_211010_113644to211010_113648_calibrated_icrs_Tmb.fits\n",
      "Doing Doppler Tracking!\n"
     ]
    },
    {
     "name": "stderr",
     "output_type": "stream",
     "text": [
      "WARNING: NoVelocityWarning: No velocity defined on frame, assuming (0., 0., 0.) km / s. [astropy.coordinates.spectral_coordinate]\n",
      "WARNING: NoDistanceWarning: Distance on coordinate object is dimensionless, an arbitrary distance value of 1000000.0 kpc will be set instead. [astropy.coordinates.spectral_coordinate]\n"
     ]
    },
    {
     "name": "stdout",
     "output_type": "stream",
     "text": [
      "Gridding /bb8/lingrui/my_projects/FAST_pipeline/Sun17_A_03/M16/Calibrated/Sun17_A_03_arcdrift-M16_N_0001_211010_112300to211010_112952_calibrated_icrs_Tmb.fits\n",
      "Doing Doppler Tracking!\n"
     ]
    },
    {
     "name": "stderr",
     "output_type": "stream",
     "text": [
      "WARNING: NoVelocityWarning: No velocity defined on frame, assuming (0., 0., 0.) km / s. [astropy.coordinates.spectral_coordinate]\n",
      "WARNING: NoDistanceWarning: Distance on coordinate object is dimensionless, an arbitrary distance value of 1000000.0 kpc will be set instead. [astropy.coordinates.spectral_coordinate]\n"
     ]
    },
    {
     "name": "stdout",
     "output_type": "stream",
     "text": [
      "Gridding /bb8/lingrui/my_projects/FAST_pipeline/Sun17_A_03/M16/Calibrated/Sun17_A_03_arcdrift-M16_N_0002_211010_112952to211010_113644_calibrated_icrs_Tmb.fits\n",
      "Doing Doppler Tracking!\n"
     ]
    },
    {
     "name": "stderr",
     "output_type": "stream",
     "text": [
      "WARNING: NoVelocityWarning: No velocity defined on frame, assuming (0., 0., 0.) km / s. [astropy.coordinates.spectral_coordinate]\n",
      "WARNING: NoDistanceWarning: Distance on coordinate object is dimensionless, an arbitrary distance value of 1000000.0 kpc will be set instead. [astropy.coordinates.spectral_coordinate]\n"
     ]
    },
    {
     "name": "stdout",
     "output_type": "stream",
     "text": [
      "Gridding /bb8/lingrui/my_projects/FAST_pipeline/Sun17_A_03/M16/Calibrated/Sun17_A_03_arcdrift-M16_N_0003_211010_113644to211010_113648_calibrated_icrs_Tmb.fits\n",
      "Doing Doppler Tracking!\n"
     ]
    },
    {
     "name": "stderr",
     "output_type": "stream",
     "text": [
      "WARNING: NoVelocityWarning: No velocity defined on frame, assuming (0., 0., 0.) km / s. [astropy.coordinates.spectral_coordinate]\n",
      "WARNING: NoDistanceWarning: Distance on coordinate object is dimensionless, an arbitrary distance value of 1000000.0 kpc will be set instead. [astropy.coordinates.spectral_coordinate]\n"
     ]
    },
    {
     "name": "stdout",
     "output_type": "stream",
     "text": [
      "Gridding /bb8/lingrui/my_projects/FAST_pipeline/Sun17_A_03/M17/Calibrated/Sun17_A_03_arcdrift-M17_N_0001_211010_112300to211010_112952_calibrated_icrs_Tmb.fits\n",
      "Doing Doppler Tracking!\n"
     ]
    },
    {
     "name": "stderr",
     "output_type": "stream",
     "text": [
      "WARNING: NoVelocityWarning: No velocity defined on frame, assuming (0., 0., 0.) km / s. [astropy.coordinates.spectral_coordinate]\n",
      "WARNING: NoDistanceWarning: Distance on coordinate object is dimensionless, an arbitrary distance value of 1000000.0 kpc will be set instead. [astropy.coordinates.spectral_coordinate]\n"
     ]
    },
    {
     "name": "stdout",
     "output_type": "stream",
     "text": [
      "Gridding /bb8/lingrui/my_projects/FAST_pipeline/Sun17_A_03/M17/Calibrated/Sun17_A_03_arcdrift-M17_N_0002_211010_112952to211010_113644_calibrated_icrs_Tmb.fits\n",
      "Doing Doppler Tracking!\n"
     ]
    },
    {
     "name": "stderr",
     "output_type": "stream",
     "text": [
      "WARNING: NoVelocityWarning: No velocity defined on frame, assuming (0., 0., 0.) km / s. [astropy.coordinates.spectral_coordinate]\n",
      "WARNING: NoDistanceWarning: Distance on coordinate object is dimensionless, an arbitrary distance value of 1000000.0 kpc will be set instead. [astropy.coordinates.spectral_coordinate]\n"
     ]
    },
    {
     "name": "stdout",
     "output_type": "stream",
     "text": [
      "Gridding /bb8/lingrui/my_projects/FAST_pipeline/Sun17_A_03/M17/Calibrated/Sun17_A_03_arcdrift-M17_N_0003_211010_113644to211010_113648_calibrated_icrs_Tmb.fits\n",
      "Doing Doppler Tracking!\n"
     ]
    },
    {
     "name": "stderr",
     "output_type": "stream",
     "text": [
      "WARNING: NoVelocityWarning: No velocity defined on frame, assuming (0., 0., 0.) km / s. [astropy.coordinates.spectral_coordinate]\n",
      "WARNING: NoDistanceWarning: Distance on coordinate object is dimensionless, an arbitrary distance value of 1000000.0 kpc will be set instead. [astropy.coordinates.spectral_coordinate]\n"
     ]
    },
    {
     "name": "stdout",
     "output_type": "stream",
     "text": [
      "Gridding /bb8/lingrui/my_projects/FAST_pipeline/Sun17_A_03/M18/Calibrated/Sun17_A_03_arcdrift-M18_N_0001_211010_112300to211010_112952_calibrated_icrs_Tmb.fits\n",
      "Doing Doppler Tracking!\n"
     ]
    },
    {
     "name": "stderr",
     "output_type": "stream",
     "text": [
      "WARNING: NoVelocityWarning: No velocity defined on frame, assuming (0., 0., 0.) km / s. [astropy.coordinates.spectral_coordinate]\n",
      "WARNING: NoDistanceWarning: Distance on coordinate object is dimensionless, an arbitrary distance value of 1000000.0 kpc will be set instead. [astropy.coordinates.spectral_coordinate]\n"
     ]
    },
    {
     "name": "stdout",
     "output_type": "stream",
     "text": [
      "Gridding /bb8/lingrui/my_projects/FAST_pipeline/Sun17_A_03/M18/Calibrated/Sun17_A_03_arcdrift-M18_N_0002_211010_112952to211010_113644_calibrated_icrs_Tmb.fits\n",
      "Doing Doppler Tracking!\n"
     ]
    },
    {
     "name": "stderr",
     "output_type": "stream",
     "text": [
      "WARNING: NoVelocityWarning: No velocity defined on frame, assuming (0., 0., 0.) km / s. [astropy.coordinates.spectral_coordinate]\n",
      "WARNING: NoDistanceWarning: Distance on coordinate object is dimensionless, an arbitrary distance value of 1000000.0 kpc will be set instead. [astropy.coordinates.spectral_coordinate]\n"
     ]
    },
    {
     "name": "stdout",
     "output_type": "stream",
     "text": [
      "Gridding /bb8/lingrui/my_projects/FAST_pipeline/Sun17_A_03/M18/Calibrated/Sun17_A_03_arcdrift-M18_N_0003_211010_113644to211010_113648_calibrated_icrs_Tmb.fits\n",
      "Doing Doppler Tracking!\n"
     ]
    },
    {
     "name": "stderr",
     "output_type": "stream",
     "text": [
      "WARNING: NoVelocityWarning: No velocity defined on frame, assuming (0., 0., 0.) km / s. [astropy.coordinates.spectral_coordinate]\n",
      "WARNING: NoDistanceWarning: Distance on coordinate object is dimensionless, an arbitrary distance value of 1000000.0 kpc will be set instead. [astropy.coordinates.spectral_coordinate]\n"
     ]
    },
    {
     "name": "stdout",
     "output_type": "stream",
     "text": [
      "Gridding /bb8/lingrui/my_projects/FAST_pipeline/Sun17_A_03/M19/Calibrated/Sun17_A_03_arcdrift-M19_N_0001_211010_112300to211010_112952_calibrated_icrs_Tmb.fits\n",
      "Doing Doppler Tracking!\n"
     ]
    },
    {
     "name": "stderr",
     "output_type": "stream",
     "text": [
      "WARNING: NoVelocityWarning: No velocity defined on frame, assuming (0., 0., 0.) km / s. [astropy.coordinates.spectral_coordinate]\n",
      "WARNING: NoDistanceWarning: Distance on coordinate object is dimensionless, an arbitrary distance value of 1000000.0 kpc will be set instead. [astropy.coordinates.spectral_coordinate]\n"
     ]
    },
    {
     "name": "stdout",
     "output_type": "stream",
     "text": [
      "Gridding /bb8/lingrui/my_projects/FAST_pipeline/Sun17_A_03/M19/Calibrated/Sun17_A_03_arcdrift-M19_N_0002_211010_112952to211010_113644_calibrated_icrs_Tmb.fits\n",
      "Doing Doppler Tracking!\n"
     ]
    },
    {
     "name": "stderr",
     "output_type": "stream",
     "text": [
      "WARNING: NoVelocityWarning: No velocity defined on frame, assuming (0., 0., 0.) km / s. [astropy.coordinates.spectral_coordinate]\n",
      "WARNING: NoDistanceWarning: Distance on coordinate object is dimensionless, an arbitrary distance value of 1000000.0 kpc will be set instead. [astropy.coordinates.spectral_coordinate]\n"
     ]
    },
    {
     "name": "stdout",
     "output_type": "stream",
     "text": [
      "Gridding /bb8/lingrui/my_projects/FAST_pipeline/Sun17_A_03/M19/Calibrated/Sun17_A_03_arcdrift-M19_N_0003_211010_113644to211010_113648_calibrated_icrs_Tmb.fits\n",
      "Doing Doppler Tracking!\n"
     ]
    },
    {
     "name": "stderr",
     "output_type": "stream",
     "text": [
      "WARNING: NoVelocityWarning: No velocity defined on frame, assuming (0., 0., 0.) km / s. [astropy.coordinates.spectral_coordinate]\n",
      "WARNING: NoDistanceWarning: Distance on coordinate object is dimensionless, an arbitrary distance value of 1000000.0 kpc will be set instead. [astropy.coordinates.spectral_coordinate]\n"
     ]
    },
    {
     "name": "stdout",
     "output_type": "stream",
     "text": [
      "Gridding /bb8/lingrui/my_projects/FAST_pipeline/Sun17_A_04/M01/Calibrated/Sun17_A_04_arcdrift-M01_N_0001_211113_090800to211113_091452_calibrated_icrs_Tmb.fits\n",
      "Doing Doppler Tracking!\n"
     ]
    },
    {
     "name": "stderr",
     "output_type": "stream",
     "text": [
      "WARNING: NoVelocityWarning: No velocity defined on frame, assuming (0., 0., 0.) km / s. [astropy.coordinates.spectral_coordinate]\n",
      "WARNING: NoDistanceWarning: Distance on coordinate object is dimensionless, an arbitrary distance value of 1000000.0 kpc will be set instead. [astropy.coordinates.spectral_coordinate]\n"
     ]
    },
    {
     "name": "stdout",
     "output_type": "stream",
     "text": [
      "Gridding /bb8/lingrui/my_projects/FAST_pipeline/Sun17_A_04/M01/Calibrated/Sun17_A_04_arcdrift-M01_N_0002_211113_091452to211113_092144_calibrated_icrs_Tmb.fits\n",
      "Doing Doppler Tracking!\n"
     ]
    },
    {
     "name": "stderr",
     "output_type": "stream",
     "text": [
      "WARNING: NoVelocityWarning: No velocity defined on frame, assuming (0., 0., 0.) km / s. [astropy.coordinates.spectral_coordinate]\n",
      "WARNING: NoDistanceWarning: Distance on coordinate object is dimensionless, an arbitrary distance value of 1000000.0 kpc will be set instead. [astropy.coordinates.spectral_coordinate]\n"
     ]
    },
    {
     "name": "stdout",
     "output_type": "stream",
     "text": [
      "Gridding /bb8/lingrui/my_projects/FAST_pipeline/Sun17_A_04/M01/Calibrated/Sun17_A_04_arcdrift-M01_N_0003_211113_092144to211113_092148_calibrated_icrs_Tmb.fits\n",
      "Doing Doppler Tracking!\n"
     ]
    },
    {
     "name": "stderr",
     "output_type": "stream",
     "text": [
      "WARNING: NoVelocityWarning: No velocity defined on frame, assuming (0., 0., 0.) km / s. [astropy.coordinates.spectral_coordinate]\n",
      "WARNING: NoDistanceWarning: Distance on coordinate object is dimensionless, an arbitrary distance value of 1000000.0 kpc will be set instead. [astropy.coordinates.spectral_coordinate]\n"
     ]
    },
    {
     "name": "stdout",
     "output_type": "stream",
     "text": [
      "Gridding /bb8/lingrui/my_projects/FAST_pipeline/Sun17_A_04/M02/Calibrated/Sun17_A_04_arcdrift-M02_N_0001_211113_090800to211113_091452_calibrated_icrs_Tmb.fits\n",
      "Doing Doppler Tracking!\n"
     ]
    },
    {
     "name": "stderr",
     "output_type": "stream",
     "text": [
      "WARNING: NoVelocityWarning: No velocity defined on frame, assuming (0., 0., 0.) km / s. [astropy.coordinates.spectral_coordinate]\n",
      "WARNING: NoDistanceWarning: Distance on coordinate object is dimensionless, an arbitrary distance value of 1000000.0 kpc will be set instead. [astropy.coordinates.spectral_coordinate]\n"
     ]
    },
    {
     "name": "stdout",
     "output_type": "stream",
     "text": [
      "Gridding /bb8/lingrui/my_projects/FAST_pipeline/Sun17_A_04/M02/Calibrated/Sun17_A_04_arcdrift-M02_N_0002_211113_091452to211113_092144_calibrated_icrs_Tmb.fits\n",
      "Doing Doppler Tracking!\n"
     ]
    },
    {
     "name": "stderr",
     "output_type": "stream",
     "text": [
      "WARNING: NoVelocityWarning: No velocity defined on frame, assuming (0., 0., 0.) km / s. [astropy.coordinates.spectral_coordinate]\n",
      "WARNING: NoDistanceWarning: Distance on coordinate object is dimensionless, an arbitrary distance value of 1000000.0 kpc will be set instead. [astropy.coordinates.spectral_coordinate]\n"
     ]
    },
    {
     "name": "stdout",
     "output_type": "stream",
     "text": [
      "Gridding /bb8/lingrui/my_projects/FAST_pipeline/Sun17_A_04/M02/Calibrated/Sun17_A_04_arcdrift-M02_N_0003_211113_092144to211113_092148_calibrated_icrs_Tmb.fits\n",
      "Doing Doppler Tracking!\n"
     ]
    },
    {
     "name": "stderr",
     "output_type": "stream",
     "text": [
      "WARNING: NoVelocityWarning: No velocity defined on frame, assuming (0., 0., 0.) km / s. [astropy.coordinates.spectral_coordinate]\n",
      "WARNING: NoDistanceWarning: Distance on coordinate object is dimensionless, an arbitrary distance value of 1000000.0 kpc will be set instead. [astropy.coordinates.spectral_coordinate]\n"
     ]
    },
    {
     "name": "stdout",
     "output_type": "stream",
     "text": [
      "Gridding /bb8/lingrui/my_projects/FAST_pipeline/Sun17_A_04/M03/Calibrated/Sun17_A_04_arcdrift-M03_N_0001_211113_090800to211113_091452_calibrated_icrs_Tmb.fits\n",
      "Doing Doppler Tracking!\n"
     ]
    },
    {
     "name": "stderr",
     "output_type": "stream",
     "text": [
      "WARNING: NoVelocityWarning: No velocity defined on frame, assuming (0., 0., 0.) km / s. [astropy.coordinates.spectral_coordinate]\n",
      "WARNING: NoDistanceWarning: Distance on coordinate object is dimensionless, an arbitrary distance value of 1000000.0 kpc will be set instead. [astropy.coordinates.spectral_coordinate]\n"
     ]
    },
    {
     "name": "stdout",
     "output_type": "stream",
     "text": [
      "Gridding /bb8/lingrui/my_projects/FAST_pipeline/Sun17_A_04/M03/Calibrated/Sun17_A_04_arcdrift-M03_N_0002_211113_091452to211113_092144_calibrated_icrs_Tmb.fits\n",
      "Doing Doppler Tracking!\n"
     ]
    },
    {
     "name": "stderr",
     "output_type": "stream",
     "text": [
      "WARNING: NoVelocityWarning: No velocity defined on frame, assuming (0., 0., 0.) km / s. [astropy.coordinates.spectral_coordinate]\n",
      "WARNING: NoDistanceWarning: Distance on coordinate object is dimensionless, an arbitrary distance value of 1000000.0 kpc will be set instead. [astropy.coordinates.spectral_coordinate]\n"
     ]
    },
    {
     "name": "stdout",
     "output_type": "stream",
     "text": [
      "Gridding /bb8/lingrui/my_projects/FAST_pipeline/Sun17_A_04/M03/Calibrated/Sun17_A_04_arcdrift-M03_N_0003_211113_092144to211113_092148_calibrated_icrs_Tmb.fits\n",
      "Doing Doppler Tracking!\n"
     ]
    },
    {
     "name": "stderr",
     "output_type": "stream",
     "text": [
      "WARNING: NoVelocityWarning: No velocity defined on frame, assuming (0., 0., 0.) km / s. [astropy.coordinates.spectral_coordinate]\n",
      "WARNING: NoDistanceWarning: Distance on coordinate object is dimensionless, an arbitrary distance value of 1000000.0 kpc will be set instead. [astropy.coordinates.spectral_coordinate]\n"
     ]
    },
    {
     "name": "stdout",
     "output_type": "stream",
     "text": [
      "Gridding /bb8/lingrui/my_projects/FAST_pipeline/Sun17_A_04/M04/Calibrated/Sun17_A_04_arcdrift-M04_N_0001_211113_090800to211113_091452_calibrated_icrs_Tmb.fits\n",
      "Doing Doppler Tracking!\n"
     ]
    },
    {
     "name": "stderr",
     "output_type": "stream",
     "text": [
      "WARNING: NoVelocityWarning: No velocity defined on frame, assuming (0., 0., 0.) km / s. [astropy.coordinates.spectral_coordinate]\n",
      "WARNING: NoDistanceWarning: Distance on coordinate object is dimensionless, an arbitrary distance value of 1000000.0 kpc will be set instead. [astropy.coordinates.spectral_coordinate]\n"
     ]
    },
    {
     "name": "stdout",
     "output_type": "stream",
     "text": [
      "Gridding /bb8/lingrui/my_projects/FAST_pipeline/Sun17_A_04/M04/Calibrated/Sun17_A_04_arcdrift-M04_N_0002_211113_091452to211113_092144_calibrated_icrs_Tmb.fits\n",
      "Doing Doppler Tracking!\n"
     ]
    },
    {
     "name": "stderr",
     "output_type": "stream",
     "text": [
      "WARNING: NoVelocityWarning: No velocity defined on frame, assuming (0., 0., 0.) km / s. [astropy.coordinates.spectral_coordinate]\n",
      "WARNING: NoDistanceWarning: Distance on coordinate object is dimensionless, an arbitrary distance value of 1000000.0 kpc will be set instead. [astropy.coordinates.spectral_coordinate]\n"
     ]
    },
    {
     "name": "stdout",
     "output_type": "stream",
     "text": [
      "Gridding /bb8/lingrui/my_projects/FAST_pipeline/Sun17_A_04/M04/Calibrated/Sun17_A_04_arcdrift-M04_N_0003_211113_092144to211113_092148_calibrated_icrs_Tmb.fits\n",
      "Doing Doppler Tracking!\n"
     ]
    },
    {
     "name": "stderr",
     "output_type": "stream",
     "text": [
      "WARNING: NoVelocityWarning: No velocity defined on frame, assuming (0., 0., 0.) km / s. [astropy.coordinates.spectral_coordinate]\n",
      "WARNING: NoDistanceWarning: Distance on coordinate object is dimensionless, an arbitrary distance value of 1000000.0 kpc will be set instead. [astropy.coordinates.spectral_coordinate]\n"
     ]
    },
    {
     "name": "stdout",
     "output_type": "stream",
     "text": [
      "Gridding /bb8/lingrui/my_projects/FAST_pipeline/Sun17_A_04/M05/Calibrated/Sun17_A_04_arcdrift-M05_N_0001_211113_090800to211113_091452_calibrated_icrs_Tmb.fits\n",
      "Doing Doppler Tracking!\n"
     ]
    },
    {
     "name": "stderr",
     "output_type": "stream",
     "text": [
      "WARNING: NoVelocityWarning: No velocity defined on frame, assuming (0., 0., 0.) km / s. [astropy.coordinates.spectral_coordinate]\n",
      "WARNING: NoDistanceWarning: Distance on coordinate object is dimensionless, an arbitrary distance value of 1000000.0 kpc will be set instead. [astropy.coordinates.spectral_coordinate]\n"
     ]
    },
    {
     "name": "stdout",
     "output_type": "stream",
     "text": [
      "Gridding /bb8/lingrui/my_projects/FAST_pipeline/Sun17_A_04/M05/Calibrated/Sun17_A_04_arcdrift-M05_N_0002_211113_091452to211113_092144_calibrated_icrs_Tmb.fits\n",
      "Doing Doppler Tracking!\n"
     ]
    },
    {
     "name": "stderr",
     "output_type": "stream",
     "text": [
      "WARNING: NoVelocityWarning: No velocity defined on frame, assuming (0., 0., 0.) km / s. [astropy.coordinates.spectral_coordinate]\n",
      "WARNING: NoDistanceWarning: Distance on coordinate object is dimensionless, an arbitrary distance value of 1000000.0 kpc will be set instead. [astropy.coordinates.spectral_coordinate]\n"
     ]
    },
    {
     "name": "stdout",
     "output_type": "stream",
     "text": [
      "Gridding /bb8/lingrui/my_projects/FAST_pipeline/Sun17_A_04/M05/Calibrated/Sun17_A_04_arcdrift-M05_N_0003_211113_092144to211113_092148_calibrated_icrs_Tmb.fits\n",
      "Doing Doppler Tracking!\n"
     ]
    },
    {
     "name": "stderr",
     "output_type": "stream",
     "text": [
      "WARNING: NoVelocityWarning: No velocity defined on frame, assuming (0., 0., 0.) km / s. [astropy.coordinates.spectral_coordinate]\n",
      "WARNING: NoDistanceWarning: Distance on coordinate object is dimensionless, an arbitrary distance value of 1000000.0 kpc will be set instead. [astropy.coordinates.spectral_coordinate]\n"
     ]
    },
    {
     "name": "stdout",
     "output_type": "stream",
     "text": [
      "Gridding /bb8/lingrui/my_projects/FAST_pipeline/Sun17_A_04/M06/Calibrated/Sun17_A_04_arcdrift-M06_N_0001_211113_090800to211113_091452_calibrated_icrs_Tmb.fits\n",
      "Doing Doppler Tracking!\n"
     ]
    },
    {
     "name": "stderr",
     "output_type": "stream",
     "text": [
      "WARNING: NoVelocityWarning: No velocity defined on frame, assuming (0., 0., 0.) km / s. [astropy.coordinates.spectral_coordinate]\n",
      "WARNING: NoDistanceWarning: Distance on coordinate object is dimensionless, an arbitrary distance value of 1000000.0 kpc will be set instead. [astropy.coordinates.spectral_coordinate]\n"
     ]
    },
    {
     "name": "stdout",
     "output_type": "stream",
     "text": [
      "Gridding /bb8/lingrui/my_projects/FAST_pipeline/Sun17_A_04/M06/Calibrated/Sun17_A_04_arcdrift-M06_N_0002_211113_091452to211113_092144_calibrated_icrs_Tmb.fits\n",
      "Doing Doppler Tracking!\n"
     ]
    },
    {
     "name": "stderr",
     "output_type": "stream",
     "text": [
      "WARNING: NoVelocityWarning: No velocity defined on frame, assuming (0., 0., 0.) km / s. [astropy.coordinates.spectral_coordinate]\n",
      "WARNING: NoDistanceWarning: Distance on coordinate object is dimensionless, an arbitrary distance value of 1000000.0 kpc will be set instead. [astropy.coordinates.spectral_coordinate]\n"
     ]
    },
    {
     "name": "stdout",
     "output_type": "stream",
     "text": [
      "Gridding /bb8/lingrui/my_projects/FAST_pipeline/Sun17_A_04/M06/Calibrated/Sun17_A_04_arcdrift-M06_N_0003_211113_092144to211113_092148_calibrated_icrs_Tmb.fits\n",
      "Doing Doppler Tracking!\n"
     ]
    },
    {
     "name": "stderr",
     "output_type": "stream",
     "text": [
      "WARNING: NoVelocityWarning: No velocity defined on frame, assuming (0., 0., 0.) km / s. [astropy.coordinates.spectral_coordinate]\n",
      "WARNING: NoDistanceWarning: Distance on coordinate object is dimensionless, an arbitrary distance value of 1000000.0 kpc will be set instead. [astropy.coordinates.spectral_coordinate]\n"
     ]
    },
    {
     "name": "stdout",
     "output_type": "stream",
     "text": [
      "Gridding /bb8/lingrui/my_projects/FAST_pipeline/Sun17_A_04/M07/Calibrated/Sun17_A_04_arcdrift-M07_N_0001_211113_090800to211113_091452_calibrated_icrs_Tmb.fits\n",
      "Doing Doppler Tracking!\n"
     ]
    },
    {
     "name": "stderr",
     "output_type": "stream",
     "text": [
      "WARNING: NoVelocityWarning: No velocity defined on frame, assuming (0., 0., 0.) km / s. [astropy.coordinates.spectral_coordinate]\n",
      "WARNING: NoDistanceWarning: Distance on coordinate object is dimensionless, an arbitrary distance value of 1000000.0 kpc will be set instead. [astropy.coordinates.spectral_coordinate]\n"
     ]
    },
    {
     "name": "stdout",
     "output_type": "stream",
     "text": [
      "Gridding /bb8/lingrui/my_projects/FAST_pipeline/Sun17_A_04/M07/Calibrated/Sun17_A_04_arcdrift-M07_N_0002_211113_091452to211113_092144_calibrated_icrs_Tmb.fits\n",
      "Doing Doppler Tracking!\n"
     ]
    },
    {
     "name": "stderr",
     "output_type": "stream",
     "text": [
      "WARNING: NoVelocityWarning: No velocity defined on frame, assuming (0., 0., 0.) km / s. [astropy.coordinates.spectral_coordinate]\n",
      "WARNING: NoDistanceWarning: Distance on coordinate object is dimensionless, an arbitrary distance value of 1000000.0 kpc will be set instead. [astropy.coordinates.spectral_coordinate]\n"
     ]
    },
    {
     "name": "stdout",
     "output_type": "stream",
     "text": [
      "Gridding /bb8/lingrui/my_projects/FAST_pipeline/Sun17_A_04/M07/Calibrated/Sun17_A_04_arcdrift-M07_N_0003_211113_092144to211113_092148_calibrated_icrs_Tmb.fits\n",
      "Doing Doppler Tracking!\n"
     ]
    },
    {
     "name": "stderr",
     "output_type": "stream",
     "text": [
      "WARNING: NoVelocityWarning: No velocity defined on frame, assuming (0., 0., 0.) km / s. [astropy.coordinates.spectral_coordinate]\n",
      "WARNING: NoDistanceWarning: Distance on coordinate object is dimensionless, an arbitrary distance value of 1000000.0 kpc will be set instead. [astropy.coordinates.spectral_coordinate]\n"
     ]
    },
    {
     "name": "stdout",
     "output_type": "stream",
     "text": [
      "Gridding /bb8/lingrui/my_projects/FAST_pipeline/Sun17_A_04/M08/Calibrated/Sun17_A_04_arcdrift-M08_N_0001_211113_090800to211113_091452_calibrated_icrs_Tmb.fits\n",
      "Doing Doppler Tracking!\n"
     ]
    },
    {
     "name": "stderr",
     "output_type": "stream",
     "text": [
      "WARNING: NoVelocityWarning: No velocity defined on frame, assuming (0., 0., 0.) km / s. [astropy.coordinates.spectral_coordinate]\n",
      "WARNING: NoDistanceWarning: Distance on coordinate object is dimensionless, an arbitrary distance value of 1000000.0 kpc will be set instead. [astropy.coordinates.spectral_coordinate]\n"
     ]
    },
    {
     "name": "stdout",
     "output_type": "stream",
     "text": [
      "Gridding /bb8/lingrui/my_projects/FAST_pipeline/Sun17_A_04/M08/Calibrated/Sun17_A_04_arcdrift-M08_N_0002_211113_091452to211113_092144_calibrated_icrs_Tmb.fits\n",
      "Doing Doppler Tracking!\n"
     ]
    },
    {
     "name": "stderr",
     "output_type": "stream",
     "text": [
      "WARNING: NoVelocityWarning: No velocity defined on frame, assuming (0., 0., 0.) km / s. [astropy.coordinates.spectral_coordinate]\n",
      "WARNING: NoDistanceWarning: Distance on coordinate object is dimensionless, an arbitrary distance value of 1000000.0 kpc will be set instead. [astropy.coordinates.spectral_coordinate]\n"
     ]
    },
    {
     "name": "stdout",
     "output_type": "stream",
     "text": [
      "Gridding /bb8/lingrui/my_projects/FAST_pipeline/Sun17_A_04/M08/Calibrated/Sun17_A_04_arcdrift-M08_N_0003_211113_092144to211113_092148_calibrated_icrs_Tmb.fits\n",
      "Doing Doppler Tracking!\n"
     ]
    },
    {
     "name": "stderr",
     "output_type": "stream",
     "text": [
      "WARNING: NoVelocityWarning: No velocity defined on frame, assuming (0., 0., 0.) km / s. [astropy.coordinates.spectral_coordinate]\n",
      "WARNING: NoDistanceWarning: Distance on coordinate object is dimensionless, an arbitrary distance value of 1000000.0 kpc will be set instead. [astropy.coordinates.spectral_coordinate]\n"
     ]
    },
    {
     "name": "stdout",
     "output_type": "stream",
     "text": [
      "Gridding /bb8/lingrui/my_projects/FAST_pipeline/Sun17_A_04/M09/Calibrated/Sun17_A_04_arcdrift-M09_N_0001_211113_090800to211113_091452_calibrated_icrs_Tmb.fits\n",
      "Doing Doppler Tracking!\n"
     ]
    },
    {
     "name": "stderr",
     "output_type": "stream",
     "text": [
      "WARNING: NoVelocityWarning: No velocity defined on frame, assuming (0., 0., 0.) km / s. [astropy.coordinates.spectral_coordinate]\n",
      "WARNING: NoDistanceWarning: Distance on coordinate object is dimensionless, an arbitrary distance value of 1000000.0 kpc will be set instead. [astropy.coordinates.spectral_coordinate]\n"
     ]
    },
    {
     "name": "stdout",
     "output_type": "stream",
     "text": [
      "Gridding /bb8/lingrui/my_projects/FAST_pipeline/Sun17_A_04/M09/Calibrated/Sun17_A_04_arcdrift-M09_N_0002_211113_091452to211113_092144_calibrated_icrs_Tmb.fits\n",
      "Doing Doppler Tracking!\n"
     ]
    },
    {
     "name": "stderr",
     "output_type": "stream",
     "text": [
      "WARNING: NoVelocityWarning: No velocity defined on frame, assuming (0., 0., 0.) km / s. [astropy.coordinates.spectral_coordinate]\n",
      "WARNING: NoDistanceWarning: Distance on coordinate object is dimensionless, an arbitrary distance value of 1000000.0 kpc will be set instead. [astropy.coordinates.spectral_coordinate]\n"
     ]
    },
    {
     "name": "stdout",
     "output_type": "stream",
     "text": [
      "Gridding /bb8/lingrui/my_projects/FAST_pipeline/Sun17_A_04/M09/Calibrated/Sun17_A_04_arcdrift-M09_N_0003_211113_092144to211113_092148_calibrated_icrs_Tmb.fits\n",
      "Doing Doppler Tracking!\n"
     ]
    },
    {
     "name": "stderr",
     "output_type": "stream",
     "text": [
      "WARNING: NoVelocityWarning: No velocity defined on frame, assuming (0., 0., 0.) km / s. [astropy.coordinates.spectral_coordinate]\n",
      "WARNING: NoDistanceWarning: Distance on coordinate object is dimensionless, an arbitrary distance value of 1000000.0 kpc will be set instead. [astropy.coordinates.spectral_coordinate]\n"
     ]
    },
    {
     "name": "stdout",
     "output_type": "stream",
     "text": [
      "Gridding /bb8/lingrui/my_projects/FAST_pipeline/Sun17_A_04/M10/Calibrated/Sun17_A_04_arcdrift-M10_N_0001_211113_090800to211113_091452_calibrated_icrs_Tmb.fits\n",
      "Doing Doppler Tracking!\n"
     ]
    },
    {
     "name": "stderr",
     "output_type": "stream",
     "text": [
      "WARNING: NoVelocityWarning: No velocity defined on frame, assuming (0., 0., 0.) km / s. [astropy.coordinates.spectral_coordinate]\n",
      "WARNING: NoDistanceWarning: Distance on coordinate object is dimensionless, an arbitrary distance value of 1000000.0 kpc will be set instead. [astropy.coordinates.spectral_coordinate]\n"
     ]
    },
    {
     "name": "stdout",
     "output_type": "stream",
     "text": [
      "Gridding /bb8/lingrui/my_projects/FAST_pipeline/Sun17_A_04/M10/Calibrated/Sun17_A_04_arcdrift-M10_N_0002_211113_091452to211113_092144_calibrated_icrs_Tmb.fits\n",
      "Doing Doppler Tracking!\n"
     ]
    },
    {
     "name": "stderr",
     "output_type": "stream",
     "text": [
      "WARNING: NoVelocityWarning: No velocity defined on frame, assuming (0., 0., 0.) km / s. [astropy.coordinates.spectral_coordinate]\n",
      "WARNING: NoDistanceWarning: Distance on coordinate object is dimensionless, an arbitrary distance value of 1000000.0 kpc will be set instead. [astropy.coordinates.spectral_coordinate]\n"
     ]
    },
    {
     "name": "stdout",
     "output_type": "stream",
     "text": [
      "Gridding /bb8/lingrui/my_projects/FAST_pipeline/Sun17_A_04/M10/Calibrated/Sun17_A_04_arcdrift-M10_N_0003_211113_092144to211113_092148_calibrated_icrs_Tmb.fits\n",
      "Doing Doppler Tracking!\n"
     ]
    },
    {
     "name": "stderr",
     "output_type": "stream",
     "text": [
      "WARNING: NoVelocityWarning: No velocity defined on frame, assuming (0., 0., 0.) km / s. [astropy.coordinates.spectral_coordinate]\n",
      "WARNING: NoDistanceWarning: Distance on coordinate object is dimensionless, an arbitrary distance value of 1000000.0 kpc will be set instead. [astropy.coordinates.spectral_coordinate]\n"
     ]
    },
    {
     "name": "stdout",
     "output_type": "stream",
     "text": [
      "Gridding /bb8/lingrui/my_projects/FAST_pipeline/Sun17_A_04/M11/Calibrated/Sun17_A_04_arcdrift-M11_N_0001_211113_090800to211113_091452_calibrated_icrs_Tmb.fits\n",
      "Doing Doppler Tracking!\n"
     ]
    },
    {
     "name": "stderr",
     "output_type": "stream",
     "text": [
      "WARNING: NoVelocityWarning: No velocity defined on frame, assuming (0., 0., 0.) km / s. [astropy.coordinates.spectral_coordinate]\n",
      "WARNING: NoDistanceWarning: Distance on coordinate object is dimensionless, an arbitrary distance value of 1000000.0 kpc will be set instead. [astropy.coordinates.spectral_coordinate]\n"
     ]
    },
    {
     "name": "stdout",
     "output_type": "stream",
     "text": [
      "Gridding /bb8/lingrui/my_projects/FAST_pipeline/Sun17_A_04/M11/Calibrated/Sun17_A_04_arcdrift-M11_N_0002_211113_091452to211113_092144_calibrated_icrs_Tmb.fits\n",
      "Doing Doppler Tracking!\n"
     ]
    },
    {
     "name": "stderr",
     "output_type": "stream",
     "text": [
      "WARNING: NoVelocityWarning: No velocity defined on frame, assuming (0., 0., 0.) km / s. [astropy.coordinates.spectral_coordinate]\n",
      "WARNING: NoDistanceWarning: Distance on coordinate object is dimensionless, an arbitrary distance value of 1000000.0 kpc will be set instead. [astropy.coordinates.spectral_coordinate]\n"
     ]
    },
    {
     "name": "stdout",
     "output_type": "stream",
     "text": [
      "Gridding /bb8/lingrui/my_projects/FAST_pipeline/Sun17_A_04/M11/Calibrated/Sun17_A_04_arcdrift-M11_N_0003_211113_092144to211113_092148_calibrated_icrs_Tmb.fits\n",
      "Doing Doppler Tracking!\n"
     ]
    },
    {
     "name": "stderr",
     "output_type": "stream",
     "text": [
      "WARNING: NoVelocityWarning: No velocity defined on frame, assuming (0., 0., 0.) km / s. [astropy.coordinates.spectral_coordinate]\n",
      "WARNING: NoDistanceWarning: Distance on coordinate object is dimensionless, an arbitrary distance value of 1000000.0 kpc will be set instead. [astropy.coordinates.spectral_coordinate]\n"
     ]
    },
    {
     "name": "stdout",
     "output_type": "stream",
     "text": [
      "Gridding /bb8/lingrui/my_projects/FAST_pipeline/Sun17_A_04/M12/Calibrated/Sun17_A_04_arcdrift-M12_N_0001_211113_090800to211113_091452_calibrated_icrs_Tmb.fits\n",
      "Doing Doppler Tracking!\n"
     ]
    },
    {
     "name": "stderr",
     "output_type": "stream",
     "text": [
      "WARNING: NoVelocityWarning: No velocity defined on frame, assuming (0., 0., 0.) km / s. [astropy.coordinates.spectral_coordinate]\n",
      "WARNING: NoDistanceWarning: Distance on coordinate object is dimensionless, an arbitrary distance value of 1000000.0 kpc will be set instead. [astropy.coordinates.spectral_coordinate]\n"
     ]
    },
    {
     "name": "stdout",
     "output_type": "stream",
     "text": [
      "Gridding /bb8/lingrui/my_projects/FAST_pipeline/Sun17_A_04/M12/Calibrated/Sun17_A_04_arcdrift-M12_N_0002_211113_091452to211113_092144_calibrated_icrs_Tmb.fits\n",
      "Doing Doppler Tracking!\n"
     ]
    },
    {
     "name": "stderr",
     "output_type": "stream",
     "text": [
      "WARNING: NoVelocityWarning: No velocity defined on frame, assuming (0., 0., 0.) km / s. [astropy.coordinates.spectral_coordinate]\n",
      "WARNING: NoDistanceWarning: Distance on coordinate object is dimensionless, an arbitrary distance value of 1000000.0 kpc will be set instead. [astropy.coordinates.spectral_coordinate]\n"
     ]
    },
    {
     "name": "stdout",
     "output_type": "stream",
     "text": [
      "Gridding /bb8/lingrui/my_projects/FAST_pipeline/Sun17_A_04/M12/Calibrated/Sun17_A_04_arcdrift-M12_N_0003_211113_092144to211113_092148_calibrated_icrs_Tmb.fits\n",
      "Doing Doppler Tracking!\n"
     ]
    },
    {
     "name": "stderr",
     "output_type": "stream",
     "text": [
      "WARNING: NoVelocityWarning: No velocity defined on frame, assuming (0., 0., 0.) km / s. [astropy.coordinates.spectral_coordinate]\n",
      "WARNING: NoDistanceWarning: Distance on coordinate object is dimensionless, an arbitrary distance value of 1000000.0 kpc will be set instead. [astropy.coordinates.spectral_coordinate]\n"
     ]
    },
    {
     "name": "stdout",
     "output_type": "stream",
     "text": [
      "Gridding /bb8/lingrui/my_projects/FAST_pipeline/Sun17_A_04/M13/Calibrated/Sun17_A_04_arcdrift-M13_N_0001_211113_090800to211113_091452_calibrated_icrs_Tmb.fits\n",
      "Doing Doppler Tracking!\n"
     ]
    },
    {
     "name": "stderr",
     "output_type": "stream",
     "text": [
      "WARNING: NoVelocityWarning: No velocity defined on frame, assuming (0., 0., 0.) km / s. [astropy.coordinates.spectral_coordinate]\n",
      "WARNING: NoDistanceWarning: Distance on coordinate object is dimensionless, an arbitrary distance value of 1000000.0 kpc will be set instead. [astropy.coordinates.spectral_coordinate]\n"
     ]
    },
    {
     "name": "stdout",
     "output_type": "stream",
     "text": [
      "Gridding /bb8/lingrui/my_projects/FAST_pipeline/Sun17_A_04/M13/Calibrated/Sun17_A_04_arcdrift-M13_N_0002_211113_091452to211113_092144_calibrated_icrs_Tmb.fits\n",
      "Doing Doppler Tracking!\n"
     ]
    },
    {
     "name": "stderr",
     "output_type": "stream",
     "text": [
      "WARNING: NoVelocityWarning: No velocity defined on frame, assuming (0., 0., 0.) km / s. [astropy.coordinates.spectral_coordinate]\n",
      "WARNING: NoDistanceWarning: Distance on coordinate object is dimensionless, an arbitrary distance value of 1000000.0 kpc will be set instead. [astropy.coordinates.spectral_coordinate]\n"
     ]
    },
    {
     "name": "stdout",
     "output_type": "stream",
     "text": [
      "Gridding /bb8/lingrui/my_projects/FAST_pipeline/Sun17_A_04/M13/Calibrated/Sun17_A_04_arcdrift-M13_N_0003_211113_092144to211113_092148_calibrated_icrs_Tmb.fits\n",
      "Doing Doppler Tracking!\n"
     ]
    },
    {
     "name": "stderr",
     "output_type": "stream",
     "text": [
      "WARNING: NoVelocityWarning: No velocity defined on frame, assuming (0., 0., 0.) km / s. [astropy.coordinates.spectral_coordinate]\n",
      "WARNING: NoDistanceWarning: Distance on coordinate object is dimensionless, an arbitrary distance value of 1000000.0 kpc will be set instead. [astropy.coordinates.spectral_coordinate]\n"
     ]
    },
    {
     "name": "stdout",
     "output_type": "stream",
     "text": [
      "Gridding /bb8/lingrui/my_projects/FAST_pipeline/Sun17_A_04/M14/Calibrated/Sun17_A_04_arcdrift-M14_N_0001_211113_090800to211113_091452_calibrated_icrs_Tmb.fits\n",
      "Doing Doppler Tracking!\n"
     ]
    },
    {
     "name": "stderr",
     "output_type": "stream",
     "text": [
      "WARNING: NoVelocityWarning: No velocity defined on frame, assuming (0., 0., 0.) km / s. [astropy.coordinates.spectral_coordinate]\n",
      "WARNING: NoDistanceWarning: Distance on coordinate object is dimensionless, an arbitrary distance value of 1000000.0 kpc will be set instead. [astropy.coordinates.spectral_coordinate]\n"
     ]
    },
    {
     "name": "stdout",
     "output_type": "stream",
     "text": [
      "Gridding /bb8/lingrui/my_projects/FAST_pipeline/Sun17_A_04/M14/Calibrated/Sun17_A_04_arcdrift-M14_N_0002_211113_091452to211113_092144_calibrated_icrs_Tmb.fits\n",
      "Doing Doppler Tracking!\n"
     ]
    },
    {
     "name": "stderr",
     "output_type": "stream",
     "text": [
      "WARNING: NoVelocityWarning: No velocity defined on frame, assuming (0., 0., 0.) km / s. [astropy.coordinates.spectral_coordinate]\n",
      "WARNING: NoDistanceWarning: Distance on coordinate object is dimensionless, an arbitrary distance value of 1000000.0 kpc will be set instead. [astropy.coordinates.spectral_coordinate]\n"
     ]
    },
    {
     "name": "stdout",
     "output_type": "stream",
     "text": [
      "Gridding /bb8/lingrui/my_projects/FAST_pipeline/Sun17_A_04/M14/Calibrated/Sun17_A_04_arcdrift-M14_N_0003_211113_092144to211113_092148_calibrated_icrs_Tmb.fits\n",
      "Doing Doppler Tracking!\n"
     ]
    },
    {
     "name": "stderr",
     "output_type": "stream",
     "text": [
      "WARNING: NoVelocityWarning: No velocity defined on frame, assuming (0., 0., 0.) km / s. [astropy.coordinates.spectral_coordinate]\n",
      "WARNING: NoDistanceWarning: Distance on coordinate object is dimensionless, an arbitrary distance value of 1000000.0 kpc will be set instead. [astropy.coordinates.spectral_coordinate]\n"
     ]
    },
    {
     "name": "stdout",
     "output_type": "stream",
     "text": [
      "Gridding /bb8/lingrui/my_projects/FAST_pipeline/Sun17_A_04/M15/Calibrated/Sun17_A_04_arcdrift-M15_N_0001_211113_090800to211113_091452_calibrated_icrs_Tmb.fits\n",
      "Doing Doppler Tracking!\n"
     ]
    },
    {
     "name": "stderr",
     "output_type": "stream",
     "text": [
      "WARNING: NoVelocityWarning: No velocity defined on frame, assuming (0., 0., 0.) km / s. [astropy.coordinates.spectral_coordinate]\n",
      "WARNING: NoDistanceWarning: Distance on coordinate object is dimensionless, an arbitrary distance value of 1000000.0 kpc will be set instead. [astropy.coordinates.spectral_coordinate]\n"
     ]
    },
    {
     "name": "stdout",
     "output_type": "stream",
     "text": [
      "Gridding /bb8/lingrui/my_projects/FAST_pipeline/Sun17_A_04/M15/Calibrated/Sun17_A_04_arcdrift-M15_N_0002_211113_091452to211113_092144_calibrated_icrs_Tmb.fits\n",
      "Doing Doppler Tracking!\n"
     ]
    },
    {
     "name": "stderr",
     "output_type": "stream",
     "text": [
      "WARNING: NoVelocityWarning: No velocity defined on frame, assuming (0., 0., 0.) km / s. [astropy.coordinates.spectral_coordinate]\n",
      "WARNING: NoDistanceWarning: Distance on coordinate object is dimensionless, an arbitrary distance value of 1000000.0 kpc will be set instead. [astropy.coordinates.spectral_coordinate]\n"
     ]
    },
    {
     "name": "stdout",
     "output_type": "stream",
     "text": [
      "Gridding /bb8/lingrui/my_projects/FAST_pipeline/Sun17_A_04/M15/Calibrated/Sun17_A_04_arcdrift-M15_N_0003_211113_092144to211113_092148_calibrated_icrs_Tmb.fits\n",
      "Doing Doppler Tracking!\n"
     ]
    },
    {
     "name": "stderr",
     "output_type": "stream",
     "text": [
      "WARNING: NoVelocityWarning: No velocity defined on frame, assuming (0., 0., 0.) km / s. [astropy.coordinates.spectral_coordinate]\n",
      "WARNING: NoDistanceWarning: Distance on coordinate object is dimensionless, an arbitrary distance value of 1000000.0 kpc will be set instead. [astropy.coordinates.spectral_coordinate]\n"
     ]
    },
    {
     "name": "stdout",
     "output_type": "stream",
     "text": [
      "Gridding /bb8/lingrui/my_projects/FAST_pipeline/Sun17_A_04/M16/Calibrated/Sun17_A_04_arcdrift-M16_N_0001_211113_090800to211113_091452_calibrated_icrs_Tmb.fits\n",
      "Doing Doppler Tracking!\n"
     ]
    },
    {
     "name": "stderr",
     "output_type": "stream",
     "text": [
      "WARNING: NoVelocityWarning: No velocity defined on frame, assuming (0., 0., 0.) km / s. [astropy.coordinates.spectral_coordinate]\n",
      "WARNING: NoDistanceWarning: Distance on coordinate object is dimensionless, an arbitrary distance value of 1000000.0 kpc will be set instead. [astropy.coordinates.spectral_coordinate]\n"
     ]
    },
    {
     "name": "stdout",
     "output_type": "stream",
     "text": [
      "Gridding /bb8/lingrui/my_projects/FAST_pipeline/Sun17_A_04/M16/Calibrated/Sun17_A_04_arcdrift-M16_N_0002_211113_091452to211113_092144_calibrated_icrs_Tmb.fits\n",
      "Doing Doppler Tracking!\n"
     ]
    },
    {
     "name": "stderr",
     "output_type": "stream",
     "text": [
      "WARNING: NoVelocityWarning: No velocity defined on frame, assuming (0., 0., 0.) km / s. [astropy.coordinates.spectral_coordinate]\n",
      "WARNING: NoDistanceWarning: Distance on coordinate object is dimensionless, an arbitrary distance value of 1000000.0 kpc will be set instead. [astropy.coordinates.spectral_coordinate]\n"
     ]
    },
    {
     "name": "stdout",
     "output_type": "stream",
     "text": [
      "Gridding /bb8/lingrui/my_projects/FAST_pipeline/Sun17_A_04/M16/Calibrated/Sun17_A_04_arcdrift-M16_N_0003_211113_092144to211113_092148_calibrated_icrs_Tmb.fits\n",
      "Doing Doppler Tracking!\n"
     ]
    },
    {
     "name": "stderr",
     "output_type": "stream",
     "text": [
      "WARNING: NoVelocityWarning: No velocity defined on frame, assuming (0., 0., 0.) km / s. [astropy.coordinates.spectral_coordinate]\n",
      "WARNING: NoDistanceWarning: Distance on coordinate object is dimensionless, an arbitrary distance value of 1000000.0 kpc will be set instead. [astropy.coordinates.spectral_coordinate]\n"
     ]
    },
    {
     "name": "stdout",
     "output_type": "stream",
     "text": [
      "Gridding /bb8/lingrui/my_projects/FAST_pipeline/Sun17_A_04/M17/Calibrated/Sun17_A_04_arcdrift-M17_N_0001_211113_090800to211113_091452_calibrated_icrs_Tmb.fits\n",
      "Doing Doppler Tracking!\n"
     ]
    },
    {
     "name": "stderr",
     "output_type": "stream",
     "text": [
      "WARNING: NoVelocityWarning: No velocity defined on frame, assuming (0., 0., 0.) km / s. [astropy.coordinates.spectral_coordinate]\n",
      "WARNING: NoDistanceWarning: Distance on coordinate object is dimensionless, an arbitrary distance value of 1000000.0 kpc will be set instead. [astropy.coordinates.spectral_coordinate]\n"
     ]
    },
    {
     "name": "stdout",
     "output_type": "stream",
     "text": [
      "Gridding /bb8/lingrui/my_projects/FAST_pipeline/Sun17_A_04/M17/Calibrated/Sun17_A_04_arcdrift-M17_N_0002_211113_091452to211113_092144_calibrated_icrs_Tmb.fits\n",
      "Doing Doppler Tracking!\n"
     ]
    },
    {
     "name": "stderr",
     "output_type": "stream",
     "text": [
      "WARNING: NoVelocityWarning: No velocity defined on frame, assuming (0., 0., 0.) km / s. [astropy.coordinates.spectral_coordinate]\n",
      "WARNING: NoDistanceWarning: Distance on coordinate object is dimensionless, an arbitrary distance value of 1000000.0 kpc will be set instead. [astropy.coordinates.spectral_coordinate]\n"
     ]
    },
    {
     "name": "stdout",
     "output_type": "stream",
     "text": [
      "Gridding /bb8/lingrui/my_projects/FAST_pipeline/Sun17_A_04/M17/Calibrated/Sun17_A_04_arcdrift-M17_N_0003_211113_092144to211113_092148_calibrated_icrs_Tmb.fits\n",
      "Doing Doppler Tracking!\n"
     ]
    },
    {
     "name": "stderr",
     "output_type": "stream",
     "text": [
      "WARNING: NoVelocityWarning: No velocity defined on frame, assuming (0., 0., 0.) km / s. [astropy.coordinates.spectral_coordinate]\n",
      "WARNING: NoDistanceWarning: Distance on coordinate object is dimensionless, an arbitrary distance value of 1000000.0 kpc will be set instead. [astropy.coordinates.spectral_coordinate]\n"
     ]
    },
    {
     "name": "stdout",
     "output_type": "stream",
     "text": [
      "Gridding /bb8/lingrui/my_projects/FAST_pipeline/Sun17_A_04/M18/Calibrated/Sun17_A_04_arcdrift-M18_N_0001_211113_090800to211113_091452_calibrated_icrs_Tmb.fits\n",
      "Doing Doppler Tracking!\n"
     ]
    },
    {
     "name": "stderr",
     "output_type": "stream",
     "text": [
      "WARNING: NoVelocityWarning: No velocity defined on frame, assuming (0., 0., 0.) km / s. [astropy.coordinates.spectral_coordinate]\n",
      "WARNING: NoDistanceWarning: Distance on coordinate object is dimensionless, an arbitrary distance value of 1000000.0 kpc will be set instead. [astropy.coordinates.spectral_coordinate]\n"
     ]
    },
    {
     "name": "stdout",
     "output_type": "stream",
     "text": [
      "Gridding /bb8/lingrui/my_projects/FAST_pipeline/Sun17_A_04/M18/Calibrated/Sun17_A_04_arcdrift-M18_N_0002_211113_091452to211113_092144_calibrated_icrs_Tmb.fits\n",
      "Doing Doppler Tracking!\n"
     ]
    },
    {
     "name": "stderr",
     "output_type": "stream",
     "text": [
      "WARNING: NoVelocityWarning: No velocity defined on frame, assuming (0., 0., 0.) km / s. [astropy.coordinates.spectral_coordinate]\n",
      "WARNING: NoDistanceWarning: Distance on coordinate object is dimensionless, an arbitrary distance value of 1000000.0 kpc will be set instead. [astropy.coordinates.spectral_coordinate]\n"
     ]
    },
    {
     "name": "stdout",
     "output_type": "stream",
     "text": [
      "Gridding /bb8/lingrui/my_projects/FAST_pipeline/Sun17_A_04/M18/Calibrated/Sun17_A_04_arcdrift-M18_N_0003_211113_092144to211113_092148_calibrated_icrs_Tmb.fits\n",
      "Doing Doppler Tracking!\n"
     ]
    },
    {
     "name": "stderr",
     "output_type": "stream",
     "text": [
      "WARNING: NoVelocityWarning: No velocity defined on frame, assuming (0., 0., 0.) km / s. [astropy.coordinates.spectral_coordinate]\n",
      "WARNING: NoDistanceWarning: Distance on coordinate object is dimensionless, an arbitrary distance value of 1000000.0 kpc will be set instead. [astropy.coordinates.spectral_coordinate]\n"
     ]
    },
    {
     "name": "stdout",
     "output_type": "stream",
     "text": [
      "Gridding /bb8/lingrui/my_projects/FAST_pipeline/Sun17_A_04/M19/Calibrated/Sun17_A_04_arcdrift-M19_N_0001_211113_090800to211113_091452_calibrated_icrs_Tmb.fits\n",
      "Doing Doppler Tracking!\n"
     ]
    },
    {
     "name": "stderr",
     "output_type": "stream",
     "text": [
      "WARNING: NoVelocityWarning: No velocity defined on frame, assuming (0., 0., 0.) km / s. [astropy.coordinates.spectral_coordinate]\n",
      "WARNING: NoDistanceWarning: Distance on coordinate object is dimensionless, an arbitrary distance value of 1000000.0 kpc will be set instead. [astropy.coordinates.spectral_coordinate]\n"
     ]
    },
    {
     "name": "stdout",
     "output_type": "stream",
     "text": [
      "Gridding /bb8/lingrui/my_projects/FAST_pipeline/Sun17_A_04/M19/Calibrated/Sun17_A_04_arcdrift-M19_N_0002_211113_091452to211113_092144_calibrated_icrs_Tmb.fits\n",
      "Doing Doppler Tracking!\n"
     ]
    },
    {
     "name": "stderr",
     "output_type": "stream",
     "text": [
      "WARNING: NoVelocityWarning: No velocity defined on frame, assuming (0., 0., 0.) km / s. [astropy.coordinates.spectral_coordinate]\n",
      "WARNING: NoDistanceWarning: Distance on coordinate object is dimensionless, an arbitrary distance value of 1000000.0 kpc will be set instead. [astropy.coordinates.spectral_coordinate]\n"
     ]
    },
    {
     "name": "stdout",
     "output_type": "stream",
     "text": [
      "Gridding /bb8/lingrui/my_projects/FAST_pipeline/Sun17_A_04/M19/Calibrated/Sun17_A_04_arcdrift-M19_N_0003_211113_092144to211113_092148_calibrated_icrs_Tmb.fits\n",
      "Doing Doppler Tracking!\n"
     ]
    },
    {
     "name": "stderr",
     "output_type": "stream",
     "text": [
      "WARNING: NoVelocityWarning: No velocity defined on frame, assuming (0., 0., 0.) km / s. [astropy.coordinates.spectral_coordinate]\n",
      "WARNING: NoDistanceWarning: Distance on coordinate object is dimensionless, an arbitrary distance value of 1000000.0 kpc will be set instead. [astropy.coordinates.spectral_coordinate]\n"
     ]
    },
    {
     "name": "stdout",
     "output_type": "stream",
     "text": [
      "Gridding /bb8/lingrui/my_projects/FAST_pipeline/Sun17_A_05/M01/Calibrated/Sun17_A_05_arcdrift-M01_N_0001_211023_103700to211023_104352_calibrated_icrs_Tmb.fits\n",
      "Doing Doppler Tracking!\n"
     ]
    },
    {
     "name": "stderr",
     "output_type": "stream",
     "text": [
      "WARNING: NoVelocityWarning: No velocity defined on frame, assuming (0., 0., 0.) km / s. [astropy.coordinates.spectral_coordinate]\n",
      "WARNING: NoDistanceWarning: Distance on coordinate object is dimensionless, an arbitrary distance value of 1000000.0 kpc will be set instead. [astropy.coordinates.spectral_coordinate]\n"
     ]
    },
    {
     "name": "stdout",
     "output_type": "stream",
     "text": [
      "Gridding /bb8/lingrui/my_projects/FAST_pipeline/Sun17_A_05/M01/Calibrated/Sun17_A_05_arcdrift-M01_N_0002_211023_104352to211023_105044_calibrated_icrs_Tmb.fits\n",
      "Doing Doppler Tracking!\n"
     ]
    },
    {
     "name": "stderr",
     "output_type": "stream",
     "text": [
      "WARNING: NoVelocityWarning: No velocity defined on frame, assuming (0., 0., 0.) km / s. [astropy.coordinates.spectral_coordinate]\n",
      "WARNING: NoDistanceWarning: Distance on coordinate object is dimensionless, an arbitrary distance value of 1000000.0 kpc will be set instead. [astropy.coordinates.spectral_coordinate]\n"
     ]
    },
    {
     "name": "stdout",
     "output_type": "stream",
     "text": [
      "Gridding /bb8/lingrui/my_projects/FAST_pipeline/Sun17_A_05/M01/Calibrated/Sun17_A_05_arcdrift-M01_N_0003_211023_105044to211023_105048_calibrated_icrs_Tmb.fits\n",
      "Doing Doppler Tracking!\n"
     ]
    },
    {
     "name": "stderr",
     "output_type": "stream",
     "text": [
      "WARNING: NoVelocityWarning: No velocity defined on frame, assuming (0., 0., 0.) km / s. [astropy.coordinates.spectral_coordinate]\n",
      "WARNING: NoDistanceWarning: Distance on coordinate object is dimensionless, an arbitrary distance value of 1000000.0 kpc will be set instead. [astropy.coordinates.spectral_coordinate]\n"
     ]
    },
    {
     "name": "stdout",
     "output_type": "stream",
     "text": [
      "Gridding /bb8/lingrui/my_projects/FAST_pipeline/Sun17_A_05/M02/Calibrated/Sun17_A_05_arcdrift-M02_N_0001_211023_103700to211023_104352_calibrated_icrs_Tmb.fits\n",
      "Doing Doppler Tracking!\n"
     ]
    },
    {
     "name": "stderr",
     "output_type": "stream",
     "text": [
      "WARNING: NoVelocityWarning: No velocity defined on frame, assuming (0., 0., 0.) km / s. [astropy.coordinates.spectral_coordinate]\n",
      "WARNING: NoDistanceWarning: Distance on coordinate object is dimensionless, an arbitrary distance value of 1000000.0 kpc will be set instead. [astropy.coordinates.spectral_coordinate]\n"
     ]
    },
    {
     "name": "stdout",
     "output_type": "stream",
     "text": [
      "Gridding /bb8/lingrui/my_projects/FAST_pipeline/Sun17_A_05/M02/Calibrated/Sun17_A_05_arcdrift-M02_N_0002_211023_104352to211023_105044_calibrated_icrs_Tmb.fits\n",
      "Doing Doppler Tracking!\n"
     ]
    },
    {
     "name": "stderr",
     "output_type": "stream",
     "text": [
      "WARNING: NoVelocityWarning: No velocity defined on frame, assuming (0., 0., 0.) km / s. [astropy.coordinates.spectral_coordinate]\n",
      "WARNING: NoDistanceWarning: Distance on coordinate object is dimensionless, an arbitrary distance value of 1000000.0 kpc will be set instead. [astropy.coordinates.spectral_coordinate]\n"
     ]
    },
    {
     "name": "stdout",
     "output_type": "stream",
     "text": [
      "Gridding /bb8/lingrui/my_projects/FAST_pipeline/Sun17_A_05/M02/Calibrated/Sun17_A_05_arcdrift-M02_N_0003_211023_105044to211023_105048_calibrated_icrs_Tmb.fits\n",
      "Doing Doppler Tracking!\n"
     ]
    },
    {
     "name": "stderr",
     "output_type": "stream",
     "text": [
      "WARNING: NoVelocityWarning: No velocity defined on frame, assuming (0., 0., 0.) km / s. [astropy.coordinates.spectral_coordinate]\n",
      "WARNING: NoDistanceWarning: Distance on coordinate object is dimensionless, an arbitrary distance value of 1000000.0 kpc will be set instead. [astropy.coordinates.spectral_coordinate]\n"
     ]
    },
    {
     "name": "stdout",
     "output_type": "stream",
     "text": [
      "Gridding /bb8/lingrui/my_projects/FAST_pipeline/Sun17_A_05/M03/Calibrated/Sun17_A_05_arcdrift-M03_N_0001_211023_103700to211023_104352_calibrated_icrs_Tmb.fits\n",
      "Doing Doppler Tracking!\n"
     ]
    },
    {
     "name": "stderr",
     "output_type": "stream",
     "text": [
      "WARNING: NoVelocityWarning: No velocity defined on frame, assuming (0., 0., 0.) km / s. [astropy.coordinates.spectral_coordinate]\n",
      "WARNING: NoDistanceWarning: Distance on coordinate object is dimensionless, an arbitrary distance value of 1000000.0 kpc will be set instead. [astropy.coordinates.spectral_coordinate]\n"
     ]
    },
    {
     "name": "stdout",
     "output_type": "stream",
     "text": [
      "Gridding /bb8/lingrui/my_projects/FAST_pipeline/Sun17_A_05/M03/Calibrated/Sun17_A_05_arcdrift-M03_N_0002_211023_104352to211023_105044_calibrated_icrs_Tmb.fits\n",
      "Doing Doppler Tracking!\n"
     ]
    },
    {
     "name": "stderr",
     "output_type": "stream",
     "text": [
      "WARNING: NoVelocityWarning: No velocity defined on frame, assuming (0., 0., 0.) km / s. [astropy.coordinates.spectral_coordinate]\n",
      "WARNING: NoDistanceWarning: Distance on coordinate object is dimensionless, an arbitrary distance value of 1000000.0 kpc will be set instead. [astropy.coordinates.spectral_coordinate]\n"
     ]
    },
    {
     "name": "stdout",
     "output_type": "stream",
     "text": [
      "Gridding /bb8/lingrui/my_projects/FAST_pipeline/Sun17_A_05/M03/Calibrated/Sun17_A_05_arcdrift-M03_N_0003_211023_105044to211023_105048_calibrated_icrs_Tmb.fits\n",
      "Doing Doppler Tracking!\n"
     ]
    },
    {
     "name": "stderr",
     "output_type": "stream",
     "text": [
      "WARNING: NoVelocityWarning: No velocity defined on frame, assuming (0., 0., 0.) km / s. [astropy.coordinates.spectral_coordinate]\n",
      "WARNING: NoDistanceWarning: Distance on coordinate object is dimensionless, an arbitrary distance value of 1000000.0 kpc will be set instead. [astropy.coordinates.spectral_coordinate]\n"
     ]
    },
    {
     "name": "stdout",
     "output_type": "stream",
     "text": [
      "Gridding /bb8/lingrui/my_projects/FAST_pipeline/Sun17_A_05/M04/Calibrated/Sun17_A_05_arcdrift-M04_N_0001_211023_103700to211023_104352_calibrated_icrs_Tmb.fits\n",
      "Doing Doppler Tracking!\n"
     ]
    },
    {
     "name": "stderr",
     "output_type": "stream",
     "text": [
      "WARNING: NoVelocityWarning: No velocity defined on frame, assuming (0., 0., 0.) km / s. [astropy.coordinates.spectral_coordinate]\n",
      "WARNING: NoDistanceWarning: Distance on coordinate object is dimensionless, an arbitrary distance value of 1000000.0 kpc will be set instead. [astropy.coordinates.spectral_coordinate]\n"
     ]
    },
    {
     "name": "stdout",
     "output_type": "stream",
     "text": [
      "Gridding /bb8/lingrui/my_projects/FAST_pipeline/Sun17_A_05/M04/Calibrated/Sun17_A_05_arcdrift-M04_N_0002_211023_104352to211023_105044_calibrated_icrs_Tmb.fits\n",
      "Doing Doppler Tracking!\n"
     ]
    },
    {
     "name": "stderr",
     "output_type": "stream",
     "text": [
      "WARNING: NoVelocityWarning: No velocity defined on frame, assuming (0., 0., 0.) km / s. [astropy.coordinates.spectral_coordinate]\n",
      "WARNING: NoDistanceWarning: Distance on coordinate object is dimensionless, an arbitrary distance value of 1000000.0 kpc will be set instead. [astropy.coordinates.spectral_coordinate]\n"
     ]
    },
    {
     "name": "stdout",
     "output_type": "stream",
     "text": [
      "Gridding /bb8/lingrui/my_projects/FAST_pipeline/Sun17_A_05/M04/Calibrated/Sun17_A_05_arcdrift-M04_N_0003_211023_105044to211023_105048_calibrated_icrs_Tmb.fits\n",
      "Doing Doppler Tracking!\n"
     ]
    },
    {
     "name": "stderr",
     "output_type": "stream",
     "text": [
      "WARNING: NoVelocityWarning: No velocity defined on frame, assuming (0., 0., 0.) km / s. [astropy.coordinates.spectral_coordinate]\n",
      "WARNING: NoDistanceWarning: Distance on coordinate object is dimensionless, an arbitrary distance value of 1000000.0 kpc will be set instead. [astropy.coordinates.spectral_coordinate]\n"
     ]
    },
    {
     "name": "stdout",
     "output_type": "stream",
     "text": [
      "Gridding /bb8/lingrui/my_projects/FAST_pipeline/Sun17_A_05/M05/Calibrated/Sun17_A_05_arcdrift-M05_N_0001_211023_103700to211023_104352_calibrated_icrs_Tmb.fits\n",
      "Doing Doppler Tracking!\n"
     ]
    },
    {
     "name": "stderr",
     "output_type": "stream",
     "text": [
      "WARNING: NoVelocityWarning: No velocity defined on frame, assuming (0., 0., 0.) km / s. [astropy.coordinates.spectral_coordinate]\n",
      "WARNING: NoDistanceWarning: Distance on coordinate object is dimensionless, an arbitrary distance value of 1000000.0 kpc will be set instead. [astropy.coordinates.spectral_coordinate]\n"
     ]
    },
    {
     "name": "stdout",
     "output_type": "stream",
     "text": [
      "Gridding /bb8/lingrui/my_projects/FAST_pipeline/Sun17_A_05/M05/Calibrated/Sun17_A_05_arcdrift-M05_N_0002_211023_104352to211023_105044_calibrated_icrs_Tmb.fits\n",
      "Doing Doppler Tracking!\n"
     ]
    },
    {
     "name": "stderr",
     "output_type": "stream",
     "text": [
      "WARNING: NoVelocityWarning: No velocity defined on frame, assuming (0., 0., 0.) km / s. [astropy.coordinates.spectral_coordinate]\n",
      "WARNING: NoDistanceWarning: Distance on coordinate object is dimensionless, an arbitrary distance value of 1000000.0 kpc will be set instead. [astropy.coordinates.spectral_coordinate]\n"
     ]
    },
    {
     "name": "stdout",
     "output_type": "stream",
     "text": [
      "Gridding /bb8/lingrui/my_projects/FAST_pipeline/Sun17_A_05/M05/Calibrated/Sun17_A_05_arcdrift-M05_N_0003_211023_105044to211023_105048_calibrated_icrs_Tmb.fits\n",
      "Doing Doppler Tracking!\n"
     ]
    },
    {
     "name": "stderr",
     "output_type": "stream",
     "text": [
      "WARNING: NoVelocityWarning: No velocity defined on frame, assuming (0., 0., 0.) km / s. [astropy.coordinates.spectral_coordinate]\n",
      "WARNING: NoDistanceWarning: Distance on coordinate object is dimensionless, an arbitrary distance value of 1000000.0 kpc will be set instead. [astropy.coordinates.spectral_coordinate]\n"
     ]
    },
    {
     "name": "stdout",
     "output_type": "stream",
     "text": [
      "Gridding /bb8/lingrui/my_projects/FAST_pipeline/Sun17_A_05/M06/Calibrated/Sun17_A_05_arcdrift-M06_N_0001_211023_103700to211023_104352_calibrated_icrs_Tmb.fits\n",
      "Doing Doppler Tracking!\n"
     ]
    },
    {
     "name": "stderr",
     "output_type": "stream",
     "text": [
      "WARNING: NoVelocityWarning: No velocity defined on frame, assuming (0., 0., 0.) km / s. [astropy.coordinates.spectral_coordinate]\n",
      "WARNING: NoDistanceWarning: Distance on coordinate object is dimensionless, an arbitrary distance value of 1000000.0 kpc will be set instead. [astropy.coordinates.spectral_coordinate]\n"
     ]
    },
    {
     "name": "stdout",
     "output_type": "stream",
     "text": [
      "Gridding /bb8/lingrui/my_projects/FAST_pipeline/Sun17_A_05/M06/Calibrated/Sun17_A_05_arcdrift-M06_N_0002_211023_104352to211023_105044_calibrated_icrs_Tmb.fits\n",
      "Doing Doppler Tracking!\n"
     ]
    },
    {
     "name": "stderr",
     "output_type": "stream",
     "text": [
      "WARNING: NoVelocityWarning: No velocity defined on frame, assuming (0., 0., 0.) km / s. [astropy.coordinates.spectral_coordinate]\n",
      "WARNING: NoDistanceWarning: Distance on coordinate object is dimensionless, an arbitrary distance value of 1000000.0 kpc will be set instead. [astropy.coordinates.spectral_coordinate]\n"
     ]
    },
    {
     "name": "stdout",
     "output_type": "stream",
     "text": [
      "Gridding /bb8/lingrui/my_projects/FAST_pipeline/Sun17_A_05/M06/Calibrated/Sun17_A_05_arcdrift-M06_N_0003_211023_105044to211023_105048_calibrated_icrs_Tmb.fits\n",
      "Doing Doppler Tracking!\n"
     ]
    },
    {
     "name": "stderr",
     "output_type": "stream",
     "text": [
      "WARNING: NoVelocityWarning: No velocity defined on frame, assuming (0., 0., 0.) km / s. [astropy.coordinates.spectral_coordinate]\n",
      "WARNING: NoDistanceWarning: Distance on coordinate object is dimensionless, an arbitrary distance value of 1000000.0 kpc will be set instead. [astropy.coordinates.spectral_coordinate]\n"
     ]
    },
    {
     "name": "stdout",
     "output_type": "stream",
     "text": [
      "Gridding /bb8/lingrui/my_projects/FAST_pipeline/Sun17_A_05/M07/Calibrated/Sun17_A_05_arcdrift-M07_N_0001_211023_103700to211023_104352_calibrated_icrs_Tmb.fits\n",
      "Doing Doppler Tracking!\n"
     ]
    },
    {
     "name": "stderr",
     "output_type": "stream",
     "text": [
      "WARNING: NoVelocityWarning: No velocity defined on frame, assuming (0., 0., 0.) km / s. [astropy.coordinates.spectral_coordinate]\n",
      "WARNING: NoDistanceWarning: Distance on coordinate object is dimensionless, an arbitrary distance value of 1000000.0 kpc will be set instead. [astropy.coordinates.spectral_coordinate]\n"
     ]
    },
    {
     "name": "stdout",
     "output_type": "stream",
     "text": [
      "Gridding /bb8/lingrui/my_projects/FAST_pipeline/Sun17_A_05/M07/Calibrated/Sun17_A_05_arcdrift-M07_N_0002_211023_104352to211023_105044_calibrated_icrs_Tmb.fits\n",
      "Doing Doppler Tracking!\n"
     ]
    },
    {
     "name": "stderr",
     "output_type": "stream",
     "text": [
      "WARNING: NoVelocityWarning: No velocity defined on frame, assuming (0., 0., 0.) km / s. [astropy.coordinates.spectral_coordinate]\n",
      "WARNING: NoDistanceWarning: Distance on coordinate object is dimensionless, an arbitrary distance value of 1000000.0 kpc will be set instead. [astropy.coordinates.spectral_coordinate]\n"
     ]
    },
    {
     "name": "stdout",
     "output_type": "stream",
     "text": [
      "Gridding /bb8/lingrui/my_projects/FAST_pipeline/Sun17_A_05/M07/Calibrated/Sun17_A_05_arcdrift-M07_N_0003_211023_105044to211023_105048_calibrated_icrs_Tmb.fits\n",
      "Doing Doppler Tracking!\n"
     ]
    },
    {
     "name": "stderr",
     "output_type": "stream",
     "text": [
      "WARNING: NoVelocityWarning: No velocity defined on frame, assuming (0., 0., 0.) km / s. [astropy.coordinates.spectral_coordinate]\n",
      "WARNING: NoDistanceWarning: Distance on coordinate object is dimensionless, an arbitrary distance value of 1000000.0 kpc will be set instead. [astropy.coordinates.spectral_coordinate]\n"
     ]
    },
    {
     "name": "stdout",
     "output_type": "stream",
     "text": [
      "Gridding /bb8/lingrui/my_projects/FAST_pipeline/Sun17_A_05/M08/Calibrated/Sun17_A_05_arcdrift-M08_N_0001_211023_103700to211023_104352_calibrated_icrs_Tmb.fits\n",
      "Doing Doppler Tracking!\n"
     ]
    },
    {
     "name": "stderr",
     "output_type": "stream",
     "text": [
      "WARNING: NoVelocityWarning: No velocity defined on frame, assuming (0., 0., 0.) km / s. [astropy.coordinates.spectral_coordinate]\n",
      "WARNING: NoDistanceWarning: Distance on coordinate object is dimensionless, an arbitrary distance value of 1000000.0 kpc will be set instead. [astropy.coordinates.spectral_coordinate]\n"
     ]
    },
    {
     "name": "stdout",
     "output_type": "stream",
     "text": [
      "Gridding /bb8/lingrui/my_projects/FAST_pipeline/Sun17_A_05/M08/Calibrated/Sun17_A_05_arcdrift-M08_N_0002_211023_104352to211023_105044_calibrated_icrs_Tmb.fits\n",
      "Doing Doppler Tracking!\n"
     ]
    },
    {
     "name": "stderr",
     "output_type": "stream",
     "text": [
      "WARNING: NoVelocityWarning: No velocity defined on frame, assuming (0., 0., 0.) km / s. [astropy.coordinates.spectral_coordinate]\n",
      "WARNING: NoDistanceWarning: Distance on coordinate object is dimensionless, an arbitrary distance value of 1000000.0 kpc will be set instead. [astropy.coordinates.spectral_coordinate]\n"
     ]
    },
    {
     "name": "stdout",
     "output_type": "stream",
     "text": [
      "Gridding /bb8/lingrui/my_projects/FAST_pipeline/Sun17_A_05/M08/Calibrated/Sun17_A_05_arcdrift-M08_N_0003_211023_105044to211023_105048_calibrated_icrs_Tmb.fits\n",
      "Doing Doppler Tracking!\n"
     ]
    },
    {
     "name": "stderr",
     "output_type": "stream",
     "text": [
      "WARNING: NoVelocityWarning: No velocity defined on frame, assuming (0., 0., 0.) km / s. [astropy.coordinates.spectral_coordinate]\n",
      "WARNING: NoDistanceWarning: Distance on coordinate object is dimensionless, an arbitrary distance value of 1000000.0 kpc will be set instead. [astropy.coordinates.spectral_coordinate]\n"
     ]
    },
    {
     "name": "stdout",
     "output_type": "stream",
     "text": [
      "Gridding /bb8/lingrui/my_projects/FAST_pipeline/Sun17_A_05/M09/Calibrated/Sun17_A_05_arcdrift-M09_N_0001_211023_103700to211023_104352_calibrated_icrs_Tmb.fits\n",
      "Doing Doppler Tracking!\n"
     ]
    },
    {
     "name": "stderr",
     "output_type": "stream",
     "text": [
      "WARNING: NoVelocityWarning: No velocity defined on frame, assuming (0., 0., 0.) km / s. [astropy.coordinates.spectral_coordinate]\n",
      "WARNING: NoDistanceWarning: Distance on coordinate object is dimensionless, an arbitrary distance value of 1000000.0 kpc will be set instead. [astropy.coordinates.spectral_coordinate]\n"
     ]
    },
    {
     "name": "stdout",
     "output_type": "stream",
     "text": [
      "Gridding /bb8/lingrui/my_projects/FAST_pipeline/Sun17_A_05/M09/Calibrated/Sun17_A_05_arcdrift-M09_N_0002_211023_104352to211023_105044_calibrated_icrs_Tmb.fits\n",
      "Doing Doppler Tracking!\n"
     ]
    },
    {
     "name": "stderr",
     "output_type": "stream",
     "text": [
      "WARNING: NoVelocityWarning: No velocity defined on frame, assuming (0., 0., 0.) km / s. [astropy.coordinates.spectral_coordinate]\n",
      "WARNING: NoDistanceWarning: Distance on coordinate object is dimensionless, an arbitrary distance value of 1000000.0 kpc will be set instead. [astropy.coordinates.spectral_coordinate]\n"
     ]
    },
    {
     "name": "stdout",
     "output_type": "stream",
     "text": [
      "Gridding /bb8/lingrui/my_projects/FAST_pipeline/Sun17_A_05/M09/Calibrated/Sun17_A_05_arcdrift-M09_N_0003_211023_105044to211023_105048_calibrated_icrs_Tmb.fits\n",
      "Doing Doppler Tracking!\n"
     ]
    },
    {
     "name": "stderr",
     "output_type": "stream",
     "text": [
      "WARNING: NoVelocityWarning: No velocity defined on frame, assuming (0., 0., 0.) km / s. [astropy.coordinates.spectral_coordinate]\n",
      "WARNING: NoDistanceWarning: Distance on coordinate object is dimensionless, an arbitrary distance value of 1000000.0 kpc will be set instead. [astropy.coordinates.spectral_coordinate]\n"
     ]
    },
    {
     "name": "stdout",
     "output_type": "stream",
     "text": [
      "Gridding /bb8/lingrui/my_projects/FAST_pipeline/Sun17_A_05/M10/Calibrated/Sun17_A_05_arcdrift-M10_N_0001_211023_103700to211023_104352_calibrated_icrs_Tmb.fits\n",
      "Doing Doppler Tracking!\n"
     ]
    },
    {
     "name": "stderr",
     "output_type": "stream",
     "text": [
      "WARNING: NoVelocityWarning: No velocity defined on frame, assuming (0., 0., 0.) km / s. [astropy.coordinates.spectral_coordinate]\n",
      "WARNING: NoDistanceWarning: Distance on coordinate object is dimensionless, an arbitrary distance value of 1000000.0 kpc will be set instead. [astropy.coordinates.spectral_coordinate]\n"
     ]
    },
    {
     "name": "stdout",
     "output_type": "stream",
     "text": [
      "Gridding /bb8/lingrui/my_projects/FAST_pipeline/Sun17_A_05/M10/Calibrated/Sun17_A_05_arcdrift-M10_N_0002_211023_104352to211023_105044_calibrated_icrs_Tmb.fits\n",
      "Doing Doppler Tracking!\n"
     ]
    },
    {
     "name": "stderr",
     "output_type": "stream",
     "text": [
      "WARNING: NoVelocityWarning: No velocity defined on frame, assuming (0., 0., 0.) km / s. [astropy.coordinates.spectral_coordinate]\n",
      "WARNING: NoDistanceWarning: Distance on coordinate object is dimensionless, an arbitrary distance value of 1000000.0 kpc will be set instead. [astropy.coordinates.spectral_coordinate]\n"
     ]
    },
    {
     "name": "stdout",
     "output_type": "stream",
     "text": [
      "Gridding /bb8/lingrui/my_projects/FAST_pipeline/Sun17_A_05/M10/Calibrated/Sun17_A_05_arcdrift-M10_N_0003_211023_105044to211023_105048_calibrated_icrs_Tmb.fits\n",
      "Doing Doppler Tracking!\n"
     ]
    },
    {
     "name": "stderr",
     "output_type": "stream",
     "text": [
      "WARNING: NoVelocityWarning: No velocity defined on frame, assuming (0., 0., 0.) km / s. [astropy.coordinates.spectral_coordinate]\n",
      "WARNING: NoDistanceWarning: Distance on coordinate object is dimensionless, an arbitrary distance value of 1000000.0 kpc will be set instead. [astropy.coordinates.spectral_coordinate]\n"
     ]
    },
    {
     "name": "stdout",
     "output_type": "stream",
     "text": [
      "Gridding /bb8/lingrui/my_projects/FAST_pipeline/Sun17_A_05/M11/Calibrated/Sun17_A_05_arcdrift-M11_N_0001_211023_103700to211023_104352_calibrated_icrs_Tmb.fits\n",
      "Doing Doppler Tracking!\n"
     ]
    },
    {
     "name": "stderr",
     "output_type": "stream",
     "text": [
      "WARNING: NoVelocityWarning: No velocity defined on frame, assuming (0., 0., 0.) km / s. [astropy.coordinates.spectral_coordinate]\n",
      "WARNING: NoDistanceWarning: Distance on coordinate object is dimensionless, an arbitrary distance value of 1000000.0 kpc will be set instead. [astropy.coordinates.spectral_coordinate]\n"
     ]
    },
    {
     "name": "stdout",
     "output_type": "stream",
     "text": [
      "Gridding /bb8/lingrui/my_projects/FAST_pipeline/Sun17_A_05/M11/Calibrated/Sun17_A_05_arcdrift-M11_N_0002_211023_104352to211023_105044_calibrated_icrs_Tmb.fits\n",
      "Doing Doppler Tracking!\n"
     ]
    },
    {
     "name": "stderr",
     "output_type": "stream",
     "text": [
      "WARNING: NoVelocityWarning: No velocity defined on frame, assuming (0., 0., 0.) km / s. [astropy.coordinates.spectral_coordinate]\n",
      "WARNING: NoDistanceWarning: Distance on coordinate object is dimensionless, an arbitrary distance value of 1000000.0 kpc will be set instead. [astropy.coordinates.spectral_coordinate]\n"
     ]
    },
    {
     "name": "stdout",
     "output_type": "stream",
     "text": [
      "Gridding /bb8/lingrui/my_projects/FAST_pipeline/Sun17_A_05/M11/Calibrated/Sun17_A_05_arcdrift-M11_N_0003_211023_105044to211023_105048_calibrated_icrs_Tmb.fits\n",
      "Doing Doppler Tracking!\n"
     ]
    },
    {
     "name": "stderr",
     "output_type": "stream",
     "text": [
      "WARNING: NoVelocityWarning: No velocity defined on frame, assuming (0., 0., 0.) km / s. [astropy.coordinates.spectral_coordinate]\n",
      "WARNING: NoDistanceWarning: Distance on coordinate object is dimensionless, an arbitrary distance value of 1000000.0 kpc will be set instead. [astropy.coordinates.spectral_coordinate]\n"
     ]
    },
    {
     "name": "stdout",
     "output_type": "stream",
     "text": [
      "Gridding /bb8/lingrui/my_projects/FAST_pipeline/Sun17_A_05/M12/Calibrated/Sun17_A_05_arcdrift-M12_N_0001_211023_103700to211023_104352_calibrated_icrs_Tmb.fits\n",
      "Doing Doppler Tracking!\n"
     ]
    },
    {
     "name": "stderr",
     "output_type": "stream",
     "text": [
      "WARNING: NoVelocityWarning: No velocity defined on frame, assuming (0., 0., 0.) km / s. [astropy.coordinates.spectral_coordinate]\n",
      "WARNING: NoDistanceWarning: Distance on coordinate object is dimensionless, an arbitrary distance value of 1000000.0 kpc will be set instead. [astropy.coordinates.spectral_coordinate]\n"
     ]
    },
    {
     "name": "stdout",
     "output_type": "stream",
     "text": [
      "Gridding /bb8/lingrui/my_projects/FAST_pipeline/Sun17_A_05/M12/Calibrated/Sun17_A_05_arcdrift-M12_N_0002_211023_104352to211023_105044_calibrated_icrs_Tmb.fits\n",
      "Doing Doppler Tracking!\n"
     ]
    },
    {
     "name": "stderr",
     "output_type": "stream",
     "text": [
      "WARNING: NoVelocityWarning: No velocity defined on frame, assuming (0., 0., 0.) km / s. [astropy.coordinates.spectral_coordinate]\n",
      "WARNING: NoDistanceWarning: Distance on coordinate object is dimensionless, an arbitrary distance value of 1000000.0 kpc will be set instead. [astropy.coordinates.spectral_coordinate]\n"
     ]
    },
    {
     "name": "stdout",
     "output_type": "stream",
     "text": [
      "Gridding /bb8/lingrui/my_projects/FAST_pipeline/Sun17_A_05/M12/Calibrated/Sun17_A_05_arcdrift-M12_N_0003_211023_105044to211023_105048_calibrated_icrs_Tmb.fits\n",
      "Doing Doppler Tracking!\n"
     ]
    },
    {
     "name": "stderr",
     "output_type": "stream",
     "text": [
      "WARNING: NoVelocityWarning: No velocity defined on frame, assuming (0., 0., 0.) km / s. [astropy.coordinates.spectral_coordinate]\n",
      "WARNING: NoDistanceWarning: Distance on coordinate object is dimensionless, an arbitrary distance value of 1000000.0 kpc will be set instead. [astropy.coordinates.spectral_coordinate]\n"
     ]
    },
    {
     "name": "stdout",
     "output_type": "stream",
     "text": [
      "Gridding /bb8/lingrui/my_projects/FAST_pipeline/Sun17_A_05/M13/Calibrated/Sun17_A_05_arcdrift-M13_N_0001_211023_103700to211023_104352_calibrated_icrs_Tmb.fits\n",
      "Doing Doppler Tracking!\n"
     ]
    },
    {
     "name": "stderr",
     "output_type": "stream",
     "text": [
      "WARNING: NoVelocityWarning: No velocity defined on frame, assuming (0., 0., 0.) km / s. [astropy.coordinates.spectral_coordinate]\n",
      "WARNING: NoDistanceWarning: Distance on coordinate object is dimensionless, an arbitrary distance value of 1000000.0 kpc will be set instead. [astropy.coordinates.spectral_coordinate]\n"
     ]
    },
    {
     "name": "stdout",
     "output_type": "stream",
     "text": [
      "Gridding /bb8/lingrui/my_projects/FAST_pipeline/Sun17_A_05/M13/Calibrated/Sun17_A_05_arcdrift-M13_N_0002_211023_104352to211023_105044_calibrated_icrs_Tmb.fits\n",
      "Doing Doppler Tracking!\n"
     ]
    },
    {
     "name": "stderr",
     "output_type": "stream",
     "text": [
      "WARNING: NoVelocityWarning: No velocity defined on frame, assuming (0., 0., 0.) km / s. [astropy.coordinates.spectral_coordinate]\n",
      "WARNING: NoDistanceWarning: Distance on coordinate object is dimensionless, an arbitrary distance value of 1000000.0 kpc will be set instead. [astropy.coordinates.spectral_coordinate]\n"
     ]
    },
    {
     "name": "stdout",
     "output_type": "stream",
     "text": [
      "Gridding /bb8/lingrui/my_projects/FAST_pipeline/Sun17_A_05/M13/Calibrated/Sun17_A_05_arcdrift-M13_N_0003_211023_105044to211023_105048_calibrated_icrs_Tmb.fits\n",
      "Doing Doppler Tracking!\n"
     ]
    },
    {
     "name": "stderr",
     "output_type": "stream",
     "text": [
      "WARNING: NoVelocityWarning: No velocity defined on frame, assuming (0., 0., 0.) km / s. [astropy.coordinates.spectral_coordinate]\n",
      "WARNING: NoDistanceWarning: Distance on coordinate object is dimensionless, an arbitrary distance value of 1000000.0 kpc will be set instead. [astropy.coordinates.spectral_coordinate]\n"
     ]
    },
    {
     "name": "stdout",
     "output_type": "stream",
     "text": [
      "Gridding /bb8/lingrui/my_projects/FAST_pipeline/Sun17_A_05/M14/Calibrated/Sun17_A_05_arcdrift-M14_N_0001_211023_103700to211023_104352_calibrated_icrs_Tmb.fits\n",
      "Doing Doppler Tracking!\n"
     ]
    },
    {
     "name": "stderr",
     "output_type": "stream",
     "text": [
      "WARNING: NoVelocityWarning: No velocity defined on frame, assuming (0., 0., 0.) km / s. [astropy.coordinates.spectral_coordinate]\n",
      "WARNING: NoDistanceWarning: Distance on coordinate object is dimensionless, an arbitrary distance value of 1000000.0 kpc will be set instead. [astropy.coordinates.spectral_coordinate]\n"
     ]
    },
    {
     "name": "stdout",
     "output_type": "stream",
     "text": [
      "Gridding /bb8/lingrui/my_projects/FAST_pipeline/Sun17_A_05/M14/Calibrated/Sun17_A_05_arcdrift-M14_N_0002_211023_104352to211023_105044_calibrated_icrs_Tmb.fits\n",
      "Doing Doppler Tracking!\n"
     ]
    },
    {
     "name": "stderr",
     "output_type": "stream",
     "text": [
      "WARNING: NoVelocityWarning: No velocity defined on frame, assuming (0., 0., 0.) km / s. [astropy.coordinates.spectral_coordinate]\n",
      "WARNING: NoDistanceWarning: Distance on coordinate object is dimensionless, an arbitrary distance value of 1000000.0 kpc will be set instead. [astropy.coordinates.spectral_coordinate]\n"
     ]
    },
    {
     "name": "stdout",
     "output_type": "stream",
     "text": [
      "Gridding /bb8/lingrui/my_projects/FAST_pipeline/Sun17_A_05/M14/Calibrated/Sun17_A_05_arcdrift-M14_N_0003_211023_105044to211023_105048_calibrated_icrs_Tmb.fits\n",
      "Doing Doppler Tracking!\n"
     ]
    },
    {
     "name": "stderr",
     "output_type": "stream",
     "text": [
      "WARNING: NoVelocityWarning: No velocity defined on frame, assuming (0., 0., 0.) km / s. [astropy.coordinates.spectral_coordinate]\n",
      "WARNING: NoDistanceWarning: Distance on coordinate object is dimensionless, an arbitrary distance value of 1000000.0 kpc will be set instead. [astropy.coordinates.spectral_coordinate]\n"
     ]
    },
    {
     "name": "stdout",
     "output_type": "stream",
     "text": [
      "Gridding /bb8/lingrui/my_projects/FAST_pipeline/Sun17_A_05/M15/Calibrated/Sun17_A_05_arcdrift-M15_N_0001_211023_103700to211023_104352_calibrated_icrs_Tmb.fits\n",
      "Doing Doppler Tracking!\n"
     ]
    },
    {
     "name": "stderr",
     "output_type": "stream",
     "text": [
      "WARNING: NoVelocityWarning: No velocity defined on frame, assuming (0., 0., 0.) km / s. [astropy.coordinates.spectral_coordinate]\n",
      "WARNING: NoDistanceWarning: Distance on coordinate object is dimensionless, an arbitrary distance value of 1000000.0 kpc will be set instead. [astropy.coordinates.spectral_coordinate]\n"
     ]
    },
    {
     "name": "stdout",
     "output_type": "stream",
     "text": [
      "Gridding /bb8/lingrui/my_projects/FAST_pipeline/Sun17_A_05/M15/Calibrated/Sun17_A_05_arcdrift-M15_N_0002_211023_104352to211023_105044_calibrated_icrs_Tmb.fits\n",
      "Doing Doppler Tracking!\n"
     ]
    },
    {
     "name": "stderr",
     "output_type": "stream",
     "text": [
      "WARNING: NoVelocityWarning: No velocity defined on frame, assuming (0., 0., 0.) km / s. [astropy.coordinates.spectral_coordinate]\n",
      "WARNING: NoDistanceWarning: Distance on coordinate object is dimensionless, an arbitrary distance value of 1000000.0 kpc will be set instead. [astropy.coordinates.spectral_coordinate]\n"
     ]
    },
    {
     "name": "stdout",
     "output_type": "stream",
     "text": [
      "Gridding /bb8/lingrui/my_projects/FAST_pipeline/Sun17_A_05/M15/Calibrated/Sun17_A_05_arcdrift-M15_N_0003_211023_105044to211023_105048_calibrated_icrs_Tmb.fits\n",
      "Doing Doppler Tracking!\n"
     ]
    },
    {
     "name": "stderr",
     "output_type": "stream",
     "text": [
      "WARNING: NoVelocityWarning: No velocity defined on frame, assuming (0., 0., 0.) km / s. [astropy.coordinates.spectral_coordinate]\n",
      "WARNING: NoDistanceWarning: Distance on coordinate object is dimensionless, an arbitrary distance value of 1000000.0 kpc will be set instead. [astropy.coordinates.spectral_coordinate]\n"
     ]
    },
    {
     "name": "stdout",
     "output_type": "stream",
     "text": [
      "Gridding /bb8/lingrui/my_projects/FAST_pipeline/Sun17_A_05/M16/Calibrated/Sun17_A_05_arcdrift-M16_N_0001_211023_103700to211023_104352_calibrated_icrs_Tmb.fits\n",
      "Doing Doppler Tracking!\n"
     ]
    },
    {
     "name": "stderr",
     "output_type": "stream",
     "text": [
      "WARNING: NoVelocityWarning: No velocity defined on frame, assuming (0., 0., 0.) km / s. [astropy.coordinates.spectral_coordinate]\n",
      "WARNING: NoDistanceWarning: Distance on coordinate object is dimensionless, an arbitrary distance value of 1000000.0 kpc will be set instead. [astropy.coordinates.spectral_coordinate]\n"
     ]
    },
    {
     "name": "stdout",
     "output_type": "stream",
     "text": [
      "Gridding /bb8/lingrui/my_projects/FAST_pipeline/Sun17_A_05/M16/Calibrated/Sun17_A_05_arcdrift-M16_N_0002_211023_104352to211023_105044_calibrated_icrs_Tmb.fits\n",
      "Doing Doppler Tracking!\n"
     ]
    },
    {
     "name": "stderr",
     "output_type": "stream",
     "text": [
      "WARNING: NoVelocityWarning: No velocity defined on frame, assuming (0., 0., 0.) km / s. [astropy.coordinates.spectral_coordinate]\n",
      "WARNING: NoDistanceWarning: Distance on coordinate object is dimensionless, an arbitrary distance value of 1000000.0 kpc will be set instead. [astropy.coordinates.spectral_coordinate]\n"
     ]
    },
    {
     "name": "stdout",
     "output_type": "stream",
     "text": [
      "Gridding /bb8/lingrui/my_projects/FAST_pipeline/Sun17_A_05/M16/Calibrated/Sun17_A_05_arcdrift-M16_N_0003_211023_105044to211023_105048_calibrated_icrs_Tmb.fits\n",
      "Doing Doppler Tracking!\n"
     ]
    },
    {
     "name": "stderr",
     "output_type": "stream",
     "text": [
      "WARNING: NoVelocityWarning: No velocity defined on frame, assuming (0., 0., 0.) km / s. [astropy.coordinates.spectral_coordinate]\n",
      "WARNING: NoDistanceWarning: Distance on coordinate object is dimensionless, an arbitrary distance value of 1000000.0 kpc will be set instead. [astropy.coordinates.spectral_coordinate]\n"
     ]
    },
    {
     "name": "stdout",
     "output_type": "stream",
     "text": [
      "Gridding /bb8/lingrui/my_projects/FAST_pipeline/Sun17_A_05/M17/Calibrated/Sun17_A_05_arcdrift-M17_N_0001_211023_103700to211023_104352_calibrated_icrs_Tmb.fits\n",
      "Doing Doppler Tracking!\n"
     ]
    },
    {
     "name": "stderr",
     "output_type": "stream",
     "text": [
      "WARNING: NoVelocityWarning: No velocity defined on frame, assuming (0., 0., 0.) km / s. [astropy.coordinates.spectral_coordinate]\n",
      "WARNING: NoDistanceWarning: Distance on coordinate object is dimensionless, an arbitrary distance value of 1000000.0 kpc will be set instead. [astropy.coordinates.spectral_coordinate]\n"
     ]
    },
    {
     "name": "stdout",
     "output_type": "stream",
     "text": [
      "Gridding /bb8/lingrui/my_projects/FAST_pipeline/Sun17_A_05/M17/Calibrated/Sun17_A_05_arcdrift-M17_N_0002_211023_104352to211023_105044_calibrated_icrs_Tmb.fits\n",
      "Doing Doppler Tracking!\n"
     ]
    },
    {
     "name": "stderr",
     "output_type": "stream",
     "text": [
      "WARNING: NoVelocityWarning: No velocity defined on frame, assuming (0., 0., 0.) km / s. [astropy.coordinates.spectral_coordinate]\n",
      "WARNING: NoDistanceWarning: Distance on coordinate object is dimensionless, an arbitrary distance value of 1000000.0 kpc will be set instead. [astropy.coordinates.spectral_coordinate]\n"
     ]
    },
    {
     "name": "stdout",
     "output_type": "stream",
     "text": [
      "Gridding /bb8/lingrui/my_projects/FAST_pipeline/Sun17_A_05/M17/Calibrated/Sun17_A_05_arcdrift-M17_N_0003_211023_105044to211023_105048_calibrated_icrs_Tmb.fits\n",
      "Doing Doppler Tracking!\n"
     ]
    },
    {
     "name": "stderr",
     "output_type": "stream",
     "text": [
      "WARNING: NoVelocityWarning: No velocity defined on frame, assuming (0., 0., 0.) km / s. [astropy.coordinates.spectral_coordinate]\n",
      "WARNING: NoDistanceWarning: Distance on coordinate object is dimensionless, an arbitrary distance value of 1000000.0 kpc will be set instead. [astropy.coordinates.spectral_coordinate]\n"
     ]
    },
    {
     "name": "stdout",
     "output_type": "stream",
     "text": [
      "Gridding /bb8/lingrui/my_projects/FAST_pipeline/Sun17_A_05/M18/Calibrated/Sun17_A_05_arcdrift-M18_N_0001_211023_103700to211023_104352_calibrated_icrs_Tmb.fits\n",
      "Doing Doppler Tracking!\n"
     ]
    },
    {
     "name": "stderr",
     "output_type": "stream",
     "text": [
      "WARNING: NoVelocityWarning: No velocity defined on frame, assuming (0., 0., 0.) km / s. [astropy.coordinates.spectral_coordinate]\n",
      "WARNING: NoDistanceWarning: Distance on coordinate object is dimensionless, an arbitrary distance value of 1000000.0 kpc will be set instead. [astropy.coordinates.spectral_coordinate]\n"
     ]
    },
    {
     "name": "stdout",
     "output_type": "stream",
     "text": [
      "Gridding /bb8/lingrui/my_projects/FAST_pipeline/Sun17_A_05/M18/Calibrated/Sun17_A_05_arcdrift-M18_N_0002_211023_104352to211023_105044_calibrated_icrs_Tmb.fits\n",
      "Doing Doppler Tracking!\n"
     ]
    },
    {
     "name": "stderr",
     "output_type": "stream",
     "text": [
      "WARNING: NoVelocityWarning: No velocity defined on frame, assuming (0., 0., 0.) km / s. [astropy.coordinates.spectral_coordinate]\n",
      "WARNING: NoDistanceWarning: Distance on coordinate object is dimensionless, an arbitrary distance value of 1000000.0 kpc will be set instead. [astropy.coordinates.spectral_coordinate]\n"
     ]
    },
    {
     "name": "stdout",
     "output_type": "stream",
     "text": [
      "Gridding /bb8/lingrui/my_projects/FAST_pipeline/Sun17_A_05/M18/Calibrated/Sun17_A_05_arcdrift-M18_N_0003_211023_105044to211023_105048_calibrated_icrs_Tmb.fits\n",
      "Doing Doppler Tracking!\n"
     ]
    },
    {
     "name": "stderr",
     "output_type": "stream",
     "text": [
      "WARNING: NoVelocityWarning: No velocity defined on frame, assuming (0., 0., 0.) km / s. [astropy.coordinates.spectral_coordinate]\n",
      "WARNING: NoDistanceWarning: Distance on coordinate object is dimensionless, an arbitrary distance value of 1000000.0 kpc will be set instead. [astropy.coordinates.spectral_coordinate]\n"
     ]
    },
    {
     "name": "stdout",
     "output_type": "stream",
     "text": [
      "Gridding /bb8/lingrui/my_projects/FAST_pipeline/Sun17_A_05/M19/Calibrated/Sun17_A_05_arcdrift-M19_N_0001_211023_103700to211023_104352_calibrated_icrs_Tmb.fits\n",
      "Doing Doppler Tracking!\n"
     ]
    },
    {
     "name": "stderr",
     "output_type": "stream",
     "text": [
      "WARNING: NoVelocityWarning: No velocity defined on frame, assuming (0., 0., 0.) km / s. [astropy.coordinates.spectral_coordinate]\n",
      "WARNING: NoDistanceWarning: Distance on coordinate object is dimensionless, an arbitrary distance value of 1000000.0 kpc will be set instead. [astropy.coordinates.spectral_coordinate]\n"
     ]
    },
    {
     "name": "stdout",
     "output_type": "stream",
     "text": [
      "Gridding /bb8/lingrui/my_projects/FAST_pipeline/Sun17_A_05/M19/Calibrated/Sun17_A_05_arcdrift-M19_N_0002_211023_104352to211023_105044_calibrated_icrs_Tmb.fits\n",
      "Doing Doppler Tracking!\n"
     ]
    },
    {
     "name": "stderr",
     "output_type": "stream",
     "text": [
      "WARNING: NoVelocityWarning: No velocity defined on frame, assuming (0., 0., 0.) km / s. [astropy.coordinates.spectral_coordinate]\n",
      "WARNING: NoDistanceWarning: Distance on coordinate object is dimensionless, an arbitrary distance value of 1000000.0 kpc will be set instead. [astropy.coordinates.spectral_coordinate]\n"
     ]
    },
    {
     "name": "stdout",
     "output_type": "stream",
     "text": [
      "Gridding /bb8/lingrui/my_projects/FAST_pipeline/Sun17_A_05/M19/Calibrated/Sun17_A_05_arcdrift-M19_N_0003_211023_105044to211023_105048_calibrated_icrs_Tmb.fits\n",
      "Doing Doppler Tracking!\n"
     ]
    },
    {
     "name": "stderr",
     "output_type": "stream",
     "text": [
      "WARNING: NoVelocityWarning: No velocity defined on frame, assuming (0., 0., 0.) km / s. [astropy.coordinates.spectral_coordinate]\n",
      "WARNING: NoDistanceWarning: Distance on coordinate object is dimensionless, an arbitrary distance value of 1000000.0 kpc will be set instead. [astropy.coordinates.spectral_coordinate]\n"
     ]
    },
    {
     "name": "stdout",
     "output_type": "stream",
     "text": [
      "Gridding /bb8/lingrui/my_projects/FAST_pipeline/Sun17_A_06/M01/Calibrated/Sun17_A_06_arcdrift-M01_N_0001_211112_064100to211112_064752_calibrated_icrs_Tmb.fits\n",
      "Doing Doppler Tracking!\n"
     ]
    },
    {
     "name": "stderr",
     "output_type": "stream",
     "text": [
      "WARNING: NoVelocityWarning: No velocity defined on frame, assuming (0., 0., 0.) km / s. [astropy.coordinates.spectral_coordinate]\n",
      "WARNING: NoDistanceWarning: Distance on coordinate object is dimensionless, an arbitrary distance value of 1000000.0 kpc will be set instead. [astropy.coordinates.spectral_coordinate]\n"
     ]
    },
    {
     "name": "stdout",
     "output_type": "stream",
     "text": [
      "Gridding /bb8/lingrui/my_projects/FAST_pipeline/Sun17_A_06/M01/Calibrated/Sun17_A_06_arcdrift-M01_N_0002_211112_064752to211112_065444_calibrated_icrs_Tmb.fits\n",
      "Doing Doppler Tracking!\n"
     ]
    },
    {
     "name": "stderr",
     "output_type": "stream",
     "text": [
      "WARNING: NoVelocityWarning: No velocity defined on frame, assuming (0., 0., 0.) km / s. [astropy.coordinates.spectral_coordinate]\n",
      "WARNING: NoDistanceWarning: Distance on coordinate object is dimensionless, an arbitrary distance value of 1000000.0 kpc will be set instead. [astropy.coordinates.spectral_coordinate]\n"
     ]
    },
    {
     "name": "stdout",
     "output_type": "stream",
     "text": [
      "Gridding /bb8/lingrui/my_projects/FAST_pipeline/Sun17_A_06/M01/Calibrated/Sun17_A_06_arcdrift-M01_N_0003_211112_065444to211112_065448_calibrated_icrs_Tmb.fits\n",
      "Doing Doppler Tracking!\n"
     ]
    },
    {
     "name": "stderr",
     "output_type": "stream",
     "text": [
      "WARNING: NoVelocityWarning: No velocity defined on frame, assuming (0., 0., 0.) km / s. [astropy.coordinates.spectral_coordinate]\n",
      "WARNING: NoDistanceWarning: Distance on coordinate object is dimensionless, an arbitrary distance value of 1000000.0 kpc will be set instead. [astropy.coordinates.spectral_coordinate]\n"
     ]
    },
    {
     "name": "stdout",
     "output_type": "stream",
     "text": [
      "Gridding /bb8/lingrui/my_projects/FAST_pipeline/Sun17_A_06/M02/Calibrated/Sun17_A_06_arcdrift-M02_N_0001_211112_064100to211112_064752_calibrated_icrs_Tmb.fits\n",
      "Doing Doppler Tracking!\n"
     ]
    },
    {
     "name": "stderr",
     "output_type": "stream",
     "text": [
      "WARNING: NoVelocityWarning: No velocity defined on frame, assuming (0., 0., 0.) km / s. [astropy.coordinates.spectral_coordinate]\n",
      "WARNING: NoDistanceWarning: Distance on coordinate object is dimensionless, an arbitrary distance value of 1000000.0 kpc will be set instead. [astropy.coordinates.spectral_coordinate]\n"
     ]
    },
    {
     "name": "stdout",
     "output_type": "stream",
     "text": [
      "Gridding /bb8/lingrui/my_projects/FAST_pipeline/Sun17_A_06/M02/Calibrated/Sun17_A_06_arcdrift-M02_N_0002_211112_064752to211112_065444_calibrated_icrs_Tmb.fits\n",
      "Doing Doppler Tracking!\n"
     ]
    },
    {
     "name": "stderr",
     "output_type": "stream",
     "text": [
      "WARNING: NoVelocityWarning: No velocity defined on frame, assuming (0., 0., 0.) km / s. [astropy.coordinates.spectral_coordinate]\n",
      "WARNING: NoDistanceWarning: Distance on coordinate object is dimensionless, an arbitrary distance value of 1000000.0 kpc will be set instead. [astropy.coordinates.spectral_coordinate]\n"
     ]
    },
    {
     "name": "stdout",
     "output_type": "stream",
     "text": [
      "Doing Doppler Tracking!\n"
     ]
    },
    {
     "name": "stderr",
     "output_type": "stream",
     "text": [
      "WARNING: NoVelocityWarning: No velocity defined on frame, assuming (0., 0., 0.) km / s. [astropy.coordinates.spectral_coordinate]\n",
      "WARNING: NoDistanceWarning: Distance on coordinate object is dimensionless, an arbitrary distance value of 1000000.0 kpc will be set instead. [astropy.coordinates.spectral_coordinate]\n"
     ]
    },
    {
     "name": "stdout",
     "output_type": "stream",
     "text": [
      "Gridding /bb8/lingrui/my_projects/FAST_pipeline/Sun17_A_06/M15/Calibrated/Sun17_A_06_arcdrift-M15_N_0003_211112_065444to211112_065448_calibrated_icrs_Tmb.fits\n",
      "Doing Doppler Tracking!\n"
     ]
    },
    {
     "name": "stderr",
     "output_type": "stream",
     "text": [
      "WARNING: NoVelocityWarning: No velocity defined on frame, assuming (0., 0., 0.) km / s. [astropy.coordinates.spectral_coordinate]\n",
      "WARNING: NoDistanceWarning: Distance on coordinate object is dimensionless, an arbitrary distance value of 1000000.0 kpc will be set instead. [astropy.coordinates.spectral_coordinate]\n"
     ]
    },
    {
     "name": "stdout",
     "output_type": "stream",
     "text": [
      "Gridding /bb8/lingrui/my_projects/FAST_pipeline/Sun17_A_06/M16/Calibrated/Sun17_A_06_arcdrift-M16_N_0001_211112_064100to211112_064752_calibrated_icrs_Tmb.fits\n",
      "Doing Doppler Tracking!\n"
     ]
    },
    {
     "name": "stderr",
     "output_type": "stream",
     "text": [
      "WARNING: NoVelocityWarning: No velocity defined on frame, assuming (0., 0., 0.) km / s. [astropy.coordinates.spectral_coordinate]\n",
      "WARNING: NoDistanceWarning: Distance on coordinate object is dimensionless, an arbitrary distance value of 1000000.0 kpc will be set instead. [astropy.coordinates.spectral_coordinate]\n"
     ]
    },
    {
     "name": "stdout",
     "output_type": "stream",
     "text": [
      "Gridding /bb8/lingrui/my_projects/FAST_pipeline/Sun17_A_06/M16/Calibrated/Sun17_A_06_arcdrift-M16_N_0002_211112_064752to211112_065444_calibrated_icrs_Tmb.fits\n",
      "Doing Doppler Tracking!\n"
     ]
    },
    {
     "name": "stderr",
     "output_type": "stream",
     "text": [
      "WARNING: NoVelocityWarning: No velocity defined on frame, assuming (0., 0., 0.) km / s. [astropy.coordinates.spectral_coordinate]\n",
      "WARNING: NoDistanceWarning: Distance on coordinate object is dimensionless, an arbitrary distance value of 1000000.0 kpc will be set instead. [astropy.coordinates.spectral_coordinate]\n"
     ]
    },
    {
     "name": "stdout",
     "output_type": "stream",
     "text": [
      "Gridding /bb8/lingrui/my_projects/FAST_pipeline/Sun17_A_06/M16/Calibrated/Sun17_A_06_arcdrift-M16_N_0003_211112_065444to211112_065448_calibrated_icrs_Tmb.fits\n",
      "Doing Doppler Tracking!\n"
     ]
    },
    {
     "name": "stderr",
     "output_type": "stream",
     "text": [
      "WARNING: NoVelocityWarning: No velocity defined on frame, assuming (0., 0., 0.) km / s. [astropy.coordinates.spectral_coordinate]\n",
      "WARNING: NoDistanceWarning: Distance on coordinate object is dimensionless, an arbitrary distance value of 1000000.0 kpc will be set instead. [astropy.coordinates.spectral_coordinate]\n"
     ]
    },
    {
     "name": "stdout",
     "output_type": "stream",
     "text": [
      "Gridding /bb8/lingrui/my_projects/FAST_pipeline/Sun17_A_06/M17/Calibrated/Sun17_A_06_arcdrift-M17_N_0001_211112_064100to211112_064752_calibrated_icrs_Tmb.fits\n",
      "Doing Doppler Tracking!\n"
     ]
    },
    {
     "name": "stderr",
     "output_type": "stream",
     "text": [
      "WARNING: NoVelocityWarning: No velocity defined on frame, assuming (0., 0., 0.) km / s. [astropy.coordinates.spectral_coordinate]\n",
      "WARNING: NoDistanceWarning: Distance on coordinate object is dimensionless, an arbitrary distance value of 1000000.0 kpc will be set instead. [astropy.coordinates.spectral_coordinate]\n"
     ]
    },
    {
     "name": "stdout",
     "output_type": "stream",
     "text": [
      "Gridding /bb8/lingrui/my_projects/FAST_pipeline/Sun17_A_06/M17/Calibrated/Sun17_A_06_arcdrift-M17_N_0002_211112_064752to211112_065444_calibrated_icrs_Tmb.fits\n",
      "Doing Doppler Tracking!\n"
     ]
    },
    {
     "name": "stderr",
     "output_type": "stream",
     "text": [
      "WARNING: NoVelocityWarning: No velocity defined on frame, assuming (0., 0., 0.) km / s. [astropy.coordinates.spectral_coordinate]\n",
      "WARNING: NoDistanceWarning: Distance on coordinate object is dimensionless, an arbitrary distance value of 1000000.0 kpc will be set instead. [astropy.coordinates.spectral_coordinate]\n"
     ]
    },
    {
     "name": "stdout",
     "output_type": "stream",
     "text": [
      "Gridding /bb8/lingrui/my_projects/FAST_pipeline/Sun17_A_06/M17/Calibrated/Sun17_A_06_arcdrift-M17_N_0003_211112_065444to211112_065448_calibrated_icrs_Tmb.fits\n",
      "Doing Doppler Tracking!\n"
     ]
    },
    {
     "name": "stderr",
     "output_type": "stream",
     "text": [
      "WARNING: NoVelocityWarning: No velocity defined on frame, assuming (0., 0., 0.) km / s. [astropy.coordinates.spectral_coordinate]\n",
      "WARNING: NoDistanceWarning: Distance on coordinate object is dimensionless, an arbitrary distance value of 1000000.0 kpc will be set instead. [astropy.coordinates.spectral_coordinate]\n"
     ]
    },
    {
     "name": "stdout",
     "output_type": "stream",
     "text": [
      "Gridding /bb8/lingrui/my_projects/FAST_pipeline/Sun17_A_06/M18/Calibrated/Sun17_A_06_arcdrift-M18_N_0001_211112_064100to211112_064752_calibrated_icrs_Tmb.fits\n",
      "Doing Doppler Tracking!\n"
     ]
    },
    {
     "name": "stderr",
     "output_type": "stream",
     "text": [
      "WARNING: NoVelocityWarning: No velocity defined on frame, assuming (0., 0., 0.) km / s. [astropy.coordinates.spectral_coordinate]\n",
      "WARNING: NoDistanceWarning: Distance on coordinate object is dimensionless, an arbitrary distance value of 1000000.0 kpc will be set instead. [astropy.coordinates.spectral_coordinate]\n"
     ]
    },
    {
     "name": "stdout",
     "output_type": "stream",
     "text": [
      "Gridding /bb8/lingrui/my_projects/FAST_pipeline/Sun17_A_06/M18/Calibrated/Sun17_A_06_arcdrift-M18_N_0002_211112_064752to211112_065444_calibrated_icrs_Tmb.fits\n",
      "Doing Doppler Tracking!\n"
     ]
    },
    {
     "name": "stderr",
     "output_type": "stream",
     "text": [
      "WARNING: NoVelocityWarning: No velocity defined on frame, assuming (0., 0., 0.) km / s. [astropy.coordinates.spectral_coordinate]\n",
      "WARNING: NoDistanceWarning: Distance on coordinate object is dimensionless, an arbitrary distance value of 1000000.0 kpc will be set instead. [astropy.coordinates.spectral_coordinate]\n"
     ]
    },
    {
     "name": "stdout",
     "output_type": "stream",
     "text": [
      "Gridding /bb8/lingrui/my_projects/FAST_pipeline/Sun17_A_06/M18/Calibrated/Sun17_A_06_arcdrift-M18_N_0003_211112_065444to211112_065448_calibrated_icrs_Tmb.fits\n",
      "Doing Doppler Tracking!\n"
     ]
    },
    {
     "name": "stderr",
     "output_type": "stream",
     "text": [
      "WARNING: NoVelocityWarning: No velocity defined on frame, assuming (0., 0., 0.) km / s. [astropy.coordinates.spectral_coordinate]\n",
      "WARNING: NoDistanceWarning: Distance on coordinate object is dimensionless, an arbitrary distance value of 1000000.0 kpc will be set instead. [astropy.coordinates.spectral_coordinate]\n"
     ]
    },
    {
     "name": "stdout",
     "output_type": "stream",
     "text": [
      "Gridding /bb8/lingrui/my_projects/FAST_pipeline/Sun17_A_06/M19/Calibrated/Sun17_A_06_arcdrift-M19_N_0001_211112_064100to211112_064752_calibrated_icrs_Tmb.fits\n",
      "Doing Doppler Tracking!\n"
     ]
    },
    {
     "name": "stderr",
     "output_type": "stream",
     "text": [
      "WARNING: NoVelocityWarning: No velocity defined on frame, assuming (0., 0., 0.) km / s. [astropy.coordinates.spectral_coordinate]\n",
      "WARNING: NoDistanceWarning: Distance on coordinate object is dimensionless, an arbitrary distance value of 1000000.0 kpc will be set instead. [astropy.coordinates.spectral_coordinate]\n"
     ]
    },
    {
     "name": "stdout",
     "output_type": "stream",
     "text": [
      "Gridding /bb8/lingrui/my_projects/FAST_pipeline/Sun17_A_06/M19/Calibrated/Sun17_A_06_arcdrift-M19_N_0002_211112_064752to211112_065444_calibrated_icrs_Tmb.fits\n",
      "Doing Doppler Tracking!\n"
     ]
    },
    {
     "name": "stderr",
     "output_type": "stream",
     "text": [
      "WARNING: NoVelocityWarning: No velocity defined on frame, assuming (0., 0., 0.) km / s. [astropy.coordinates.spectral_coordinate]\n",
      "WARNING: NoDistanceWarning: Distance on coordinate object is dimensionless, an arbitrary distance value of 1000000.0 kpc will be set instead. [astropy.coordinates.spectral_coordinate]\n"
     ]
    },
    {
     "name": "stdout",
     "output_type": "stream",
     "text": [
      "Gridding /bb8/lingrui/my_projects/FAST_pipeline/Sun17_A_06/M19/Calibrated/Sun17_A_06_arcdrift-M19_N_0003_211112_065444to211112_065448_calibrated_icrs_Tmb.fits\n",
      "Doing Doppler Tracking!\n"
     ]
    },
    {
     "name": "stderr",
     "output_type": "stream",
     "text": [
      "WARNING: NoVelocityWarning: No velocity defined on frame, assuming (0., 0., 0.) km / s. [astropy.coordinates.spectral_coordinate]\n",
      "WARNING: NoDistanceWarning: Distance on coordinate object is dimensionless, an arbitrary distance value of 1000000.0 kpc will be set instead. [astropy.coordinates.spectral_coordinate]\n"
     ]
    },
    {
     "name": "stdout",
     "output_type": "stream",
     "text": [
      "Gridding /bb8/lingrui/my_projects/FAST_pipeline/Sun17_A_07/M01/Calibrated/Sun17_A_07_arcdrift-M01_N_0001_211112_070500to211112_071152_calibrated_icrs_Tmb.fits\n",
      "Doing Doppler Tracking!\n"
     ]
    },
    {
     "name": "stderr",
     "output_type": "stream",
     "text": [
      "WARNING: NoVelocityWarning: No velocity defined on frame, assuming (0., 0., 0.) km / s. [astropy.coordinates.spectral_coordinate]\n",
      "WARNING: NoDistanceWarning: Distance on coordinate object is dimensionless, an arbitrary distance value of 1000000.0 kpc will be set instead. [astropy.coordinates.spectral_coordinate]\n"
     ]
    },
    {
     "name": "stdout",
     "output_type": "stream",
     "text": [
      "Gridding /bb8/lingrui/my_projects/FAST_pipeline/Sun17_A_07/M01/Calibrated/Sun17_A_07_arcdrift-M01_N_0002_211112_071152to211112_071844_calibrated_icrs_Tmb.fits\n",
      "Doing Doppler Tracking!\n"
     ]
    },
    {
     "name": "stderr",
     "output_type": "stream",
     "text": [
      "WARNING: NoVelocityWarning: No velocity defined on frame, assuming (0., 0., 0.) km / s. [astropy.coordinates.spectral_coordinate]\n",
      "WARNING: NoDistanceWarning: Distance on coordinate object is dimensionless, an arbitrary distance value of 1000000.0 kpc will be set instead. [astropy.coordinates.spectral_coordinate]\n"
     ]
    },
    {
     "name": "stdout",
     "output_type": "stream",
     "text": [
      "Gridding /bb8/lingrui/my_projects/FAST_pipeline/Sun17_A_07/M01/Calibrated/Sun17_A_07_arcdrift-M01_N_0003_211112_071844to211112_071848_calibrated_icrs_Tmb.fits\n",
      "Doing Doppler Tracking!\n"
     ]
    },
    {
     "name": "stderr",
     "output_type": "stream",
     "text": [
      "WARNING: NoVelocityWarning: No velocity defined on frame, assuming (0., 0., 0.) km / s. [astropy.coordinates.spectral_coordinate]\n",
      "WARNING: NoDistanceWarning: Distance on coordinate object is dimensionless, an arbitrary distance value of 1000000.0 kpc will be set instead. [astropy.coordinates.spectral_coordinate]\n"
     ]
    },
    {
     "name": "stdout",
     "output_type": "stream",
     "text": [
      "Gridding /bb8/lingrui/my_projects/FAST_pipeline/Sun17_A_07/M02/Calibrated/Sun17_A_07_arcdrift-M02_N_0001_211112_070500to211112_071152_calibrated_icrs_Tmb.fits\n",
      "Doing Doppler Tracking!\n"
     ]
    },
    {
     "name": "stderr",
     "output_type": "stream",
     "text": [
      "WARNING: NoVelocityWarning: No velocity defined on frame, assuming (0., 0., 0.) km / s. [astropy.coordinates.spectral_coordinate]\n",
      "WARNING: NoDistanceWarning: Distance on coordinate object is dimensionless, an arbitrary distance value of 1000000.0 kpc will be set instead. [astropy.coordinates.spectral_coordinate]\n"
     ]
    },
    {
     "name": "stdout",
     "output_type": "stream",
     "text": [
      "Gridding /bb8/lingrui/my_projects/FAST_pipeline/Sun17_A_07/M02/Calibrated/Sun17_A_07_arcdrift-M02_N_0002_211112_071152to211112_071844_calibrated_icrs_Tmb.fits\n",
      "Doing Doppler Tracking!\n"
     ]
    },
    {
     "name": "stderr",
     "output_type": "stream",
     "text": [
      "WARNING: NoVelocityWarning: No velocity defined on frame, assuming (0., 0., 0.) km / s. [astropy.coordinates.spectral_coordinate]\n",
      "WARNING: NoDistanceWarning: Distance on coordinate object is dimensionless, an arbitrary distance value of 1000000.0 kpc will be set instead. [astropy.coordinates.spectral_coordinate]\n"
     ]
    },
    {
     "name": "stdout",
     "output_type": "stream",
     "text": [
      "Gridding /bb8/lingrui/my_projects/FAST_pipeline/Sun17_A_07/M02/Calibrated/Sun17_A_07_arcdrift-M02_N_0003_211112_071844to211112_071848_calibrated_icrs_Tmb.fits\n",
      "Doing Doppler Tracking!\n"
     ]
    },
    {
     "name": "stderr",
     "output_type": "stream",
     "text": [
      "WARNING: NoVelocityWarning: No velocity defined on frame, assuming (0., 0., 0.) km / s. [astropy.coordinates.spectral_coordinate]\n",
      "WARNING: NoDistanceWarning: Distance on coordinate object is dimensionless, an arbitrary distance value of 1000000.0 kpc will be set instead. [astropy.coordinates.spectral_coordinate]\n"
     ]
    },
    {
     "name": "stdout",
     "output_type": "stream",
     "text": [
      "Gridding /bb8/lingrui/my_projects/FAST_pipeline/Sun17_A_07/M03/Calibrated/Sun17_A_07_arcdrift-M03_N_0001_211112_070500to211112_071152_calibrated_icrs_Tmb.fits\n",
      "Doing Doppler Tracking!\n"
     ]
    },
    {
     "name": "stderr",
     "output_type": "stream",
     "text": [
      "WARNING: NoVelocityWarning: No velocity defined on frame, assuming (0., 0., 0.) km / s. [astropy.coordinates.spectral_coordinate]\n",
      "WARNING: NoDistanceWarning: Distance on coordinate object is dimensionless, an arbitrary distance value of 1000000.0 kpc will be set instead. [astropy.coordinates.spectral_coordinate]\n"
     ]
    },
    {
     "name": "stdout",
     "output_type": "stream",
     "text": [
      "Gridding /bb8/lingrui/my_projects/FAST_pipeline/Sun17_A_07/M03/Calibrated/Sun17_A_07_arcdrift-M03_N_0002_211112_071152to211112_071844_calibrated_icrs_Tmb.fits\n",
      "Doing Doppler Tracking!\n"
     ]
    },
    {
     "name": "stderr",
     "output_type": "stream",
     "text": [
      "WARNING: NoVelocityWarning: No velocity defined on frame, assuming (0., 0., 0.) km / s. [astropy.coordinates.spectral_coordinate]\n",
      "WARNING: NoDistanceWarning: Distance on coordinate object is dimensionless, an arbitrary distance value of 1000000.0 kpc will be set instead. [astropy.coordinates.spectral_coordinate]\n"
     ]
    },
    {
     "name": "stdout",
     "output_type": "stream",
     "text": [
      "Gridding /bb8/lingrui/my_projects/FAST_pipeline/Sun17_A_07/M03/Calibrated/Sun17_A_07_arcdrift-M03_N_0003_211112_071844to211112_071848_calibrated_icrs_Tmb.fits\n",
      "Doing Doppler Tracking!\n"
     ]
    },
    {
     "name": "stderr",
     "output_type": "stream",
     "text": [
      "WARNING: NoVelocityWarning: No velocity defined on frame, assuming (0., 0., 0.) km / s. [astropy.coordinates.spectral_coordinate]\n",
      "WARNING: NoDistanceWarning: Distance on coordinate object is dimensionless, an arbitrary distance value of 1000000.0 kpc will be set instead. [astropy.coordinates.spectral_coordinate]\n"
     ]
    },
    {
     "name": "stdout",
     "output_type": "stream",
     "text": [
      "Gridding /bb8/lingrui/my_projects/FAST_pipeline/Sun17_A_07/M04/Calibrated/Sun17_A_07_arcdrift-M04_N_0001_211112_070500to211112_071152_calibrated_icrs_Tmb.fits\n",
      "Doing Doppler Tracking!\n"
     ]
    },
    {
     "name": "stderr",
     "output_type": "stream",
     "text": [
      "WARNING: NoVelocityWarning: No velocity defined on frame, assuming (0., 0., 0.) km / s. [astropy.coordinates.spectral_coordinate]\n",
      "WARNING: NoDistanceWarning: Distance on coordinate object is dimensionless, an arbitrary distance value of 1000000.0 kpc will be set instead. [astropy.coordinates.spectral_coordinate]\n"
     ]
    },
    {
     "name": "stdout",
     "output_type": "stream",
     "text": [
      "Gridding /bb8/lingrui/my_projects/FAST_pipeline/Sun17_A_07/M04/Calibrated/Sun17_A_07_arcdrift-M04_N_0002_211112_071152to211112_071844_calibrated_icrs_Tmb.fits\n",
      "Doing Doppler Tracking!\n"
     ]
    },
    {
     "name": "stderr",
     "output_type": "stream",
     "text": [
      "WARNING: NoVelocityWarning: No velocity defined on frame, assuming (0., 0., 0.) km / s. [astropy.coordinates.spectral_coordinate]\n",
      "WARNING: NoDistanceWarning: Distance on coordinate object is dimensionless, an arbitrary distance value of 1000000.0 kpc will be set instead. [astropy.coordinates.spectral_coordinate]\n"
     ]
    },
    {
     "name": "stdout",
     "output_type": "stream",
     "text": [
      "Gridding /bb8/lingrui/my_projects/FAST_pipeline/Sun17_A_07/M04/Calibrated/Sun17_A_07_arcdrift-M04_N_0003_211112_071844to211112_071848_calibrated_icrs_Tmb.fits\n",
      "Doing Doppler Tracking!\n"
     ]
    },
    {
     "name": "stderr",
     "output_type": "stream",
     "text": [
      "WARNING: NoVelocityWarning: No velocity defined on frame, assuming (0., 0., 0.) km / s. [astropy.coordinates.spectral_coordinate]\n",
      "WARNING: NoDistanceWarning: Distance on coordinate object is dimensionless, an arbitrary distance value of 1000000.0 kpc will be set instead. [astropy.coordinates.spectral_coordinate]\n"
     ]
    },
    {
     "name": "stdout",
     "output_type": "stream",
     "text": [
      "Gridding /bb8/lingrui/my_projects/FAST_pipeline/Sun17_A_07/M05/Calibrated/Sun17_A_07_arcdrift-M05_N_0001_211112_070500to211112_071152_calibrated_icrs_Tmb.fits\n",
      "Doing Doppler Tracking!\n"
     ]
    },
    {
     "name": "stderr",
     "output_type": "stream",
     "text": [
      "WARNING: NoVelocityWarning: No velocity defined on frame, assuming (0., 0., 0.) km / s. [astropy.coordinates.spectral_coordinate]\n",
      "WARNING: NoDistanceWarning: Distance on coordinate object is dimensionless, an arbitrary distance value of 1000000.0 kpc will be set instead. [astropy.coordinates.spectral_coordinate]\n"
     ]
    },
    {
     "name": "stdout",
     "output_type": "stream",
     "text": [
      "Gridding /bb8/lingrui/my_projects/FAST_pipeline/Sun17_A_07/M05/Calibrated/Sun17_A_07_arcdrift-M05_N_0002_211112_071152to211112_071844_calibrated_icrs_Tmb.fits\n",
      "Doing Doppler Tracking!\n"
     ]
    },
    {
     "name": "stderr",
     "output_type": "stream",
     "text": [
      "WARNING: NoVelocityWarning: No velocity defined on frame, assuming (0., 0., 0.) km / s. [astropy.coordinates.spectral_coordinate]\n",
      "WARNING: NoDistanceWarning: Distance on coordinate object is dimensionless, an arbitrary distance value of 1000000.0 kpc will be set instead. [astropy.coordinates.spectral_coordinate]\n"
     ]
    },
    {
     "name": "stdout",
     "output_type": "stream",
     "text": [
      "Gridding /bb8/lingrui/my_projects/FAST_pipeline/Sun17_A_07/M05/Calibrated/Sun17_A_07_arcdrift-M05_N_0003_211112_071844to211112_071848_calibrated_icrs_Tmb.fits\n",
      "Doing Doppler Tracking!\n"
     ]
    },
    {
     "name": "stderr",
     "output_type": "stream",
     "text": [
      "WARNING: NoVelocityWarning: No velocity defined on frame, assuming (0., 0., 0.) km / s. [astropy.coordinates.spectral_coordinate]\n",
      "WARNING: NoDistanceWarning: Distance on coordinate object is dimensionless, an arbitrary distance value of 1000000.0 kpc will be set instead. [astropy.coordinates.spectral_coordinate]\n"
     ]
    },
    {
     "name": "stdout",
     "output_type": "stream",
     "text": [
      "Gridding /bb8/lingrui/my_projects/FAST_pipeline/Sun17_A_07/M06/Calibrated/Sun17_A_07_arcdrift-M06_N_0001_211112_070500to211112_071152_calibrated_icrs_Tmb.fits\n",
      "Doing Doppler Tracking!\n"
     ]
    },
    {
     "name": "stderr",
     "output_type": "stream",
     "text": [
      "WARNING: NoVelocityWarning: No velocity defined on frame, assuming (0., 0., 0.) km / s. [astropy.coordinates.spectral_coordinate]\n",
      "WARNING: NoDistanceWarning: Distance on coordinate object is dimensionless, an arbitrary distance value of 1000000.0 kpc will be set instead. [astropy.coordinates.spectral_coordinate]\n"
     ]
    },
    {
     "name": "stdout",
     "output_type": "stream",
     "text": [
      "Gridding /bb8/lingrui/my_projects/FAST_pipeline/Sun17_A_07/M06/Calibrated/Sun17_A_07_arcdrift-M06_N_0002_211112_071152to211112_071844_calibrated_icrs_Tmb.fits\n",
      "Doing Doppler Tracking!\n"
     ]
    },
    {
     "name": "stderr",
     "output_type": "stream",
     "text": [
      "WARNING: NoVelocityWarning: No velocity defined on frame, assuming (0., 0., 0.) km / s. [astropy.coordinates.spectral_coordinate]\n",
      "WARNING: NoDistanceWarning: Distance on coordinate object is dimensionless, an arbitrary distance value of 1000000.0 kpc will be set instead. [astropy.coordinates.spectral_coordinate]\n"
     ]
    },
    {
     "name": "stdout",
     "output_type": "stream",
     "text": [
      "Gridding /bb8/lingrui/my_projects/FAST_pipeline/Sun17_A_07/M06/Calibrated/Sun17_A_07_arcdrift-M06_N_0003_211112_071844to211112_071848_calibrated_icrs_Tmb.fits\n",
      "Doing Doppler Tracking!\n"
     ]
    },
    {
     "name": "stderr",
     "output_type": "stream",
     "text": [
      "WARNING: NoVelocityWarning: No velocity defined on frame, assuming (0., 0., 0.) km / s. [astropy.coordinates.spectral_coordinate]\n",
      "WARNING: NoDistanceWarning: Distance on coordinate object is dimensionless, an arbitrary distance value of 1000000.0 kpc will be set instead. [astropy.coordinates.spectral_coordinate]\n"
     ]
    },
    {
     "name": "stdout",
     "output_type": "stream",
     "text": [
      "Gridding /bb8/lingrui/my_projects/FAST_pipeline/Sun17_A_07/M07/Calibrated/Sun17_A_07_arcdrift-M07_N_0001_211112_070500to211112_071152_calibrated_icrs_Tmb.fits\n",
      "Doing Doppler Tracking!\n"
     ]
    },
    {
     "name": "stderr",
     "output_type": "stream",
     "text": [
      "WARNING: NoVelocityWarning: No velocity defined on frame, assuming (0., 0., 0.) km / s. [astropy.coordinates.spectral_coordinate]\n",
      "WARNING: NoDistanceWarning: Distance on coordinate object is dimensionless, an arbitrary distance value of 1000000.0 kpc will be set instead. [astropy.coordinates.spectral_coordinate]\n"
     ]
    },
    {
     "name": "stdout",
     "output_type": "stream",
     "text": [
      "Gridding /bb8/lingrui/my_projects/FAST_pipeline/Sun17_A_07/M07/Calibrated/Sun17_A_07_arcdrift-M07_N_0002_211112_071152to211112_071844_calibrated_icrs_Tmb.fits\n",
      "Doing Doppler Tracking!\n"
     ]
    },
    {
     "name": "stderr",
     "output_type": "stream",
     "text": [
      "WARNING: NoVelocityWarning: No velocity defined on frame, assuming (0., 0., 0.) km / s. [astropy.coordinates.spectral_coordinate]\n",
      "WARNING: NoDistanceWarning: Distance on coordinate object is dimensionless, an arbitrary distance value of 1000000.0 kpc will be set instead. [astropy.coordinates.spectral_coordinate]\n"
     ]
    },
    {
     "name": "stdout",
     "output_type": "stream",
     "text": [
      "Gridding /bb8/lingrui/my_projects/FAST_pipeline/Sun17_A_07/M07/Calibrated/Sun17_A_07_arcdrift-M07_N_0003_211112_071844to211112_071848_calibrated_icrs_Tmb.fits\n",
      "Doing Doppler Tracking!\n"
     ]
    },
    {
     "name": "stderr",
     "output_type": "stream",
     "text": [
      "WARNING: NoVelocityWarning: No velocity defined on frame, assuming (0., 0., 0.) km / s. [astropy.coordinates.spectral_coordinate]\n",
      "WARNING: NoDistanceWarning: Distance on coordinate object is dimensionless, an arbitrary distance value of 1000000.0 kpc will be set instead. [astropy.coordinates.spectral_coordinate]\n"
     ]
    },
    {
     "name": "stdout",
     "output_type": "stream",
     "text": [
      "Gridding /bb8/lingrui/my_projects/FAST_pipeline/Sun17_A_07/M08/Calibrated/Sun17_A_07_arcdrift-M08_N_0001_211112_070500to211112_071152_calibrated_icrs_Tmb.fits\n",
      "Doing Doppler Tracking!\n"
     ]
    },
    {
     "name": "stderr",
     "output_type": "stream",
     "text": [
      "WARNING: NoVelocityWarning: No velocity defined on frame, assuming (0., 0., 0.) km / s. [astropy.coordinates.spectral_coordinate]\n",
      "WARNING: NoDistanceWarning: Distance on coordinate object is dimensionless, an arbitrary distance value of 1000000.0 kpc will be set instead. [astropy.coordinates.spectral_coordinate]\n"
     ]
    },
    {
     "name": "stdout",
     "output_type": "stream",
     "text": [
      "Gridding /bb8/lingrui/my_projects/FAST_pipeline/Sun17_A_07/M08/Calibrated/Sun17_A_07_arcdrift-M08_N_0002_211112_071152to211112_071844_calibrated_icrs_Tmb.fits\n",
      "Doing Doppler Tracking!\n"
     ]
    },
    {
     "name": "stderr",
     "output_type": "stream",
     "text": [
      "WARNING: NoVelocityWarning: No velocity defined on frame, assuming (0., 0., 0.) km / s. [astropy.coordinates.spectral_coordinate]\n",
      "WARNING: NoDistanceWarning: Distance on coordinate object is dimensionless, an arbitrary distance value of 1000000.0 kpc will be set instead. [astropy.coordinates.spectral_coordinate]\n"
     ]
    },
    {
     "name": "stdout",
     "output_type": "stream",
     "text": [
      "Gridding /bb8/lingrui/my_projects/FAST_pipeline/Sun17_A_07/M08/Calibrated/Sun17_A_07_arcdrift-M08_N_0003_211112_071844to211112_071848_calibrated_icrs_Tmb.fits\n",
      "Doing Doppler Tracking!\n"
     ]
    },
    {
     "name": "stderr",
     "output_type": "stream",
     "text": [
      "WARNING: NoVelocityWarning: No velocity defined on frame, assuming (0., 0., 0.) km / s. [astropy.coordinates.spectral_coordinate]\n",
      "WARNING: NoDistanceWarning: Distance on coordinate object is dimensionless, an arbitrary distance value of 1000000.0 kpc will be set instead. [astropy.coordinates.spectral_coordinate]\n"
     ]
    },
    {
     "name": "stdout",
     "output_type": "stream",
     "text": [
      "Gridding /bb8/lingrui/my_projects/FAST_pipeline/Sun17_A_07/M09/Calibrated/Sun17_A_07_arcdrift-M09_N_0001_211112_070500to211112_071152_calibrated_icrs_Tmb.fits\n",
      "Doing Doppler Tracking!\n"
     ]
    },
    {
     "name": "stderr",
     "output_type": "stream",
     "text": [
      "WARNING: NoVelocityWarning: No velocity defined on frame, assuming (0., 0., 0.) km / s. [astropy.coordinates.spectral_coordinate]\n",
      "WARNING: NoDistanceWarning: Distance on coordinate object is dimensionless, an arbitrary distance value of 1000000.0 kpc will be set instead. [astropy.coordinates.spectral_coordinate]\n"
     ]
    },
    {
     "name": "stdout",
     "output_type": "stream",
     "text": [
      "Gridding /bb8/lingrui/my_projects/FAST_pipeline/Sun17_A_07/M09/Calibrated/Sun17_A_07_arcdrift-M09_N_0002_211112_071152to211112_071844_calibrated_icrs_Tmb.fits\n",
      "Doing Doppler Tracking!\n"
     ]
    },
    {
     "name": "stderr",
     "output_type": "stream",
     "text": [
      "WARNING: NoVelocityWarning: No velocity defined on frame, assuming (0., 0., 0.) km / s. [astropy.coordinates.spectral_coordinate]\n",
      "WARNING: NoDistanceWarning: Distance on coordinate object is dimensionless, an arbitrary distance value of 1000000.0 kpc will be set instead. [astropy.coordinates.spectral_coordinate]\n"
     ]
    },
    {
     "name": "stdout",
     "output_type": "stream",
     "text": [
      "Gridding /bb8/lingrui/my_projects/FAST_pipeline/Sun17_A_07/M09/Calibrated/Sun17_A_07_arcdrift-M09_N_0003_211112_071844to211112_071848_calibrated_icrs_Tmb.fits\n",
      "Doing Doppler Tracking!\n"
     ]
    },
    {
     "name": "stderr",
     "output_type": "stream",
     "text": [
      "WARNING: NoVelocityWarning: No velocity defined on frame, assuming (0., 0., 0.) km / s. [astropy.coordinates.spectral_coordinate]\n",
      "WARNING: NoDistanceWarning: Distance on coordinate object is dimensionless, an arbitrary distance value of 1000000.0 kpc will be set instead. [astropy.coordinates.spectral_coordinate]\n"
     ]
    },
    {
     "name": "stdout",
     "output_type": "stream",
     "text": [
      "Gridding /bb8/lingrui/my_projects/FAST_pipeline/Sun17_A_07/M10/Calibrated/Sun17_A_07_arcdrift-M10_N_0001_211112_070500to211112_071152_calibrated_icrs_Tmb.fits\n",
      "Doing Doppler Tracking!\n"
     ]
    },
    {
     "name": "stderr",
     "output_type": "stream",
     "text": [
      "WARNING: NoVelocityWarning: No velocity defined on frame, assuming (0., 0., 0.) km / s. [astropy.coordinates.spectral_coordinate]\n",
      "WARNING: NoDistanceWarning: Distance on coordinate object is dimensionless, an arbitrary distance value of 1000000.0 kpc will be set instead. [astropy.coordinates.spectral_coordinate]\n"
     ]
    },
    {
     "name": "stdout",
     "output_type": "stream",
     "text": [
      "Gridding /bb8/lingrui/my_projects/FAST_pipeline/Sun17_A_07/M10/Calibrated/Sun17_A_07_arcdrift-M10_N_0002_211112_071152to211112_071844_calibrated_icrs_Tmb.fits\n",
      "Doing Doppler Tracking!\n"
     ]
    },
    {
     "name": "stderr",
     "output_type": "stream",
     "text": [
      "WARNING: NoVelocityWarning: No velocity defined on frame, assuming (0., 0., 0.) km / s. [astropy.coordinates.spectral_coordinate]\n",
      "WARNING: NoDistanceWarning: Distance on coordinate object is dimensionless, an arbitrary distance value of 1000000.0 kpc will be set instead. [astropy.coordinates.spectral_coordinate]\n"
     ]
    },
    {
     "name": "stdout",
     "output_type": "stream",
     "text": [
      "Gridding /bb8/lingrui/my_projects/FAST_pipeline/Sun17_A_07/M10/Calibrated/Sun17_A_07_arcdrift-M10_N_0003_211112_071844to211112_071848_calibrated_icrs_Tmb.fits\n",
      "Doing Doppler Tracking!\n"
     ]
    },
    {
     "name": "stderr",
     "output_type": "stream",
     "text": [
      "WARNING: NoVelocityWarning: No velocity defined on frame, assuming (0., 0., 0.) km / s. [astropy.coordinates.spectral_coordinate]\n",
      "WARNING: NoDistanceWarning: Distance on coordinate object is dimensionless, an arbitrary distance value of 1000000.0 kpc will be set instead. [astropy.coordinates.spectral_coordinate]\n"
     ]
    },
    {
     "name": "stdout",
     "output_type": "stream",
     "text": [
      "Gridding /bb8/lingrui/my_projects/FAST_pipeline/Sun17_A_07/M11/Calibrated/Sun17_A_07_arcdrift-M11_N_0001_211112_070500to211112_071152_calibrated_icrs_Tmb.fits\n",
      "Doing Doppler Tracking!\n"
     ]
    },
    {
     "name": "stderr",
     "output_type": "stream",
     "text": [
      "WARNING: NoVelocityWarning: No velocity defined on frame, assuming (0., 0., 0.) km / s. [astropy.coordinates.spectral_coordinate]\n",
      "WARNING: NoDistanceWarning: Distance on coordinate object is dimensionless, an arbitrary distance value of 1000000.0 kpc will be set instead. [astropy.coordinates.spectral_coordinate]\n"
     ]
    },
    {
     "name": "stdout",
     "output_type": "stream",
     "text": [
      "Gridding /bb8/lingrui/my_projects/FAST_pipeline/Sun17_A_07/M11/Calibrated/Sun17_A_07_arcdrift-M11_N_0002_211112_071152to211112_071844_calibrated_icrs_Tmb.fits\n",
      "Doing Doppler Tracking!\n"
     ]
    },
    {
     "name": "stderr",
     "output_type": "stream",
     "text": [
      "WARNING: NoVelocityWarning: No velocity defined on frame, assuming (0., 0., 0.) km / s. [astropy.coordinates.spectral_coordinate]\n",
      "WARNING: NoDistanceWarning: Distance on coordinate object is dimensionless, an arbitrary distance value of 1000000.0 kpc will be set instead. [astropy.coordinates.spectral_coordinate]\n"
     ]
    },
    {
     "name": "stdout",
     "output_type": "stream",
     "text": [
      "Gridding /bb8/lingrui/my_projects/FAST_pipeline/Sun17_A_07/M11/Calibrated/Sun17_A_07_arcdrift-M11_N_0003_211112_071844to211112_071848_calibrated_icrs_Tmb.fits\n",
      "Doing Doppler Tracking!\n"
     ]
    },
    {
     "name": "stderr",
     "output_type": "stream",
     "text": [
      "WARNING: NoVelocityWarning: No velocity defined on frame, assuming (0., 0., 0.) km / s. [astropy.coordinates.spectral_coordinate]\n",
      "WARNING: NoDistanceWarning: Distance on coordinate object is dimensionless, an arbitrary distance value of 1000000.0 kpc will be set instead. [astropy.coordinates.spectral_coordinate]\n"
     ]
    },
    {
     "name": "stdout",
     "output_type": "stream",
     "text": [
      "Gridding /bb8/lingrui/my_projects/FAST_pipeline/Sun17_A_07/M12/Calibrated/Sun17_A_07_arcdrift-M12_N_0001_211112_070500to211112_071152_calibrated_icrs_Tmb.fits\n",
      "Doing Doppler Tracking!\n"
     ]
    },
    {
     "name": "stderr",
     "output_type": "stream",
     "text": [
      "WARNING: NoVelocityWarning: No velocity defined on frame, assuming (0., 0., 0.) km / s. [astropy.coordinates.spectral_coordinate]\n",
      "WARNING: NoDistanceWarning: Distance on coordinate object is dimensionless, an arbitrary distance value of 1000000.0 kpc will be set instead. [astropy.coordinates.spectral_coordinate]\n"
     ]
    },
    {
     "name": "stdout",
     "output_type": "stream",
     "text": [
      "Gridding /bb8/lingrui/my_projects/FAST_pipeline/Sun17_A_07/M12/Calibrated/Sun17_A_07_arcdrift-M12_N_0002_211112_071152to211112_071844_calibrated_icrs_Tmb.fits\n",
      "Doing Doppler Tracking!\n"
     ]
    },
    {
     "name": "stderr",
     "output_type": "stream",
     "text": [
      "WARNING: NoVelocityWarning: No velocity defined on frame, assuming (0., 0., 0.) km / s. [astropy.coordinates.spectral_coordinate]\n",
      "WARNING: NoDistanceWarning: Distance on coordinate object is dimensionless, an arbitrary distance value of 1000000.0 kpc will be set instead. [astropy.coordinates.spectral_coordinate]\n"
     ]
    },
    {
     "name": "stdout",
     "output_type": "stream",
     "text": [
      "Gridding /bb8/lingrui/my_projects/FAST_pipeline/Sun17_A_07/M12/Calibrated/Sun17_A_07_arcdrift-M12_N_0003_211112_071844to211112_071848_calibrated_icrs_Tmb.fits\n",
      "Doing Doppler Tracking!\n"
     ]
    },
    {
     "name": "stderr",
     "output_type": "stream",
     "text": [
      "WARNING: NoVelocityWarning: No velocity defined on frame, assuming (0., 0., 0.) km / s. [astropy.coordinates.spectral_coordinate]\n",
      "WARNING: NoDistanceWarning: Distance on coordinate object is dimensionless, an arbitrary distance value of 1000000.0 kpc will be set instead. [astropy.coordinates.spectral_coordinate]\n"
     ]
    },
    {
     "name": "stdout",
     "output_type": "stream",
     "text": [
      "Gridding /bb8/lingrui/my_projects/FAST_pipeline/Sun17_A_07/M13/Calibrated/Sun17_A_07_arcdrift-M13_N_0001_211112_070500to211112_071152_calibrated_icrs_Tmb.fits\n",
      "Doing Doppler Tracking!\n"
     ]
    },
    {
     "name": "stderr",
     "output_type": "stream",
     "text": [
      "WARNING: NoVelocityWarning: No velocity defined on frame, assuming (0., 0., 0.) km / s. [astropy.coordinates.spectral_coordinate]\n",
      "WARNING: NoDistanceWarning: Distance on coordinate object is dimensionless, an arbitrary distance value of 1000000.0 kpc will be set instead. [astropy.coordinates.spectral_coordinate]\n"
     ]
    },
    {
     "name": "stdout",
     "output_type": "stream",
     "text": [
      "Gridding /bb8/lingrui/my_projects/FAST_pipeline/Sun17_A_07/M13/Calibrated/Sun17_A_07_arcdrift-M13_N_0002_211112_071152to211112_071844_calibrated_icrs_Tmb.fits\n",
      "Doing Doppler Tracking!\n"
     ]
    },
    {
     "name": "stderr",
     "output_type": "stream",
     "text": [
      "WARNING: NoVelocityWarning: No velocity defined on frame, assuming (0., 0., 0.) km / s. [astropy.coordinates.spectral_coordinate]\n",
      "WARNING: NoDistanceWarning: Distance on coordinate object is dimensionless, an arbitrary distance value of 1000000.0 kpc will be set instead. [astropy.coordinates.spectral_coordinate]\n"
     ]
    },
    {
     "name": "stdout",
     "output_type": "stream",
     "text": [
      "Gridding /bb8/lingrui/my_projects/FAST_pipeline/Sun17_A_07/M13/Calibrated/Sun17_A_07_arcdrift-M13_N_0003_211112_071844to211112_071848_calibrated_icrs_Tmb.fits\n",
      "Doing Doppler Tracking!\n"
     ]
    },
    {
     "name": "stderr",
     "output_type": "stream",
     "text": [
      "WARNING: NoVelocityWarning: No velocity defined on frame, assuming (0., 0., 0.) km / s. [astropy.coordinates.spectral_coordinate]\n",
      "WARNING: NoDistanceWarning: Distance on coordinate object is dimensionless, an arbitrary distance value of 1000000.0 kpc will be set instead. [astropy.coordinates.spectral_coordinate]\n"
     ]
    },
    {
     "name": "stdout",
     "output_type": "stream",
     "text": [
      "Gridding /bb8/lingrui/my_projects/FAST_pipeline/Sun17_A_07/M14/Calibrated/Sun17_A_07_arcdrift-M14_N_0001_211112_070500to211112_071152_calibrated_icrs_Tmb.fits\n",
      "Doing Doppler Tracking!\n"
     ]
    },
    {
     "name": "stderr",
     "output_type": "stream",
     "text": [
      "WARNING: NoVelocityWarning: No velocity defined on frame, assuming (0., 0., 0.) km / s. [astropy.coordinates.spectral_coordinate]\n",
      "WARNING: NoDistanceWarning: Distance on coordinate object is dimensionless, an arbitrary distance value of 1000000.0 kpc will be set instead. [astropy.coordinates.spectral_coordinate]\n"
     ]
    },
    {
     "name": "stdout",
     "output_type": "stream",
     "text": [
      "Gridding /bb8/lingrui/my_projects/FAST_pipeline/Sun17_A_07/M14/Calibrated/Sun17_A_07_arcdrift-M14_N_0002_211112_071152to211112_071844_calibrated_icrs_Tmb.fits\n",
      "Doing Doppler Tracking!\n"
     ]
    },
    {
     "name": "stderr",
     "output_type": "stream",
     "text": [
      "WARNING: NoVelocityWarning: No velocity defined on frame, assuming (0., 0., 0.) km / s. [astropy.coordinates.spectral_coordinate]\n",
      "WARNING: NoDistanceWarning: Distance on coordinate object is dimensionless, an arbitrary distance value of 1000000.0 kpc will be set instead. [astropy.coordinates.spectral_coordinate]\n"
     ]
    },
    {
     "name": "stdout",
     "output_type": "stream",
     "text": [
      "Gridding /bb8/lingrui/my_projects/FAST_pipeline/Sun17_A_07/M14/Calibrated/Sun17_A_07_arcdrift-M14_N_0003_211112_071844to211112_071848_calibrated_icrs_Tmb.fits\n",
      "Doing Doppler Tracking!\n"
     ]
    },
    {
     "name": "stderr",
     "output_type": "stream",
     "text": [
      "WARNING: NoVelocityWarning: No velocity defined on frame, assuming (0., 0., 0.) km / s. [astropy.coordinates.spectral_coordinate]\n",
      "WARNING: NoDistanceWarning: Distance on coordinate object is dimensionless, an arbitrary distance value of 1000000.0 kpc will be set instead. [astropy.coordinates.spectral_coordinate]\n"
     ]
    },
    {
     "name": "stdout",
     "output_type": "stream",
     "text": [
      "Gridding /bb8/lingrui/my_projects/FAST_pipeline/Sun17_A_07/M15/Calibrated/Sun17_A_07_arcdrift-M15_N_0001_211112_070500to211112_071152_calibrated_icrs_Tmb.fits\n",
      "Doing Doppler Tracking!\n"
     ]
    },
    {
     "name": "stderr",
     "output_type": "stream",
     "text": [
      "WARNING: NoVelocityWarning: No velocity defined on frame, assuming (0., 0., 0.) km / s. [astropy.coordinates.spectral_coordinate]\n",
      "WARNING: NoDistanceWarning: Distance on coordinate object is dimensionless, an arbitrary distance value of 1000000.0 kpc will be set instead. [astropy.coordinates.spectral_coordinate]\n"
     ]
    },
    {
     "name": "stdout",
     "output_type": "stream",
     "text": [
      "Gridding /bb8/lingrui/my_projects/FAST_pipeline/Sun17_A_07/M15/Calibrated/Sun17_A_07_arcdrift-M15_N_0002_211112_071152to211112_071844_calibrated_icrs_Tmb.fits\n",
      "Doing Doppler Tracking!\n"
     ]
    },
    {
     "name": "stderr",
     "output_type": "stream",
     "text": [
      "WARNING: NoVelocityWarning: No velocity defined on frame, assuming (0., 0., 0.) km / s. [astropy.coordinates.spectral_coordinate]\n",
      "WARNING: NoDistanceWarning: Distance on coordinate object is dimensionless, an arbitrary distance value of 1000000.0 kpc will be set instead. [astropy.coordinates.spectral_coordinate]\n"
     ]
    },
    {
     "name": "stdout",
     "output_type": "stream",
     "text": [
      "Gridding /bb8/lingrui/my_projects/FAST_pipeline/Sun17_A_07/M15/Calibrated/Sun17_A_07_arcdrift-M15_N_0003_211112_071844to211112_071848_calibrated_icrs_Tmb.fits\n",
      "Doing Doppler Tracking!\n"
     ]
    },
    {
     "name": "stderr",
     "output_type": "stream",
     "text": [
      "WARNING: NoVelocityWarning: No velocity defined on frame, assuming (0., 0., 0.) km / s. [astropy.coordinates.spectral_coordinate]\n",
      "WARNING: NoDistanceWarning: Distance on coordinate object is dimensionless, an arbitrary distance value of 1000000.0 kpc will be set instead. [astropy.coordinates.spectral_coordinate]\n"
     ]
    },
    {
     "name": "stdout",
     "output_type": "stream",
     "text": [
      "Gridding /bb8/lingrui/my_projects/FAST_pipeline/Sun17_A_07/M16/Calibrated/Sun17_A_07_arcdrift-M16_N_0001_211112_070500to211112_071152_calibrated_icrs_Tmb.fits\n",
      "Doing Doppler Tracking!\n"
     ]
    },
    {
     "name": "stderr",
     "output_type": "stream",
     "text": [
      "WARNING: NoVelocityWarning: No velocity defined on frame, assuming (0., 0., 0.) km / s. [astropy.coordinates.spectral_coordinate]\n",
      "WARNING: NoDistanceWarning: Distance on coordinate object is dimensionless, an arbitrary distance value of 1000000.0 kpc will be set instead. [astropy.coordinates.spectral_coordinate]\n"
     ]
    },
    {
     "name": "stdout",
     "output_type": "stream",
     "text": [
      "Gridding /bb8/lingrui/my_projects/FAST_pipeline/Sun17_A_07/M16/Calibrated/Sun17_A_07_arcdrift-M16_N_0002_211112_071152to211112_071844_calibrated_icrs_Tmb.fits\n",
      "Doing Doppler Tracking!\n"
     ]
    },
    {
     "name": "stderr",
     "output_type": "stream",
     "text": [
      "WARNING: NoVelocityWarning: No velocity defined on frame, assuming (0., 0., 0.) km / s. [astropy.coordinates.spectral_coordinate]\n",
      "WARNING: NoDistanceWarning: Distance on coordinate object is dimensionless, an arbitrary distance value of 1000000.0 kpc will be set instead. [astropy.coordinates.spectral_coordinate]\n"
     ]
    },
    {
     "name": "stdout",
     "output_type": "stream",
     "text": [
      "Gridding /bb8/lingrui/my_projects/FAST_pipeline/Sun17_A_07/M16/Calibrated/Sun17_A_07_arcdrift-M16_N_0003_211112_071844to211112_071848_calibrated_icrs_Tmb.fits\n",
      "Doing Doppler Tracking!\n"
     ]
    },
    {
     "name": "stderr",
     "output_type": "stream",
     "text": [
      "WARNING: NoVelocityWarning: No velocity defined on frame, assuming (0., 0., 0.) km / s. [astropy.coordinates.spectral_coordinate]\n",
      "WARNING: NoDistanceWarning: Distance on coordinate object is dimensionless, an arbitrary distance value of 1000000.0 kpc will be set instead. [astropy.coordinates.spectral_coordinate]\n"
     ]
    },
    {
     "name": "stdout",
     "output_type": "stream",
     "text": [
      "Gridding /bb8/lingrui/my_projects/FAST_pipeline/Sun17_A_07/M17/Calibrated/Sun17_A_07_arcdrift-M17_N_0001_211112_070500to211112_071152_calibrated_icrs_Tmb.fits\n",
      "Doing Doppler Tracking!\n"
     ]
    },
    {
     "name": "stderr",
     "output_type": "stream",
     "text": [
      "WARNING: NoVelocityWarning: No velocity defined on frame, assuming (0., 0., 0.) km / s. [astropy.coordinates.spectral_coordinate]\n",
      "WARNING: NoDistanceWarning: Distance on coordinate object is dimensionless, an arbitrary distance value of 1000000.0 kpc will be set instead. [astropy.coordinates.spectral_coordinate]\n"
     ]
    },
    {
     "name": "stdout",
     "output_type": "stream",
     "text": [
      "Gridding /bb8/lingrui/my_projects/FAST_pipeline/Sun17_A_07/M17/Calibrated/Sun17_A_07_arcdrift-M17_N_0002_211112_071152to211112_071844_calibrated_icrs_Tmb.fits\n",
      "Doing Doppler Tracking!\n"
     ]
    },
    {
     "name": "stderr",
     "output_type": "stream",
     "text": [
      "WARNING: NoVelocityWarning: No velocity defined on frame, assuming (0., 0., 0.) km / s. [astropy.coordinates.spectral_coordinate]\n",
      "WARNING: NoDistanceWarning: Distance on coordinate object is dimensionless, an arbitrary distance value of 1000000.0 kpc will be set instead. [astropy.coordinates.spectral_coordinate]\n"
     ]
    },
    {
     "name": "stdout",
     "output_type": "stream",
     "text": [
      "Gridding /bb8/lingrui/my_projects/FAST_pipeline/Sun17_A_07/M17/Calibrated/Sun17_A_07_arcdrift-M17_N_0003_211112_071844to211112_071848_calibrated_icrs_Tmb.fits\n",
      "Doing Doppler Tracking!\n"
     ]
    },
    {
     "name": "stderr",
     "output_type": "stream",
     "text": [
      "WARNING: NoVelocityWarning: No velocity defined on frame, assuming (0., 0., 0.) km / s. [astropy.coordinates.spectral_coordinate]\n",
      "WARNING: NoDistanceWarning: Distance on coordinate object is dimensionless, an arbitrary distance value of 1000000.0 kpc will be set instead. [astropy.coordinates.spectral_coordinate]\n"
     ]
    },
    {
     "name": "stdout",
     "output_type": "stream",
     "text": [
      "Gridding /bb8/lingrui/my_projects/FAST_pipeline/Sun17_A_07/M18/Calibrated/Sun17_A_07_arcdrift-M18_N_0001_211112_070500to211112_071152_calibrated_icrs_Tmb.fits\n",
      "Doing Doppler Tracking!\n"
     ]
    },
    {
     "name": "stderr",
     "output_type": "stream",
     "text": [
      "WARNING: NoVelocityWarning: No velocity defined on frame, assuming (0., 0., 0.) km / s. [astropy.coordinates.spectral_coordinate]\n",
      "WARNING: NoDistanceWarning: Distance on coordinate object is dimensionless, an arbitrary distance value of 1000000.0 kpc will be set instead. [astropy.coordinates.spectral_coordinate]\n"
     ]
    },
    {
     "name": "stdout",
     "output_type": "stream",
     "text": [
      "Gridding /bb8/lingrui/my_projects/FAST_pipeline/Sun17_A_07/M18/Calibrated/Sun17_A_07_arcdrift-M18_N_0002_211112_071152to211112_071844_calibrated_icrs_Tmb.fits\n",
      "Doing Doppler Tracking!\n"
     ]
    },
    {
     "name": "stderr",
     "output_type": "stream",
     "text": [
      "WARNING: NoVelocityWarning: No velocity defined on frame, assuming (0., 0., 0.) km / s. [astropy.coordinates.spectral_coordinate]\n",
      "WARNING: NoDistanceWarning: Distance on coordinate object is dimensionless, an arbitrary distance value of 1000000.0 kpc will be set instead. [astropy.coordinates.spectral_coordinate]\n"
     ]
    },
    {
     "name": "stdout",
     "output_type": "stream",
     "text": [
      "Gridding /bb8/lingrui/my_projects/FAST_pipeline/Sun17_A_07/M18/Calibrated/Sun17_A_07_arcdrift-M18_N_0003_211112_071844to211112_071848_calibrated_icrs_Tmb.fits\n",
      "Doing Doppler Tracking!\n"
     ]
    },
    {
     "name": "stderr",
     "output_type": "stream",
     "text": [
      "WARNING: NoVelocityWarning: No velocity defined on frame, assuming (0., 0., 0.) km / s. [astropy.coordinates.spectral_coordinate]\n",
      "WARNING: NoDistanceWarning: Distance on coordinate object is dimensionless, an arbitrary distance value of 1000000.0 kpc will be set instead. [astropy.coordinates.spectral_coordinate]\n"
     ]
    },
    {
     "name": "stdout",
     "output_type": "stream",
     "text": [
      "Gridding /bb8/lingrui/my_projects/FAST_pipeline/Sun17_A_07/M19/Calibrated/Sun17_A_07_arcdrift-M19_N_0001_211112_070500to211112_071152_calibrated_icrs_Tmb.fits\n",
      "Doing Doppler Tracking!\n"
     ]
    },
    {
     "name": "stderr",
     "output_type": "stream",
     "text": [
      "WARNING: NoVelocityWarning: No velocity defined on frame, assuming (0., 0., 0.) km / s. [astropy.coordinates.spectral_coordinate]\n",
      "WARNING: NoDistanceWarning: Distance on coordinate object is dimensionless, an arbitrary distance value of 1000000.0 kpc will be set instead. [astropy.coordinates.spectral_coordinate]\n"
     ]
    },
    {
     "name": "stdout",
     "output_type": "stream",
     "text": [
      "Gridding /bb8/lingrui/my_projects/FAST_pipeline/Sun17_A_07/M19/Calibrated/Sun17_A_07_arcdrift-M19_N_0002_211112_071152to211112_071844_calibrated_icrs_Tmb.fits\n",
      "Doing Doppler Tracking!\n"
     ]
    },
    {
     "name": "stderr",
     "output_type": "stream",
     "text": [
      "WARNING: NoVelocityWarning: No velocity defined on frame, assuming (0., 0., 0.) km / s. [astropy.coordinates.spectral_coordinate]\n",
      "WARNING: NoDistanceWarning: Distance on coordinate object is dimensionless, an arbitrary distance value of 1000000.0 kpc will be set instead. [astropy.coordinates.spectral_coordinate]\n"
     ]
    },
    {
     "name": "stdout",
     "output_type": "stream",
     "text": [
      "Gridding /bb8/lingrui/my_projects/FAST_pipeline/Sun17_A_07/M19/Calibrated/Sun17_A_07_arcdrift-M19_N_0003_211112_071844to211112_071848_calibrated_icrs_Tmb.fits\n",
      "Doing Doppler Tracking!\n"
     ]
    },
    {
     "name": "stderr",
     "output_type": "stream",
     "text": [
      "WARNING: NoVelocityWarning: No velocity defined on frame, assuming (0., 0., 0.) km / s. [astropy.coordinates.spectral_coordinate]\n",
      "WARNING: NoDistanceWarning: Distance on coordinate object is dimensionless, an arbitrary distance value of 1000000.0 kpc will be set instead. [astropy.coordinates.spectral_coordinate]\n"
     ]
    },
    {
     "name": "stdout",
     "output_type": "stream",
     "text": [
      "Gridding /bb8/lingrui/my_projects/FAST_pipeline/Sun17_A_08/M01/Calibrated/Sun17_A_08_arcdrift-M01_N_0001_211112_072900to211112_073552_calibrated_icrs_Tmb.fits\n",
      "Doing Doppler Tracking!\n"
     ]
    },
    {
     "name": "stderr",
     "output_type": "stream",
     "text": [
      "WARNING: NoVelocityWarning: No velocity defined on frame, assuming (0., 0., 0.) km / s. [astropy.coordinates.spectral_coordinate]\n",
      "WARNING: NoDistanceWarning: Distance on coordinate object is dimensionless, an arbitrary distance value of 1000000.0 kpc will be set instead. [astropy.coordinates.spectral_coordinate]\n"
     ]
    },
    {
     "name": "stdout",
     "output_type": "stream",
     "text": [
      "Gridding /bb8/lingrui/my_projects/FAST_pipeline/Sun17_A_08/M01/Calibrated/Sun17_A_08_arcdrift-M01_N_0002_211112_073552to211112_074244_calibrated_icrs_Tmb.fits\n",
      "Doing Doppler Tracking!\n"
     ]
    },
    {
     "name": "stderr",
     "output_type": "stream",
     "text": [
      "WARNING: NoVelocityWarning: No velocity defined on frame, assuming (0., 0., 0.) km / s. [astropy.coordinates.spectral_coordinate]\n",
      "WARNING: NoDistanceWarning: Distance on coordinate object is dimensionless, an arbitrary distance value of 1000000.0 kpc will be set instead. [astropy.coordinates.spectral_coordinate]\n"
     ]
    },
    {
     "name": "stdout",
     "output_type": "stream",
     "text": [
      "Gridding /bb8/lingrui/my_projects/FAST_pipeline/Sun17_A_08/M01/Calibrated/Sun17_A_08_arcdrift-M01_N_0003_211112_074244to211112_074248_calibrated_icrs_Tmb.fits\n",
      "Doing Doppler Tracking!\n"
     ]
    },
    {
     "name": "stderr",
     "output_type": "stream",
     "text": [
      "WARNING: NoVelocityWarning: No velocity defined on frame, assuming (0., 0., 0.) km / s. [astropy.coordinates.spectral_coordinate]\n",
      "WARNING: NoDistanceWarning: Distance on coordinate object is dimensionless, an arbitrary distance value of 1000000.0 kpc will be set instead. [astropy.coordinates.spectral_coordinate]\n"
     ]
    },
    {
     "name": "stdout",
     "output_type": "stream",
     "text": [
      "Gridding /bb8/lingrui/my_projects/FAST_pipeline/Sun17_A_08/M02/Calibrated/Sun17_A_08_arcdrift-M02_N_0001_211112_072900to211112_073552_calibrated_icrs_Tmb.fits\n",
      "Doing Doppler Tracking!\n"
     ]
    },
    {
     "name": "stderr",
     "output_type": "stream",
     "text": [
      "WARNING: NoVelocityWarning: No velocity defined on frame, assuming (0., 0., 0.) km / s. [astropy.coordinates.spectral_coordinate]\n",
      "WARNING: NoDistanceWarning: Distance on coordinate object is dimensionless, an arbitrary distance value of 1000000.0 kpc will be set instead. [astropy.coordinates.spectral_coordinate]\n"
     ]
    },
    {
     "name": "stdout",
     "output_type": "stream",
     "text": [
      "Gridding /bb8/lingrui/my_projects/FAST_pipeline/Sun17_A_08/M02/Calibrated/Sun17_A_08_arcdrift-M02_N_0002_211112_073552to211112_074244_calibrated_icrs_Tmb.fits\n",
      "Doing Doppler Tracking!\n"
     ]
    },
    {
     "name": "stderr",
     "output_type": "stream",
     "text": [
      "WARNING: NoVelocityWarning: No velocity defined on frame, assuming (0., 0., 0.) km / s. [astropy.coordinates.spectral_coordinate]\n",
      "WARNING: NoDistanceWarning: Distance on coordinate object is dimensionless, an arbitrary distance value of 1000000.0 kpc will be set instead. [astropy.coordinates.spectral_coordinate]\n"
     ]
    },
    {
     "name": "stdout",
     "output_type": "stream",
     "text": [
      "Gridding /bb8/lingrui/my_projects/FAST_pipeline/Sun17_A_08/M02/Calibrated/Sun17_A_08_arcdrift-M02_N_0003_211112_074244to211112_074248_calibrated_icrs_Tmb.fits\n",
      "Doing Doppler Tracking!\n"
     ]
    },
    {
     "name": "stderr",
     "output_type": "stream",
     "text": [
      "WARNING: NoVelocityWarning: No velocity defined on frame, assuming (0., 0., 0.) km / s. [astropy.coordinates.spectral_coordinate]\n",
      "WARNING: NoDistanceWarning: Distance on coordinate object is dimensionless, an arbitrary distance value of 1000000.0 kpc will be set instead. [astropy.coordinates.spectral_coordinate]\n"
     ]
    },
    {
     "name": "stdout",
     "output_type": "stream",
     "text": [
      "Gridding /bb8/lingrui/my_projects/FAST_pipeline/Sun17_A_08/M03/Calibrated/Sun17_A_08_arcdrift-M03_N_0001_211112_072900to211112_073552_calibrated_icrs_Tmb.fits\n",
      "Doing Doppler Tracking!\n"
     ]
    },
    {
     "name": "stderr",
     "output_type": "stream",
     "text": [
      "WARNING: NoVelocityWarning: No velocity defined on frame, assuming (0., 0., 0.) km / s. [astropy.coordinates.spectral_coordinate]\n",
      "WARNING: NoDistanceWarning: Distance on coordinate object is dimensionless, an arbitrary distance value of 1000000.0 kpc will be set instead. [astropy.coordinates.spectral_coordinate]\n"
     ]
    },
    {
     "name": "stdout",
     "output_type": "stream",
     "text": [
      "Gridding /bb8/lingrui/my_projects/FAST_pipeline/Sun17_A_08/M03/Calibrated/Sun17_A_08_arcdrift-M03_N_0002_211112_073552to211112_074244_calibrated_icrs_Tmb.fits\n",
      "Doing Doppler Tracking!\n"
     ]
    },
    {
     "name": "stderr",
     "output_type": "stream",
     "text": [
      "WARNING: NoVelocityWarning: No velocity defined on frame, assuming (0., 0., 0.) km / s. [astropy.coordinates.spectral_coordinate]\n",
      "WARNING: NoDistanceWarning: Distance on coordinate object is dimensionless, an arbitrary distance value of 1000000.0 kpc will be set instead. [astropy.coordinates.spectral_coordinate]\n"
     ]
    },
    {
     "name": "stdout",
     "output_type": "stream",
     "text": [
      "Gridding /bb8/lingrui/my_projects/FAST_pipeline/Sun17_A_08/M03/Calibrated/Sun17_A_08_arcdrift-M03_N_0003_211112_074244to211112_074248_calibrated_icrs_Tmb.fits\n",
      "Doing Doppler Tracking!\n"
     ]
    },
    {
     "name": "stderr",
     "output_type": "stream",
     "text": [
      "WARNING: NoVelocityWarning: No velocity defined on frame, assuming (0., 0., 0.) km / s. [astropy.coordinates.spectral_coordinate]\n",
      "WARNING: NoDistanceWarning: Distance on coordinate object is dimensionless, an arbitrary distance value of 1000000.0 kpc will be set instead. [astropy.coordinates.spectral_coordinate]\n"
     ]
    },
    {
     "name": "stdout",
     "output_type": "stream",
     "text": [
      "Gridding /bb8/lingrui/my_projects/FAST_pipeline/Sun17_A_08/M04/Calibrated/Sun17_A_08_arcdrift-M04_N_0001_211112_072900to211112_073552_calibrated_icrs_Tmb.fits\n",
      "Doing Doppler Tracking!\n"
     ]
    },
    {
     "name": "stderr",
     "output_type": "stream",
     "text": [
      "WARNING: NoVelocityWarning: No velocity defined on frame, assuming (0., 0., 0.) km / s. [astropy.coordinates.spectral_coordinate]\n",
      "WARNING: NoDistanceWarning: Distance on coordinate object is dimensionless, an arbitrary distance value of 1000000.0 kpc will be set instead. [astropy.coordinates.spectral_coordinate]\n"
     ]
    },
    {
     "name": "stdout",
     "output_type": "stream",
     "text": [
      "Gridding /bb8/lingrui/my_projects/FAST_pipeline/Sun17_A_08/M04/Calibrated/Sun17_A_08_arcdrift-M04_N_0002_211112_073552to211112_074244_calibrated_icrs_Tmb.fits\n",
      "Doing Doppler Tracking!\n"
     ]
    },
    {
     "name": "stderr",
     "output_type": "stream",
     "text": [
      "WARNING: NoVelocityWarning: No velocity defined on frame, assuming (0., 0., 0.) km / s. [astropy.coordinates.spectral_coordinate]\n",
      "WARNING: NoDistanceWarning: Distance on coordinate object is dimensionless, an arbitrary distance value of 1000000.0 kpc will be set instead. [astropy.coordinates.spectral_coordinate]\n"
     ]
    },
    {
     "name": "stdout",
     "output_type": "stream",
     "text": [
      "Gridding /bb8/lingrui/my_projects/FAST_pipeline/Sun17_A_08/M04/Calibrated/Sun17_A_08_arcdrift-M04_N_0003_211112_074244to211112_074248_calibrated_icrs_Tmb.fits\n",
      "Doing Doppler Tracking!\n"
     ]
    },
    {
     "name": "stderr",
     "output_type": "stream",
     "text": [
      "WARNING: NoVelocityWarning: No velocity defined on frame, assuming (0., 0., 0.) km / s. [astropy.coordinates.spectral_coordinate]\n",
      "WARNING: NoDistanceWarning: Distance on coordinate object is dimensionless, an arbitrary distance value of 1000000.0 kpc will be set instead. [astropy.coordinates.spectral_coordinate]\n"
     ]
    },
    {
     "name": "stdout",
     "output_type": "stream",
     "text": [
      "Gridding /bb8/lingrui/my_projects/FAST_pipeline/Sun17_A_08/M05/Calibrated/Sun17_A_08_arcdrift-M05_N_0001_211112_072900to211112_073552_calibrated_icrs_Tmb.fits\n",
      "Doing Doppler Tracking!\n"
     ]
    },
    {
     "name": "stderr",
     "output_type": "stream",
     "text": [
      "WARNING: NoVelocityWarning: No velocity defined on frame, assuming (0., 0., 0.) km / s. [astropy.coordinates.spectral_coordinate]\n",
      "WARNING: NoDistanceWarning: Distance on coordinate object is dimensionless, an arbitrary distance value of 1000000.0 kpc will be set instead. [astropy.coordinates.spectral_coordinate]\n"
     ]
    },
    {
     "name": "stdout",
     "output_type": "stream",
     "text": [
      "Gridding /bb8/lingrui/my_projects/FAST_pipeline/Sun17_A_08/M05/Calibrated/Sun17_A_08_arcdrift-M05_N_0002_211112_073552to211112_074244_calibrated_icrs_Tmb.fits\n",
      "Doing Doppler Tracking!\n"
     ]
    },
    {
     "name": "stderr",
     "output_type": "stream",
     "text": [
      "WARNING: NoVelocityWarning: No velocity defined on frame, assuming (0., 0., 0.) km / s. [astropy.coordinates.spectral_coordinate]\n",
      "WARNING: NoDistanceWarning: Distance on coordinate object is dimensionless, an arbitrary distance value of 1000000.0 kpc will be set instead. [astropy.coordinates.spectral_coordinate]\n"
     ]
    },
    {
     "name": "stdout",
     "output_type": "stream",
     "text": [
      "Gridding /bb8/lingrui/my_projects/FAST_pipeline/Sun17_A_08/M05/Calibrated/Sun17_A_08_arcdrift-M05_N_0003_211112_074244to211112_074248_calibrated_icrs_Tmb.fits\n",
      "Doing Doppler Tracking!\n"
     ]
    },
    {
     "name": "stderr",
     "output_type": "stream",
     "text": [
      "WARNING: NoVelocityWarning: No velocity defined on frame, assuming (0., 0., 0.) km / s. [astropy.coordinates.spectral_coordinate]\n",
      "WARNING: NoDistanceWarning: Distance on coordinate object is dimensionless, an arbitrary distance value of 1000000.0 kpc will be set instead. [astropy.coordinates.spectral_coordinate]\n"
     ]
    },
    {
     "name": "stdout",
     "output_type": "stream",
     "text": [
      "Gridding /bb8/lingrui/my_projects/FAST_pipeline/Sun17_A_08/M06/Calibrated/Sun17_A_08_arcdrift-M06_N_0001_211112_072900to211112_073552_calibrated_icrs_Tmb.fits\n",
      "Doing Doppler Tracking!\n"
     ]
    },
    {
     "name": "stderr",
     "output_type": "stream",
     "text": [
      "WARNING: NoVelocityWarning: No velocity defined on frame, assuming (0., 0., 0.) km / s. [astropy.coordinates.spectral_coordinate]\n",
      "WARNING: NoDistanceWarning: Distance on coordinate object is dimensionless, an arbitrary distance value of 1000000.0 kpc will be set instead. [astropy.coordinates.spectral_coordinate]\n"
     ]
    },
    {
     "name": "stdout",
     "output_type": "stream",
     "text": [
      "Gridding /bb8/lingrui/my_projects/FAST_pipeline/Sun17_A_08/M06/Calibrated/Sun17_A_08_arcdrift-M06_N_0002_211112_073552to211112_074244_calibrated_icrs_Tmb.fits\n",
      "Doing Doppler Tracking!\n"
     ]
    },
    {
     "name": "stderr",
     "output_type": "stream",
     "text": [
      "WARNING: NoVelocityWarning: No velocity defined on frame, assuming (0., 0., 0.) km / s. [astropy.coordinates.spectral_coordinate]\n",
      "WARNING: NoDistanceWarning: Distance on coordinate object is dimensionless, an arbitrary distance value of 1000000.0 kpc will be set instead. [astropy.coordinates.spectral_coordinate]\n"
     ]
    },
    {
     "name": "stdout",
     "output_type": "stream",
     "text": [
      "Gridding /bb8/lingrui/my_projects/FAST_pipeline/Sun17_A_08/M06/Calibrated/Sun17_A_08_arcdrift-M06_N_0003_211112_074244to211112_074248_calibrated_icrs_Tmb.fits\n",
      "Doing Doppler Tracking!\n"
     ]
    },
    {
     "name": "stderr",
     "output_type": "stream",
     "text": [
      "WARNING: NoVelocityWarning: No velocity defined on frame, assuming (0., 0., 0.) km / s. [astropy.coordinates.spectral_coordinate]\n",
      "WARNING: NoDistanceWarning: Distance on coordinate object is dimensionless, an arbitrary distance value of 1000000.0 kpc will be set instead. [astropy.coordinates.spectral_coordinate]\n"
     ]
    },
    {
     "name": "stdout",
     "output_type": "stream",
     "text": [
      "Gridding /bb8/lingrui/my_projects/FAST_pipeline/Sun17_A_08/M07/Calibrated/Sun17_A_08_arcdrift-M07_N_0001_211112_072900to211112_073552_calibrated_icrs_Tmb.fits\n",
      "Doing Doppler Tracking!\n"
     ]
    },
    {
     "name": "stderr",
     "output_type": "stream",
     "text": [
      "WARNING: NoVelocityWarning: No velocity defined on frame, assuming (0., 0., 0.) km / s. [astropy.coordinates.spectral_coordinate]\n",
      "WARNING: NoDistanceWarning: Distance on coordinate object is dimensionless, an arbitrary distance value of 1000000.0 kpc will be set instead. [astropy.coordinates.spectral_coordinate]\n"
     ]
    },
    {
     "name": "stdout",
     "output_type": "stream",
     "text": [
      "Gridding /bb8/lingrui/my_projects/FAST_pipeline/Sun17_A_08/M07/Calibrated/Sun17_A_08_arcdrift-M07_N_0002_211112_073552to211112_074244_calibrated_icrs_Tmb.fits\n",
      "Doing Doppler Tracking!\n"
     ]
    },
    {
     "name": "stderr",
     "output_type": "stream",
     "text": [
      "WARNING: NoVelocityWarning: No velocity defined on frame, assuming (0., 0., 0.) km / s. [astropy.coordinates.spectral_coordinate]\n",
      "WARNING: NoDistanceWarning: Distance on coordinate object is dimensionless, an arbitrary distance value of 1000000.0 kpc will be set instead. [astropy.coordinates.spectral_coordinate]\n"
     ]
    },
    {
     "name": "stdout",
     "output_type": "stream",
     "text": [
      "Gridding /bb8/lingrui/my_projects/FAST_pipeline/Sun17_A_08/M07/Calibrated/Sun17_A_08_arcdrift-M07_N_0003_211112_074244to211112_074248_calibrated_icrs_Tmb.fits\n",
      "Doing Doppler Tracking!\n"
     ]
    },
    {
     "name": "stderr",
     "output_type": "stream",
     "text": [
      "WARNING: NoVelocityWarning: No velocity defined on frame, assuming (0., 0., 0.) km / s. [astropy.coordinates.spectral_coordinate]\n",
      "WARNING: NoDistanceWarning: Distance on coordinate object is dimensionless, an arbitrary distance value of 1000000.0 kpc will be set instead. [astropy.coordinates.spectral_coordinate]\n"
     ]
    },
    {
     "name": "stdout",
     "output_type": "stream",
     "text": [
      "Gridding /bb8/lingrui/my_projects/FAST_pipeline/Sun17_A_08/M08/Calibrated/Sun17_A_08_arcdrift-M08_N_0001_211112_072900to211112_073552_calibrated_icrs_Tmb.fits\n",
      "Doing Doppler Tracking!\n"
     ]
    },
    {
     "name": "stderr",
     "output_type": "stream",
     "text": [
      "WARNING: NoVelocityWarning: No velocity defined on frame, assuming (0., 0., 0.) km / s. [astropy.coordinates.spectral_coordinate]\n",
      "WARNING: NoDistanceWarning: Distance on coordinate object is dimensionless, an arbitrary distance value of 1000000.0 kpc will be set instead. [astropy.coordinates.spectral_coordinate]\n"
     ]
    },
    {
     "name": "stdout",
     "output_type": "stream",
     "text": [
      "Gridding /bb8/lingrui/my_projects/FAST_pipeline/Sun17_A_08/M08/Calibrated/Sun17_A_08_arcdrift-M08_N_0002_211112_073552to211112_074244_calibrated_icrs_Tmb.fits\n",
      "Doing Doppler Tracking!\n"
     ]
    },
    {
     "name": "stderr",
     "output_type": "stream",
     "text": [
      "WARNING: NoVelocityWarning: No velocity defined on frame, assuming (0., 0., 0.) km / s. [astropy.coordinates.spectral_coordinate]\n",
      "WARNING: NoDistanceWarning: Distance on coordinate object is dimensionless, an arbitrary distance value of 1000000.0 kpc will be set instead. [astropy.coordinates.spectral_coordinate]\n"
     ]
    },
    {
     "name": "stdout",
     "output_type": "stream",
     "text": [
      "Gridding /bb8/lingrui/my_projects/FAST_pipeline/Sun17_A_08/M08/Calibrated/Sun17_A_08_arcdrift-M08_N_0003_211112_074244to211112_074248_calibrated_icrs_Tmb.fits\n",
      "Doing Doppler Tracking!\n"
     ]
    },
    {
     "name": "stderr",
     "output_type": "stream",
     "text": [
      "WARNING: NoVelocityWarning: No velocity defined on frame, assuming (0., 0., 0.) km / s. [astropy.coordinates.spectral_coordinate]\n",
      "WARNING: NoDistanceWarning: Distance on coordinate object is dimensionless, an arbitrary distance value of 1000000.0 kpc will be set instead. [astropy.coordinates.spectral_coordinate]\n"
     ]
    },
    {
     "name": "stdout",
     "output_type": "stream",
     "text": [
      "Gridding /bb8/lingrui/my_projects/FAST_pipeline/Sun17_A_08/M09/Calibrated/Sun17_A_08_arcdrift-M09_N_0001_211112_072900to211112_073552_calibrated_icrs_Tmb.fits\n",
      "Doing Doppler Tracking!\n"
     ]
    },
    {
     "name": "stderr",
     "output_type": "stream",
     "text": [
      "WARNING: NoVelocityWarning: No velocity defined on frame, assuming (0., 0., 0.) km / s. [astropy.coordinates.spectral_coordinate]\n",
      "WARNING: NoDistanceWarning: Distance on coordinate object is dimensionless, an arbitrary distance value of 1000000.0 kpc will be set instead. [astropy.coordinates.spectral_coordinate]\n"
     ]
    },
    {
     "name": "stdout",
     "output_type": "stream",
     "text": [
      "Gridding /bb8/lingrui/my_projects/FAST_pipeline/Sun17_A_08/M09/Calibrated/Sun17_A_08_arcdrift-M09_N_0002_211112_073552to211112_074244_calibrated_icrs_Tmb.fits\n",
      "Doing Doppler Tracking!\n"
     ]
    },
    {
     "name": "stderr",
     "output_type": "stream",
     "text": [
      "WARNING: NoVelocityWarning: No velocity defined on frame, assuming (0., 0., 0.) km / s. [astropy.coordinates.spectral_coordinate]\n",
      "WARNING: NoDistanceWarning: Distance on coordinate object is dimensionless, an arbitrary distance value of 1000000.0 kpc will be set instead. [astropy.coordinates.spectral_coordinate]\n"
     ]
    },
    {
     "name": "stdout",
     "output_type": "stream",
     "text": [
      "Gridding /bb8/lingrui/my_projects/FAST_pipeline/Sun17_A_08/M09/Calibrated/Sun17_A_08_arcdrift-M09_N_0003_211112_074244to211112_074248_calibrated_icrs_Tmb.fits\n",
      "Doing Doppler Tracking!\n"
     ]
    },
    {
     "name": "stderr",
     "output_type": "stream",
     "text": [
      "WARNING: NoVelocityWarning: No velocity defined on frame, assuming (0., 0., 0.) km / s. [astropy.coordinates.spectral_coordinate]\n",
      "WARNING: NoDistanceWarning: Distance on coordinate object is dimensionless, an arbitrary distance value of 1000000.0 kpc will be set instead. [astropy.coordinates.spectral_coordinate]\n"
     ]
    },
    {
     "name": "stdout",
     "output_type": "stream",
     "text": [
      "Gridding /bb8/lingrui/my_projects/FAST_pipeline/Sun17_A_08/M10/Calibrated/Sun17_A_08_arcdrift-M10_N_0001_211112_072900to211112_073552_calibrated_icrs_Tmb.fits\n",
      "Doing Doppler Tracking!\n"
     ]
    },
    {
     "name": "stderr",
     "output_type": "stream",
     "text": [
      "WARNING: NoVelocityWarning: No velocity defined on frame, assuming (0., 0., 0.) km / s. [astropy.coordinates.spectral_coordinate]\n",
      "WARNING: NoDistanceWarning: Distance on coordinate object is dimensionless, an arbitrary distance value of 1000000.0 kpc will be set instead. [astropy.coordinates.spectral_coordinate]\n"
     ]
    },
    {
     "name": "stdout",
     "output_type": "stream",
     "text": [
      "Gridding /bb8/lingrui/my_projects/FAST_pipeline/Sun17_A_08/M10/Calibrated/Sun17_A_08_arcdrift-M10_N_0002_211112_073552to211112_074244_calibrated_icrs_Tmb.fits\n",
      "Doing Doppler Tracking!\n"
     ]
    },
    {
     "name": "stderr",
     "output_type": "stream",
     "text": [
      "WARNING: NoVelocityWarning: No velocity defined on frame, assuming (0., 0., 0.) km / s. [astropy.coordinates.spectral_coordinate]\n",
      "WARNING: NoDistanceWarning: Distance on coordinate object is dimensionless, an arbitrary distance value of 1000000.0 kpc will be set instead. [astropy.coordinates.spectral_coordinate]\n"
     ]
    },
    {
     "name": "stdout",
     "output_type": "stream",
     "text": [
      "Gridding /bb8/lingrui/my_projects/FAST_pipeline/Sun17_A_08/M10/Calibrated/Sun17_A_08_arcdrift-M10_N_0003_211112_074244to211112_074248_calibrated_icrs_Tmb.fits\n",
      "Doing Doppler Tracking!\n"
     ]
    },
    {
     "name": "stderr",
     "output_type": "stream",
     "text": [
      "WARNING: NoVelocityWarning: No velocity defined on frame, assuming (0., 0., 0.) km / s. [astropy.coordinates.spectral_coordinate]\n",
      "WARNING: NoDistanceWarning: Distance on coordinate object is dimensionless, an arbitrary distance value of 1000000.0 kpc will be set instead. [astropy.coordinates.spectral_coordinate]\n"
     ]
    },
    {
     "name": "stdout",
     "output_type": "stream",
     "text": [
      "Gridding /bb8/lingrui/my_projects/FAST_pipeline/Sun17_A_08/M11/Calibrated/Sun17_A_08_arcdrift-M11_N_0001_211112_072900to211112_073552_calibrated_icrs_Tmb.fits\n",
      "Doing Doppler Tracking!\n"
     ]
    },
    {
     "name": "stderr",
     "output_type": "stream",
     "text": [
      "WARNING: NoVelocityWarning: No velocity defined on frame, assuming (0., 0., 0.) km / s. [astropy.coordinates.spectral_coordinate]\n",
      "WARNING: NoDistanceWarning: Distance on coordinate object is dimensionless, an arbitrary distance value of 1000000.0 kpc will be set instead. [astropy.coordinates.spectral_coordinate]\n"
     ]
    },
    {
     "name": "stdout",
     "output_type": "stream",
     "text": [
      "Gridding /bb8/lingrui/my_projects/FAST_pipeline/Sun17_A_08/M11/Calibrated/Sun17_A_08_arcdrift-M11_N_0002_211112_073552to211112_074244_calibrated_icrs_Tmb.fits\n",
      "Doing Doppler Tracking!\n"
     ]
    },
    {
     "name": "stderr",
     "output_type": "stream",
     "text": [
      "WARNING: NoVelocityWarning: No velocity defined on frame, assuming (0., 0., 0.) km / s. [astropy.coordinates.spectral_coordinate]\n",
      "WARNING: NoDistanceWarning: Distance on coordinate object is dimensionless, an arbitrary distance value of 1000000.0 kpc will be set instead. [astropy.coordinates.spectral_coordinate]\n"
     ]
    },
    {
     "name": "stdout",
     "output_type": "stream",
     "text": [
      "Gridding /bb8/lingrui/my_projects/FAST_pipeline/Sun17_A_08/M11/Calibrated/Sun17_A_08_arcdrift-M11_N_0003_211112_074244to211112_074248_calibrated_icrs_Tmb.fits\n",
      "Doing Doppler Tracking!\n"
     ]
    },
    {
     "name": "stderr",
     "output_type": "stream",
     "text": [
      "WARNING: NoVelocityWarning: No velocity defined on frame, assuming (0., 0., 0.) km / s. [astropy.coordinates.spectral_coordinate]\n",
      "WARNING: NoDistanceWarning: Distance on coordinate object is dimensionless, an arbitrary distance value of 1000000.0 kpc will be set instead. [astropy.coordinates.spectral_coordinate]\n"
     ]
    },
    {
     "name": "stdout",
     "output_type": "stream",
     "text": [
      "Gridding /bb8/lingrui/my_projects/FAST_pipeline/Sun17_A_08/M12/Calibrated/Sun17_A_08_arcdrift-M12_N_0001_211112_072900to211112_073552_calibrated_icrs_Tmb.fits\n",
      "Doing Doppler Tracking!\n"
     ]
    },
    {
     "name": "stderr",
     "output_type": "stream",
     "text": [
      "WARNING: NoVelocityWarning: No velocity defined on frame, assuming (0., 0., 0.) km / s. [astropy.coordinates.spectral_coordinate]\n",
      "WARNING: NoDistanceWarning: Distance on coordinate object is dimensionless, an arbitrary distance value of 1000000.0 kpc will be set instead. [astropy.coordinates.spectral_coordinate]\n"
     ]
    },
    {
     "name": "stdout",
     "output_type": "stream",
     "text": [
      "Gridding /bb8/lingrui/my_projects/FAST_pipeline/Sun17_A_08/M12/Calibrated/Sun17_A_08_arcdrift-M12_N_0002_211112_073552to211112_074244_calibrated_icrs_Tmb.fits\n",
      "Doing Doppler Tracking!\n"
     ]
    },
    {
     "name": "stderr",
     "output_type": "stream",
     "text": [
      "WARNING: NoVelocityWarning: No velocity defined on frame, assuming (0., 0., 0.) km / s. [astropy.coordinates.spectral_coordinate]\n",
      "WARNING: NoDistanceWarning: Distance on coordinate object is dimensionless, an arbitrary distance value of 1000000.0 kpc will be set instead. [astropy.coordinates.spectral_coordinate]\n"
     ]
    },
    {
     "name": "stdout",
     "output_type": "stream",
     "text": [
      "Gridding /bb8/lingrui/my_projects/FAST_pipeline/Sun17_A_08/M12/Calibrated/Sun17_A_08_arcdrift-M12_N_0003_211112_074244to211112_074248_calibrated_icrs_Tmb.fits\n",
      "Doing Doppler Tracking!\n"
     ]
    },
    {
     "name": "stderr",
     "output_type": "stream",
     "text": [
      "WARNING: NoVelocityWarning: No velocity defined on frame, assuming (0., 0., 0.) km / s. [astropy.coordinates.spectral_coordinate]\n",
      "WARNING: NoDistanceWarning: Distance on coordinate object is dimensionless, an arbitrary distance value of 1000000.0 kpc will be set instead. [astropy.coordinates.spectral_coordinate]\n"
     ]
    },
    {
     "name": "stdout",
     "output_type": "stream",
     "text": [
      "Gridding /bb8/lingrui/my_projects/FAST_pipeline/Sun17_A_08/M13/Calibrated/Sun17_A_08_arcdrift-M13_N_0001_211112_072900to211112_073552_calibrated_icrs_Tmb.fits\n",
      "Doing Doppler Tracking!\n"
     ]
    },
    {
     "name": "stderr",
     "output_type": "stream",
     "text": [
      "WARNING: NoVelocityWarning: No velocity defined on frame, assuming (0., 0., 0.) km / s. [astropy.coordinates.spectral_coordinate]\n",
      "WARNING: NoDistanceWarning: Distance on coordinate object is dimensionless, an arbitrary distance value of 1000000.0 kpc will be set instead. [astropy.coordinates.spectral_coordinate]\n"
     ]
    },
    {
     "name": "stdout",
     "output_type": "stream",
     "text": [
      "Gridding /bb8/lingrui/my_projects/FAST_pipeline/Sun17_A_08/M13/Calibrated/Sun17_A_08_arcdrift-M13_N_0002_211112_073552to211112_074244_calibrated_icrs_Tmb.fits\n",
      "Doing Doppler Tracking!\n"
     ]
    },
    {
     "name": "stderr",
     "output_type": "stream",
     "text": [
      "WARNING: NoVelocityWarning: No velocity defined on frame, assuming (0., 0., 0.) km / s. [astropy.coordinates.spectral_coordinate]\n",
      "WARNING: NoDistanceWarning: Distance on coordinate object is dimensionless, an arbitrary distance value of 1000000.0 kpc will be set instead. [astropy.coordinates.spectral_coordinate]\n"
     ]
    },
    {
     "name": "stdout",
     "output_type": "stream",
     "text": [
      "Gridding /bb8/lingrui/my_projects/FAST_pipeline/Sun17_A_08/M13/Calibrated/Sun17_A_08_arcdrift-M13_N_0003_211112_074244to211112_074248_calibrated_icrs_Tmb.fits\n",
      "Doing Doppler Tracking!\n"
     ]
    },
    {
     "name": "stderr",
     "output_type": "stream",
     "text": [
      "WARNING: NoVelocityWarning: No velocity defined on frame, assuming (0., 0., 0.) km / s. [astropy.coordinates.spectral_coordinate]\n",
      "WARNING: NoDistanceWarning: Distance on coordinate object is dimensionless, an arbitrary distance value of 1000000.0 kpc will be set instead. [astropy.coordinates.spectral_coordinate]\n"
     ]
    },
    {
     "name": "stdout",
     "output_type": "stream",
     "text": [
      "Gridding /bb8/lingrui/my_projects/FAST_pipeline/Sun17_A_08/M14/Calibrated/Sun17_A_08_arcdrift-M14_N_0001_211112_072900to211112_073552_calibrated_icrs_Tmb.fits\n",
      "Doing Doppler Tracking!\n"
     ]
    },
    {
     "name": "stderr",
     "output_type": "stream",
     "text": [
      "WARNING: NoVelocityWarning: No velocity defined on frame, assuming (0., 0., 0.) km / s. [astropy.coordinates.spectral_coordinate]\n",
      "WARNING: NoDistanceWarning: Distance on coordinate object is dimensionless, an arbitrary distance value of 1000000.0 kpc will be set instead. [astropy.coordinates.spectral_coordinate]\n"
     ]
    },
    {
     "name": "stdout",
     "output_type": "stream",
     "text": [
      "Gridding /bb8/lingrui/my_projects/FAST_pipeline/Sun17_A_08/M14/Calibrated/Sun17_A_08_arcdrift-M14_N_0002_211112_073552to211112_074244_calibrated_icrs_Tmb.fits\n",
      "Doing Doppler Tracking!\n"
     ]
    },
    {
     "name": "stderr",
     "output_type": "stream",
     "text": [
      "WARNING: NoVelocityWarning: No velocity defined on frame, assuming (0., 0., 0.) km / s. [astropy.coordinates.spectral_coordinate]\n",
      "WARNING: NoDistanceWarning: Distance on coordinate object is dimensionless, an arbitrary distance value of 1000000.0 kpc will be set instead. [astropy.coordinates.spectral_coordinate]\n"
     ]
    },
    {
     "name": "stdout",
     "output_type": "stream",
     "text": [
      "Gridding /bb8/lingrui/my_projects/FAST_pipeline/Sun17_A_08/M14/Calibrated/Sun17_A_08_arcdrift-M14_N_0003_211112_074244to211112_074248_calibrated_icrs_Tmb.fits\n",
      "Doing Doppler Tracking!\n"
     ]
    },
    {
     "name": "stderr",
     "output_type": "stream",
     "text": [
      "WARNING: NoVelocityWarning: No velocity defined on frame, assuming (0., 0., 0.) km / s. [astropy.coordinates.spectral_coordinate]\n",
      "WARNING: NoDistanceWarning: Distance on coordinate object is dimensionless, an arbitrary distance value of 1000000.0 kpc will be set instead. [astropy.coordinates.spectral_coordinate]\n"
     ]
    },
    {
     "name": "stdout",
     "output_type": "stream",
     "text": [
      "Gridding /bb8/lingrui/my_projects/FAST_pipeline/Sun17_A_08/M15/Calibrated/Sun17_A_08_arcdrift-M15_N_0001_211112_072900to211112_073552_calibrated_icrs_Tmb.fits\n",
      "Doing Doppler Tracking!\n"
     ]
    },
    {
     "name": "stderr",
     "output_type": "stream",
     "text": [
      "WARNING: NoVelocityWarning: No velocity defined on frame, assuming (0., 0., 0.) km / s. [astropy.coordinates.spectral_coordinate]\n",
      "WARNING: NoDistanceWarning: Distance on coordinate object is dimensionless, an arbitrary distance value of 1000000.0 kpc will be set instead. [astropy.coordinates.spectral_coordinate]\n"
     ]
    },
    {
     "name": "stdout",
     "output_type": "stream",
     "text": [
      "Gridding /bb8/lingrui/my_projects/FAST_pipeline/Sun17_A_08/M15/Calibrated/Sun17_A_08_arcdrift-M15_N_0002_211112_073552to211112_074244_calibrated_icrs_Tmb.fits\n",
      "Doing Doppler Tracking!\n"
     ]
    },
    {
     "name": "stderr",
     "output_type": "stream",
     "text": [
      "WARNING: NoVelocityWarning: No velocity defined on frame, assuming (0., 0., 0.) km / s. [astropy.coordinates.spectral_coordinate]\n",
      "WARNING: NoDistanceWarning: Distance on coordinate object is dimensionless, an arbitrary distance value of 1000000.0 kpc will be set instead. [astropy.coordinates.spectral_coordinate]\n"
     ]
    },
    {
     "name": "stdout",
     "output_type": "stream",
     "text": [
      "Gridding /bb8/lingrui/my_projects/FAST_pipeline/Sun17_A_08/M15/Calibrated/Sun17_A_08_arcdrift-M15_N_0003_211112_074244to211112_074248_calibrated_icrs_Tmb.fits\n",
      "Doing Doppler Tracking!\n"
     ]
    },
    {
     "name": "stderr",
     "output_type": "stream",
     "text": [
      "WARNING: NoVelocityWarning: No velocity defined on frame, assuming (0., 0., 0.) km / s. [astropy.coordinates.spectral_coordinate]\n",
      "WARNING: NoDistanceWarning: Distance on coordinate object is dimensionless, an arbitrary distance value of 1000000.0 kpc will be set instead. [astropy.coordinates.spectral_coordinate]\n"
     ]
    },
    {
     "name": "stdout",
     "output_type": "stream",
     "text": [
      "Gridding /bb8/lingrui/my_projects/FAST_pipeline/Sun17_A_08/M16/Calibrated/Sun17_A_08_arcdrift-M16_N_0001_211112_072900to211112_073552_calibrated_icrs_Tmb.fits\n",
      "Doing Doppler Tracking!\n"
     ]
    },
    {
     "name": "stderr",
     "output_type": "stream",
     "text": [
      "WARNING: NoVelocityWarning: No velocity defined on frame, assuming (0., 0., 0.) km / s. [astropy.coordinates.spectral_coordinate]\n",
      "WARNING: NoDistanceWarning: Distance on coordinate object is dimensionless, an arbitrary distance value of 1000000.0 kpc will be set instead. [astropy.coordinates.spectral_coordinate]\n"
     ]
    },
    {
     "name": "stdout",
     "output_type": "stream",
     "text": [
      "Gridding /bb8/lingrui/my_projects/FAST_pipeline/Sun17_A_08/M16/Calibrated/Sun17_A_08_arcdrift-M16_N_0002_211112_073552to211112_074244_calibrated_icrs_Tmb.fits\n",
      "Doing Doppler Tracking!\n"
     ]
    },
    {
     "name": "stderr",
     "output_type": "stream",
     "text": [
      "WARNING: NoVelocityWarning: No velocity defined on frame, assuming (0., 0., 0.) km / s. [astropy.coordinates.spectral_coordinate]\n",
      "WARNING: NoDistanceWarning: Distance on coordinate object is dimensionless, an arbitrary distance value of 1000000.0 kpc will be set instead. [astropy.coordinates.spectral_coordinate]\n"
     ]
    },
    {
     "name": "stdout",
     "output_type": "stream",
     "text": [
      "Gridding /bb8/lingrui/my_projects/FAST_pipeline/Sun17_A_08/M16/Calibrated/Sun17_A_08_arcdrift-M16_N_0003_211112_074244to211112_074248_calibrated_icrs_Tmb.fits\n",
      "Doing Doppler Tracking!\n"
     ]
    },
    {
     "name": "stderr",
     "output_type": "stream",
     "text": [
      "WARNING: NoVelocityWarning: No velocity defined on frame, assuming (0., 0., 0.) km / s. [astropy.coordinates.spectral_coordinate]\n",
      "WARNING: NoDistanceWarning: Distance on coordinate object is dimensionless, an arbitrary distance value of 1000000.0 kpc will be set instead. [astropy.coordinates.spectral_coordinate]\n"
     ]
    },
    {
     "name": "stdout",
     "output_type": "stream",
     "text": [
      "Gridding /bb8/lingrui/my_projects/FAST_pipeline/Sun17_A_08/M17/Calibrated/Sun17_A_08_arcdrift-M17_N_0001_211112_072900to211112_073552_calibrated_icrs_Tmb.fits\n",
      "Doing Doppler Tracking!\n"
     ]
    },
    {
     "name": "stderr",
     "output_type": "stream",
     "text": [
      "WARNING: NoVelocityWarning: No velocity defined on frame, assuming (0., 0., 0.) km / s. [astropy.coordinates.spectral_coordinate]\n",
      "WARNING: NoDistanceWarning: Distance on coordinate object is dimensionless, an arbitrary distance value of 1000000.0 kpc will be set instead. [astropy.coordinates.spectral_coordinate]\n"
     ]
    },
    {
     "name": "stdout",
     "output_type": "stream",
     "text": [
      "Gridding /bb8/lingrui/my_projects/FAST_pipeline/Sun17_A_08/M17/Calibrated/Sun17_A_08_arcdrift-M17_N_0002_211112_073552to211112_074244_calibrated_icrs_Tmb.fits\n",
      "Doing Doppler Tracking!\n"
     ]
    },
    {
     "name": "stderr",
     "output_type": "stream",
     "text": [
      "WARNING: NoVelocityWarning: No velocity defined on frame, assuming (0., 0., 0.) km / s. [astropy.coordinates.spectral_coordinate]\n",
      "WARNING: NoDistanceWarning: Distance on coordinate object is dimensionless, an arbitrary distance value of 1000000.0 kpc will be set instead. [astropy.coordinates.spectral_coordinate]\n"
     ]
    },
    {
     "name": "stdout",
     "output_type": "stream",
     "text": [
      "Gridding /bb8/lingrui/my_projects/FAST_pipeline/Sun17_A_08/M17/Calibrated/Sun17_A_08_arcdrift-M17_N_0003_211112_074244to211112_074248_calibrated_icrs_Tmb.fits\n",
      "Doing Doppler Tracking!\n"
     ]
    },
    {
     "name": "stderr",
     "output_type": "stream",
     "text": [
      "WARNING: NoVelocityWarning: No velocity defined on frame, assuming (0., 0., 0.) km / s. [astropy.coordinates.spectral_coordinate]\n",
      "WARNING: NoDistanceWarning: Distance on coordinate object is dimensionless, an arbitrary distance value of 1000000.0 kpc will be set instead. [astropy.coordinates.spectral_coordinate]\n"
     ]
    },
    {
     "name": "stdout",
     "output_type": "stream",
     "text": [
      "Gridding /bb8/lingrui/my_projects/FAST_pipeline/Sun17_A_08/M18/Calibrated/Sun17_A_08_arcdrift-M18_N_0001_211112_072900to211112_073552_calibrated_icrs_Tmb.fits\n",
      "Doing Doppler Tracking!\n"
     ]
    },
    {
     "name": "stderr",
     "output_type": "stream",
     "text": [
      "WARNING: NoVelocityWarning: No velocity defined on frame, assuming (0., 0., 0.) km / s. [astropy.coordinates.spectral_coordinate]\n",
      "WARNING: NoDistanceWarning: Distance on coordinate object is dimensionless, an arbitrary distance value of 1000000.0 kpc will be set instead. [astropy.coordinates.spectral_coordinate]\n"
     ]
    },
    {
     "name": "stdout",
     "output_type": "stream",
     "text": [
      "Gridding /bb8/lingrui/my_projects/FAST_pipeline/Sun17_A_08/M18/Calibrated/Sun17_A_08_arcdrift-M18_N_0002_211112_073552to211112_074244_calibrated_icrs_Tmb.fits\n",
      "Doing Doppler Tracking!\n"
     ]
    },
    {
     "name": "stderr",
     "output_type": "stream",
     "text": [
      "WARNING: NoVelocityWarning: No velocity defined on frame, assuming (0., 0., 0.) km / s. [astropy.coordinates.spectral_coordinate]\n",
      "WARNING: NoDistanceWarning: Distance on coordinate object is dimensionless, an arbitrary distance value of 1000000.0 kpc will be set instead. [astropy.coordinates.spectral_coordinate]\n"
     ]
    },
    {
     "name": "stdout",
     "output_type": "stream",
     "text": [
      "Gridding /bb8/lingrui/my_projects/FAST_pipeline/Sun17_A_08/M18/Calibrated/Sun17_A_08_arcdrift-M18_N_0003_211112_074244to211112_074248_calibrated_icrs_Tmb.fits\n",
      "Doing Doppler Tracking!\n"
     ]
    },
    {
     "name": "stderr",
     "output_type": "stream",
     "text": [
      "WARNING: NoVelocityWarning: No velocity defined on frame, assuming (0., 0., 0.) km / s. [astropy.coordinates.spectral_coordinate]\n",
      "WARNING: NoDistanceWarning: Distance on coordinate object is dimensionless, an arbitrary distance value of 1000000.0 kpc will be set instead. [astropy.coordinates.spectral_coordinate]\n"
     ]
    },
    {
     "name": "stdout",
     "output_type": "stream",
     "text": [
      "Gridding /bb8/lingrui/my_projects/FAST_pipeline/Sun17_A_08/M19/Calibrated/Sun17_A_08_arcdrift-M19_N_0001_211112_072900to211112_073552_calibrated_icrs_Tmb.fits\n",
      "Doing Doppler Tracking!\n"
     ]
    },
    {
     "name": "stderr",
     "output_type": "stream",
     "text": [
      "WARNING: NoVelocityWarning: No velocity defined on frame, assuming (0., 0., 0.) km / s. [astropy.coordinates.spectral_coordinate]\n",
      "WARNING: NoDistanceWarning: Distance on coordinate object is dimensionless, an arbitrary distance value of 1000000.0 kpc will be set instead. [astropy.coordinates.spectral_coordinate]\n"
     ]
    },
    {
     "name": "stdout",
     "output_type": "stream",
     "text": [
      "Gridding /bb8/lingrui/my_projects/FAST_pipeline/Sun17_A_08/M19/Calibrated/Sun17_A_08_arcdrift-M19_N_0002_211112_073552to211112_074244_calibrated_icrs_Tmb.fits\n",
      "Doing Doppler Tracking!\n"
     ]
    },
    {
     "name": "stderr",
     "output_type": "stream",
     "text": [
      "WARNING: NoVelocityWarning: No velocity defined on frame, assuming (0., 0., 0.) km / s. [astropy.coordinates.spectral_coordinate]\n",
      "WARNING: NoDistanceWarning: Distance on coordinate object is dimensionless, an arbitrary distance value of 1000000.0 kpc will be set instead. [astropy.coordinates.spectral_coordinate]\n"
     ]
    },
    {
     "name": "stdout",
     "output_type": "stream",
     "text": [
      "Gridding /bb8/lingrui/my_projects/FAST_pipeline/Sun17_A_08/M19/Calibrated/Sun17_A_08_arcdrift-M19_N_0003_211112_074244to211112_074248_calibrated_icrs_Tmb.fits\n",
      "Doing Doppler Tracking!\n"
     ]
    },
    {
     "name": "stderr",
     "output_type": "stream",
     "text": [
      "WARNING: NoVelocityWarning: No velocity defined on frame, assuming (0., 0., 0.) km / s. [astropy.coordinates.spectral_coordinate]\n",
      "WARNING: NoDistanceWarning: Distance on coordinate object is dimensionless, an arbitrary distance value of 1000000.0 kpc will be set instead. [astropy.coordinates.spectral_coordinate]\n"
     ]
    },
    {
     "name": "stdout",
     "output_type": "stream",
     "text": [
      "Gridding /bb8/lingrui/my_projects/FAST_pipeline/Sun17_A_09/M01/Calibrated/Sun17_A_09_arcdrift-M01_N_0001_211023_110300to211023_110952_calibrated_icrs_Tmb.fits\n",
      "Doing Doppler Tracking!\n"
     ]
    },
    {
     "name": "stderr",
     "output_type": "stream",
     "text": [
      "WARNING: NoVelocityWarning: No velocity defined on frame, assuming (0., 0., 0.) km / s. [astropy.coordinates.spectral_coordinate]\n",
      "WARNING: NoDistanceWarning: Distance on coordinate object is dimensionless, an arbitrary distance value of 1000000.0 kpc will be set instead. [astropy.coordinates.spectral_coordinate]\n"
     ]
    },
    {
     "name": "stdout",
     "output_type": "stream",
     "text": [
      "Gridding /bb8/lingrui/my_projects/FAST_pipeline/Sun17_A_09/M01/Calibrated/Sun17_A_09_arcdrift-M01_N_0002_211023_110952to211023_111644_calibrated_icrs_Tmb.fits\n",
      "Doing Doppler Tracking!\n"
     ]
    },
    {
     "name": "stderr",
     "output_type": "stream",
     "text": [
      "WARNING: NoVelocityWarning: No velocity defined on frame, assuming (0., 0., 0.) km / s. [astropy.coordinates.spectral_coordinate]\n",
      "WARNING: NoDistanceWarning: Distance on coordinate object is dimensionless, an arbitrary distance value of 1000000.0 kpc will be set instead. [astropy.coordinates.spectral_coordinate]\n"
     ]
    },
    {
     "name": "stdout",
     "output_type": "stream",
     "text": [
      "Gridding /bb8/lingrui/my_projects/FAST_pipeline/Sun17_A_09/M01/Calibrated/Sun17_A_09_arcdrift-M01_N_0003_211023_111644to211023_111648_calibrated_icrs_Tmb.fits\n",
      "Doing Doppler Tracking!\n"
     ]
    },
    {
     "name": "stderr",
     "output_type": "stream",
     "text": [
      "WARNING: NoVelocityWarning: No velocity defined on frame, assuming (0., 0., 0.) km / s. [astropy.coordinates.spectral_coordinate]\n",
      "WARNING: NoDistanceWarning: Distance on coordinate object is dimensionless, an arbitrary distance value of 1000000.0 kpc will be set instead. [astropy.coordinates.spectral_coordinate]\n"
     ]
    },
    {
     "name": "stdout",
     "output_type": "stream",
     "text": [
      "Gridding /bb8/lingrui/my_projects/FAST_pipeline/Sun17_A_09/M02/Calibrated/Sun17_A_09_arcdrift-M02_N_0001_211023_110300to211023_110952_calibrated_icrs_Tmb.fits\n",
      "Doing Doppler Tracking!\n"
     ]
    },
    {
     "name": "stderr",
     "output_type": "stream",
     "text": [
      "WARNING: NoVelocityWarning: No velocity defined on frame, assuming (0., 0., 0.) km / s. [astropy.coordinates.spectral_coordinate]\n",
      "WARNING: NoDistanceWarning: Distance on coordinate object is dimensionless, an arbitrary distance value of 1000000.0 kpc will be set instead. [astropy.coordinates.spectral_coordinate]\n"
     ]
    },
    {
     "name": "stdout",
     "output_type": "stream",
     "text": [
      "Gridding /bb8/lingrui/my_projects/FAST_pipeline/Sun17_A_09/M02/Calibrated/Sun17_A_09_arcdrift-M02_N_0002_211023_110952to211023_111644_calibrated_icrs_Tmb.fits\n",
      "Doing Doppler Tracking!\n"
     ]
    },
    {
     "name": "stderr",
     "output_type": "stream",
     "text": [
      "WARNING: NoVelocityWarning: No velocity defined on frame, assuming (0., 0., 0.) km / s. [astropy.coordinates.spectral_coordinate]\n",
      "WARNING: NoDistanceWarning: Distance on coordinate object is dimensionless, an arbitrary distance value of 1000000.0 kpc will be set instead. [astropy.coordinates.spectral_coordinate]\n"
     ]
    },
    {
     "name": "stdout",
     "output_type": "stream",
     "text": [
      "Gridding /bb8/lingrui/my_projects/FAST_pipeline/Sun17_A_09/M02/Calibrated/Sun17_A_09_arcdrift-M02_N_0003_211023_111644to211023_111648_calibrated_icrs_Tmb.fits\n",
      "Doing Doppler Tracking!\n"
     ]
    },
    {
     "name": "stderr",
     "output_type": "stream",
     "text": [
      "WARNING: NoVelocityWarning: No velocity defined on frame, assuming (0., 0., 0.) km / s. [astropy.coordinates.spectral_coordinate]\n",
      "WARNING: NoDistanceWarning: Distance on coordinate object is dimensionless, an arbitrary distance value of 1000000.0 kpc will be set instead. [astropy.coordinates.spectral_coordinate]\n"
     ]
    },
    {
     "name": "stdout",
     "output_type": "stream",
     "text": [
      "Gridding /bb8/lingrui/my_projects/FAST_pipeline/Sun17_A_09/M03/Calibrated/Sun17_A_09_arcdrift-M03_N_0001_211023_110300to211023_110952_calibrated_icrs_Tmb.fits\n",
      "Doing Doppler Tracking!\n"
     ]
    },
    {
     "name": "stderr",
     "output_type": "stream",
     "text": [
      "WARNING: NoVelocityWarning: No velocity defined on frame, assuming (0., 0., 0.) km / s. [astropy.coordinates.spectral_coordinate]\n",
      "WARNING: NoDistanceWarning: Distance on coordinate object is dimensionless, an arbitrary distance value of 1000000.0 kpc will be set instead. [astropy.coordinates.spectral_coordinate]\n"
     ]
    },
    {
     "name": "stdout",
     "output_type": "stream",
     "text": [
      "Gridding /bb8/lingrui/my_projects/FAST_pipeline/Sun17_A_09/M03/Calibrated/Sun17_A_09_arcdrift-M03_N_0002_211023_110952to211023_111644_calibrated_icrs_Tmb.fits\n",
      "Doing Doppler Tracking!\n"
     ]
    },
    {
     "name": "stderr",
     "output_type": "stream",
     "text": [
      "WARNING: NoVelocityWarning: No velocity defined on frame, assuming (0., 0., 0.) km / s. [astropy.coordinates.spectral_coordinate]\n",
      "WARNING: NoDistanceWarning: Distance on coordinate object is dimensionless, an arbitrary distance value of 1000000.0 kpc will be set instead. [astropy.coordinates.spectral_coordinate]\n"
     ]
    },
    {
     "name": "stdout",
     "output_type": "stream",
     "text": [
      "Gridding /bb8/lingrui/my_projects/FAST_pipeline/Sun17_A_09/M03/Calibrated/Sun17_A_09_arcdrift-M03_N_0003_211023_111644to211023_111648_calibrated_icrs_Tmb.fits\n",
      "Doing Doppler Tracking!\n"
     ]
    },
    {
     "name": "stderr",
     "output_type": "stream",
     "text": [
      "WARNING: NoVelocityWarning: No velocity defined on frame, assuming (0., 0., 0.) km / s. [astropy.coordinates.spectral_coordinate]\n",
      "WARNING: NoDistanceWarning: Distance on coordinate object is dimensionless, an arbitrary distance value of 1000000.0 kpc will be set instead. [astropy.coordinates.spectral_coordinate]\n"
     ]
    },
    {
     "name": "stdout",
     "output_type": "stream",
     "text": [
      "Gridding /bb8/lingrui/my_projects/FAST_pipeline/Sun17_A_09/M04/Calibrated/Sun17_A_09_arcdrift-M04_N_0001_211023_110300to211023_110952_calibrated_icrs_Tmb.fits\n",
      "Doing Doppler Tracking!\n"
     ]
    },
    {
     "name": "stderr",
     "output_type": "stream",
     "text": [
      "WARNING: NoVelocityWarning: No velocity defined on frame, assuming (0., 0., 0.) km / s. [astropy.coordinates.spectral_coordinate]\n",
      "WARNING: NoDistanceWarning: Distance on coordinate object is dimensionless, an arbitrary distance value of 1000000.0 kpc will be set instead. [astropy.coordinates.spectral_coordinate]\n"
     ]
    },
    {
     "name": "stdout",
     "output_type": "stream",
     "text": [
      "Gridding /bb8/lingrui/my_projects/FAST_pipeline/Sun17_A_09/M04/Calibrated/Sun17_A_09_arcdrift-M04_N_0002_211023_110952to211023_111644_calibrated_icrs_Tmb.fits\n",
      "Doing Doppler Tracking!\n"
     ]
    },
    {
     "name": "stderr",
     "output_type": "stream",
     "text": [
      "WARNING: NoVelocityWarning: No velocity defined on frame, assuming (0., 0., 0.) km / s. [astropy.coordinates.spectral_coordinate]\n",
      "WARNING: NoDistanceWarning: Distance on coordinate object is dimensionless, an arbitrary distance value of 1000000.0 kpc will be set instead. [astropy.coordinates.spectral_coordinate]\n"
     ]
    },
    {
     "name": "stdout",
     "output_type": "stream",
     "text": [
      "Gridding /bb8/lingrui/my_projects/FAST_pipeline/Sun17_A_09/M04/Calibrated/Sun17_A_09_arcdrift-M04_N_0003_211023_111644to211023_111648_calibrated_icrs_Tmb.fits\n",
      "Doing Doppler Tracking!\n"
     ]
    },
    {
     "name": "stderr",
     "output_type": "stream",
     "text": [
      "WARNING: NoVelocityWarning: No velocity defined on frame, assuming (0., 0., 0.) km / s. [astropy.coordinates.spectral_coordinate]\n",
      "WARNING: NoDistanceWarning: Distance on coordinate object is dimensionless, an arbitrary distance value of 1000000.0 kpc will be set instead. [astropy.coordinates.spectral_coordinate]\n"
     ]
    },
    {
     "name": "stdout",
     "output_type": "stream",
     "text": [
      "Gridding /bb8/lingrui/my_projects/FAST_pipeline/Sun17_A_09/M05/Calibrated/Sun17_A_09_arcdrift-M05_N_0001_211023_110300to211023_110952_calibrated_icrs_Tmb.fits\n",
      "Doing Doppler Tracking!\n"
     ]
    },
    {
     "name": "stderr",
     "output_type": "stream",
     "text": [
      "WARNING: NoVelocityWarning: No velocity defined on frame, assuming (0., 0., 0.) km / s. [astropy.coordinates.spectral_coordinate]\n",
      "WARNING: NoDistanceWarning: Distance on coordinate object is dimensionless, an arbitrary distance value of 1000000.0 kpc will be set instead. [astropy.coordinates.spectral_coordinate]\n"
     ]
    },
    {
     "name": "stdout",
     "output_type": "stream",
     "text": [
      "Gridding /bb8/lingrui/my_projects/FAST_pipeline/Sun17_A_09/M05/Calibrated/Sun17_A_09_arcdrift-M05_N_0002_211023_110952to211023_111644_calibrated_icrs_Tmb.fits\n",
      "Doing Doppler Tracking!\n"
     ]
    },
    {
     "name": "stderr",
     "output_type": "stream",
     "text": [
      "WARNING: NoVelocityWarning: No velocity defined on frame, assuming (0., 0., 0.) km / s. [astropy.coordinates.spectral_coordinate]\n",
      "WARNING: NoDistanceWarning: Distance on coordinate object is dimensionless, an arbitrary distance value of 1000000.0 kpc will be set instead. [astropy.coordinates.spectral_coordinate]\n"
     ]
    },
    {
     "name": "stdout",
     "output_type": "stream",
     "text": [
      "Gridding /bb8/lingrui/my_projects/FAST_pipeline/Sun17_A_09/M05/Calibrated/Sun17_A_09_arcdrift-M05_N_0003_211023_111644to211023_111648_calibrated_icrs_Tmb.fits\n",
      "Doing Doppler Tracking!\n"
     ]
    },
    {
     "name": "stderr",
     "output_type": "stream",
     "text": [
      "WARNING: NoVelocityWarning: No velocity defined on frame, assuming (0., 0., 0.) km / s. [astropy.coordinates.spectral_coordinate]\n",
      "WARNING: NoDistanceWarning: Distance on coordinate object is dimensionless, an arbitrary distance value of 1000000.0 kpc will be set instead. [astropy.coordinates.spectral_coordinate]\n"
     ]
    },
    {
     "name": "stdout",
     "output_type": "stream",
     "text": [
      "Gridding /bb8/lingrui/my_projects/FAST_pipeline/Sun17_A_09/M06/Calibrated/Sun17_A_09_arcdrift-M06_N_0001_211023_110300to211023_110952_calibrated_icrs_Tmb.fits\n",
      "Doing Doppler Tracking!\n"
     ]
    },
    {
     "name": "stderr",
     "output_type": "stream",
     "text": [
      "WARNING: NoVelocityWarning: No velocity defined on frame, assuming (0., 0., 0.) km / s. [astropy.coordinates.spectral_coordinate]\n",
      "WARNING: NoDistanceWarning: Distance on coordinate object is dimensionless, an arbitrary distance value of 1000000.0 kpc will be set instead. [astropy.coordinates.spectral_coordinate]\n"
     ]
    },
    {
     "name": "stdout",
     "output_type": "stream",
     "text": [
      "Gridding /bb8/lingrui/my_projects/FAST_pipeline/Sun17_A_09/M06/Calibrated/Sun17_A_09_arcdrift-M06_N_0002_211023_110952to211023_111644_calibrated_icrs_Tmb.fits\n",
      "Doing Doppler Tracking!\n"
     ]
    },
    {
     "name": "stderr",
     "output_type": "stream",
     "text": [
      "WARNING: NoVelocityWarning: No velocity defined on frame, assuming (0., 0., 0.) km / s. [astropy.coordinates.spectral_coordinate]\n",
      "WARNING: NoDistanceWarning: Distance on coordinate object is dimensionless, an arbitrary distance value of 1000000.0 kpc will be set instead. [astropy.coordinates.spectral_coordinate]\n"
     ]
    },
    {
     "name": "stdout",
     "output_type": "stream",
     "text": [
      "Gridding /bb8/lingrui/my_projects/FAST_pipeline/Sun17_A_09/M06/Calibrated/Sun17_A_09_arcdrift-M06_N_0003_211023_111644to211023_111648_calibrated_icrs_Tmb.fits\n",
      "Doing Doppler Tracking!\n"
     ]
    },
    {
     "name": "stderr",
     "output_type": "stream",
     "text": [
      "WARNING: NoVelocityWarning: No velocity defined on frame, assuming (0., 0., 0.) km / s. [astropy.coordinates.spectral_coordinate]\n",
      "WARNING: NoDistanceWarning: Distance on coordinate object is dimensionless, an arbitrary distance value of 1000000.0 kpc will be set instead. [astropy.coordinates.spectral_coordinate]\n"
     ]
    },
    {
     "name": "stdout",
     "output_type": "stream",
     "text": [
      "Gridding /bb8/lingrui/my_projects/FAST_pipeline/Sun17_A_09/M07/Calibrated/Sun17_A_09_arcdrift-M07_N_0001_211023_110300to211023_110952_calibrated_icrs_Tmb.fits\n",
      "Doing Doppler Tracking!\n"
     ]
    },
    {
     "name": "stderr",
     "output_type": "stream",
     "text": [
      "WARNING: NoVelocityWarning: No velocity defined on frame, assuming (0., 0., 0.) km / s. [astropy.coordinates.spectral_coordinate]\n",
      "WARNING: NoDistanceWarning: Distance on coordinate object is dimensionless, an arbitrary distance value of 1000000.0 kpc will be set instead. [astropy.coordinates.spectral_coordinate]\n"
     ]
    },
    {
     "name": "stdout",
     "output_type": "stream",
     "text": [
      "Gridding /bb8/lingrui/my_projects/FAST_pipeline/Sun17_A_09/M07/Calibrated/Sun17_A_09_arcdrift-M07_N_0002_211023_110952to211023_111644_calibrated_icrs_Tmb.fits\n",
      "Doing Doppler Tracking!\n"
     ]
    },
    {
     "name": "stderr",
     "output_type": "stream",
     "text": [
      "WARNING: NoVelocityWarning: No velocity defined on frame, assuming (0., 0., 0.) km / s. [astropy.coordinates.spectral_coordinate]\n",
      "WARNING: NoDistanceWarning: Distance on coordinate object is dimensionless, an arbitrary distance value of 1000000.0 kpc will be set instead. [astropy.coordinates.spectral_coordinate]\n"
     ]
    },
    {
     "name": "stdout",
     "output_type": "stream",
     "text": [
      "Gridding /bb8/lingrui/my_projects/FAST_pipeline/Sun17_A_09/M07/Calibrated/Sun17_A_09_arcdrift-M07_N_0003_211023_111644to211023_111648_calibrated_icrs_Tmb.fits\n",
      "Doing Doppler Tracking!\n"
     ]
    },
    {
     "name": "stderr",
     "output_type": "stream",
     "text": [
      "WARNING: NoVelocityWarning: No velocity defined on frame, assuming (0., 0., 0.) km / s. [astropy.coordinates.spectral_coordinate]\n",
      "WARNING: NoDistanceWarning: Distance on coordinate object is dimensionless, an arbitrary distance value of 1000000.0 kpc will be set instead. [astropy.coordinates.spectral_coordinate]\n"
     ]
    },
    {
     "name": "stdout",
     "output_type": "stream",
     "text": [
      "Gridding /bb8/lingrui/my_projects/FAST_pipeline/Sun17_A_09/M08/Calibrated/Sun17_A_09_arcdrift-M08_N_0001_211023_110300to211023_110952_calibrated_icrs_Tmb.fits\n",
      "Doing Doppler Tracking!\n"
     ]
    },
    {
     "name": "stderr",
     "output_type": "stream",
     "text": [
      "WARNING: NoVelocityWarning: No velocity defined on frame, assuming (0., 0., 0.) km / s. [astropy.coordinates.spectral_coordinate]\n",
      "WARNING: NoDistanceWarning: Distance on coordinate object is dimensionless, an arbitrary distance value of 1000000.0 kpc will be set instead. [astropy.coordinates.spectral_coordinate]\n"
     ]
    },
    {
     "name": "stdout",
     "output_type": "stream",
     "text": [
      "Gridding /bb8/lingrui/my_projects/FAST_pipeline/Sun17_A_09/M08/Calibrated/Sun17_A_09_arcdrift-M08_N_0002_211023_110952to211023_111644_calibrated_icrs_Tmb.fits\n",
      "Doing Doppler Tracking!\n"
     ]
    },
    {
     "name": "stderr",
     "output_type": "stream",
     "text": [
      "WARNING: NoVelocityWarning: No velocity defined on frame, assuming (0., 0., 0.) km / s. [astropy.coordinates.spectral_coordinate]\n",
      "WARNING: NoDistanceWarning: Distance on coordinate object is dimensionless, an arbitrary distance value of 1000000.0 kpc will be set instead. [astropy.coordinates.spectral_coordinate]\n"
     ]
    },
    {
     "name": "stdout",
     "output_type": "stream",
     "text": [
      "Gridding /bb8/lingrui/my_projects/FAST_pipeline/Sun17_A_09/M08/Calibrated/Sun17_A_09_arcdrift-M08_N_0003_211023_111644to211023_111648_calibrated_icrs_Tmb.fits\n",
      "Doing Doppler Tracking!\n"
     ]
    },
    {
     "name": "stderr",
     "output_type": "stream",
     "text": [
      "WARNING: NoVelocityWarning: No velocity defined on frame, assuming (0., 0., 0.) km / s. [astropy.coordinates.spectral_coordinate]\n",
      "WARNING: NoDistanceWarning: Distance on coordinate object is dimensionless, an arbitrary distance value of 1000000.0 kpc will be set instead. [astropy.coordinates.spectral_coordinate]\n"
     ]
    },
    {
     "name": "stdout",
     "output_type": "stream",
     "text": [
      "Gridding /bb8/lingrui/my_projects/FAST_pipeline/Sun17_A_09/M09/Calibrated/Sun17_A_09_arcdrift-M09_N_0001_211023_110300to211023_110952_calibrated_icrs_Tmb.fits\n",
      "Doing Doppler Tracking!\n"
     ]
    },
    {
     "name": "stderr",
     "output_type": "stream",
     "text": [
      "WARNING: NoVelocityWarning: No velocity defined on frame, assuming (0., 0., 0.) km / s. [astropy.coordinates.spectral_coordinate]\n",
      "WARNING: NoDistanceWarning: Distance on coordinate object is dimensionless, an arbitrary distance value of 1000000.0 kpc will be set instead. [astropy.coordinates.spectral_coordinate]\n"
     ]
    },
    {
     "name": "stdout",
     "output_type": "stream",
     "text": [
      "Gridding /bb8/lingrui/my_projects/FAST_pipeline/Sun17_A_09/M09/Calibrated/Sun17_A_09_arcdrift-M09_N_0002_211023_110952to211023_111644_calibrated_icrs_Tmb.fits\n",
      "Doing Doppler Tracking!\n"
     ]
    },
    {
     "name": "stderr",
     "output_type": "stream",
     "text": [
      "WARNING: NoVelocityWarning: No velocity defined on frame, assuming (0., 0., 0.) km / s. [astropy.coordinates.spectral_coordinate]\n",
      "WARNING: NoDistanceWarning: Distance on coordinate object is dimensionless, an arbitrary distance value of 1000000.0 kpc will be set instead. [astropy.coordinates.spectral_coordinate]\n"
     ]
    },
    {
     "name": "stdout",
     "output_type": "stream",
     "text": [
      "Gridding /bb8/lingrui/my_projects/FAST_pipeline/Sun17_A_09/M09/Calibrated/Sun17_A_09_arcdrift-M09_N_0003_211023_111644to211023_111648_calibrated_icrs_Tmb.fits\n",
      "Doing Doppler Tracking!\n"
     ]
    },
    {
     "name": "stderr",
     "output_type": "stream",
     "text": [
      "WARNING: NoVelocityWarning: No velocity defined on frame, assuming (0., 0., 0.) km / s. [astropy.coordinates.spectral_coordinate]\n",
      "WARNING: NoDistanceWarning: Distance on coordinate object is dimensionless, an arbitrary distance value of 1000000.0 kpc will be set instead. [astropy.coordinates.spectral_coordinate]\n"
     ]
    },
    {
     "name": "stdout",
     "output_type": "stream",
     "text": [
      "Gridding /bb8/lingrui/my_projects/FAST_pipeline/Sun17_A_09/M10/Calibrated/Sun17_A_09_arcdrift-M10_N_0001_211023_110300to211023_110952_calibrated_icrs_Tmb.fits\n",
      "Doing Doppler Tracking!\n"
     ]
    },
    {
     "name": "stderr",
     "output_type": "stream",
     "text": [
      "WARNING: NoVelocityWarning: No velocity defined on frame, assuming (0., 0., 0.) km / s. [astropy.coordinates.spectral_coordinate]\n",
      "WARNING: NoDistanceWarning: Distance on coordinate object is dimensionless, an arbitrary distance value of 1000000.0 kpc will be set instead. [astropy.coordinates.spectral_coordinate]\n"
     ]
    },
    {
     "name": "stdout",
     "output_type": "stream",
     "text": [
      "Gridding /bb8/lingrui/my_projects/FAST_pipeline/Sun17_A_09/M10/Calibrated/Sun17_A_09_arcdrift-M10_N_0002_211023_110952to211023_111644_calibrated_icrs_Tmb.fits\n",
      "Doing Doppler Tracking!\n"
     ]
    },
    {
     "name": "stderr",
     "output_type": "stream",
     "text": [
      "WARNING: NoVelocityWarning: No velocity defined on frame, assuming (0., 0., 0.) km / s. [astropy.coordinates.spectral_coordinate]\n",
      "WARNING: NoDistanceWarning: Distance on coordinate object is dimensionless, an arbitrary distance value of 1000000.0 kpc will be set instead. [astropy.coordinates.spectral_coordinate]\n"
     ]
    },
    {
     "name": "stdout",
     "output_type": "stream",
     "text": [
      "Gridding /bb8/lingrui/my_projects/FAST_pipeline/Sun17_A_09/M10/Calibrated/Sun17_A_09_arcdrift-M10_N_0003_211023_111644to211023_111648_calibrated_icrs_Tmb.fits\n",
      "Doing Doppler Tracking!\n"
     ]
    },
    {
     "name": "stderr",
     "output_type": "stream",
     "text": [
      "WARNING: NoVelocityWarning: No velocity defined on frame, assuming (0., 0., 0.) km / s. [astropy.coordinates.spectral_coordinate]\n",
      "WARNING: NoDistanceWarning: Distance on coordinate object is dimensionless, an arbitrary distance value of 1000000.0 kpc will be set instead. [astropy.coordinates.spectral_coordinate]\n"
     ]
    },
    {
     "name": "stdout",
     "output_type": "stream",
     "text": [
      "Gridding /bb8/lingrui/my_projects/FAST_pipeline/Sun17_A_09/M11/Calibrated/Sun17_A_09_arcdrift-M11_N_0001_211023_110300to211023_110952_calibrated_icrs_Tmb.fits\n",
      "Doing Doppler Tracking!\n"
     ]
    },
    {
     "name": "stderr",
     "output_type": "stream",
     "text": [
      "WARNING: NoVelocityWarning: No velocity defined on frame, assuming (0., 0., 0.) km / s. [astropy.coordinates.spectral_coordinate]\n",
      "WARNING: NoDistanceWarning: Distance on coordinate object is dimensionless, an arbitrary distance value of 1000000.0 kpc will be set instead. [astropy.coordinates.spectral_coordinate]\n"
     ]
    },
    {
     "name": "stdout",
     "output_type": "stream",
     "text": [
      "Gridding /bb8/lingrui/my_projects/FAST_pipeline/Sun17_A_09/M11/Calibrated/Sun17_A_09_arcdrift-M11_N_0002_211023_110952to211023_111644_calibrated_icrs_Tmb.fits\n",
      "Doing Doppler Tracking!\n"
     ]
    },
    {
     "name": "stderr",
     "output_type": "stream",
     "text": [
      "WARNING: NoVelocityWarning: No velocity defined on frame, assuming (0., 0., 0.) km / s. [astropy.coordinates.spectral_coordinate]\n",
      "WARNING: NoDistanceWarning: Distance on coordinate object is dimensionless, an arbitrary distance value of 1000000.0 kpc will be set instead. [astropy.coordinates.spectral_coordinate]\n"
     ]
    },
    {
     "name": "stdout",
     "output_type": "stream",
     "text": [
      "Gridding /bb8/lingrui/my_projects/FAST_pipeline/Sun17_A_09/M11/Calibrated/Sun17_A_09_arcdrift-M11_N_0003_211023_111644to211023_111648_calibrated_icrs_Tmb.fits\n",
      "Doing Doppler Tracking!\n"
     ]
    },
    {
     "name": "stderr",
     "output_type": "stream",
     "text": [
      "WARNING: NoVelocityWarning: No velocity defined on frame, assuming (0., 0., 0.) km / s. [astropy.coordinates.spectral_coordinate]\n",
      "WARNING: NoDistanceWarning: Distance on coordinate object is dimensionless, an arbitrary distance value of 1000000.0 kpc will be set instead. [astropy.coordinates.spectral_coordinate]\n"
     ]
    },
    {
     "name": "stdout",
     "output_type": "stream",
     "text": [
      "Gridding /bb8/lingrui/my_projects/FAST_pipeline/Sun17_A_09/M12/Calibrated/Sun17_A_09_arcdrift-M12_N_0001_211023_110300to211023_110952_calibrated_icrs_Tmb.fits\n",
      "Doing Doppler Tracking!\n"
     ]
    },
    {
     "name": "stderr",
     "output_type": "stream",
     "text": [
      "WARNING: NoVelocityWarning: No velocity defined on frame, assuming (0., 0., 0.) km / s. [astropy.coordinates.spectral_coordinate]\n",
      "WARNING: NoDistanceWarning: Distance on coordinate object is dimensionless, an arbitrary distance value of 1000000.0 kpc will be set instead. [astropy.coordinates.spectral_coordinate]\n"
     ]
    },
    {
     "name": "stdout",
     "output_type": "stream",
     "text": [
      "Gridding /bb8/lingrui/my_projects/FAST_pipeline/Sun17_A_09/M12/Calibrated/Sun17_A_09_arcdrift-M12_N_0002_211023_110952to211023_111644_calibrated_icrs_Tmb.fits\n",
      "Doing Doppler Tracking!\n"
     ]
    },
    {
     "name": "stderr",
     "output_type": "stream",
     "text": [
      "WARNING: NoVelocityWarning: No velocity defined on frame, assuming (0., 0., 0.) km / s. [astropy.coordinates.spectral_coordinate]\n",
      "WARNING: NoDistanceWarning: Distance on coordinate object is dimensionless, an arbitrary distance value of 1000000.0 kpc will be set instead. [astropy.coordinates.spectral_coordinate]\n"
     ]
    },
    {
     "name": "stdout",
     "output_type": "stream",
     "text": [
      "Gridding /bb8/lingrui/my_projects/FAST_pipeline/Sun17_A_09/M12/Calibrated/Sun17_A_09_arcdrift-M12_N_0003_211023_111644to211023_111648_calibrated_icrs_Tmb.fits\n",
      "Doing Doppler Tracking!\n"
     ]
    },
    {
     "name": "stderr",
     "output_type": "stream",
     "text": [
      "WARNING: NoVelocityWarning: No velocity defined on frame, assuming (0., 0., 0.) km / s. [astropy.coordinates.spectral_coordinate]\n",
      "WARNING: NoDistanceWarning: Distance on coordinate object is dimensionless, an arbitrary distance value of 1000000.0 kpc will be set instead. [astropy.coordinates.spectral_coordinate]\n"
     ]
    },
    {
     "name": "stdout",
     "output_type": "stream",
     "text": [
      "Gridding /bb8/lingrui/my_projects/FAST_pipeline/Sun17_A_09/M13/Calibrated/Sun17_A_09_arcdrift-M13_N_0001_211023_110300to211023_110952_calibrated_icrs_Tmb.fits\n",
      "Doing Doppler Tracking!\n"
     ]
    },
    {
     "name": "stderr",
     "output_type": "stream",
     "text": [
      "WARNING: NoVelocityWarning: No velocity defined on frame, assuming (0., 0., 0.) km / s. [astropy.coordinates.spectral_coordinate]\n",
      "WARNING: NoDistanceWarning: Distance on coordinate object is dimensionless, an arbitrary distance value of 1000000.0 kpc will be set instead. [astropy.coordinates.spectral_coordinate]\n"
     ]
    },
    {
     "name": "stdout",
     "output_type": "stream",
     "text": [
      "Gridding /bb8/lingrui/my_projects/FAST_pipeline/Sun17_A_09/M13/Calibrated/Sun17_A_09_arcdrift-M13_N_0002_211023_110952to211023_111644_calibrated_icrs_Tmb.fits\n",
      "Doing Doppler Tracking!\n"
     ]
    },
    {
     "name": "stderr",
     "output_type": "stream",
     "text": [
      "WARNING: NoVelocityWarning: No velocity defined on frame, assuming (0., 0., 0.) km / s. [astropy.coordinates.spectral_coordinate]\n",
      "WARNING: NoDistanceWarning: Distance on coordinate object is dimensionless, an arbitrary distance value of 1000000.0 kpc will be set instead. [astropy.coordinates.spectral_coordinate]\n"
     ]
    },
    {
     "name": "stdout",
     "output_type": "stream",
     "text": [
      "Gridding /bb8/lingrui/my_projects/FAST_pipeline/Sun17_A_09/M13/Calibrated/Sun17_A_09_arcdrift-M13_N_0003_211023_111644to211023_111648_calibrated_icrs_Tmb.fits\n",
      "Doing Doppler Tracking!\n"
     ]
    },
    {
     "name": "stderr",
     "output_type": "stream",
     "text": [
      "WARNING: NoVelocityWarning: No velocity defined on frame, assuming (0., 0., 0.) km / s. [astropy.coordinates.spectral_coordinate]\n",
      "WARNING: NoDistanceWarning: Distance on coordinate object is dimensionless, an arbitrary distance value of 1000000.0 kpc will be set instead. [astropy.coordinates.spectral_coordinate]\n"
     ]
    },
    {
     "name": "stdout",
     "output_type": "stream",
     "text": [
      "Gridding /bb8/lingrui/my_projects/FAST_pipeline/Sun17_A_09/M14/Calibrated/Sun17_A_09_arcdrift-M14_N_0001_211023_110300to211023_110952_calibrated_icrs_Tmb.fits\n",
      "Doing Doppler Tracking!\n"
     ]
    },
    {
     "name": "stderr",
     "output_type": "stream",
     "text": [
      "WARNING: NoVelocityWarning: No velocity defined on frame, assuming (0., 0., 0.) km / s. [astropy.coordinates.spectral_coordinate]\n",
      "WARNING: NoDistanceWarning: Distance on coordinate object is dimensionless, an arbitrary distance value of 1000000.0 kpc will be set instead. [astropy.coordinates.spectral_coordinate]\n"
     ]
    },
    {
     "name": "stdout",
     "output_type": "stream",
     "text": [
      "Gridding /bb8/lingrui/my_projects/FAST_pipeline/Sun17_A_09/M14/Calibrated/Sun17_A_09_arcdrift-M14_N_0002_211023_110952to211023_111644_calibrated_icrs_Tmb.fits\n",
      "Doing Doppler Tracking!\n"
     ]
    },
    {
     "name": "stderr",
     "output_type": "stream",
     "text": [
      "WARNING: NoVelocityWarning: No velocity defined on frame, assuming (0., 0., 0.) km / s. [astropy.coordinates.spectral_coordinate]\n",
      "WARNING: NoDistanceWarning: Distance on coordinate object is dimensionless, an arbitrary distance value of 1000000.0 kpc will be set instead. [astropy.coordinates.spectral_coordinate]\n"
     ]
    },
    {
     "name": "stdout",
     "output_type": "stream",
     "text": [
      "Gridding /bb8/lingrui/my_projects/FAST_pipeline/Sun17_A_09/M14/Calibrated/Sun17_A_09_arcdrift-M14_N_0003_211023_111644to211023_111648_calibrated_icrs_Tmb.fits\n",
      "Doing Doppler Tracking!\n"
     ]
    },
    {
     "name": "stderr",
     "output_type": "stream",
     "text": [
      "WARNING: NoVelocityWarning: No velocity defined on frame, assuming (0., 0., 0.) km / s. [astropy.coordinates.spectral_coordinate]\n",
      "WARNING: NoDistanceWarning: Distance on coordinate object is dimensionless, an arbitrary distance value of 1000000.0 kpc will be set instead. [astropy.coordinates.spectral_coordinate]\n"
     ]
    },
    {
     "name": "stdout",
     "output_type": "stream",
     "text": [
      "Gridding /bb8/lingrui/my_projects/FAST_pipeline/Sun17_A_09/M15/Calibrated/Sun17_A_09_arcdrift-M15_N_0001_211023_110300to211023_110952_calibrated_icrs_Tmb.fits\n",
      "Doing Doppler Tracking!\n"
     ]
    },
    {
     "name": "stderr",
     "output_type": "stream",
     "text": [
      "WARNING: NoVelocityWarning: No velocity defined on frame, assuming (0., 0., 0.) km / s. [astropy.coordinates.spectral_coordinate]\n",
      "WARNING: NoDistanceWarning: Distance on coordinate object is dimensionless, an arbitrary distance value of 1000000.0 kpc will be set instead. [astropy.coordinates.spectral_coordinate]\n"
     ]
    },
    {
     "name": "stdout",
     "output_type": "stream",
     "text": [
      "Gridding /bb8/lingrui/my_projects/FAST_pipeline/Sun17_A_09/M15/Calibrated/Sun17_A_09_arcdrift-M15_N_0002_211023_110952to211023_111644_calibrated_icrs_Tmb.fits\n",
      "Doing Doppler Tracking!\n"
     ]
    },
    {
     "name": "stderr",
     "output_type": "stream",
     "text": [
      "WARNING: NoVelocityWarning: No velocity defined on frame, assuming (0., 0., 0.) km / s. [astropy.coordinates.spectral_coordinate]\n",
      "WARNING: NoDistanceWarning: Distance on coordinate object is dimensionless, an arbitrary distance value of 1000000.0 kpc will be set instead. [astropy.coordinates.spectral_coordinate]\n"
     ]
    },
    {
     "name": "stdout",
     "output_type": "stream",
     "text": [
      "Gridding /bb8/lingrui/my_projects/FAST_pipeline/Sun17_A_09/M15/Calibrated/Sun17_A_09_arcdrift-M15_N_0003_211023_111644to211023_111648_calibrated_icrs_Tmb.fits\n",
      "Doing Doppler Tracking!\n"
     ]
    },
    {
     "name": "stderr",
     "output_type": "stream",
     "text": [
      "WARNING: NoVelocityWarning: No velocity defined on frame, assuming (0., 0., 0.) km / s. [astropy.coordinates.spectral_coordinate]\n",
      "WARNING: NoDistanceWarning: Distance on coordinate object is dimensionless, an arbitrary distance value of 1000000.0 kpc will be set instead. [astropy.coordinates.spectral_coordinate]\n"
     ]
    },
    {
     "name": "stdout",
     "output_type": "stream",
     "text": [
      "Gridding /bb8/lingrui/my_projects/FAST_pipeline/Sun17_A_09/M16/Calibrated/Sun17_A_09_arcdrift-M16_N_0001_211023_110300to211023_110952_calibrated_icrs_Tmb.fits\n",
      "Doing Doppler Tracking!\n"
     ]
    },
    {
     "name": "stderr",
     "output_type": "stream",
     "text": [
      "WARNING: NoVelocityWarning: No velocity defined on frame, assuming (0., 0., 0.) km / s. [astropy.coordinates.spectral_coordinate]\n",
      "WARNING: NoDistanceWarning: Distance on coordinate object is dimensionless, an arbitrary distance value of 1000000.0 kpc will be set instead. [astropy.coordinates.spectral_coordinate]\n"
     ]
    },
    {
     "name": "stdout",
     "output_type": "stream",
     "text": [
      "Gridding /bb8/lingrui/my_projects/FAST_pipeline/Sun17_A_09/M16/Calibrated/Sun17_A_09_arcdrift-M16_N_0002_211023_110952to211023_111644_calibrated_icrs_Tmb.fits\n",
      "Doing Doppler Tracking!\n"
     ]
    },
    {
     "name": "stderr",
     "output_type": "stream",
     "text": [
      "WARNING: NoVelocityWarning: No velocity defined on frame, assuming (0., 0., 0.) km / s. [astropy.coordinates.spectral_coordinate]\n",
      "WARNING: NoDistanceWarning: Distance on coordinate object is dimensionless, an arbitrary distance value of 1000000.0 kpc will be set instead. [astropy.coordinates.spectral_coordinate]\n"
     ]
    },
    {
     "name": "stdout",
     "output_type": "stream",
     "text": [
      "Gridding /bb8/lingrui/my_projects/FAST_pipeline/Sun17_A_09/M16/Calibrated/Sun17_A_09_arcdrift-M16_N_0003_211023_111644to211023_111648_calibrated_icrs_Tmb.fits\n",
      "Doing Doppler Tracking!\n"
     ]
    },
    {
     "name": "stderr",
     "output_type": "stream",
     "text": [
      "WARNING: NoVelocityWarning: No velocity defined on frame, assuming (0., 0., 0.) km / s. [astropy.coordinates.spectral_coordinate]\n",
      "WARNING: NoDistanceWarning: Distance on coordinate object is dimensionless, an arbitrary distance value of 1000000.0 kpc will be set instead. [astropy.coordinates.spectral_coordinate]\n"
     ]
    },
    {
     "name": "stdout",
     "output_type": "stream",
     "text": [
      "Gridding /bb8/lingrui/my_projects/FAST_pipeline/Sun17_A_09/M17/Calibrated/Sun17_A_09_arcdrift-M17_N_0001_211023_110300to211023_110952_calibrated_icrs_Tmb.fits\n",
      "Doing Doppler Tracking!\n"
     ]
    },
    {
     "name": "stderr",
     "output_type": "stream",
     "text": [
      "WARNING: NoVelocityWarning: No velocity defined on frame, assuming (0., 0., 0.) km / s. [astropy.coordinates.spectral_coordinate]\n",
      "WARNING: NoDistanceWarning: Distance on coordinate object is dimensionless, an arbitrary distance value of 1000000.0 kpc will be set instead. [astropy.coordinates.spectral_coordinate]\n"
     ]
    },
    {
     "name": "stdout",
     "output_type": "stream",
     "text": [
      "Gridding /bb8/lingrui/my_projects/FAST_pipeline/Sun17_A_09/M17/Calibrated/Sun17_A_09_arcdrift-M17_N_0002_211023_110952to211023_111644_calibrated_icrs_Tmb.fits\n",
      "Doing Doppler Tracking!\n"
     ]
    },
    {
     "name": "stderr",
     "output_type": "stream",
     "text": [
      "WARNING: NoVelocityWarning: No velocity defined on frame, assuming (0., 0., 0.) km / s. [astropy.coordinates.spectral_coordinate]\n",
      "WARNING: NoDistanceWarning: Distance on coordinate object is dimensionless, an arbitrary distance value of 1000000.0 kpc will be set instead. [astropy.coordinates.spectral_coordinate]\n"
     ]
    },
    {
     "name": "stdout",
     "output_type": "stream",
     "text": [
      "Gridding /bb8/lingrui/my_projects/FAST_pipeline/Sun17_A_10/M13/Calibrated/Sun17_A_10_arcdrift-M13_N_0002_211119_071652to211119_072344_calibrated_icrs_Tmb.fits\n",
      "Doing Doppler Tracking!\n"
     ]
    },
    {
     "name": "stderr",
     "output_type": "stream",
     "text": [
      "WARNING: NoVelocityWarning: No velocity defined on frame, assuming (0., 0., 0.) km / s. [astropy.coordinates.spectral_coordinate]\n",
      "WARNING: NoDistanceWarning: Distance on coordinate object is dimensionless, an arbitrary distance value of 1000000.0 kpc will be set instead. [astropy.coordinates.spectral_coordinate]\n"
     ]
    },
    {
     "name": "stdout",
     "output_type": "stream",
     "text": [
      "Gridding /bb8/lingrui/my_projects/FAST_pipeline/Sun17_A_10/M13/Calibrated/Sun17_A_10_arcdrift-M13_N_0003_211119_072344to211119_072348_calibrated_icrs_Tmb.fits\n",
      "Doing Doppler Tracking!\n"
     ]
    },
    {
     "name": "stderr",
     "output_type": "stream",
     "text": [
      "WARNING: NoVelocityWarning: No velocity defined on frame, assuming (0., 0., 0.) km / s. [astropy.coordinates.spectral_coordinate]\n",
      "WARNING: NoDistanceWarning: Distance on coordinate object is dimensionless, an arbitrary distance value of 1000000.0 kpc will be set instead. [astropy.coordinates.spectral_coordinate]\n"
     ]
    },
    {
     "name": "stdout",
     "output_type": "stream",
     "text": [
      "Gridding /bb8/lingrui/my_projects/FAST_pipeline/Sun17_A_10/M14/Calibrated/Sun17_A_10_arcdrift-M14_N_0001_211119_071000to211119_071652_calibrated_icrs_Tmb.fits\n",
      "Doing Doppler Tracking!\n"
     ]
    },
    {
     "name": "stderr",
     "output_type": "stream",
     "text": [
      "WARNING: NoVelocityWarning: No velocity defined on frame, assuming (0., 0., 0.) km / s. [astropy.coordinates.spectral_coordinate]\n",
      "WARNING: NoDistanceWarning: Distance on coordinate object is dimensionless, an arbitrary distance value of 1000000.0 kpc will be set instead. [astropy.coordinates.spectral_coordinate]\n"
     ]
    },
    {
     "name": "stdout",
     "output_type": "stream",
     "text": [
      "Gridding /bb8/lingrui/my_projects/FAST_pipeline/Sun17_A_10/M14/Calibrated/Sun17_A_10_arcdrift-M14_N_0002_211119_071652to211119_072344_calibrated_icrs_Tmb.fits\n",
      "Doing Doppler Tracking!\n"
     ]
    },
    {
     "name": "stderr",
     "output_type": "stream",
     "text": [
      "WARNING: NoVelocityWarning: No velocity defined on frame, assuming (0., 0., 0.) km / s. [astropy.coordinates.spectral_coordinate]\n",
      "WARNING: NoDistanceWarning: Distance on coordinate object is dimensionless, an arbitrary distance value of 1000000.0 kpc will be set instead. [astropy.coordinates.spectral_coordinate]\n"
     ]
    },
    {
     "name": "stdout",
     "output_type": "stream",
     "text": [
      "Gridding /bb8/lingrui/my_projects/FAST_pipeline/Sun17_A_10/M14/Calibrated/Sun17_A_10_arcdrift-M14_N_0003_211119_072344to211119_072348_calibrated_icrs_Tmb.fits\n",
      "Doing Doppler Tracking!\n"
     ]
    },
    {
     "name": "stderr",
     "output_type": "stream",
     "text": [
      "WARNING: NoVelocityWarning: No velocity defined on frame, assuming (0., 0., 0.) km / s. [astropy.coordinates.spectral_coordinate]\n",
      "WARNING: NoDistanceWarning: Distance on coordinate object is dimensionless, an arbitrary distance value of 1000000.0 kpc will be set instead. [astropy.coordinates.spectral_coordinate]\n"
     ]
    },
    {
     "name": "stdout",
     "output_type": "stream",
     "text": [
      "Gridding /bb8/lingrui/my_projects/FAST_pipeline/Sun17_A_10/M15/Calibrated/Sun17_A_10_arcdrift-M15_N_0001_211119_071000to211119_071652_calibrated_icrs_Tmb.fits\n",
      "Doing Doppler Tracking!\n"
     ]
    },
    {
     "name": "stderr",
     "output_type": "stream",
     "text": [
      "WARNING: NoVelocityWarning: No velocity defined on frame, assuming (0., 0., 0.) km / s. [astropy.coordinates.spectral_coordinate]\n",
      "WARNING: NoDistanceWarning: Distance on coordinate object is dimensionless, an arbitrary distance value of 1000000.0 kpc will be set instead. [astropy.coordinates.spectral_coordinate]\n"
     ]
    },
    {
     "name": "stdout",
     "output_type": "stream",
     "text": [
      "Gridding /bb8/lingrui/my_projects/FAST_pipeline/Sun17_A_10/M15/Calibrated/Sun17_A_10_arcdrift-M15_N_0002_211119_071652to211119_072344_calibrated_icrs_Tmb.fits\n",
      "Doing Doppler Tracking!\n"
     ]
    },
    {
     "name": "stderr",
     "output_type": "stream",
     "text": [
      "WARNING: NoVelocityWarning: No velocity defined on frame, assuming (0., 0., 0.) km / s. [astropy.coordinates.spectral_coordinate]\n",
      "WARNING: NoDistanceWarning: Distance on coordinate object is dimensionless, an arbitrary distance value of 1000000.0 kpc will be set instead. [astropy.coordinates.spectral_coordinate]\n"
     ]
    },
    {
     "name": "stdout",
     "output_type": "stream",
     "text": [
      "Gridding /bb8/lingrui/my_projects/FAST_pipeline/Sun17_A_10/M15/Calibrated/Sun17_A_10_arcdrift-M15_N_0003_211119_072344to211119_072348_calibrated_icrs_Tmb.fits\n",
      "Doing Doppler Tracking!\n"
     ]
    },
    {
     "name": "stderr",
     "output_type": "stream",
     "text": [
      "WARNING: NoVelocityWarning: No velocity defined on frame, assuming (0., 0., 0.) km / s. [astropy.coordinates.spectral_coordinate]\n",
      "WARNING: NoDistanceWarning: Distance on coordinate object is dimensionless, an arbitrary distance value of 1000000.0 kpc will be set instead. [astropy.coordinates.spectral_coordinate]\n"
     ]
    },
    {
     "name": "stdout",
     "output_type": "stream",
     "text": [
      "Gridding /bb8/lingrui/my_projects/FAST_pipeline/Sun17_A_10/M16/Calibrated/Sun17_A_10_arcdrift-M16_N_0001_211119_071000to211119_071652_calibrated_icrs_Tmb.fits\n",
      "Doing Doppler Tracking!\n"
     ]
    },
    {
     "name": "stderr",
     "output_type": "stream",
     "text": [
      "WARNING: NoVelocityWarning: No velocity defined on frame, assuming (0., 0., 0.) km / s. [astropy.coordinates.spectral_coordinate]\n",
      "WARNING: NoDistanceWarning: Distance on coordinate object is dimensionless, an arbitrary distance value of 1000000.0 kpc will be set instead. [astropy.coordinates.spectral_coordinate]\n"
     ]
    },
    {
     "name": "stdout",
     "output_type": "stream",
     "text": [
      "Gridding /bb8/lingrui/my_projects/FAST_pipeline/Sun17_A_10/M16/Calibrated/Sun17_A_10_arcdrift-M16_N_0002_211119_071652to211119_072344_calibrated_icrs_Tmb.fits\n",
      "Doing Doppler Tracking!\n"
     ]
    },
    {
     "name": "stderr",
     "output_type": "stream",
     "text": [
      "WARNING: NoVelocityWarning: No velocity defined on frame, assuming (0., 0., 0.) km / s. [astropy.coordinates.spectral_coordinate]\n",
      "WARNING: NoDistanceWarning: Distance on coordinate object is dimensionless, an arbitrary distance value of 1000000.0 kpc will be set instead. [astropy.coordinates.spectral_coordinate]\n"
     ]
    },
    {
     "name": "stdout",
     "output_type": "stream",
     "text": [
      "Gridding /bb8/lingrui/my_projects/FAST_pipeline/Sun17_A_10/M16/Calibrated/Sun17_A_10_arcdrift-M16_N_0003_211119_072344to211119_072348_calibrated_icrs_Tmb.fits\n",
      "Doing Doppler Tracking!\n"
     ]
    },
    {
     "name": "stderr",
     "output_type": "stream",
     "text": [
      "WARNING: NoVelocityWarning: No velocity defined on frame, assuming (0., 0., 0.) km / s. [astropy.coordinates.spectral_coordinate]\n",
      "WARNING: NoDistanceWarning: Distance on coordinate object is dimensionless, an arbitrary distance value of 1000000.0 kpc will be set instead. [astropy.coordinates.spectral_coordinate]\n"
     ]
    },
    {
     "name": "stdout",
     "output_type": "stream",
     "text": [
      "Gridding /bb8/lingrui/my_projects/FAST_pipeline/Sun17_A_10/M17/Calibrated/Sun17_A_10_arcdrift-M17_N_0001_211119_071000to211119_071652_calibrated_icrs_Tmb.fits\n",
      "Doing Doppler Tracking!\n"
     ]
    },
    {
     "name": "stderr",
     "output_type": "stream",
     "text": [
      "WARNING: NoVelocityWarning: No velocity defined on frame, assuming (0., 0., 0.) km / s. [astropy.coordinates.spectral_coordinate]\n",
      "WARNING: NoDistanceWarning: Distance on coordinate object is dimensionless, an arbitrary distance value of 1000000.0 kpc will be set instead. [astropy.coordinates.spectral_coordinate]\n"
     ]
    },
    {
     "name": "stdout",
     "output_type": "stream",
     "text": [
      "Gridding /bb8/lingrui/my_projects/FAST_pipeline/Sun17_A_10/M17/Calibrated/Sun17_A_10_arcdrift-M17_N_0002_211119_071652to211119_072344_calibrated_icrs_Tmb.fits\n",
      "Doing Doppler Tracking!\n"
     ]
    },
    {
     "name": "stderr",
     "output_type": "stream",
     "text": [
      "WARNING: NoVelocityWarning: No velocity defined on frame, assuming (0., 0., 0.) km / s. [astropy.coordinates.spectral_coordinate]\n",
      "WARNING: NoDistanceWarning: Distance on coordinate object is dimensionless, an arbitrary distance value of 1000000.0 kpc will be set instead. [astropy.coordinates.spectral_coordinate]\n"
     ]
    },
    {
     "name": "stdout",
     "output_type": "stream",
     "text": [
      "Gridding /bb8/lingrui/my_projects/FAST_pipeline/Sun17_A_10/M17/Calibrated/Sun17_A_10_arcdrift-M17_N_0003_211119_072344to211119_072348_calibrated_icrs_Tmb.fits\n",
      "Doing Doppler Tracking!\n"
     ]
    },
    {
     "name": "stderr",
     "output_type": "stream",
     "text": [
      "WARNING: NoVelocityWarning: No velocity defined on frame, assuming (0., 0., 0.) km / s. [astropy.coordinates.spectral_coordinate]\n",
      "WARNING: NoDistanceWarning: Distance on coordinate object is dimensionless, an arbitrary distance value of 1000000.0 kpc will be set instead. [astropy.coordinates.spectral_coordinate]\n"
     ]
    },
    {
     "name": "stdout",
     "output_type": "stream",
     "text": [
      "Gridding /bb8/lingrui/my_projects/FAST_pipeline/Sun17_A_10/M18/Calibrated/Sun17_A_10_arcdrift-M18_N_0001_211119_071000to211119_071652_calibrated_icrs_Tmb.fits\n",
      "Doing Doppler Tracking!\n"
     ]
    },
    {
     "name": "stderr",
     "output_type": "stream",
     "text": [
      "WARNING: NoVelocityWarning: No velocity defined on frame, assuming (0., 0., 0.) km / s. [astropy.coordinates.spectral_coordinate]\n",
      "WARNING: NoDistanceWarning: Distance on coordinate object is dimensionless, an arbitrary distance value of 1000000.0 kpc will be set instead. [astropy.coordinates.spectral_coordinate]\n"
     ]
    },
    {
     "name": "stdout",
     "output_type": "stream",
     "text": [
      "Gridding /bb8/lingrui/my_projects/FAST_pipeline/Sun17_A_10/M18/Calibrated/Sun17_A_10_arcdrift-M18_N_0002_211119_071652to211119_072344_calibrated_icrs_Tmb.fits\n",
      "Doing Doppler Tracking!\n"
     ]
    },
    {
     "name": "stderr",
     "output_type": "stream",
     "text": [
      "WARNING: NoVelocityWarning: No velocity defined on frame, assuming (0., 0., 0.) km / s. [astropy.coordinates.spectral_coordinate]\n",
      "WARNING: NoDistanceWarning: Distance on coordinate object is dimensionless, an arbitrary distance value of 1000000.0 kpc will be set instead. [astropy.coordinates.spectral_coordinate]\n"
     ]
    },
    {
     "name": "stdout",
     "output_type": "stream",
     "text": [
      "Gridding /bb8/lingrui/my_projects/FAST_pipeline/Sun17_A_10/M18/Calibrated/Sun17_A_10_arcdrift-M18_N_0003_211119_072344to211119_072348_calibrated_icrs_Tmb.fits\n",
      "Doing Doppler Tracking!\n"
     ]
    },
    {
     "name": "stderr",
     "output_type": "stream",
     "text": [
      "WARNING: NoVelocityWarning: No velocity defined on frame, assuming (0., 0., 0.) km / s. [astropy.coordinates.spectral_coordinate]\n",
      "WARNING: NoDistanceWarning: Distance on coordinate object is dimensionless, an arbitrary distance value of 1000000.0 kpc will be set instead. [astropy.coordinates.spectral_coordinate]\n"
     ]
    },
    {
     "name": "stdout",
     "output_type": "stream",
     "text": [
      "Gridding /bb8/lingrui/my_projects/FAST_pipeline/Sun17_A_10/M19/Calibrated/Sun17_A_10_arcdrift-M19_N_0001_211119_071000to211119_071652_calibrated_icrs_Tmb.fits\n",
      "Doing Doppler Tracking!\n"
     ]
    },
    {
     "name": "stderr",
     "output_type": "stream",
     "text": [
      "WARNING: NoVelocityWarning: No velocity defined on frame, assuming (0., 0., 0.) km / s. [astropy.coordinates.spectral_coordinate]\n",
      "WARNING: NoDistanceWarning: Distance on coordinate object is dimensionless, an arbitrary distance value of 1000000.0 kpc will be set instead. [astropy.coordinates.spectral_coordinate]\n"
     ]
    },
    {
     "name": "stdout",
     "output_type": "stream",
     "text": [
      "Gridding /bb8/lingrui/my_projects/FAST_pipeline/Sun17_A_10/M19/Calibrated/Sun17_A_10_arcdrift-M19_N_0002_211119_071652to211119_072344_calibrated_icrs_Tmb.fits\n",
      "Doing Doppler Tracking!\n"
     ]
    },
    {
     "name": "stderr",
     "output_type": "stream",
     "text": [
      "WARNING: NoVelocityWarning: No velocity defined on frame, assuming (0., 0., 0.) km / s. [astropy.coordinates.spectral_coordinate]\n",
      "WARNING: NoDistanceWarning: Distance on coordinate object is dimensionless, an arbitrary distance value of 1000000.0 kpc will be set instead. [astropy.coordinates.spectral_coordinate]\n"
     ]
    },
    {
     "name": "stdout",
     "output_type": "stream",
     "text": [
      "Gridding /bb8/lingrui/my_projects/FAST_pipeline/Sun17_A_10/M19/Calibrated/Sun17_A_10_arcdrift-M19_N_0003_211119_072344to211119_072348_calibrated_icrs_Tmb.fits\n",
      "Doing Doppler Tracking!\n"
     ]
    },
    {
     "name": "stderr",
     "output_type": "stream",
     "text": [
      "WARNING: NoVelocityWarning: No velocity defined on frame, assuming (0., 0., 0.) km / s. [astropy.coordinates.spectral_coordinate]\n",
      "WARNING: NoDistanceWarning: Distance on coordinate object is dimensionless, an arbitrary distance value of 1000000.0 kpc will be set instead. [astropy.coordinates.spectral_coordinate]\n",
      "/bb8/lingrui/my_projects/FAST_pipeline/FISH_scripts/gridding_with_doppler_tracking.py:129: RuntimeWarning: invalid value encountered in true_divide\n",
      "  gridded_data = gridder.get_datacube()\n"
     ]
    }
   ],
   "source": [
    "from gridding_with_doppler_tracking import gridding_with_doppler_tracking\n",
    "\n",
    "speclist = 'mygridlist_all'\n",
    "center = [284.5,6.5]\n",
    "outname = 'Sun17_A_scans_all_doppler_Tmb.fits'\n",
    "gridding_with_doppler_tracking(speclist=speclist, center=center, imsize=[360, 360], cell=1/60, rest_freq=1.420405751768, vmin=-300, vmax=300, dv=0.5, p=0,  outname=outname, overwrite=False)"
   ]
  },
  {
   "cell_type": "markdown",
   "id": "7b885ca8-913c-410d-b9da-f1b368a28834",
   "metadata": {},
   "source": [
    "# Wideband continuum"
   ]
  },
  {
   "cell_type": "markdown",
   "id": "c06dba0d-bb6d-4c1d-bc83-fafa34438b5e",
   "metadata": {
    "tags": []
   },
   "source": [
    "#### xyz2radec"
   ]
  },
  {
   "cell_type": "code",
   "execution_count": 5,
   "id": "87e5cc4b-13ae-4f83-9e21-02224ac8e50b",
   "metadata": {},
   "outputs": [
    {
     "name": "stderr",
     "output_type": "stream",
     "text": [
      "ln: failed to create symbolic link 'PT2021_0055_KY/PT2021_0055_KY': File exists\n"
     ]
    },
    {
     "data": {
      "text/plain": [
       "256"
      ]
     },
     "execution_count": 5,
     "metadata": {},
     "output_type": "execute_result"
    }
   ],
   "source": [
    "from xyz2celestial import xyz2celestial\n",
    "import glob\n",
    "import pandas as pd\n",
    "\n",
    "os.system('ln -s /TheForce/fast_data/PT2021_0055_KY PT2021_0055_KY')"
   ]
  },
  {
   "cell_type": "code",
   "execution_count": 6,
   "id": "a751b2bf-0186-4ff9-9039-560e4d4050b9",
   "metadata": {
    "collapsed": true,
    "jupyter": {
     "outputs_hidden": true
    },
    "tags": []
   },
   "outputs": [
    {
     "name": "stdout",
     "output_type": "stream",
     "text": [
      "Dealing with Tsys_psr_Sun17_A_00_M01-M01_211010_100500to211010_101848.fits\n",
      "Dealing with Tsys_psr_Sun17_A_00_M02-M02_211010_100500to211010_101848.fits\n",
      "Dealing with Tsys_psr_Sun17_A_00_M03-M03_211010_100500to211010_101848.fits\n",
      "Dealing with Tsys_psr_Sun17_A_00_M04-M04_211010_100500to211010_101848.fits\n",
      "Dealing with Tsys_psr_Sun17_A_00_M05-M05_211010_100500to211010_101848.fits\n",
      "Dealing with Tsys_psr_Sun17_A_00_M06-M06_211010_100500to211010_101848.fits\n",
      "Dealing with Tsys_psr_Sun17_A_00_M07-M07_211010_100500to211010_101848.fits\n",
      "Dealing with Tsys_psr_Sun17_A_00_M08-M08_211010_100500to211010_101848.fits\n",
      "Dealing with Tsys_psr_Sun17_A_00_M09-M09_211010_100500to211010_101848.fits\n",
      "Dealing with Tsys_psr_Sun17_A_00_M10-M10_211010_100500to211010_101848.fits\n",
      "Dealing with Tsys_psr_Sun17_A_00_M11-M11_211010_100500to211010_101848.fits\n",
      "Dealing with Tsys_psr_Sun17_A_00_M12-M12_211010_100500to211010_101848.fits\n",
      "Dealing with Tsys_psr_Sun17_A_00_M13-M13_211010_100500to211010_101848.fits\n",
      "Dealing with Tsys_psr_Sun17_A_00_M14-M14_211010_100500to211010_101848.fits\n",
      "Dealing with Tsys_psr_Sun17_A_00_M15-M15_211010_100500to211010_101848.fits\n",
      "Dealing with Tsys_psr_Sun17_A_00_M16-M16_211010_100500to211010_101848.fits\n",
      "Dealing with Tsys_psr_Sun17_A_00_M17-M17_211010_100500to211010_101848.fits\n"
     ]
    },
    {
     "name": "stderr",
     "output_type": "stream",
     "text": [
      "/home/lingrui/.local/lib/python3.10/site-packages/astropy/time/utils.py:179: RuntimeWarning: overflow encountered in double_scalars\n",
      "  c = 134217729. * a  # 2**27+1.\n",
      "/home/lingrui/.local/lib/python3.10/site-packages/astropy/time/utils.py:181: RuntimeWarning: invalid value encountered in double_scalars\n",
      "  ah = c - abig\n"
     ]
    },
    {
     "name": "stdout",
     "output_type": "stream",
     "text": [
      "Dealing with Tsys_psr_Sun17_A_00_M18-M18_211010_100500to211010_101848.fits\n",
      "Dealing with Tsys_psr_Sun17_A_00_M19-M19_211010_100500to211010_101848.fits\n"
     ]
    },
    {
     "name": "stderr",
     "output_type": "stream",
     "text": [
      "/home/lingrui/.local/lib/python3.10/site-packages/astropy/time/utils.py:179: RuntimeWarning: overflow encountered in double_scalars\n",
      "  c = 134217729. * a  # 2**27+1.\n",
      "/home/lingrui/.local/lib/python3.10/site-packages/astropy/time/utils.py:181: RuntimeWarning: invalid value encountered in double_scalars\n",
      "  ah = c - abig\n",
      "/home/lingrui/.local/lib/python3.10/site-packages/astropy/time/utils.py:179: RuntimeWarning: overflow encountered in double_scalars\n",
      "  c = 134217729. * a  # 2**27+1.\n",
      "/home/lingrui/.local/lib/python3.10/site-packages/astropy/time/utils.py:181: RuntimeWarning: invalid value encountered in double_scalars\n",
      "  ah = c - abig\n",
      "/home/lingrui/.local/lib/python3.10/site-packages/astropy/time/utils.py:179: RuntimeWarning: overflow encountered in double_scalars\n",
      "  c = 134217729. * a  # 2**27+1.\n",
      "/home/lingrui/.local/lib/python3.10/site-packages/astropy/time/utils.py:179: RuntimeWarning: overflow encountered in double_scalars\n",
      "  c = 134217729. * a  # 2**27+1.\n",
      "/home/lingrui/.local/lib/python3.10/site-packages/astropy/time/utils.py:181: RuntimeWarning: invalid value encountered in double_scalars\n",
      "  ah = c - abig\n",
      "/home/lingrui/.local/lib/python3.10/site-packages/astropy/time/utils.py:181: RuntimeWarning: invalid value encountered in double_scalars\n",
      "  ah = c - abig\n",
      "/home/lingrui/.local/lib/python3.10/site-packages/astropy/time/utils.py:179: RuntimeWarning: overflow encountered in double_scalars\n",
      "  c = 134217729. * a  # 2**27+1.\n",
      "/home/lingrui/.local/lib/python3.10/site-packages/astropy/time/utils.py:181: RuntimeWarning: invalid value encountered in double_scalars\n",
      "  ah = c - abig\n",
      "/home/lingrui/.local/lib/python3.10/site-packages/astropy/time/utils.py:179: RuntimeWarning: overflow encountered in double_scalars\n",
      "  c = 134217729. * a  # 2**27+1.\n",
      "/home/lingrui/.local/lib/python3.10/site-packages/astropy/time/utils.py:179: RuntimeWarning: overflow encountered in double_scalars\n",
      "  c = 134217729. * a  # 2**27+1.\n",
      "/home/lingrui/.local/lib/python3.10/site-packages/astropy/time/utils.py:181: RuntimeWarning: invalid value encountered in double_scalars\n",
      "  ah = c - abig\n",
      "/home/lingrui/.local/lib/python3.10/site-packages/astropy/time/utils.py:181: RuntimeWarning: invalid value encountered in double_scalars\n",
      "  ah = c - abig\n",
      "/home/lingrui/.local/lib/python3.10/site-packages/astropy/time/utils.py:179: RuntimeWarning: overflow encountered in double_scalars\n",
      "  c = 134217729. * a  # 2**27+1.\n",
      "/home/lingrui/.local/lib/python3.10/site-packages/astropy/time/utils.py:181: RuntimeWarning: invalid value encountered in double_scalars\n",
      "  ah = c - abig\n",
      "/home/lingrui/.local/lib/python3.10/site-packages/astropy/time/utils.py:179: RuntimeWarning: overflow encountered in double_scalars\n",
      "  c = 134217729. * a  # 2**27+1.\n",
      "/home/lingrui/.local/lib/python3.10/site-packages/astropy/time/utils.py:181: RuntimeWarning: invalid value encountered in double_scalars\n",
      "  ah = c - abig\n",
      "/home/lingrui/.local/lib/python3.10/site-packages/astropy/time/utils.py:179: RuntimeWarning: overflow encountered in double_scalars\n",
      "  c = 134217729. * a  # 2**27+1.\n",
      "/home/lingrui/.local/lib/python3.10/site-packages/astropy/time/utils.py:181: RuntimeWarning: invalid value encountered in double_scalars\n",
      "  ah = c - abig\n",
      "/home/lingrui/.local/lib/python3.10/site-packages/astropy/time/utils.py:179: RuntimeWarning: overflow encountered in double_scalars\n",
      "  c = 134217729. * a  # 2**27+1.\n",
      "/home/lingrui/.local/lib/python3.10/site-packages/astropy/time/utils.py:181: RuntimeWarning: invalid value encountered in double_scalars\n",
      "  ah = c - abig\n",
      "/home/lingrui/.local/lib/python3.10/site-packages/astropy/time/utils.py:179: RuntimeWarning: overflow encountered in double_scalars\n",
      "  c = 134217729. * a  # 2**27+1.\n",
      "/home/lingrui/.local/lib/python3.10/site-packages/astropy/time/utils.py:181: RuntimeWarning: invalid value encountered in double_scalars\n",
      "  ah = c - abig\n",
      "/home/lingrui/.local/lib/python3.10/site-packages/astropy/time/utils.py:179: RuntimeWarning: overflow encountered in double_scalars\n",
      "  c = 134217729. * a  # 2**27+1.\n",
      "/home/lingrui/.local/lib/python3.10/site-packages/astropy/time/utils.py:181: RuntimeWarning: invalid value encountered in double_scalars\n",
      "  ah = c - abig\n",
      "/home/lingrui/.local/lib/python3.10/site-packages/astropy/time/utils.py:179: RuntimeWarning: overflow encountered in double_scalars\n",
      "  c = 134217729. * a  # 2**27+1.\n",
      "/home/lingrui/.local/lib/python3.10/site-packages/astropy/time/utils.py:181: RuntimeWarning: invalid value encountered in double_scalars\n",
      "  ah = c - abig\n",
      "/home/lingrui/.local/lib/python3.10/site-packages/astropy/time/utils.py:179: RuntimeWarning: overflow encountered in double_scalars\n",
      "  c = 134217729. * a  # 2**27+1.\n",
      "/home/lingrui/.local/lib/python3.10/site-packages/astropy/time/utils.py:181: RuntimeWarning: invalid value encountered in double_scalars\n",
      "  ah = c - abig\n",
      "/home/lingrui/.local/lib/python3.10/site-packages/astropy/time/utils.py:179: RuntimeWarning: overflow encountered in double_scalars\n",
      "  c = 134217729. * a  # 2**27+1.\n",
      "/home/lingrui/.local/lib/python3.10/site-packages/astropy/time/utils.py:181: RuntimeWarning: invalid value encountered in double_scalars\n",
      "  ah = c - abig\n",
      "/home/lingrui/.local/lib/python3.10/site-packages/astropy/time/utils.py:179: RuntimeWarning: overflow encountered in double_scalars\n",
      "  c = 134217729. * a  # 2**27+1.\n",
      "/home/lingrui/.local/lib/python3.10/site-packages/astropy/time/utils.py:181: RuntimeWarning: invalid value encountered in double_scalars\n",
      "  ah = c - abig\n",
      "/home/lingrui/.local/lib/python3.10/site-packages/astropy/time/utils.py:179: RuntimeWarning: overflow encountered in double_scalars\n",
      "  c = 134217729. * a  # 2**27+1.\n",
      "/home/lingrui/.local/lib/python3.10/site-packages/astropy/time/utils.py:181: RuntimeWarning: invalid value encountered in double_scalars\n",
      "  ah = c - abig\n"
     ]
    },
    {
     "name": "stdout",
     "output_type": "stream",
     "text": [
      "Dealing with Tsys_psr_Sun17_A_01_M01-M01_211010_103100to211010_104448.fits\n",
      "Dealing with Tsys_psr_Sun17_A_01_M02-M02_211010_103100to211010_104448.fits\n",
      "Dealing with Tsys_psr_Sun17_A_01_M03-M03_211010_103100to211010_104448.fits\n",
      "Dealing with Tsys_psr_Sun17_A_01_M04-M04_211010_103100to211010_104448.fits\n",
      "Dealing with Tsys_psr_Sun17_A_01_M05-M05_211010_103100to211010_104448.fits\n",
      "Dealing with Tsys_psr_Sun17_A_01_M06-M06_211010_103100to211010_104448.fits\n",
      "Dealing with Tsys_psr_Sun17_A_01_M07-M07_211010_103100to211010_104448.fits\n",
      "Dealing with Tsys_psr_Sun17_A_01_M08-M08_211010_103100to211010_104448.fits\n",
      "Dealing with Tsys_psr_Sun17_A_01_M09-M09_211010_103100to211010_104448.fits\n",
      "Dealing with Tsys_psr_Sun17_A_01_M10-M10_211010_103100to211010_104448.fits\n",
      "Dealing with Tsys_psr_Sun17_A_01_M11-M11_211010_103100to211010_104448.fits\n",
      "Dealing with Tsys_psr_Sun17_A_01_M12-M12_211010_103100to211010_104448.fits\n",
      "Dealing with Tsys_psr_Sun17_A_01_M13-M13_211010_103100to211010_104448.fits\n",
      "Dealing with Tsys_psr_Sun17_A_01_M14-M14_211010_103100to211010_104448.fits\n",
      "Dealing with Tsys_psr_Sun17_A_01_M15-M15_211010_103100to211010_104448.fits\n",
      "Dealing with Tsys_psr_Sun17_A_01_M16-M16_211010_103100to211010_104448.fits\n",
      "Dealing with Tsys_psr_Sun17_A_01_M17-M17_211010_103100to211010_104448.fits\n",
      "Dealing with Tsys_psr_Sun17_A_01_M18-M18_211010_103100to211010_104448.fits\n",
      "Dealing with Tsys_psr_Sun17_A_01_M19-M19_211010_103100to211010_104448.fits\n"
     ]
    },
    {
     "name": "stderr",
     "output_type": "stream",
     "text": [
      "/home/lingrui/.local/lib/python3.10/site-packages/astropy/time/utils.py:179: RuntimeWarning: overflow encountered in double_scalars\n",
      "  c = 134217729. * a  # 2**27+1.\n",
      "/home/lingrui/.local/lib/python3.10/site-packages/astropy/time/utils.py:181: RuntimeWarning: invalid value encountered in double_scalars\n",
      "  ah = c - abig\n",
      "/home/lingrui/.local/lib/python3.10/site-packages/astropy/time/utils.py:179: RuntimeWarning: overflow encountered in double_scalars\n",
      "  c = 134217729. * a  # 2**27+1.\n",
      "/home/lingrui/.local/lib/python3.10/site-packages/astropy/time/utils.py:181: RuntimeWarning: invalid value encountered in double_scalars\n",
      "  ah = c - abig\n",
      "/home/lingrui/.local/lib/python3.10/site-packages/astropy/time/utils.py:179: RuntimeWarning: overflow encountered in double_scalars\n",
      "  c = 134217729. * a  # 2**27+1.\n",
      "/home/lingrui/.local/lib/python3.10/site-packages/astropy/time/utils.py:181: RuntimeWarning: invalid value encountered in double_scalars\n",
      "  ah = c - abig\n",
      "/home/lingrui/.local/lib/python3.10/site-packages/astropy/time/utils.py:179: RuntimeWarning: overflow encountered in double_scalars\n",
      "  c = 134217729. * a  # 2**27+1.\n",
      "/home/lingrui/.local/lib/python3.10/site-packages/astropy/time/utils.py:181: RuntimeWarning: invalid value encountered in double_scalars\n",
      "  ah = c - abig\n",
      "/home/lingrui/.local/lib/python3.10/site-packages/astropy/time/utils.py:179: RuntimeWarning: overflow encountered in double_scalars\n",
      "  c = 134217729. * a  # 2**27+1.\n",
      "/home/lingrui/.local/lib/python3.10/site-packages/astropy/time/utils.py:181: RuntimeWarning: invalid value encountered in double_scalars\n",
      "  ah = c - abig\n",
      "/home/lingrui/.local/lib/python3.10/site-packages/astropy/time/utils.py:179: RuntimeWarning: overflow encountered in double_scalars\n",
      "  c = 134217729. * a  # 2**27+1.\n",
      "/home/lingrui/.local/lib/python3.10/site-packages/astropy/time/utils.py:181: RuntimeWarning: invalid value encountered in double_scalars\n",
      "  ah = c - abig\n",
      "/home/lingrui/.local/lib/python3.10/site-packages/astropy/time/utils.py:179: RuntimeWarning: overflow encountered in double_scalars\n",
      "  c = 134217729. * a  # 2**27+1.\n",
      "/home/lingrui/.local/lib/python3.10/site-packages/astropy/time/utils.py:181: RuntimeWarning: invalid value encountered in double_scalars\n",
      "  ah = c - abig\n",
      "/home/lingrui/.local/lib/python3.10/site-packages/astropy/time/utils.py:179: RuntimeWarning: overflow encountered in double_scalars\n",
      "  c = 134217729. * a  # 2**27+1.\n",
      "/home/lingrui/.local/lib/python3.10/site-packages/astropy/time/utils.py:179: RuntimeWarning: overflow encountered in double_scalars\n",
      "  c = 134217729. * a  # 2**27+1.\n",
      "/home/lingrui/.local/lib/python3.10/site-packages/astropy/time/utils.py:179: RuntimeWarning: overflow encountered in double_scalars\n",
      "  c = 134217729. * a  # 2**27+1.\n",
      "/home/lingrui/.local/lib/python3.10/site-packages/astropy/time/utils.py:181: RuntimeWarning: invalid value encountered in double_scalars\n",
      "  ah = c - abig\n",
      "/home/lingrui/.local/lib/python3.10/site-packages/astropy/time/utils.py:181: RuntimeWarning: invalid value encountered in double_scalars\n",
      "  ah = c - abig\n",
      "/home/lingrui/.local/lib/python3.10/site-packages/astropy/time/utils.py:181: RuntimeWarning: invalid value encountered in double_scalars\n",
      "  ah = c - abig\n",
      "/home/lingrui/.local/lib/python3.10/site-packages/astropy/time/utils.py:179: RuntimeWarning: overflow encountered in double_scalars\n",
      "  c = 134217729. * a  # 2**27+1.\n",
      "/home/lingrui/.local/lib/python3.10/site-packages/astropy/time/utils.py:181: RuntimeWarning: invalid value encountered in double_scalars\n",
      "  ah = c - abig\n",
      "/home/lingrui/.local/lib/python3.10/site-packages/astropy/time/utils.py:179: RuntimeWarning: overflow encountered in double_scalars\n",
      "  c = 134217729. * a  # 2**27+1.\n",
      "/home/lingrui/.local/lib/python3.10/site-packages/astropy/time/utils.py:179: RuntimeWarning: overflow encountered in double_scalars\n",
      "  c = 134217729. * a  # 2**27+1.\n",
      "/home/lingrui/.local/lib/python3.10/site-packages/astropy/time/utils.py:181: RuntimeWarning: invalid value encountered in double_scalars\n",
      "  ah = c - abig\n",
      "/home/lingrui/.local/lib/python3.10/site-packages/astropy/time/utils.py:181: RuntimeWarning: invalid value encountered in double_scalars\n",
      "  ah = c - abig\n",
      "/home/lingrui/.local/lib/python3.10/site-packages/astropy/time/utils.py:179: RuntimeWarning: overflow encountered in double_scalars\n",
      "  c = 134217729. * a  # 2**27+1.\n",
      "/home/lingrui/.local/lib/python3.10/site-packages/astropy/time/utils.py:181: RuntimeWarning: invalid value encountered in double_scalars\n",
      "  ah = c - abig\n",
      "/home/lingrui/.local/lib/python3.10/site-packages/astropy/time/utils.py:179: RuntimeWarning: overflow encountered in double_scalars\n",
      "  c = 134217729. * a  # 2**27+1.\n",
      "/home/lingrui/.local/lib/python3.10/site-packages/astropy/time/utils.py:181: RuntimeWarning: invalid value encountered in double_scalars\n",
      "  ah = c - abig\n",
      "/home/lingrui/.local/lib/python3.10/site-packages/astropy/time/utils.py:179: RuntimeWarning: overflow encountered in double_scalars\n",
      "  c = 134217729. * a  # 2**27+1.\n",
      "/home/lingrui/.local/lib/python3.10/site-packages/astropy/time/utils.py:181: RuntimeWarning: invalid value encountered in double_scalars\n",
      "  ah = c - abig\n",
      "/home/lingrui/.local/lib/python3.10/site-packages/astropy/time/utils.py:179: RuntimeWarning: overflow encountered in double_scalars\n",
      "  c = 134217729. * a  # 2**27+1.\n",
      "/home/lingrui/.local/lib/python3.10/site-packages/astropy/time/utils.py:181: RuntimeWarning: invalid value encountered in double_scalars\n",
      "  ah = c - abig\n",
      "/home/lingrui/.local/lib/python3.10/site-packages/astropy/time/utils.py:179: RuntimeWarning: overflow encountered in double_scalars\n",
      "  c = 134217729. * a  # 2**27+1.\n",
      "/home/lingrui/.local/lib/python3.10/site-packages/astropy/time/utils.py:181: RuntimeWarning: invalid value encountered in double_scalars\n",
      "  ah = c - abig\n",
      "/home/lingrui/.local/lib/python3.10/site-packages/astropy/time/utils.py:179: RuntimeWarning: overflow encountered in double_scalars\n",
      "  c = 134217729. * a  # 2**27+1.\n",
      "/home/lingrui/.local/lib/python3.10/site-packages/astropy/time/utils.py:181: RuntimeWarning: invalid value encountered in double_scalars\n",
      "  ah = c - abig\n"
     ]
    },
    {
     "name": "stdout",
     "output_type": "stream",
     "text": [
      "Dealing with Tsys_psr_Sun17_A_02_M01-M01_211010_105700to211010_111048.fits\n",
      "Dealing with Tsys_psr_Sun17_A_02_M02-M02_211010_105700to211010_111048.fits\n",
      "Dealing with Tsys_psr_Sun17_A_02_M03-M03_211010_105700to211010_111048.fits\n",
      "Dealing with Tsys_psr_Sun17_A_02_M04-M04_211010_105700to211010_111048.fits\n",
      "Dealing with Tsys_psr_Sun17_A_02_M05-M05_211010_105700to211010_111048.fits\n",
      "Dealing with Tsys_psr_Sun17_A_02_M06-M06_211010_105700to211010_111048.fits\n",
      "Dealing with Tsys_psr_Sun17_A_02_M07-M07_211010_105700to211010_111048.fits\n",
      "Dealing with Tsys_psr_Sun17_A_02_M08-M08_211010_105700to211010_111048.fits\n",
      "Dealing with Tsys_psr_Sun17_A_02_M09-M09_211010_105700to211010_111048.fits\n",
      "Dealing with Tsys_psr_Sun17_A_02_M10-M10_211010_105700to211010_111048.fits\n",
      "\n",
      "Dealing with Tsys_psr_Sun17_A_02_M11-M11_211010_105700to211010_111048.fitsDealing with Tsys_psr_Sun17_A_02_M12-M12_211010_105700to211010_111048.fits\n",
      "Dealing with Tsys_psr_Sun17_A_02_M13-M13_211010_105700to211010_111048.fits\n",
      "Dealing with Tsys_psr_Sun17_A_02_M14-M14_211010_105700to211010_111048.fits\n",
      "Dealing with Tsys_psr_Sun17_A_02_M15-M15_211010_105700to211010_111048.fits\n",
      "Dealing with Tsys_psr_Sun17_A_02_M16-M16_211010_105700to211010_111048.fits\n",
      "Dealing with Tsys_psr_Sun17_A_02_M17-M17_211010_105700to211010_111048.fits\n"
     ]
    },
    {
     "name": "stderr",
     "output_type": "stream",
     "text": [
      "/home/lingrui/.local/lib/python3.10/site-packages/astropy/time/utils.py:179: RuntimeWarning: overflow encountered in double_scalars\n",
      "  c = 134217729. * a  # 2**27+1.\n",
      "/home/lingrui/.local/lib/python3.10/site-packages/astropy/time/utils.py:181: RuntimeWarning: invalid value encountered in double_scalars\n",
      "  ah = c - abig\n"
     ]
    },
    {
     "name": "stdout",
     "output_type": "stream",
     "text": [
      "Dealing with Tsys_psr_Sun17_A_02_M18-M18_211010_105700to211010_111048.fits\n"
     ]
    },
    {
     "name": "stderr",
     "output_type": "stream",
     "text": [
      "/home/lingrui/.local/lib/python3.10/site-packages/astropy/time/utils.py:179: RuntimeWarning: overflow encountered in double_scalars\n",
      "  c = 134217729. * a  # 2**27+1.\n"
     ]
    },
    {
     "name": "stdout",
     "output_type": "stream",
     "text": [
      "Dealing with Tsys_psr_Sun17_A_02_M19-M19_211010_105700to211010_111048.fits"
     ]
    },
    {
     "name": "stderr",
     "output_type": "stream",
     "text": [
      "/home/lingrui/.local/lib/python3.10/site-packages/astropy/time/utils.py:181: RuntimeWarning: invalid value encountered in double_scalars\n",
      "  ah = c - abig\n"
     ]
    },
    {
     "name": "stdout",
     "output_type": "stream",
     "text": [
      "\n"
     ]
    },
    {
     "name": "stderr",
     "output_type": "stream",
     "text": [
      "/home/lingrui/.local/lib/python3.10/site-packages/astropy/time/utils.py:179: RuntimeWarning: overflow encountered in double_scalars\n",
      "  c = 134217729. * a  # 2**27+1.\n",
      "/home/lingrui/.local/lib/python3.10/site-packages/astropy/time/utils.py:181: RuntimeWarning: invalid value encountered in double_scalars\n",
      "  ah = c - abig\n",
      "/home/lingrui/.local/lib/python3.10/site-packages/astropy/time/utils.py:179: RuntimeWarning: overflow encountered in double_scalars\n",
      "  c = 134217729. * a  # 2**27+1.\n",
      "/home/lingrui/.local/lib/python3.10/site-packages/astropy/time/utils.py:181: RuntimeWarning: invalid value encountered in double_scalars\n",
      "  ah = c - abig\n",
      "/home/lingrui/.local/lib/python3.10/site-packages/astropy/time/utils.py:179: RuntimeWarning: overflow encountered in double_scalars\n",
      "  c = 134217729. * a  # 2**27+1.\n",
      "/home/lingrui/.local/lib/python3.10/site-packages/astropy/time/utils.py:181: RuntimeWarning: invalid value encountered in double_scalars\n",
      "  ah = c - abig\n",
      "/home/lingrui/.local/lib/python3.10/site-packages/astropy/time/utils.py:179: RuntimeWarning: overflow encountered in double_scalars\n",
      "  c = 134217729. * a  # 2**27+1.\n",
      "/home/lingrui/.local/lib/python3.10/site-packages/astropy/time/utils.py:181: RuntimeWarning: invalid value encountered in double_scalars\n",
      "  ah = c - abig\n",
      "/home/lingrui/.local/lib/python3.10/site-packages/astropy/time/utils.py:179: RuntimeWarning: overflow encountered in double_scalars\n",
      "  c = 134217729. * a  # 2**27+1.\n",
      "/home/lingrui/.local/lib/python3.10/site-packages/astropy/time/utils.py:181: RuntimeWarning: invalid value encountered in double_scalars\n",
      "  ah = c - abig\n",
      "/home/lingrui/.local/lib/python3.10/site-packages/astropy/time/utils.py:179: RuntimeWarning: overflow encountered in double_scalars\n",
      "  c = 134217729. * a  # 2**27+1.\n",
      "/home/lingrui/.local/lib/python3.10/site-packages/astropy/time/utils.py:181: RuntimeWarning: invalid value encountered in double_scalars\n",
      "  ah = c - abig\n",
      "/home/lingrui/.local/lib/python3.10/site-packages/astropy/time/utils.py:179: RuntimeWarning: overflow encountered in double_scalars\n",
      "  c = 134217729. * a  # 2**27+1.\n",
      "/home/lingrui/.local/lib/python3.10/site-packages/astropy/time/utils.py:179: RuntimeWarning: overflow encountered in double_scalars\n",
      "  c = 134217729. * a  # 2**27+1.\n",
      "/home/lingrui/.local/lib/python3.10/site-packages/astropy/time/utils.py:181: RuntimeWarning: invalid value encountered in double_scalars\n",
      "  ah = c - abig\n",
      "/home/lingrui/.local/lib/python3.10/site-packages/astropy/time/utils.py:181: RuntimeWarning: invalid value encountered in double_scalars\n",
      "  ah = c - abig\n",
      "/home/lingrui/.local/lib/python3.10/site-packages/astropy/time/utils.py:179: RuntimeWarning: overflow encountered in double_scalars\n",
      "  c = 134217729. * a  # 2**27+1.\n",
      "/home/lingrui/.local/lib/python3.10/site-packages/astropy/time/utils.py:181: RuntimeWarning: invalid value encountered in double_scalars\n",
      "  ah = c - abig\n",
      "/home/lingrui/.local/lib/python3.10/site-packages/astropy/time/utils.py:179: RuntimeWarning: overflow encountered in double_scalars\n",
      "  c = 134217729. * a  # 2**27+1.\n",
      "/home/lingrui/.local/lib/python3.10/site-packages/astropy/time/utils.py:181: RuntimeWarning: invalid value encountered in double_scalars\n",
      "  ah = c - abig\n",
      "/home/lingrui/.local/lib/python3.10/site-packages/astropy/time/utils.py:179: RuntimeWarning: overflow encountered in double_scalars\n",
      "  c = 134217729. * a  # 2**27+1.\n",
      "/home/lingrui/.local/lib/python3.10/site-packages/astropy/time/utils.py:181: RuntimeWarning: invalid value encountered in double_scalars\n",
      "  ah = c - abig\n",
      "/home/lingrui/.local/lib/python3.10/site-packages/astropy/time/utils.py:179: RuntimeWarning: overflow encountered in double_scalars\n",
      "  c = 134217729. * a  # 2**27+1.\n",
      "/home/lingrui/.local/lib/python3.10/site-packages/astropy/time/utils.py:181: RuntimeWarning: invalid value encountered in double_scalars\n",
      "  ah = c - abig\n",
      "/home/lingrui/.local/lib/python3.10/site-packages/astropy/time/utils.py:179: RuntimeWarning: overflow encountered in double_scalars\n",
      "  c = 134217729. * a  # 2**27+1.\n",
      "/home/lingrui/.local/lib/python3.10/site-packages/astropy/time/utils.py:181: RuntimeWarning: invalid value encountered in double_scalars\n",
      "  ah = c - abig\n",
      "/home/lingrui/.local/lib/python3.10/site-packages/astropy/time/utils.py:179: RuntimeWarning: overflow encountered in double_scalars\n",
      "  c = 134217729. * a  # 2**27+1.\n",
      "/home/lingrui/.local/lib/python3.10/site-packages/astropy/time/utils.py:181: RuntimeWarning: invalid value encountered in double_scalars\n",
      "  ah = c - abig\n",
      "/home/lingrui/.local/lib/python3.10/site-packages/astropy/time/utils.py:179: RuntimeWarning: overflow encountered in double_scalars\n",
      "  c = 134217729. * a  # 2**27+1.\n",
      "/home/lingrui/.local/lib/python3.10/site-packages/astropy/time/utils.py:181: RuntimeWarning: invalid value encountered in double_scalars\n",
      "  ah = c - abig\n",
      "/home/lingrui/.local/lib/python3.10/site-packages/astropy/time/utils.py:179: RuntimeWarning: overflow encountered in double_scalars\n",
      "  c = 134217729. * a  # 2**27+1.\n",
      "/home/lingrui/.local/lib/python3.10/site-packages/astropy/time/utils.py:179: RuntimeWarning: overflow encountered in double_scalars\n",
      "  c = 134217729. * a  # 2**27+1.\n",
      "/home/lingrui/.local/lib/python3.10/site-packages/astropy/time/utils.py:181: RuntimeWarning: invalid value encountered in double_scalars\n",
      "  ah = c - abig\n",
      "/home/lingrui/.local/lib/python3.10/site-packages/astropy/time/utils.py:181: RuntimeWarning: invalid value encountered in double_scalars\n",
      "  ah = c - abig\n"
     ]
    },
    {
     "name": "stdout",
     "output_type": "stream",
     "text": [
      "Dealing with Tsys_psr_Sun17_A_03_M01-M01_211010_112300to211010_113648.fits\n",
      "Dealing with Tsys_psr_Sun17_A_03_M02-M02_211010_112300to211010_113648.fitsDealing with Tsys_psr_Sun17_A_03_M03-M03_211010_112300to211010_113648.fits\n",
      "\n",
      "Dealing with Tsys_psr_Sun17_A_03_M04-M04_211010_112300to211010_113648.fits\n",
      "Dealing with Tsys_psr_Sun17_A_03_M05-M05_211010_112300to211010_113648.fits\n",
      "Dealing with Tsys_psr_Sun17_A_03_M06-M06_211010_112300to211010_113648.fits\n",
      "Dealing with Tsys_psr_Sun17_A_03_M07-M07_211010_112300to211010_113648.fits\n",
      "Dealing with Tsys_psr_Sun17_A_03_M08-M08_211010_112300to211010_113648.fits\n",
      "Dealing with Tsys_psr_Sun17_A_03_M09-M09_211010_112300to211010_113648.fits\n",
      "Dealing with Tsys_psr_Sun17_A_03_M10-M10_211010_112300to211010_113648.fits\n",
      "Dealing with Tsys_psr_Sun17_A_03_M11-M11_211010_112300to211010_113648.fits\n",
      "Dealing with Tsys_psr_Sun17_A_03_M12-M12_211010_112300to211010_113648.fits\n",
      "Dealing with Tsys_psr_Sun17_A_03_M13-M13_211010_112300to211010_113648.fits\n",
      "Dealing with Tsys_psr_Sun17_A_03_M14-M14_211010_112300to211010_113648.fits\n",
      "Dealing with Tsys_psr_Sun17_A_03_M15-M15_211010_112300to211010_113648.fits"
     ]
    },
    {
     "name": "stderr",
     "output_type": "stream",
     "text": [
      "/home/lingrui/.local/lib/python3.10/site-packages/astropy/time/utils.py:179: RuntimeWarning: overflow encountered in double_scalars\n",
      "  c = 134217729. * a  # 2**27+1.\n"
     ]
    },
    {
     "name": "stdout",
     "output_type": "stream",
     "text": [
      "\n"
     ]
    },
    {
     "name": "stderr",
     "output_type": "stream",
     "text": [
      "/home/lingrui/.local/lib/python3.10/site-packages/astropy/time/utils.py:181: RuntimeWarning: invalid value encountered in double_scalars\n",
      "  ah = c - abig\n"
     ]
    },
    {
     "name": "stdout",
     "output_type": "stream",
     "text": [
      "Dealing with Tsys_psr_Sun17_A_03_M16-M16_211010_112300to211010_113648.fits\n",
      "Dealing with Tsys_psr_Sun17_A_03_M17-M17_211010_112300to211010_113648.fits\n",
      "Dealing with Tsys_psr_Sun17_A_03_M18-M18_211010_112300to211010_113648.fits\n",
      "Dealing with Tsys_psr_Sun17_A_03_M19-M19_211010_112300to211010_113648.fits\n"
     ]
    },
    {
     "name": "stderr",
     "output_type": "stream",
     "text": [
      "/home/lingrui/.local/lib/python3.10/site-packages/astropy/time/utils.py:179: RuntimeWarning: overflow encountered in double_scalars\n",
      "  c = 134217729. * a  # 2**27+1.\n",
      "/home/lingrui/.local/lib/python3.10/site-packages/astropy/time/utils.py:181: RuntimeWarning: invalid value encountered in double_scalars\n",
      "  ah = c - abig\n",
      "/home/lingrui/.local/lib/python3.10/site-packages/astropy/time/utils.py:179: RuntimeWarning: overflow encountered in double_scalars\n",
      "  c = 134217729. * a  # 2**27+1.\n",
      "/home/lingrui/.local/lib/python3.10/site-packages/astropy/time/utils.py:181: RuntimeWarning: invalid value encountered in double_scalars\n",
      "  ah = c - abig\n",
      "/home/lingrui/.local/lib/python3.10/site-packages/astropy/time/utils.py:179: RuntimeWarning: overflow encountered in double_scalars\n",
      "  c = 134217729. * a  # 2**27+1.\n",
      "/home/lingrui/.local/lib/python3.10/site-packages/astropy/time/utils.py:181: RuntimeWarning: invalid value encountered in double_scalars\n",
      "  ah = c - abig\n",
      "/home/lingrui/.local/lib/python3.10/site-packages/astropy/time/utils.py:179: RuntimeWarning: overflow encountered in double_scalars\n",
      "  c = 134217729. * a  # 2**27+1.\n",
      "/home/lingrui/.local/lib/python3.10/site-packages/astropy/time/utils.py:181: RuntimeWarning: invalid value encountered in double_scalars\n",
      "  ah = c - abig\n",
      "/home/lingrui/.local/lib/python3.10/site-packages/astropy/time/utils.py:179: RuntimeWarning: overflow encountered in double_scalars\n",
      "  c = 134217729. * a  # 2**27+1.\n",
      "/home/lingrui/.local/lib/python3.10/site-packages/astropy/time/utils.py:181: RuntimeWarning: invalid value encountered in double_scalars\n",
      "  ah = c - abig\n",
      "/home/lingrui/.local/lib/python3.10/site-packages/astropy/time/utils.py:179: RuntimeWarning: overflow encountered in double_scalars\n",
      "  c = 134217729. * a  # 2**27+1.\n",
      "/home/lingrui/.local/lib/python3.10/site-packages/astropy/time/utils.py:181: RuntimeWarning: invalid value encountered in double_scalars\n",
      "  ah = c - abig\n",
      "/home/lingrui/.local/lib/python3.10/site-packages/astropy/time/utils.py:179: RuntimeWarning: overflow encountered in double_scalars\n",
      "  c = 134217729. * a  # 2**27+1.\n",
      "/home/lingrui/.local/lib/python3.10/site-packages/astropy/time/utils.py:181: RuntimeWarning: invalid value encountered in double_scalars\n",
      "  ah = c - abig\n",
      "/home/lingrui/.local/lib/python3.10/site-packages/astropy/time/utils.py:179: RuntimeWarning: overflow encountered in double_scalars\n",
      "  c = 134217729. * a  # 2**27+1.\n",
      "/home/lingrui/.local/lib/python3.10/site-packages/astropy/time/utils.py:181: RuntimeWarning: invalid value encountered in double_scalars\n",
      "  ah = c - abig\n",
      "/home/lingrui/.local/lib/python3.10/site-packages/astropy/time/utils.py:179: RuntimeWarning: overflow encountered in double_scalars\n",
      "  c = 134217729. * a  # 2**27+1.\n",
      "/home/lingrui/.local/lib/python3.10/site-packages/astropy/time/utils.py:181: RuntimeWarning: invalid value encountered in double_scalars\n",
      "  ah = c - abig\n",
      "/home/lingrui/.local/lib/python3.10/site-packages/astropy/time/utils.py:179: RuntimeWarning: overflow encountered in double_scalars\n",
      "  c = 134217729. * a  # 2**27+1.\n",
      "/home/lingrui/.local/lib/python3.10/site-packages/astropy/time/utils.py:179: RuntimeWarning: overflow encountered in double_scalars\n",
      "  c = 134217729. * a  # 2**27+1.\n",
      "/home/lingrui/.local/lib/python3.10/site-packages/astropy/time/utils.py:181: RuntimeWarning: invalid value encountered in double_scalars\n",
      "  ah = c - abig\n",
      "/home/lingrui/.local/lib/python3.10/site-packages/astropy/time/utils.py:181: RuntimeWarning: invalid value encountered in double_scalars\n",
      "  ah = c - abig\n",
      "/home/lingrui/.local/lib/python3.10/site-packages/astropy/time/utils.py:179: RuntimeWarning: overflow encountered in double_scalars\n",
      "  c = 134217729. * a  # 2**27+1.\n",
      "/home/lingrui/.local/lib/python3.10/site-packages/astropy/time/utils.py:179: RuntimeWarning: overflow encountered in double_scalars\n",
      "  c = 134217729. * a  # 2**27+1.\n",
      "/home/lingrui/.local/lib/python3.10/site-packages/astropy/time/utils.py:179: RuntimeWarning: overflow encountered in double_scalars\n",
      "  c = 134217729. * a  # 2**27+1.\n",
      "/home/lingrui/.local/lib/python3.10/site-packages/astropy/time/utils.py:181: RuntimeWarning: invalid value encountered in double_scalars\n",
      "  ah = c - abig\n",
      "/home/lingrui/.local/lib/python3.10/site-packages/astropy/time/utils.py:181: RuntimeWarning: invalid value encountered in double_scalars\n",
      "  ah = c - abig\n",
      "/home/lingrui/.local/lib/python3.10/site-packages/astropy/time/utils.py:181: RuntimeWarning: invalid value encountered in double_scalars\n",
      "  ah = c - abig\n",
      "/home/lingrui/.local/lib/python3.10/site-packages/astropy/time/utils.py:179: RuntimeWarning: overflow encountered in double_scalars\n",
      "  c = 134217729. * a  # 2**27+1.\n",
      "/home/lingrui/.local/lib/python3.10/site-packages/astropy/time/utils.py:179: RuntimeWarning: overflow encountered in double_scalars\n",
      "  c = 134217729. * a  # 2**27+1.\n",
      "/home/lingrui/.local/lib/python3.10/site-packages/astropy/time/utils.py:181: RuntimeWarning: invalid value encountered in double_scalars\n",
      "  ah = c - abig\n",
      "/home/lingrui/.local/lib/python3.10/site-packages/astropy/time/utils.py:181: RuntimeWarning: invalid value encountered in double_scalars\n",
      "  ah = c - abig\n",
      "/home/lingrui/.local/lib/python3.10/site-packages/astropy/time/utils.py:179: RuntimeWarning: overflow encountered in double_scalars\n",
      "  c = 134217729. * a  # 2**27+1.\n",
      "/home/lingrui/.local/lib/python3.10/site-packages/astropy/time/utils.py:181: RuntimeWarning: invalid value encountered in double_scalars\n",
      "  ah = c - abig\n",
      "/home/lingrui/.local/lib/python3.10/site-packages/astropy/time/utils.py:179: RuntimeWarning: overflow encountered in double_scalars\n",
      "  c = 134217729. * a  # 2**27+1.\n",
      "/home/lingrui/.local/lib/python3.10/site-packages/astropy/time/utils.py:181: RuntimeWarning: invalid value encountered in double_scalars\n",
      "  ah = c - abig\n"
     ]
    },
    {
     "name": "stdout",
     "output_type": "stream",
     "text": [
      "Dealing with Tsys_psr_Sun17_A_04_M01-M01_211113_090800to211113_092148.fits\n",
      "Dealing with Tsys_psr_Sun17_A_04_M02-M02_211113_090800to211113_092148.fits\n",
      "Dealing with Tsys_psr_Sun17_A_04_M03-M03_211113_090800to211113_092148.fits\n",
      "Dealing with Tsys_psr_Sun17_A_04_M04-M04_211113_090800to211113_092148.fits\n",
      "Dealing with Tsys_psr_Sun17_A_04_M05-M05_211113_090800to211113_092148.fits\n",
      "Dealing with Tsys_psr_Sun17_A_04_M06-M06_211113_090800to211113_092148.fits\n",
      "Dealing with Tsys_psr_Sun17_A_04_M07-M07_211113_090800to211113_092148.fits\n",
      "Dealing with Tsys_psr_Sun17_A_04_M08-M08_211113_090800to211113_092148.fits\n",
      "Dealing with Tsys_psr_Sun17_A_04_M09-M09_211113_090800to211113_092148.fits\n",
      "Dealing with Tsys_psr_Sun17_A_04_M10-M10_211113_090800to211113_092148.fits\n",
      "Dealing with Tsys_psr_Sun17_A_04_M11-M11_211113_090800to211113_092148.fits\n",
      "Dealing with Tsys_psr_Sun17_A_04_M12-M12_211113_090800to211113_092148.fits\n",
      "Dealing with Tsys_psr_Sun17_A_04_M13-M13_211113_090800to211113_092148.fits\n",
      "Dealing with Tsys_psr_Sun17_A_04_M14-M14_211113_090800to211113_092148.fits\n",
      "Dealing with Tsys_psr_Sun17_A_04_M15-M15_211113_090800to211113_092148.fits\n",
      "Dealing with Tsys_psr_Sun17_A_04_M16-M16_211113_090800to211113_092148.fits\n",
      "Dealing with Tsys_psr_Sun17_A_04_M17-M17_211113_090800to211113_092148.fits\n",
      "Dealing with Tsys_psr_Sun17_A_04_M18-M18_211113_090800to211113_092148.fits\n",
      "Dealing with Tsys_psr_Sun17_A_04_M19-M19_211113_090800to211113_092148.fits\n"
     ]
    },
    {
     "name": "stderr",
     "output_type": "stream",
     "text": [
      "/home/lingrui/.local/lib/python3.10/site-packages/astropy/time/utils.py:179: RuntimeWarning: overflow encountered in double_scalars\n",
      "  c = 134217729. * a  # 2**27+1.\n",
      "/home/lingrui/.local/lib/python3.10/site-packages/astropy/time/utils.py:181: RuntimeWarning: invalid value encountered in double_scalars\n",
      "  ah = c - abig\n",
      "/home/lingrui/.local/lib/python3.10/site-packages/astropy/time/utils.py:179: RuntimeWarning: overflow encountered in double_scalars\n",
      "  c = 134217729. * a  # 2**27+1.\n",
      "/home/lingrui/.local/lib/python3.10/site-packages/astropy/time/utils.py:181: RuntimeWarning: invalid value encountered in double_scalars\n",
      "  ah = c - abig\n",
      "/home/lingrui/.local/lib/python3.10/site-packages/astropy/time/utils.py:179: RuntimeWarning: overflow encountered in double_scalars\n",
      "  c = 134217729. * a  # 2**27+1.\n",
      "/home/lingrui/.local/lib/python3.10/site-packages/astropy/time/utils.py:179: RuntimeWarning: overflow encountered in double_scalars\n",
      "  c = 134217729. * a  # 2**27+1.\n",
      "/home/lingrui/.local/lib/python3.10/site-packages/astropy/time/utils.py:181: RuntimeWarning: invalid value encountered in double_scalars\n",
      "  ah = c - abig\n",
      "/home/lingrui/.local/lib/python3.10/site-packages/astropy/time/utils.py:181: RuntimeWarning: invalid value encountered in double_scalars\n",
      "  ah = c - abig\n",
      "/home/lingrui/.local/lib/python3.10/site-packages/astropy/time/utils.py:179: RuntimeWarning: overflow encountered in double_scalars\n",
      "  c = 134217729. * a  # 2**27+1.\n",
      "/home/lingrui/.local/lib/python3.10/site-packages/astropy/time/utils.py:181: RuntimeWarning: invalid value encountered in double_scalars\n",
      "  ah = c - abig\n",
      "/home/lingrui/.local/lib/python3.10/site-packages/astropy/time/utils.py:179: RuntimeWarning: overflow encountered in double_scalars\n",
      "  c = 134217729. * a  # 2**27+1.\n",
      "/home/lingrui/.local/lib/python3.10/site-packages/astropy/time/utils.py:179: RuntimeWarning: overflow encountered in double_scalars\n",
      "  c = 134217729. * a  # 2**27+1.\n",
      "/home/lingrui/.local/lib/python3.10/site-packages/astropy/time/utils.py:181: RuntimeWarning: invalid value encountered in double_scalars\n",
      "  ah = c - abig\n",
      "/home/lingrui/.local/lib/python3.10/site-packages/astropy/time/utils.py:179: RuntimeWarning: overflow encountered in double_scalars\n",
      "  c = 134217729. * a  # 2**27+1.\n",
      "/home/lingrui/.local/lib/python3.10/site-packages/astropy/time/utils.py:181: RuntimeWarning: invalid value encountered in double_scalars\n",
      "  ah = c - abig\n",
      "/home/lingrui/.local/lib/python3.10/site-packages/astropy/time/utils.py:181: RuntimeWarning: invalid value encountered in double_scalars\n",
      "  ah = c - abig\n",
      "/home/lingrui/.local/lib/python3.10/site-packages/astropy/time/utils.py:179: RuntimeWarning: overflow encountered in double_scalars\n",
      "  c = 134217729. * a  # 2**27+1.\n",
      "/home/lingrui/.local/lib/python3.10/site-packages/astropy/time/utils.py:181: RuntimeWarning: invalid value encountered in double_scalars\n",
      "  ah = c - abig\n",
      "/home/lingrui/.local/lib/python3.10/site-packages/astropy/time/utils.py:179: RuntimeWarning: overflow encountered in double_scalars\n",
      "  c = 134217729. * a  # 2**27+1.\n",
      "/home/lingrui/.local/lib/python3.10/site-packages/astropy/time/utils.py:179: RuntimeWarning: overflow encountered in double_scalars\n",
      "  c = 134217729. * a  # 2**27+1.\n",
      "/home/lingrui/.local/lib/python3.10/site-packages/astropy/time/utils.py:181: RuntimeWarning: invalid value encountered in double_scalars\n",
      "  ah = c - abig\n",
      "/home/lingrui/.local/lib/python3.10/site-packages/astropy/time/utils.py:181: RuntimeWarning: invalid value encountered in double_scalars\n",
      "  ah = c - abig\n",
      "/home/lingrui/.local/lib/python3.10/site-packages/astropy/time/utils.py:179: RuntimeWarning: overflow encountered in double_scalars\n",
      "  c = 134217729. * a  # 2**27+1.\n",
      "/home/lingrui/.local/lib/python3.10/site-packages/astropy/time/utils.py:181: RuntimeWarning: invalid value encountered in double_scalars\n",
      "  ah = c - abig\n",
      "/home/lingrui/.local/lib/python3.10/site-packages/astropy/time/utils.py:179: RuntimeWarning: overflow encountered in double_scalars\n",
      "  c = 134217729. * a  # 2**27+1.\n",
      "/home/lingrui/.local/lib/python3.10/site-packages/astropy/time/utils.py:181: RuntimeWarning: invalid value encountered in double_scalars\n",
      "  ah = c - abig\n",
      "/home/lingrui/.local/lib/python3.10/site-packages/astropy/time/utils.py:179: RuntimeWarning: overflow encountered in double_scalars\n",
      "  c = 134217729. * a  # 2**27+1.\n",
      "/home/lingrui/.local/lib/python3.10/site-packages/astropy/time/utils.py:179: RuntimeWarning: overflow encountered in double_scalars\n",
      "  c = 134217729. * a  # 2**27+1.\n",
      "/home/lingrui/.local/lib/python3.10/site-packages/astropy/time/utils.py:181: RuntimeWarning: invalid value encountered in double_scalars\n",
      "  ah = c - abig\n",
      "/home/lingrui/.local/lib/python3.10/site-packages/astropy/time/utils.py:181: RuntimeWarning: invalid value encountered in double_scalars\n",
      "  ah = c - abig\n",
      "/home/lingrui/.local/lib/python3.10/site-packages/astropy/time/utils.py:179: RuntimeWarning: overflow encountered in double_scalars\n",
      "  c = 134217729. * a  # 2**27+1.\n",
      "/home/lingrui/.local/lib/python3.10/site-packages/astropy/time/utils.py:179: RuntimeWarning: overflow encountered in double_scalars\n",
      "  c = 134217729. * a  # 2**27+1.\n",
      "/home/lingrui/.local/lib/python3.10/site-packages/astropy/time/utils.py:181: RuntimeWarning: invalid value encountered in double_scalars\n",
      "  ah = c - abig\n",
      "/home/lingrui/.local/lib/python3.10/site-packages/astropy/time/utils.py:181: RuntimeWarning: invalid value encountered in double_scalars\n",
      "  ah = c - abig\n",
      "/home/lingrui/.local/lib/python3.10/site-packages/astropy/time/utils.py:179: RuntimeWarning: overflow encountered in double_scalars\n",
      "  c = 134217729. * a  # 2**27+1.\n",
      "/home/lingrui/.local/lib/python3.10/site-packages/astropy/time/utils.py:181: RuntimeWarning: invalid value encountered in double_scalars\n",
      "  ah = c - abig\n",
      "/home/lingrui/.local/lib/python3.10/site-packages/astropy/time/utils.py:179: RuntimeWarning: overflow encountered in double_scalars\n",
      "  c = 134217729. * a  # 2**27+1.\n",
      "/home/lingrui/.local/lib/python3.10/site-packages/astropy/time/utils.py:181: RuntimeWarning: invalid value encountered in double_scalars\n",
      "  ah = c - abig\n"
     ]
    },
    {
     "name": "stdout",
     "output_type": "stream",
     "text": [
      "Dealing with Tsys_psr_Sun17_A_05_M01-M01_211023_103700to211023_105048.fits\n",
      "Dealing with Tsys_psr_Sun17_A_05_M02-M02_211023_103700to211023_105048.fitsDealing with Tsys_psr_Sun17_A_05_M03-M03_211023_103700to211023_105048.fits\n",
      "\n",
      "Dealing with Tsys_psr_Sun17_A_05_M04-M04_211023_103700to211023_105048.fits\n",
      "Dealing with Tsys_psr_Sun17_A_05_M05-M05_211023_103700to211023_105048.fits\n",
      "Dealing with Tsys_psr_Sun17_A_05_M06-M06_211023_103700to211023_105048.fits\n",
      "Dealing with Tsys_psr_Sun17_A_05_M07-M07_211023_103700to211023_105048.fits\n",
      "Dealing with Tsys_psr_Sun17_A_05_M08-M08_211023_103700to211023_105048.fits\n",
      "Dealing with Tsys_psr_Sun17_A_05_M09-M09_211023_103700to211023_105048.fits\n",
      "Dealing with Tsys_psr_Sun17_A_05_M10-M10_211023_103700to211023_105048.fits\n",
      "Dealing with Tsys_psr_Sun17_A_05_M11-M11_211023_103700to211023_105048.fits\n",
      "Dealing with Tsys_psr_Sun17_A_05_M12-M12_211023_103700to211023_105048.fits\n",
      "Dealing with Tsys_psr_Sun17_A_05_M13-M13_211023_103700to211023_105048.fits\n",
      "Dealing with Tsys_psr_Sun17_A_05_M14-M14_211023_103700to211023_105048.fitsDealing with Tsys_psr_Sun17_A_05_M15-M15_211023_103700to211023_105048.fits\n",
      "Dealing with Tsys_psr_Sun17_A_05_M16-M16_211023_103700to211023_105048.fits\n",
      "\n",
      "Dealing with Tsys_psr_Sun17_A_05_M17-M17_211023_103700to211023_105048.fits\n",
      "Dealing with Tsys_psr_Sun17_A_05_M18-M18_211023_103700to211023_105048.fits\n",
      "Dealing with Tsys_psr_Sun17_A_05_M19-M19_211023_103700to211023_105048.fits\n"
     ]
    },
    {
     "name": "stderr",
     "output_type": "stream",
     "text": [
      "/home/lingrui/.local/lib/python3.10/site-packages/astropy/time/utils.py:179: RuntimeWarning: overflow encountered in double_scalars\n",
      "  c = 134217729. * a  # 2**27+1.\n",
      "/home/lingrui/.local/lib/python3.10/site-packages/astropy/time/utils.py:181: RuntimeWarning: invalid value encountered in double_scalars\n",
      "  ah = c - abig\n",
      "/home/lingrui/.local/lib/python3.10/site-packages/astropy/time/utils.py:179: RuntimeWarning: overflow encountered in double_scalars\n",
      "  c = 134217729. * a  # 2**27+1.\n",
      "/home/lingrui/.local/lib/python3.10/site-packages/astropy/time/utils.py:181: RuntimeWarning: invalid value encountered in double_scalars\n",
      "  ah = c - abig\n",
      "/home/lingrui/.local/lib/python3.10/site-packages/astropy/time/utils.py:179: RuntimeWarning: overflow encountered in double_scalars\n",
      "  c = 134217729. * a  # 2**27+1.\n",
      "/home/lingrui/.local/lib/python3.10/site-packages/astropy/time/utils.py:179: RuntimeWarning: overflow encountered in double_scalars\n",
      "  c = 134217729. * a  # 2**27+1.\n",
      "/home/lingrui/.local/lib/python3.10/site-packages/astropy/time/utils.py:179: RuntimeWarning: overflow encountered in double_scalars\n",
      "  c = 134217729. * a  # 2**27+1.\n",
      "/home/lingrui/.local/lib/python3.10/site-packages/astropy/time/utils.py:181: RuntimeWarning: invalid value encountered in double_scalars\n",
      "  ah = c - abig\n",
      "/home/lingrui/.local/lib/python3.10/site-packages/astropy/time/utils.py:181: RuntimeWarning: invalid value encountered in double_scalars\n",
      "  ah = c - abig\n",
      "/home/lingrui/.local/lib/python3.10/site-packages/astropy/time/utils.py:181: RuntimeWarning: invalid value encountered in double_scalars\n",
      "  ah = c - abig\n",
      "/home/lingrui/.local/lib/python3.10/site-packages/astropy/time/utils.py:179: RuntimeWarning: overflow encountered in double_scalars\n",
      "  c = 134217729. * a  # 2**27+1.\n",
      "/home/lingrui/.local/lib/python3.10/site-packages/astropy/time/utils.py:181: RuntimeWarning: invalid value encountered in double_scalars\n",
      "  ah = c - abig\n",
      "/home/lingrui/.local/lib/python3.10/site-packages/astropy/time/utils.py:179: RuntimeWarning: overflow encountered in double_scalars\n",
      "  c = 134217729. * a  # 2**27+1.\n",
      "/home/lingrui/.local/lib/python3.10/site-packages/astropy/time/utils.py:181: RuntimeWarning: invalid value encountered in double_scalars\n",
      "  ah = c - abig\n",
      "/home/lingrui/.local/lib/python3.10/site-packages/astropy/time/utils.py:179: RuntimeWarning: overflow encountered in double_scalars\n",
      "  c = 134217729. * a  # 2**27+1.\n",
      "/home/lingrui/.local/lib/python3.10/site-packages/astropy/time/utils.py:181: RuntimeWarning: invalid value encountered in double_scalars\n",
      "  ah = c - abig\n",
      "/home/lingrui/.local/lib/python3.10/site-packages/astropy/time/utils.py:179: RuntimeWarning: overflow encountered in double_scalars\n",
      "  c = 134217729. * a  # 2**27+1.\n",
      "/home/lingrui/.local/lib/python3.10/site-packages/astropy/time/utils.py:181: RuntimeWarning: invalid value encountered in double_scalars\n",
      "  ah = c - abig\n",
      "/home/lingrui/.local/lib/python3.10/site-packages/astropy/time/utils.py:179: RuntimeWarning: overflow encountered in double_scalars\n",
      "  c = 134217729. * a  # 2**27+1.\n",
      "/home/lingrui/.local/lib/python3.10/site-packages/astropy/time/utils.py:181: RuntimeWarning: invalid value encountered in double_scalars\n",
      "  ah = c - abig\n",
      "/home/lingrui/.local/lib/python3.10/site-packages/astropy/time/utils.py:179: RuntimeWarning: overflow encountered in double_scalars\n",
      "  c = 134217729. * a  # 2**27+1.\n",
      "/home/lingrui/.local/lib/python3.10/site-packages/astropy/time/utils.py:181: RuntimeWarning: invalid value encountered in double_scalars\n",
      "  ah = c - abig\n",
      "/home/lingrui/.local/lib/python3.10/site-packages/astropy/time/utils.py:179: RuntimeWarning: overflow encountered in double_scalars\n",
      "  c = 134217729. * a  # 2**27+1.\n",
      "/home/lingrui/.local/lib/python3.10/site-packages/astropy/time/utils.py:181: RuntimeWarning: invalid value encountered in double_scalars\n",
      "  ah = c - abig\n",
      "/home/lingrui/.local/lib/python3.10/site-packages/astropy/time/utils.py:179: RuntimeWarning: overflow encountered in double_scalars\n",
      "  c = 134217729. * a  # 2**27+1.\n",
      "/home/lingrui/.local/lib/python3.10/site-packages/astropy/time/utils.py:181: RuntimeWarning: invalid value encountered in double_scalars\n",
      "  ah = c - abig\n",
      "/home/lingrui/.local/lib/python3.10/site-packages/astropy/time/utils.py:179: RuntimeWarning: overflow encountered in double_scalars\n",
      "  c = 134217729. * a  # 2**27+1.\n",
      "/home/lingrui/.local/lib/python3.10/site-packages/astropy/time/utils.py:181: RuntimeWarning: invalid value encountered in double_scalars\n",
      "  ah = c - abig\n",
      "/home/lingrui/.local/lib/python3.10/site-packages/astropy/time/utils.py:179: RuntimeWarning: overflow encountered in double_scalars\n",
      "  c = 134217729. * a  # 2**27+1.\n",
      "/home/lingrui/.local/lib/python3.10/site-packages/astropy/time/utils.py:181: RuntimeWarning: invalid value encountered in double_scalars\n",
      "  ah = c - abig\n",
      "/home/lingrui/.local/lib/python3.10/site-packages/astropy/time/utils.py:179: RuntimeWarning: overflow encountered in double_scalars\n",
      "  c = 134217729. * a  # 2**27+1.\n",
      "/home/lingrui/.local/lib/python3.10/site-packages/astropy/time/utils.py:179: RuntimeWarning: overflow encountered in double_scalars\n",
      "  c = 134217729. * a  # 2**27+1.\n",
      "/home/lingrui/.local/lib/python3.10/site-packages/astropy/time/utils.py:181: RuntimeWarning: invalid value encountered in double_scalars\n",
      "  ah = c - abig\n",
      "/home/lingrui/.local/lib/python3.10/site-packages/astropy/time/utils.py:181: RuntimeWarning: invalid value encountered in double_scalars\n",
      "  ah = c - abig\n",
      "/home/lingrui/.local/lib/python3.10/site-packages/astropy/time/utils.py:179: RuntimeWarning: overflow encountered in double_scalars\n",
      "  c = 134217729. * a  # 2**27+1.\n",
      "/home/lingrui/.local/lib/python3.10/site-packages/astropy/time/utils.py:181: RuntimeWarning: invalid value encountered in double_scalars\n",
      "  ah = c - abig\n",
      "/home/lingrui/.local/lib/python3.10/site-packages/astropy/time/utils.py:179: RuntimeWarning: overflow encountered in double_scalars\n",
      "  c = 134217729. * a  # 2**27+1.\n",
      "/home/lingrui/.local/lib/python3.10/site-packages/astropy/time/utils.py:181: RuntimeWarning: invalid value encountered in double_scalars\n",
      "  ah = c - abig\n"
     ]
    },
    {
     "name": "stdout",
     "output_type": "stream",
     "text": [
      "Dealing with Tsys_psr_Sun17_A_06_M01-M01_211112_064100to211112_065448.fits\n",
      "Dealing with Tsys_psr_Sun17_A_06_M02-M02_211112_064100to211112_065448.fitsDealing with Tsys_psr_Sun17_A_06_M03-M03_211112_064100to211112_065448.fits\n",
      "\n",
      "Dealing with Tsys_psr_Sun17_A_06_M04-M04_211112_064100to211112_065448.fits\n",
      "Dealing with Tsys_psr_Sun17_A_06_M05-M05_211112_064100to211112_065448.fits\n",
      "Dealing with Tsys_psr_Sun17_A_06_M06-M06_211112_064100to211112_065448.fits\n",
      "Dealing with Tsys_psr_Sun17_A_06_M07-M07_211112_064100to211112_065448.fits\n",
      "Dealing with Tsys_psr_Sun17_A_06_M08-M08_211112_064100to211112_065448.fits\n",
      "Dealing with Tsys_psr_Sun17_A_06_M09-M09_211112_064100to211112_065448.fits\n",
      "Dealing with Tsys_psr_Sun17_A_06_M10-M10_211112_064100to211112_065448.fits\n",
      "Dealing with Tsys_psr_Sun17_A_06_M11-M11_211112_064100to211112_065448.fits\n",
      "Dealing with Tsys_psr_Sun17_A_06_M12-M12_211112_064100to211112_065448.fits\n",
      "Dealing with Tsys_psr_Sun17_A_06_M13-M13_211112_064100to211112_065448.fits\n",
      "Dealing with Tsys_psr_Sun17_A_06_M14-M14_211112_064100to211112_065448.fits\n",
      "Dealing with Tsys_psr_Sun17_A_06_M15-M15_211112_064100to211112_065448.fits\n",
      "Dealing with Tsys_psr_Sun17_A_06_M16-M16_211112_064100to211112_065448.fits\n",
      "Dealing with Tsys_psr_Sun17_A_06_M17-M17_211112_064100to211112_065448.fits\n",
      "Dealing with Tsys_psr_Sun17_A_06_M18-M18_211112_064100to211112_065448.fits\n",
      "Dealing with Tsys_psr_Sun17_A_06_M19-M19_211112_064100to211112_065448.fits\n"
     ]
    },
    {
     "name": "stderr",
     "output_type": "stream",
     "text": [
      "/home/lingrui/.local/lib/python3.10/site-packages/astropy/time/utils.py:179: RuntimeWarning: overflow encountered in double_scalars\n",
      "  c = 134217729. * a  # 2**27+1.\n",
      "/home/lingrui/.local/lib/python3.10/site-packages/astropy/time/utils.py:181: RuntimeWarning: invalid value encountered in double_scalars\n",
      "  ah = c - abig\n",
      "/home/lingrui/.local/lib/python3.10/site-packages/astropy/time/utils.py:179: RuntimeWarning: overflow encountered in double_scalars\n",
      "  c = 134217729. * a  # 2**27+1.\n",
      "/home/lingrui/.local/lib/python3.10/site-packages/astropy/time/utils.py:181: RuntimeWarning: invalid value encountered in double_scalars\n",
      "  ah = c - abig\n",
      "/home/lingrui/.local/lib/python3.10/site-packages/astropy/time/utils.py:179: RuntimeWarning: overflow encountered in double_scalars\n",
      "  c = 134217729. * a  # 2**27+1.\n",
      "/home/lingrui/.local/lib/python3.10/site-packages/astropy/time/utils.py:181: RuntimeWarning: invalid value encountered in double_scalars\n",
      "  ah = c - abig\n",
      "/home/lingrui/.local/lib/python3.10/site-packages/astropy/time/utils.py:179: RuntimeWarning: overflow encountered in double_scalars\n",
      "  c = 134217729. * a  # 2**27+1.\n",
      "/home/lingrui/.local/lib/python3.10/site-packages/astropy/time/utils.py:179: RuntimeWarning: overflow encountered in double_scalars\n",
      "  c = 134217729. * a  # 2**27+1.\n",
      "/home/lingrui/.local/lib/python3.10/site-packages/astropy/time/utils.py:181: RuntimeWarning: invalid value encountered in double_scalars\n",
      "  ah = c - abig\n",
      "/home/lingrui/.local/lib/python3.10/site-packages/astropy/time/utils.py:181: RuntimeWarning: invalid value encountered in double_scalars\n",
      "  ah = c - abig\n",
      "/home/lingrui/.local/lib/python3.10/site-packages/astropy/time/utils.py:179: RuntimeWarning: overflow encountered in double_scalars\n",
      "  c = 134217729. * a  # 2**27+1.\n",
      "/home/lingrui/.local/lib/python3.10/site-packages/astropy/time/utils.py:181: RuntimeWarning: invalid value encountered in double_scalars\n",
      "  ah = c - abig\n",
      "/home/lingrui/.local/lib/python3.10/site-packages/astropy/time/utils.py:179: RuntimeWarning: overflow encountered in double_scalars\n",
      "  c = 134217729. * a  # 2**27+1.\n",
      "/home/lingrui/.local/lib/python3.10/site-packages/astropy/time/utils.py:181: RuntimeWarning: invalid value encountered in double_scalars\n",
      "  ah = c - abig\n",
      "/home/lingrui/.local/lib/python3.10/site-packages/astropy/time/utils.py:179: RuntimeWarning: overflow encountered in double_scalars\n",
      "  c = 134217729. * a  # 2**27+1.\n",
      "/home/lingrui/.local/lib/python3.10/site-packages/astropy/time/utils.py:181: RuntimeWarning: invalid value encountered in double_scalars\n",
      "  ah = c - abig\n",
      "/home/lingrui/.local/lib/python3.10/site-packages/astropy/time/utils.py:179: RuntimeWarning: overflow encountered in double_scalars\n",
      "  c = 134217729. * a  # 2**27+1.\n",
      "/home/lingrui/.local/lib/python3.10/site-packages/astropy/time/utils.py:181: RuntimeWarning: invalid value encountered in double_scalars\n",
      "  ah = c - abig\n",
      "/home/lingrui/.local/lib/python3.10/site-packages/astropy/time/utils.py:179: RuntimeWarning: overflow encountered in double_scalars\n",
      "  c = 134217729. * a  # 2**27+1.\n",
      "/home/lingrui/.local/lib/python3.10/site-packages/astropy/time/utils.py:181: RuntimeWarning: invalid value encountered in double_scalars\n",
      "  ah = c - abig\n",
      "/home/lingrui/.local/lib/python3.10/site-packages/astropy/time/utils.py:179: RuntimeWarning: overflow encountered in double_scalars\n",
      "  c = 134217729. * a  # 2**27+1.\n",
      "/home/lingrui/.local/lib/python3.10/site-packages/astropy/time/utils.py:181: RuntimeWarning: invalid value encountered in double_scalars\n",
      "  ah = c - abig\n",
      "/home/lingrui/.local/lib/python3.10/site-packages/astropy/time/utils.py:179: RuntimeWarning: overflow encountered in double_scalars\n",
      "  c = 134217729. * a  # 2**27+1.\n",
      "/home/lingrui/.local/lib/python3.10/site-packages/astropy/time/utils.py:181: RuntimeWarning: invalid value encountered in double_scalars\n",
      "  ah = c - abig\n",
      "/home/lingrui/.local/lib/python3.10/site-packages/astropy/time/utils.py:179: RuntimeWarning: overflow encountered in double_scalars\n",
      "  c = 134217729. * a  # 2**27+1.\n",
      "/home/lingrui/.local/lib/python3.10/site-packages/astropy/time/utils.py:181: RuntimeWarning: invalid value encountered in double_scalars\n",
      "  ah = c - abig\n",
      "/home/lingrui/.local/lib/python3.10/site-packages/astropy/time/utils.py:179: RuntimeWarning: overflow encountered in double_scalars\n",
      "  c = 134217729. * a  # 2**27+1.\n",
      "/home/lingrui/.local/lib/python3.10/site-packages/astropy/time/utils.py:181: RuntimeWarning: invalid value encountered in double_scalars\n",
      "  ah = c - abig\n",
      "/home/lingrui/.local/lib/python3.10/site-packages/astropy/time/utils.py:179: RuntimeWarning: overflow encountered in double_scalars\n",
      "  c = 134217729. * a  # 2**27+1.\n",
      "/home/lingrui/.local/lib/python3.10/site-packages/astropy/time/utils.py:181: RuntimeWarning: invalid value encountered in double_scalars\n",
      "  ah = c - abig\n",
      "/home/lingrui/.local/lib/python3.10/site-packages/astropy/time/utils.py:179: RuntimeWarning: overflow encountered in double_scalars\n",
      "  c = 134217729. * a  # 2**27+1.\n",
      "/home/lingrui/.local/lib/python3.10/site-packages/astropy/time/utils.py:179: RuntimeWarning: overflow encountered in double_scalars\n",
      "  c = 134217729. * a  # 2**27+1.\n",
      "/home/lingrui/.local/lib/python3.10/site-packages/astropy/time/utils.py:181: RuntimeWarning: invalid value encountered in double_scalars\n",
      "  ah = c - abig\n",
      "/home/lingrui/.local/lib/python3.10/site-packages/astropy/time/utils.py:181: RuntimeWarning: invalid value encountered in double_scalars\n",
      "  ah = c - abig\n",
      "/home/lingrui/.local/lib/python3.10/site-packages/astropy/time/utils.py:179: RuntimeWarning: overflow encountered in double_scalars\n",
      "  c = 134217729. * a  # 2**27+1.\n",
      "/home/lingrui/.local/lib/python3.10/site-packages/astropy/time/utils.py:181: RuntimeWarning: invalid value encountered in double_scalars\n",
      "  ah = c - abig\n",
      "/home/lingrui/.local/lib/python3.10/site-packages/astropy/time/utils.py:179: RuntimeWarning: overflow encountered in double_scalars\n",
      "  c = 134217729. * a  # 2**27+1.\n",
      "/home/lingrui/.local/lib/python3.10/site-packages/astropy/time/utils.py:181: RuntimeWarning: invalid value encountered in double_scalars\n",
      "  ah = c - abig\n"
     ]
    },
    {
     "name": "stdout",
     "output_type": "stream",
     "text": [
      "Dealing with Tsys_psr_Sun17_A_07_M01-M01_211112_070500to211112_071848.fits\n",
      "Dealing with Tsys_psr_Sun17_A_07_M02-M02_211112_070500to211112_071848.fitsDealing with Tsys_psr_Sun17_A_07_M03-M03_211112_070500to211112_071848.fits\n",
      "\n",
      "Dealing with Tsys_psr_Sun17_A_07_M04-M04_211112_070500to211112_071848.fits\n",
      "Dealing with Tsys_psr_Sun17_A_07_M05-M05_211112_070500to211112_071848.fits\n",
      "Dealing with Tsys_psr_Sun17_A_07_M06-M06_211112_070500to211112_071848.fits\n",
      "Dealing with Tsys_psr_Sun17_A_07_M07-M07_211112_070500to211112_071848.fits\n",
      "Dealing with Tsys_psr_Sun17_A_07_M08-M08_211112_070500to211112_071848.fits\n",
      "Dealing with Tsys_psr_Sun17_A_07_M09-M09_211112_070500to211112_071848.fits\n",
      "Dealing with Tsys_psr_Sun17_A_07_M10-M10_211112_070500to211112_071848.fits\n",
      "Dealing with Tsys_psr_Sun17_A_07_M11-M11_211112_070500to211112_071848.fits\n",
      "Dealing with Tsys_psr_Sun17_A_07_M12-M12_211112_070500to211112_071848.fits\n",
      "Dealing with Tsys_psr_Sun17_A_07_M13-M13_211112_070500to211112_071848.fits\n",
      "Dealing with Tsys_psr_Sun17_A_07_M14-M14_211112_070500to211112_071848.fits\n",
      "Dealing with Tsys_psr_Sun17_A_07_M15-M15_211112_070500to211112_071848.fits\n",
      "Dealing with Tsys_psr_Sun17_A_07_M16-M16_211112_070500to211112_071848.fits\n",
      "Dealing with Tsys_psr_Sun17_A_07_M17-M17_211112_070500to211112_071848.fits\n",
      "Dealing with Tsys_psr_Sun17_A_07_M18-M18_211112_070500to211112_071848.fits\n",
      "Dealing with Tsys_psr_Sun17_A_07_M19-M19_211112_070500to211112_071848.fits\n"
     ]
    },
    {
     "name": "stderr",
     "output_type": "stream",
     "text": [
      "/home/lingrui/.local/lib/python3.10/site-packages/astropy/time/utils.py:179: RuntimeWarning: overflow encountered in double_scalars\n",
      "  c = 134217729. * a  # 2**27+1.\n",
      "/home/lingrui/.local/lib/python3.10/site-packages/astropy/time/utils.py:181: RuntimeWarning: invalid value encountered in double_scalars\n",
      "  ah = c - abig\n",
      "/home/lingrui/.local/lib/python3.10/site-packages/astropy/time/utils.py:179: RuntimeWarning: overflow encountered in double_scalars\n",
      "  c = 134217729. * a  # 2**27+1.\n",
      "/home/lingrui/.local/lib/python3.10/site-packages/astropy/time/utils.py:181: RuntimeWarning: invalid value encountered in double_scalars\n",
      "  ah = c - abig\n",
      "/home/lingrui/.local/lib/python3.10/site-packages/astropy/time/utils.py:179: RuntimeWarning: overflow encountered in double_scalars\n",
      "  c = 134217729. * a  # 2**27+1.\n",
      "/home/lingrui/.local/lib/python3.10/site-packages/astropy/time/utils.py:181: RuntimeWarning: invalid value encountered in double_scalars\n",
      "  ah = c - abig\n",
      "/home/lingrui/.local/lib/python3.10/site-packages/astropy/time/utils.py:179: RuntimeWarning: overflow encountered in double_scalars\n",
      "  c = 134217729. * a  # 2**27+1.\n",
      "/home/lingrui/.local/lib/python3.10/site-packages/astropy/time/utils.py:181: RuntimeWarning: invalid value encountered in double_scalars\n",
      "  ah = c - abig\n",
      "/home/lingrui/.local/lib/python3.10/site-packages/astropy/time/utils.py:179: RuntimeWarning: overflow encountered in double_scalars\n",
      "  c = 134217729. * a  # 2**27+1.\n",
      "/home/lingrui/.local/lib/python3.10/site-packages/astropy/time/utils.py:181: RuntimeWarning: invalid value encountered in double_scalars\n",
      "  ah = c - abig\n",
      "/home/lingrui/.local/lib/python3.10/site-packages/astropy/time/utils.py:179: RuntimeWarning: overflow encountered in double_scalars\n",
      "  c = 134217729. * a  # 2**27+1.\n",
      "/home/lingrui/.local/lib/python3.10/site-packages/astropy/time/utils.py:181: RuntimeWarning: invalid value encountered in double_scalars\n",
      "  ah = c - abig\n",
      "/home/lingrui/.local/lib/python3.10/site-packages/astropy/time/utils.py:179: RuntimeWarning: overflow encountered in double_scalars\n",
      "  c = 134217729. * a  # 2**27+1.\n",
      "/home/lingrui/.local/lib/python3.10/site-packages/astropy/time/utils.py:181: RuntimeWarning: invalid value encountered in double_scalars\n",
      "  ah = c - abig\n",
      "/home/lingrui/.local/lib/python3.10/site-packages/astropy/time/utils.py:179: RuntimeWarning: overflow encountered in double_scalars\n",
      "  c = 134217729. * a  # 2**27+1.\n",
      "/home/lingrui/.local/lib/python3.10/site-packages/astropy/time/utils.py:181: RuntimeWarning: invalid value encountered in double_scalars\n",
      "  ah = c - abig\n",
      "/home/lingrui/.local/lib/python3.10/site-packages/astropy/time/utils.py:179: RuntimeWarning: overflow encountered in double_scalars\n",
      "  c = 134217729. * a  # 2**27+1.\n",
      "/home/lingrui/.local/lib/python3.10/site-packages/astropy/time/utils.py:181: RuntimeWarning: invalid value encountered in double_scalars\n",
      "  ah = c - abig\n",
      "/home/lingrui/.local/lib/python3.10/site-packages/astropy/time/utils.py:179: RuntimeWarning: overflow encountered in double_scalars\n",
      "  c = 134217729. * a  # 2**27+1.\n",
      "/home/lingrui/.local/lib/python3.10/site-packages/astropy/time/utils.py:179: RuntimeWarning: overflow encountered in double_scalars\n",
      "  c = 134217729. * a  # 2**27+1.\n",
      "/home/lingrui/.local/lib/python3.10/site-packages/astropy/time/utils.py:179: RuntimeWarning: overflow encountered in double_scalars\n",
      "  c = 134217729. * a  # 2**27+1.\n",
      "/home/lingrui/.local/lib/python3.10/site-packages/astropy/time/utils.py:181: RuntimeWarning: invalid value encountered in double_scalars\n",
      "  ah = c - abig\n",
      "/home/lingrui/.local/lib/python3.10/site-packages/astropy/time/utils.py:181: RuntimeWarning: invalid value encountered in double_scalars\n",
      "  ah = c - abig\n",
      "/home/lingrui/.local/lib/python3.10/site-packages/astropy/time/utils.py:181: RuntimeWarning: invalid value encountered in double_scalars\n",
      "  ah = c - abig\n",
      "/home/lingrui/.local/lib/python3.10/site-packages/astropy/time/utils.py:179: RuntimeWarning: overflow encountered in double_scalars\n",
      "  c = 134217729. * a  # 2**27+1.\n",
      "/home/lingrui/.local/lib/python3.10/site-packages/astropy/time/utils.py:181: RuntimeWarning: invalid value encountered in double_scalars\n",
      "  ah = c - abig\n",
      "/home/lingrui/.local/lib/python3.10/site-packages/astropy/time/utils.py:179: RuntimeWarning: overflow encountered in double_scalars\n",
      "  c = 134217729. * a  # 2**27+1.\n",
      "/home/lingrui/.local/lib/python3.10/site-packages/astropy/time/utils.py:181: RuntimeWarning: invalid value encountered in double_scalars\n",
      "  ah = c - abig\n",
      "/home/lingrui/.local/lib/python3.10/site-packages/astropy/time/utils.py:179: RuntimeWarning: overflow encountered in double_scalars\n",
      "  c = 134217729. * a  # 2**27+1.\n",
      "/home/lingrui/.local/lib/python3.10/site-packages/astropy/time/utils.py:179: RuntimeWarning: overflow encountered in double_scalars\n",
      "  c = 134217729. * a  # 2**27+1.\n",
      "/home/lingrui/.local/lib/python3.10/site-packages/astropy/time/utils.py:181: RuntimeWarning: invalid value encountered in double_scalars\n",
      "  ah = c - abig\n",
      "/home/lingrui/.local/lib/python3.10/site-packages/astropy/time/utils.py:181: RuntimeWarning: invalid value encountered in double_scalars\n",
      "  ah = c - abig\n",
      "/home/lingrui/.local/lib/python3.10/site-packages/astropy/time/utils.py:179: RuntimeWarning: overflow encountered in double_scalars\n",
      "  c = 134217729. * a  # 2**27+1.\n",
      "/home/lingrui/.local/lib/python3.10/site-packages/astropy/time/utils.py:181: RuntimeWarning: invalid value encountered in double_scalars\n",
      "  ah = c - abig\n",
      "/home/lingrui/.local/lib/python3.10/site-packages/astropy/time/utils.py:179: RuntimeWarning: overflow encountered in double_scalars\n",
      "  c = 134217729. * a  # 2**27+1.\n",
      "/home/lingrui/.local/lib/python3.10/site-packages/astropy/time/utils.py:181: RuntimeWarning: invalid value encountered in double_scalars\n",
      "  ah = c - abig\n",
      "/home/lingrui/.local/lib/python3.10/site-packages/astropy/time/utils.py:179: RuntimeWarning: overflow encountered in double_scalars\n",
      "  c = 134217729. * a  # 2**27+1.\n",
      "/home/lingrui/.local/lib/python3.10/site-packages/astropy/time/utils.py:181: RuntimeWarning: invalid value encountered in double_scalars\n",
      "  ah = c - abig\n"
     ]
    },
    {
     "name": "stdout",
     "output_type": "stream",
     "text": [
      "Dealing with Tsys_psr_Sun17_A_08_M01-M01_211112_072900to211112_074248.fitsDealing with Tsys_psr_Sun17_A_08_M02-M02_211112_072900to211112_074248.fits\n",
      "\n",
      "Dealing with Tsys_psr_Sun17_A_08_M03-M03_211112_072900to211112_074248.fits\n",
      "Dealing with Tsys_psr_Sun17_A_08_M04-M04_211112_072900to211112_074248.fits\n",
      "Dealing with Tsys_psr_Sun17_A_08_M05-M05_211112_072900to211112_074248.fits\n",
      "Dealing with Tsys_psr_Sun17_A_08_M06-M06_211112_072900to211112_074248.fits\n",
      "Dealing with Tsys_psr_Sun17_A_08_M07-M07_211112_072900to211112_074248.fits\n",
      "Dealing with Tsys_psr_Sun17_A_08_M08-M08_211112_072900to211112_074248.fits\n",
      "Dealing with Tsys_psr_Sun17_A_08_M09-M09_211112_072900to211112_074248.fits\n",
      "\n",
      "Dealing with Tsys_psr_Sun17_A_08_M10-M10_211112_072900to211112_074248.fitsDealing with Tsys_psr_Sun17_A_08_M11-M11_211112_072900to211112_074248.fits\n",
      "Dealing with Tsys_psr_Sun17_A_08_M12-M12_211112_072900to211112_074248.fits\n",
      "Dealing with Tsys_psr_Sun17_A_08_M13-M13_211112_072900to211112_074248.fits\n",
      "Dealing with Tsys_psr_Sun17_A_08_M14-M14_211112_072900to211112_074248.fits\n",
      "Dealing with Tsys_psr_Sun17_A_08_M15-M15_211112_072900to211112_074248.fits\n",
      "Dealing with Tsys_psr_Sun17_A_08_M16-M16_211112_072900to211112_074248.fits\n",
      "Dealing with Tsys_psr_Sun17_A_08_M17-M17_211112_072900to211112_074248.fits\n",
      "Dealing with Tsys_psr_Sun17_A_08_M18-M18_211112_072900to211112_074248.fits\n",
      "Dealing with Tsys_psr_Sun17_A_08_M19-M19_211112_072900to211112_074248.fits\n"
     ]
    },
    {
     "name": "stderr",
     "output_type": "stream",
     "text": [
      "/home/lingrui/.local/lib/python3.10/site-packages/astropy/time/utils.py:179: RuntimeWarning: overflow encountered in double_scalars\n",
      "  c = 134217729. * a  # 2**27+1.\n",
      "/home/lingrui/.local/lib/python3.10/site-packages/astropy/time/utils.py:181: RuntimeWarning: invalid value encountered in double_scalars\n",
      "  ah = c - abig\n",
      "/home/lingrui/.local/lib/python3.10/site-packages/astropy/time/utils.py:179: RuntimeWarning: overflow encountered in double_scalars\n",
      "  c = 134217729. * a  # 2**27+1.\n",
      "/home/lingrui/.local/lib/python3.10/site-packages/astropy/time/utils.py:181: RuntimeWarning: invalid value encountered in double_scalars\n",
      "  ah = c - abig\n",
      "/home/lingrui/.local/lib/python3.10/site-packages/astropy/time/utils.py:179: RuntimeWarning: overflow encountered in double_scalars\n",
      "  c = 134217729. * a  # 2**27+1.\n",
      "/home/lingrui/.local/lib/python3.10/site-packages/astropy/time/utils.py:181: RuntimeWarning: invalid value encountered in double_scalars\n",
      "  ah = c - abig\n",
      "/home/lingrui/.local/lib/python3.10/site-packages/astropy/time/utils.py:179: RuntimeWarning: overflow encountered in double_scalars\n",
      "  c = 134217729. * a  # 2**27+1.\n",
      "/home/lingrui/.local/lib/python3.10/site-packages/astropy/time/utils.py:181: RuntimeWarning: invalid value encountered in double_scalars\n",
      "  ah = c - abig\n",
      "/home/lingrui/.local/lib/python3.10/site-packages/astropy/time/utils.py:179: RuntimeWarning: overflow encountered in double_scalars\n",
      "  c = 134217729. * a  # 2**27+1.\n",
      "/home/lingrui/.local/lib/python3.10/site-packages/astropy/time/utils.py:181: RuntimeWarning: invalid value encountered in double_scalars\n",
      "  ah = c - abig\n",
      "/home/lingrui/.local/lib/python3.10/site-packages/astropy/time/utils.py:179: RuntimeWarning: overflow encountered in double_scalars\n",
      "  c = 134217729. * a  # 2**27+1.\n",
      "/home/lingrui/.local/lib/python3.10/site-packages/astropy/time/utils.py:181: RuntimeWarning: invalid value encountered in double_scalars\n",
      "  ah = c - abig\n",
      "/home/lingrui/.local/lib/python3.10/site-packages/astropy/time/utils.py:179: RuntimeWarning: overflow encountered in double_scalars\n",
      "  c = 134217729. * a  # 2**27+1.\n",
      "/home/lingrui/.local/lib/python3.10/site-packages/astropy/time/utils.py:181: RuntimeWarning: invalid value encountered in double_scalars\n",
      "  ah = c - abig\n",
      "/home/lingrui/.local/lib/python3.10/site-packages/astropy/time/utils.py:179: RuntimeWarning: overflow encountered in double_scalars\n",
      "  c = 134217729. * a  # 2**27+1.\n",
      "/home/lingrui/.local/lib/python3.10/site-packages/astropy/time/utils.py:179: RuntimeWarning: overflow encountered in double_scalars\n",
      "  c = 134217729. * a  # 2**27+1.\n",
      "/home/lingrui/.local/lib/python3.10/site-packages/astropy/time/utils.py:179: RuntimeWarning: overflow encountered in double_scalars\n",
      "  c = 134217729. * a  # 2**27+1.\n",
      "/home/lingrui/.local/lib/python3.10/site-packages/astropy/time/utils.py:181: RuntimeWarning: invalid value encountered in double_scalars\n",
      "  ah = c - abig\n",
      "/home/lingrui/.local/lib/python3.10/site-packages/astropy/time/utils.py:181: RuntimeWarning: invalid value encountered in double_scalars\n",
      "  ah = c - abig\n",
      "/home/lingrui/.local/lib/python3.10/site-packages/astropy/time/utils.py:181: RuntimeWarning: invalid value encountered in double_scalars\n",
      "  ah = c - abig\n",
      "/home/lingrui/.local/lib/python3.10/site-packages/astropy/time/utils.py:179: RuntimeWarning: overflow encountered in double_scalars\n",
      "  c = 134217729. * a  # 2**27+1.\n",
      "/home/lingrui/.local/lib/python3.10/site-packages/astropy/time/utils.py:181: RuntimeWarning: invalid value encountered in double_scalars\n",
      "  ah = c - abig\n",
      "/home/lingrui/.local/lib/python3.10/site-packages/astropy/time/utils.py:179: RuntimeWarning: overflow encountered in double_scalars\n",
      "  c = 134217729. * a  # 2**27+1.\n",
      "/home/lingrui/.local/lib/python3.10/site-packages/astropy/time/utils.py:181: RuntimeWarning: invalid value encountered in double_scalars\n",
      "  ah = c - abig\n",
      "/home/lingrui/.local/lib/python3.10/site-packages/astropy/time/utils.py:179: RuntimeWarning: overflow encountered in double_scalars\n",
      "  c = 134217729. * a  # 2**27+1.\n",
      "/home/lingrui/.local/lib/python3.10/site-packages/astropy/time/utils.py:181: RuntimeWarning: invalid value encountered in double_scalars\n",
      "  ah = c - abig\n",
      "/home/lingrui/.local/lib/python3.10/site-packages/astropy/time/utils.py:179: RuntimeWarning: overflow encountered in double_scalars\n",
      "  c = 134217729. * a  # 2**27+1.\n",
      "/home/lingrui/.local/lib/python3.10/site-packages/astropy/time/utils.py:181: RuntimeWarning: invalid value encountered in double_scalars\n",
      "  ah = c - abig\n",
      "/home/lingrui/.local/lib/python3.10/site-packages/astropy/time/utils.py:179: RuntimeWarning: overflow encountered in double_scalars\n",
      "  c = 134217729. * a  # 2**27+1.\n",
      "/home/lingrui/.local/lib/python3.10/site-packages/astropy/time/utils.py:181: RuntimeWarning: invalid value encountered in double_scalars\n",
      "  ah = c - abig\n",
      "/home/lingrui/.local/lib/python3.10/site-packages/astropy/time/utils.py:179: RuntimeWarning: overflow encountered in double_scalars\n",
      "  c = 134217729. * a  # 2**27+1.\n",
      "/home/lingrui/.local/lib/python3.10/site-packages/astropy/time/utils.py:181: RuntimeWarning: invalid value encountered in double_scalars\n",
      "  ah = c - abig\n",
      "/home/lingrui/.local/lib/python3.10/site-packages/astropy/time/utils.py:179: RuntimeWarning: overflow encountered in double_scalars\n",
      "  c = 134217729. * a  # 2**27+1.\n",
      "/home/lingrui/.local/lib/python3.10/site-packages/astropy/time/utils.py:181: RuntimeWarning: invalid value encountered in double_scalars\n",
      "  ah = c - abig\n",
      "/home/lingrui/.local/lib/python3.10/site-packages/astropy/time/utils.py:179: RuntimeWarning: overflow encountered in double_scalars\n",
      "  c = 134217729. * a  # 2**27+1.\n",
      "/home/lingrui/.local/lib/python3.10/site-packages/astropy/time/utils.py:181: RuntimeWarning: invalid value encountered in double_scalars\n",
      "  ah = c - abig\n",
      "/home/lingrui/.local/lib/python3.10/site-packages/astropy/time/utils.py:179: RuntimeWarning: overflow encountered in double_scalars\n",
      "  c = 134217729. * a  # 2**27+1.\n",
      "/home/lingrui/.local/lib/python3.10/site-packages/astropy/time/utils.py:181: RuntimeWarning: invalid value encountered in double_scalars\n",
      "  ah = c - abig\n"
     ]
    },
    {
     "name": "stdout",
     "output_type": "stream",
     "text": [
      "Dealing with Tsys_psr_Sun17_A_09_M01-M01_211023_110300to211023_111648.fits\n",
      "Dealing with Tsys_psr_Sun17_A_09_M02-M02_211023_110300to211023_111648.fits\n",
      "Dealing with Tsys_psr_Sun17_A_09_M03-M03_211023_110300to211023_111648.fits\n",
      "Dealing with Tsys_psr_Sun17_A_09_M04-M04_211023_110300to211023_111648.fits\n",
      "Dealing with Tsys_psr_Sun17_A_09_M05-M05_211023_110300to211023_111648.fits\n",
      "Dealing with Tsys_psr_Sun17_A_09_M06-M06_211023_110300to211023_111648.fits\n",
      "Dealing with Tsys_psr_Sun17_A_09_M07-M07_211023_110300to211023_111648.fits\n",
      "Dealing with Tsys_psr_Sun17_A_09_M08-M08_211023_110300to211023_111648.fits\n",
      "Dealing with Tsys_psr_Sun17_A_09_M09-M09_211023_110300to211023_111648.fits\n",
      "Dealing with Tsys_psr_Sun17_A_09_M10-M10_211023_110300to211023_111648.fitsDealing with Tsys_psr_Sun17_A_09_M11-M11_211023_110300to211023_111648.fits\n",
      "\n",
      "Dealing with Tsys_psr_Sun17_A_09_M12-M12_211023_110300to211023_111648.fits\n",
      "Dealing with Tsys_psr_Sun17_A_09_M13-M13_211023_110300to211023_111648.fits\n",
      "Dealing with Tsys_psr_Sun17_A_09_M14-M14_211023_110300to211023_111648.fits\n",
      "Dealing with Tsys_psr_Sun17_A_09_M15-M15_211023_110300to211023_111648.fits\n",
      "Dealing with Tsys_psr_Sun17_A_09_M16-M16_211023_110300to211023_111648.fits\n",
      "Dealing with Tsys_psr_Sun17_A_09_M17-M17_211023_110300to211023_111648.fits\n",
      "Dealing with Tsys_psr_Sun17_A_09_M18-M18_211023_110300to211023_111648.fits\n",
      "Dealing with Tsys_psr_Sun17_A_09_M19-M19_211023_110300to211023_111648.fits\n"
     ]
    },
    {
     "name": "stderr",
     "output_type": "stream",
     "text": [
      "/home/lingrui/.local/lib/python3.10/site-packages/astropy/time/utils.py:179: RuntimeWarning: overflow encountered in double_scalars\n",
      "  c = 134217729. * a  # 2**27+1.\n",
      "/home/lingrui/.local/lib/python3.10/site-packages/astropy/time/utils.py:181: RuntimeWarning: invalid value encountered in double_scalars\n",
      "  ah = c - abig\n",
      "/home/lingrui/.local/lib/python3.10/site-packages/astropy/time/utils.py:179: RuntimeWarning: overflow encountered in double_scalars\n",
      "  c = 134217729. * a  # 2**27+1.\n",
      "/home/lingrui/.local/lib/python3.10/site-packages/astropy/time/utils.py:181: RuntimeWarning: invalid value encountered in double_scalars\n",
      "  ah = c - abig\n",
      "/home/lingrui/.local/lib/python3.10/site-packages/astropy/time/utils.py:179: RuntimeWarning: overflow encountered in double_scalars\n",
      "  c = 134217729. * a  # 2**27+1.\n",
      "/home/lingrui/.local/lib/python3.10/site-packages/astropy/time/utils.py:181: RuntimeWarning: invalid value encountered in double_scalars\n",
      "  ah = c - abig\n",
      "/home/lingrui/.local/lib/python3.10/site-packages/astropy/time/utils.py:179: RuntimeWarning: overflow encountered in double_scalars\n",
      "  c = 134217729. * a  # 2**27+1.\n",
      "/home/lingrui/.local/lib/python3.10/site-packages/astropy/time/utils.py:181: RuntimeWarning: invalid value encountered in double_scalars\n",
      "  ah = c - abig\n",
      "/home/lingrui/.local/lib/python3.10/site-packages/astropy/time/utils.py:179: RuntimeWarning: overflow encountered in double_scalars\n",
      "  c = 134217729. * a  # 2**27+1.\n",
      "/home/lingrui/.local/lib/python3.10/site-packages/astropy/time/utils.py:181: RuntimeWarning: invalid value encountered in double_scalars\n",
      "  ah = c - abig\n",
      "/home/lingrui/.local/lib/python3.10/site-packages/astropy/time/utils.py:179: RuntimeWarning: overflow encountered in double_scalars\n",
      "  c = 134217729. * a  # 2**27+1.\n",
      "/home/lingrui/.local/lib/python3.10/site-packages/astropy/time/utils.py:181: RuntimeWarning: invalid value encountered in double_scalars\n",
      "  ah = c - abig\n",
      "/home/lingrui/.local/lib/python3.10/site-packages/astropy/time/utils.py:179: RuntimeWarning: overflow encountered in double_scalars\n",
      "  c = 134217729. * a  # 2**27+1.\n",
      "/home/lingrui/.local/lib/python3.10/site-packages/astropy/time/utils.py:179: RuntimeWarning: overflow encountered in double_scalars\n",
      "  c = 134217729. * a  # 2**27+1.\n",
      "/home/lingrui/.local/lib/python3.10/site-packages/astropy/time/utils.py:181: RuntimeWarning: invalid value encountered in double_scalars\n",
      "  ah = c - abig\n",
      "/home/lingrui/.local/lib/python3.10/site-packages/astropy/time/utils.py:181: RuntimeWarning: invalid value encountered in double_scalars\n",
      "  ah = c - abig\n",
      "/home/lingrui/.local/lib/python3.10/site-packages/astropy/time/utils.py:179: RuntimeWarning: overflow encountered in double_scalars\n",
      "  c = 134217729. * a  # 2**27+1.\n",
      "/home/lingrui/.local/lib/python3.10/site-packages/astropy/time/utils.py:181: RuntimeWarning: invalid value encountered in double_scalars\n",
      "  ah = c - abig\n",
      "/home/lingrui/.local/lib/python3.10/site-packages/astropy/time/utils.py:179: RuntimeWarning: overflow encountered in double_scalars\n",
      "  c = 134217729. * a  # 2**27+1.\n",
      "/home/lingrui/.local/lib/python3.10/site-packages/astropy/time/utils.py:181: RuntimeWarning: invalid value encountered in double_scalars\n",
      "  ah = c - abig\n",
      "/home/lingrui/.local/lib/python3.10/site-packages/astropy/time/utils.py:179: RuntimeWarning: overflow encountered in double_scalars\n",
      "  c = 134217729. * a  # 2**27+1.\n",
      "/home/lingrui/.local/lib/python3.10/site-packages/astropy/time/utils.py:181: RuntimeWarning: invalid value encountered in double_scalars\n",
      "  ah = c - abig\n",
      "/home/lingrui/.local/lib/python3.10/site-packages/astropy/time/utils.py:179: RuntimeWarning: overflow encountered in double_scalars\n",
      "  c = 134217729. * a  # 2**27+1.\n",
      "/home/lingrui/.local/lib/python3.10/site-packages/astropy/time/utils.py:181: RuntimeWarning: invalid value encountered in double_scalars\n",
      "  ah = c - abig\n",
      "/home/lingrui/.local/lib/python3.10/site-packages/astropy/time/utils.py:179: RuntimeWarning: overflow encountered in double_scalars\n",
      "  c = 134217729. * a  # 2**27+1.\n",
      "/home/lingrui/.local/lib/python3.10/site-packages/astropy/time/utils.py:181: RuntimeWarning: invalid value encountered in double_scalars\n",
      "  ah = c - abig\n",
      "/home/lingrui/.local/lib/python3.10/site-packages/astropy/time/utils.py:179: RuntimeWarning: overflow encountered in double_scalars\n",
      "  c = 134217729. * a  # 2**27+1.\n",
      "/home/lingrui/.local/lib/python3.10/site-packages/astropy/time/utils.py:181: RuntimeWarning: invalid value encountered in double_scalars\n",
      "  ah = c - abig\n",
      "/home/lingrui/.local/lib/python3.10/site-packages/astropy/time/utils.py:179: RuntimeWarning: overflow encountered in double_scalars\n",
      "  c = 134217729. * a  # 2**27+1.\n",
      "/home/lingrui/.local/lib/python3.10/site-packages/astropy/time/utils.py:179: RuntimeWarning: overflow encountered in double_scalars\n",
      "  c = 134217729. * a  # 2**27+1.\n",
      "/home/lingrui/.local/lib/python3.10/site-packages/astropy/time/utils.py:181: RuntimeWarning: invalid value encountered in double_scalars\n",
      "  ah = c - abig\n",
      "/home/lingrui/.local/lib/python3.10/site-packages/astropy/time/utils.py:181: RuntimeWarning: invalid value encountered in double_scalars\n",
      "  ah = c - abig\n",
      "/home/lingrui/.local/lib/python3.10/site-packages/astropy/time/utils.py:179: RuntimeWarning: overflow encountered in double_scalars\n",
      "  c = 134217729. * a  # 2**27+1.\n",
      "/home/lingrui/.local/lib/python3.10/site-packages/astropy/time/utils.py:181: RuntimeWarning: invalid value encountered in double_scalars\n",
      "  ah = c - abig\n",
      "/home/lingrui/.local/lib/python3.10/site-packages/astropy/time/utils.py:179: RuntimeWarning: overflow encountered in double_scalars\n",
      "  c = 134217729. * a  # 2**27+1.\n",
      "/home/lingrui/.local/lib/python3.10/site-packages/astropy/time/utils.py:181: RuntimeWarning: invalid value encountered in double_scalars\n",
      "  ah = c - abig\n",
      "/home/lingrui/.local/lib/python3.10/site-packages/astropy/time/utils.py:179: RuntimeWarning: overflow encountered in double_scalars\n",
      "  c = 134217729. * a  # 2**27+1.\n",
      "/home/lingrui/.local/lib/python3.10/site-packages/astropy/time/utils.py:181: RuntimeWarning: invalid value encountered in double_scalars\n",
      "  ah = c - abig\n"
     ]
    },
    {
     "name": "stdout",
     "output_type": "stream",
     "text": [
      "Dealing with Tsys_psr_Sun17_A_10_M01-M01_211119_071000to211119_072348.fits\n",
      "Dealing with Tsys_psr_Sun17_A_10_M02-M02_211119_071000to211119_072348.fits\n",
      "Dealing with Tsys_psr_Sun17_A_10_M03-M03_211119_071000to211119_072348.fits\n",
      "Dealing with Tsys_psr_Sun17_A_10_M04-M04_211119_071000to211119_072348.fits\n",
      "Dealing with Tsys_psr_Sun17_A_10_M05-M05_211119_071000to211119_072348.fits\n",
      "\n",
      "Dealing with Tsys_psr_Sun17_A_10_M06-M06_211119_071000to211119_072348.fitsDealing with Tsys_psr_Sun17_A_10_M07-M07_211119_071000to211119_072348.fits\n",
      "Dealing with Tsys_psr_Sun17_A_10_M08-M08_211119_071000to211119_072348.fits\n",
      "Dealing with Tsys_psr_Sun17_A_10_M09-M09_211119_071000to211119_072348.fits\n",
      "Dealing with Tsys_psr_Sun17_A_10_M10-M10_211119_071000to211119_072348.fits\n",
      "Dealing with Tsys_psr_Sun17_A_10_M11-M11_211119_071000to211119_072348.fits\n",
      "Dealing with Tsys_psr_Sun17_A_10_M12-M12_211119_071000to211119_072348.fits\n",
      "Dealing with Tsys_psr_Sun17_A_10_M13-M13_211119_071000to211119_072348.fits\n",
      "Dealing with Tsys_psr_Sun17_A_10_M14-M14_211119_071000to211119_072348.fits\n",
      "Dealing with Tsys_psr_Sun17_A_10_M15-M15_211119_071000to211119_072348.fits\n",
      "Dealing with Tsys_psr_Sun17_A_10_M16-M16_211119_071000to211119_072348.fits\n",
      "Dealing with Tsys_psr_Sun17_A_10_M17-M17_211119_071000to211119_072348.fits\n",
      "Dealing with Tsys_psr_Sun17_A_10_M18-M18_211119_071000to211119_072348.fits\n",
      "Dealing with Tsys_psr_Sun17_A_10_M19-M19_211119_071000to211119_072348.fits\n"
     ]
    },
    {
     "name": "stderr",
     "output_type": "stream",
     "text": [
      "/home/lingrui/.local/lib/python3.10/site-packages/astropy/time/utils.py:179: RuntimeWarning: overflow encountered in double_scalars\n",
      "  c = 134217729. * a  # 2**27+1.\n",
      "/home/lingrui/.local/lib/python3.10/site-packages/astropy/time/utils.py:181: RuntimeWarning: invalid value encountered in double_scalars\n",
      "  ah = c - abig\n",
      "/home/lingrui/.local/lib/python3.10/site-packages/astropy/time/utils.py:179: RuntimeWarning: overflow encountered in double_scalars\n",
      "  c = 134217729. * a  # 2**27+1.\n",
      "/home/lingrui/.local/lib/python3.10/site-packages/astropy/time/utils.py:181: RuntimeWarning: invalid value encountered in double_scalars\n",
      "  ah = c - abig\n",
      "/home/lingrui/.local/lib/python3.10/site-packages/astropy/time/utils.py:179: RuntimeWarning: overflow encountered in double_scalars\n",
      "  c = 134217729. * a  # 2**27+1.\n",
      "/home/lingrui/.local/lib/python3.10/site-packages/astropy/time/utils.py:181: RuntimeWarning: invalid value encountered in double_scalars\n",
      "  ah = c - abig\n",
      "/home/lingrui/.local/lib/python3.10/site-packages/astropy/time/utils.py:179: RuntimeWarning: overflow encountered in double_scalars\n",
      "  c = 134217729. * a  # 2**27+1.\n",
      "/home/lingrui/.local/lib/python3.10/site-packages/astropy/time/utils.py:179: RuntimeWarning: overflow encountered in double_scalars\n",
      "  c = 134217729. * a  # 2**27+1.\n",
      "/home/lingrui/.local/lib/python3.10/site-packages/astropy/time/utils.py:181: RuntimeWarning: invalid value encountered in double_scalars\n",
      "  ah = c - abig\n",
      "/home/lingrui/.local/lib/python3.10/site-packages/astropy/time/utils.py:181: RuntimeWarning: invalid value encountered in double_scalars\n",
      "  ah = c - abig\n",
      "/home/lingrui/.local/lib/python3.10/site-packages/astropy/time/utils.py:179: RuntimeWarning: overflow encountered in double_scalars\n",
      "  c = 134217729. * a  # 2**27+1.\n",
      "/home/lingrui/.local/lib/python3.10/site-packages/astropy/time/utils.py:179: RuntimeWarning: overflow encountered in double_scalars\n",
      "  c = 134217729. * a  # 2**27+1.\n",
      "/home/lingrui/.local/lib/python3.10/site-packages/astropy/time/utils.py:179: RuntimeWarning: overflow encountered in double_scalars\n",
      "  c = 134217729. * a  # 2**27+1.\n",
      "/home/lingrui/.local/lib/python3.10/site-packages/astropy/time/utils.py:179: RuntimeWarning: overflow encountered in double_scalars\n",
      "  c = 134217729. * a  # 2**27+1.\n",
      "/home/lingrui/.local/lib/python3.10/site-packages/astropy/time/utils.py:181: RuntimeWarning: invalid value encountered in double_scalars\n",
      "  ah = c - abig\n",
      "/home/lingrui/.local/lib/python3.10/site-packages/astropy/time/utils.py:181: RuntimeWarning: invalid value encountered in double_scalars\n",
      "  ah = c - abig\n",
      "/home/lingrui/.local/lib/python3.10/site-packages/astropy/time/utils.py:181: RuntimeWarning: invalid value encountered in double_scalars\n",
      "  ah = c - abig\n",
      "/home/lingrui/.local/lib/python3.10/site-packages/astropy/time/utils.py:181: RuntimeWarning: invalid value encountered in double_scalars\n",
      "  ah = c - abig\n",
      "/home/lingrui/.local/lib/python3.10/site-packages/astropy/time/utils.py:179: RuntimeWarning: overflow encountered in double_scalars\n",
      "  c = 134217729. * a  # 2**27+1.\n",
      "/home/lingrui/.local/lib/python3.10/site-packages/astropy/time/utils.py:181: RuntimeWarning: invalid value encountered in double_scalars\n",
      "  ah = c - abig\n",
      "/home/lingrui/.local/lib/python3.10/site-packages/astropy/time/utils.py:179: RuntimeWarning: overflow encountered in double_scalars\n",
      "  c = 134217729. * a  # 2**27+1.\n",
      "/home/lingrui/.local/lib/python3.10/site-packages/astropy/time/utils.py:179: RuntimeWarning: overflow encountered in double_scalars\n",
      "  c = 134217729. * a  # 2**27+1.\n",
      "/home/lingrui/.local/lib/python3.10/site-packages/astropy/time/utils.py:181: RuntimeWarning: invalid value encountered in double_scalars\n",
      "  ah = c - abig\n",
      "/home/lingrui/.local/lib/python3.10/site-packages/astropy/time/utils.py:181: RuntimeWarning: invalid value encountered in double_scalars\n",
      "  ah = c - abig\n",
      "/home/lingrui/.local/lib/python3.10/site-packages/astropy/time/utils.py:179: RuntimeWarning: overflow encountered in double_scalars\n",
      "  c = 134217729. * a  # 2**27+1.\n",
      "/home/lingrui/.local/lib/python3.10/site-packages/astropy/time/utils.py:179: RuntimeWarning: overflow encountered in double_scalars\n",
      "  c = 134217729. * a  # 2**27+1.\n",
      "/home/lingrui/.local/lib/python3.10/site-packages/astropy/time/utils.py:181: RuntimeWarning: invalid value encountered in double_scalars\n",
      "  ah = c - abig\n",
      "/home/lingrui/.local/lib/python3.10/site-packages/astropy/time/utils.py:181: RuntimeWarning: invalid value encountered in double_scalars\n",
      "  ah = c - abig\n",
      "/home/lingrui/.local/lib/python3.10/site-packages/astropy/time/utils.py:179: RuntimeWarning: overflow encountered in double_scalars\n",
      "  c = 134217729. * a  # 2**27+1.\n",
      "/home/lingrui/.local/lib/python3.10/site-packages/astropy/time/utils.py:181: RuntimeWarning: invalid value encountered in double_scalars\n",
      "  ah = c - abig\n",
      "/home/lingrui/.local/lib/python3.10/site-packages/astropy/time/utils.py:179: RuntimeWarning: overflow encountered in double_scalars\n",
      "  c = 134217729. * a  # 2**27+1.\n",
      "/home/lingrui/.local/lib/python3.10/site-packages/astropy/time/utils.py:181: RuntimeWarning: invalid value encountered in double_scalars\n",
      "  ah = c - abig\n",
      "/home/lingrui/.local/lib/python3.10/site-packages/astropy/time/utils.py:179: RuntimeWarning: overflow encountered in double_scalars\n",
      "  c = 134217729. * a  # 2**27+1.\n",
      "/home/lingrui/.local/lib/python3.10/site-packages/astropy/time/utils.py:181: RuntimeWarning: invalid value encountered in double_scalars\n",
      "  ah = c - abig\n",
      "/home/lingrui/.local/lib/python3.10/site-packages/astropy/time/utils.py:179: RuntimeWarning: overflow encountered in double_scalars\n",
      "  c = 134217729. * a  # 2**27+1.\n",
      "/home/lingrui/.local/lib/python3.10/site-packages/astropy/time/utils.py:181: RuntimeWarning: invalid value encountered in double_scalars\n",
      "  ah = c - abig\n",
      "/home/lingrui/.local/lib/python3.10/site-packages/astropy/time/utils.py:179: RuntimeWarning: overflow encountered in double_scalars\n",
      "  c = 134217729. * a  # 2**27+1.\n",
      "/home/lingrui/.local/lib/python3.10/site-packages/astropy/time/utils.py:181: RuntimeWarning: invalid value encountered in double_scalars\n",
      "  ah = c - abig\n"
     ]
    }
   ],
   "source": [
    "rootwd = os.getcwd()\n",
    "\n",
    "def target_xyz2celestial(i,j,xyztable):\n",
    "    os.chdir(rootwd+'/'+'{}/{}'.format(i,j))\n",
    "    beam = int(j.split('M')[-1])\n",
    "    specfits = glob.glob('Tsys_psr*.fits')[0]\n",
    "    print('Dealing with '+specfits)\n",
    "    xyz2celestial(specfits,xyztable,beam=beam,plot=False,psrflag=True)\n",
    "\n",
    "def run_process(i,xyztable):\n",
    "    process = []\n",
    "    for j in Beam_name:\n",
    "        process.append(mp.Process(target=target_xyz2celestial,args=(i,j,xyztable)))\n",
    "    [p.start() for p in process]\n",
    "    [p.join()  for p in process]\n",
    "\n",
    "for i in Scan_name:\n",
    "    table = glob.glob(rootwd+'/*KY/'+'{}*.xlsx'.format(i))[0]\n",
    "    xyztable = pd.read_excel(table,sheet_name=0)\n",
    "    run_process(i,xyztable)"
   ]
  },
  {
   "cell_type": "markdown",
   "id": "51f24e21-977d-4b72-b875-069641a4bee6",
   "metadata": {},
   "source": [
    "#### gridding"
   ]
  },
  {
   "cell_type": "code",
   "execution_count": 7,
   "id": "5bfb200f-9336-4722-ab2d-6776b7b556c2",
   "metadata": {},
   "outputs": [
    {
     "data": {
      "text/plain": [
       "0"
      ]
     },
     "execution_count": 7,
     "metadata": {},
     "output_type": "execute_result"
    }
   ],
   "source": [
    "os.system('ls $PWD/*/*/Tsys_psr*icrs.fits > mygridcont_list')"
   ]
  },
  {
   "cell_type": "code",
   "execution_count": 2,
   "id": "edc3444a-530d-4fea-9d65-31dd10e20d15",
   "metadata": {
    "collapsed": true,
    "jupyter": {
     "outputs_hidden": true
    },
    "tags": []
   },
   "outputs": [
    {
     "name": "stdout",
     "output_type": "stream",
     "text": [
      "{'NAXIS': 2, 'NAXIS1': 360, 'NAXIS2': 360, 'CTYPE1': 'RA---SIN', 'CTYPE2': 'DEC--SIN', 'CUNIT1': 'deg', 'CUNIT2': 'deg', 'CDELT1': -0.016666666666666666, 'CDELT2': 0.016666666666666666, 'CRPIX1': 180.0, 'CRPIX2': 180.0, 'CRVAL1': 284.5, 'CRVAL2': 6.5}\n",
      "Gridding /bb8/lingrui/my_projects/FAST_pipeline/Sun17_A_00/M01/Tsys_psr_Sun17_A_00_M01-M01_211010_100500to211010_101848_icrs.fits\n",
      "Doing Doppler Tracking!\n"
     ]
    },
    {
     "name": "stderr",
     "output_type": "stream",
     "text": [
      "WARNING: NoVelocityWarning: No velocity defined on frame, assuming (0., 0., 0.) km / s. [astropy.coordinates.spectral_coordinate]\n",
      "WARNING: NoDistanceWarning: Distance on coordinate object is dimensionless, an arbitrary distance value of 1000000.0 kpc will be set instead. [astropy.coordinates.spectral_coordinate]\n",
      "/home/lingrui/.local/lib/python3.10/site-packages/astropy/time/utils.py:179: RuntimeWarning: overflow encountered in double_scalars\n",
      "  c = 134217729. * a  # 2**27+1.\n",
      "/home/lingrui/.local/lib/python3.10/site-packages/astropy/time/utils.py:181: RuntimeWarning: invalid value encountered in double_scalars\n",
      "  ah = c - abig\n"
     ]
    },
    {
     "name": "stdout",
     "output_type": "stream",
     "text": [
      "Gridding /bb8/lingrui/my_projects/FAST_pipeline/Sun17_A_00/M02/Tsys_psr_Sun17_A_00_M02-M02_211010_100500to211010_101848_icrs.fits\n",
      "Doing Doppler Tracking!\n"
     ]
    },
    {
     "name": "stderr",
     "output_type": "stream",
     "text": [
      "WARNING: NoVelocityWarning: No velocity defined on frame, assuming (0., 0., 0.) km / s. [astropy.coordinates.spectral_coordinate]\n",
      "WARNING: NoDistanceWarning: Distance on coordinate object is dimensionless, an arbitrary distance value of 1000000.0 kpc will be set instead. [astropy.coordinates.spectral_coordinate]\n"
     ]
    },
    {
     "name": "stdout",
     "output_type": "stream",
     "text": [
      "Gridding /bb8/lingrui/my_projects/FAST_pipeline/Sun17_A_00/M03/Tsys_psr_Sun17_A_00_M03-M03_211010_100500to211010_101848_icrs.fits\n",
      "Doing Doppler Tracking!\n"
     ]
    },
    {
     "name": "stderr",
     "output_type": "stream",
     "text": [
      "WARNING: NoVelocityWarning: No velocity defined on frame, assuming (0., 0., 0.) km / s. [astropy.coordinates.spectral_coordinate]\n",
      "WARNING: NoDistanceWarning: Distance on coordinate object is dimensionless, an arbitrary distance value of 1000000.0 kpc will be set instead. [astropy.coordinates.spectral_coordinate]\n"
     ]
    },
    {
     "name": "stdout",
     "output_type": "stream",
     "text": [
      "Gridding /bb8/lingrui/my_projects/FAST_pipeline/Sun17_A_00/M04/Tsys_psr_Sun17_A_00_M04-M04_211010_100500to211010_101848_icrs.fits\n",
      "Doing Doppler Tracking!\n"
     ]
    },
    {
     "name": "stderr",
     "output_type": "stream",
     "text": [
      "WARNING: NoVelocityWarning: No velocity defined on frame, assuming (0., 0., 0.) km / s. [astropy.coordinates.spectral_coordinate]\n",
      "WARNING: NoDistanceWarning: Distance on coordinate object is dimensionless, an arbitrary distance value of 1000000.0 kpc will be set instead. [astropy.coordinates.spectral_coordinate]\n"
     ]
    },
    {
     "name": "stdout",
     "output_type": "stream",
     "text": [
      "Gridding /bb8/lingrui/my_projects/FAST_pipeline/Sun17_A_00/M05/Tsys_psr_Sun17_A_00_M05-M05_211010_100500to211010_101848_icrs.fits\n",
      "Doing Doppler Tracking!\n"
     ]
    },
    {
     "name": "stderr",
     "output_type": "stream",
     "text": [
      "WARNING: NoVelocityWarning: No velocity defined on frame, assuming (0., 0., 0.) km / s. [astropy.coordinates.spectral_coordinate]\n",
      "WARNING: NoDistanceWarning: Distance on coordinate object is dimensionless, an arbitrary distance value of 1000000.0 kpc will be set instead. [astropy.coordinates.spectral_coordinate]\n"
     ]
    },
    {
     "name": "stdout",
     "output_type": "stream",
     "text": [
      "Gridding /bb8/lingrui/my_projects/FAST_pipeline/Sun17_A_00/M06/Tsys_psr_Sun17_A_00_M06-M06_211010_100500to211010_101848_icrs.fits\n",
      "Doing Doppler Tracking!\n"
     ]
    },
    {
     "name": "stderr",
     "output_type": "stream",
     "text": [
      "WARNING: NoVelocityWarning: No velocity defined on frame, assuming (0., 0., 0.) km / s. [astropy.coordinates.spectral_coordinate]\n",
      "WARNING: NoDistanceWarning: Distance on coordinate object is dimensionless, an arbitrary distance value of 1000000.0 kpc will be set instead. [astropy.coordinates.spectral_coordinate]\n"
     ]
    },
    {
     "name": "stdout",
     "output_type": "stream",
     "text": [
      "Gridding /bb8/lingrui/my_projects/FAST_pipeline/Sun17_A_00/M07/Tsys_psr_Sun17_A_00_M07-M07_211010_100500to211010_101848_icrs.fits\n",
      "Doing Doppler Tracking!\n"
     ]
    },
    {
     "name": "stderr",
     "output_type": "stream",
     "text": [
      "WARNING: NoVelocityWarning: No velocity defined on frame, assuming (0., 0., 0.) km / s. [astropy.coordinates.spectral_coordinate]\n",
      "WARNING: NoDistanceWarning: Distance on coordinate object is dimensionless, an arbitrary distance value of 1000000.0 kpc will be set instead. [astropy.coordinates.spectral_coordinate]\n"
     ]
    },
    {
     "name": "stdout",
     "output_type": "stream",
     "text": [
      "Gridding /bb8/lingrui/my_projects/FAST_pipeline/Sun17_A_00/M08/Tsys_psr_Sun17_A_00_M08-M08_211010_100500to211010_101848_icrs.fits\n",
      "Doing Doppler Tracking!\n"
     ]
    },
    {
     "name": "stderr",
     "output_type": "stream",
     "text": [
      "WARNING: NoVelocityWarning: No velocity defined on frame, assuming (0., 0., 0.) km / s. [astropy.coordinates.spectral_coordinate]\n",
      "WARNING: NoDistanceWarning: Distance on coordinate object is dimensionless, an arbitrary distance value of 1000000.0 kpc will be set instead. [astropy.coordinates.spectral_coordinate]\n"
     ]
    },
    {
     "name": "stdout",
     "output_type": "stream",
     "text": [
      "Gridding /bb8/lingrui/my_projects/FAST_pipeline/Sun17_A_00/M09/Tsys_psr_Sun17_A_00_M09-M09_211010_100500to211010_101848_icrs.fits\n",
      "Doing Doppler Tracking!\n"
     ]
    },
    {
     "name": "stderr",
     "output_type": "stream",
     "text": [
      "WARNING: NoVelocityWarning: No velocity defined on frame, assuming (0., 0., 0.) km / s. [astropy.coordinates.spectral_coordinate]\n",
      "WARNING: NoDistanceWarning: Distance on coordinate object is dimensionless, an arbitrary distance value of 1000000.0 kpc will be set instead. [astropy.coordinates.spectral_coordinate]\n"
     ]
    },
    {
     "name": "stdout",
     "output_type": "stream",
     "text": [
      "Gridding /bb8/lingrui/my_projects/FAST_pipeline/Sun17_A_00/M10/Tsys_psr_Sun17_A_00_M10-M10_211010_100500to211010_101848_icrs.fits\n",
      "Doing Doppler Tracking!\n"
     ]
    },
    {
     "name": "stderr",
     "output_type": "stream",
     "text": [
      "WARNING: NoVelocityWarning: No velocity defined on frame, assuming (0., 0., 0.) km / s. [astropy.coordinates.spectral_coordinate]\n",
      "WARNING: NoDistanceWarning: Distance on coordinate object is dimensionless, an arbitrary distance value of 1000000.0 kpc will be set instead. [astropy.coordinates.spectral_coordinate]\n"
     ]
    },
    {
     "name": "stdout",
     "output_type": "stream",
     "text": [
      "Gridding /bb8/lingrui/my_projects/FAST_pipeline/Sun17_A_00/M11/Tsys_psr_Sun17_A_00_M11-M11_211010_100500to211010_101848_icrs.fits\n",
      "Doing Doppler Tracking!\n"
     ]
    },
    {
     "name": "stderr",
     "output_type": "stream",
     "text": [
      "WARNING: NoVelocityWarning: No velocity defined on frame, assuming (0., 0., 0.) km / s. [astropy.coordinates.spectral_coordinate]\n",
      "WARNING: NoDistanceWarning: Distance on coordinate object is dimensionless, an arbitrary distance value of 1000000.0 kpc will be set instead. [astropy.coordinates.spectral_coordinate]\n"
     ]
    },
    {
     "name": "stdout",
     "output_type": "stream",
     "text": [
      "Gridding /bb8/lingrui/my_projects/FAST_pipeline/Sun17_A_00/M12/Tsys_psr_Sun17_A_00_M12-M12_211010_100500to211010_101848_icrs.fits\n",
      "Doing Doppler Tracking!\n"
     ]
    },
    {
     "name": "stderr",
     "output_type": "stream",
     "text": [
      "WARNING: NoVelocityWarning: No velocity defined on frame, assuming (0., 0., 0.) km / s. [astropy.coordinates.spectral_coordinate]\n",
      "WARNING: NoDistanceWarning: Distance on coordinate object is dimensionless, an arbitrary distance value of 1000000.0 kpc will be set instead. [astropy.coordinates.spectral_coordinate]\n"
     ]
    },
    {
     "name": "stdout",
     "output_type": "stream",
     "text": [
      "Gridding /bb8/lingrui/my_projects/FAST_pipeline/Sun17_A_00/M13/Tsys_psr_Sun17_A_00_M13-M13_211010_100500to211010_101848_icrs.fits\n",
      "Doing Doppler Tracking!\n"
     ]
    },
    {
     "name": "stderr",
     "output_type": "stream",
     "text": [
      "WARNING: NoVelocityWarning: No velocity defined on frame, assuming (0., 0., 0.) km / s. [astropy.coordinates.spectral_coordinate]\n",
      "WARNING: NoDistanceWarning: Distance on coordinate object is dimensionless, an arbitrary distance value of 1000000.0 kpc will be set instead. [astropy.coordinates.spectral_coordinate]\n"
     ]
    },
    {
     "name": "stdout",
     "output_type": "stream",
     "text": [
      "Gridding /bb8/lingrui/my_projects/FAST_pipeline/Sun17_A_00/M14/Tsys_psr_Sun17_A_00_M14-M14_211010_100500to211010_101848_icrs.fits\n",
      "Doing Doppler Tracking!\n"
     ]
    },
    {
     "name": "stderr",
     "output_type": "stream",
     "text": [
      "WARNING: NoVelocityWarning: No velocity defined on frame, assuming (0., 0., 0.) km / s. [astropy.coordinates.spectral_coordinate]\n",
      "WARNING: NoDistanceWarning: Distance on coordinate object is dimensionless, an arbitrary distance value of 1000000.0 kpc will be set instead. [astropy.coordinates.spectral_coordinate]\n"
     ]
    },
    {
     "name": "stdout",
     "output_type": "stream",
     "text": [
      "Gridding /bb8/lingrui/my_projects/FAST_pipeline/Sun17_A_00/M15/Tsys_psr_Sun17_A_00_M15-M15_211010_100500to211010_101848_icrs.fits\n",
      "Doing Doppler Tracking!\n"
     ]
    },
    {
     "name": "stderr",
     "output_type": "stream",
     "text": [
      "WARNING: NoVelocityWarning: No velocity defined on frame, assuming (0., 0., 0.) km / s. [astropy.coordinates.spectral_coordinate]\n",
      "WARNING: NoDistanceWarning: Distance on coordinate object is dimensionless, an arbitrary distance value of 1000000.0 kpc will be set instead. [astropy.coordinates.spectral_coordinate]\n"
     ]
    },
    {
     "name": "stdout",
     "output_type": "stream",
     "text": [
      "Gridding /bb8/lingrui/my_projects/FAST_pipeline/Sun17_A_00/M16/Tsys_psr_Sun17_A_00_M16-M16_211010_100500to211010_101848_icrs.fits\n",
      "Doing Doppler Tracking!\n"
     ]
    },
    {
     "name": "stderr",
     "output_type": "stream",
     "text": [
      "WARNING: NoVelocityWarning: No velocity defined on frame, assuming (0., 0., 0.) km / s. [astropy.coordinates.spectral_coordinate]\n",
      "WARNING: NoDistanceWarning: Distance on coordinate object is dimensionless, an arbitrary distance value of 1000000.0 kpc will be set instead. [astropy.coordinates.spectral_coordinate]\n"
     ]
    },
    {
     "name": "stdout",
     "output_type": "stream",
     "text": [
      "Gridding /bb8/lingrui/my_projects/FAST_pipeline/Sun17_A_00/M17/Tsys_psr_Sun17_A_00_M17-M17_211010_100500to211010_101848_icrs.fits\n",
      "Doing Doppler Tracking!\n"
     ]
    },
    {
     "name": "stderr",
     "output_type": "stream",
     "text": [
      "WARNING: NoVelocityWarning: No velocity defined on frame, assuming (0., 0., 0.) km / s. [astropy.coordinates.spectral_coordinate]\n",
      "WARNING: NoDistanceWarning: Distance on coordinate object is dimensionless, an arbitrary distance value of 1000000.0 kpc will be set instead. [astropy.coordinates.spectral_coordinate]\n"
     ]
    },
    {
     "name": "stdout",
     "output_type": "stream",
     "text": [
      "Gridding /bb8/lingrui/my_projects/FAST_pipeline/Sun17_A_00/M18/Tsys_psr_Sun17_A_00_M18-M18_211010_100500to211010_101848_icrs.fits\n",
      "Doing Doppler Tracking!\n"
     ]
    },
    {
     "name": "stderr",
     "output_type": "stream",
     "text": [
      "WARNING: NoVelocityWarning: No velocity defined on frame, assuming (0., 0., 0.) km / s. [astropy.coordinates.spectral_coordinate]\n",
      "WARNING: NoDistanceWarning: Distance on coordinate object is dimensionless, an arbitrary distance value of 1000000.0 kpc will be set instead. [astropy.coordinates.spectral_coordinate]\n"
     ]
    },
    {
     "name": "stdout",
     "output_type": "stream",
     "text": [
      "Gridding /bb8/lingrui/my_projects/FAST_pipeline/Sun17_A_00/M19/Tsys_psr_Sun17_A_00_M19-M19_211010_100500to211010_101848_icrs.fits\n",
      "Doing Doppler Tracking!\n"
     ]
    },
    {
     "name": "stderr",
     "output_type": "stream",
     "text": [
      "WARNING: NoVelocityWarning: No velocity defined on frame, assuming (0., 0., 0.) km / s. [astropy.coordinates.spectral_coordinate]\n",
      "WARNING: NoDistanceWarning: Distance on coordinate object is dimensionless, an arbitrary distance value of 1000000.0 kpc will be set instead. [astropy.coordinates.spectral_coordinate]\n"
     ]
    },
    {
     "name": "stdout",
     "output_type": "stream",
     "text": [
      "Gridding /bb8/lingrui/my_projects/FAST_pipeline/Sun17_A_01/M01/Tsys_psr_Sun17_A_01_M01-M01_211010_103100to211010_104448_icrs.fits\n",
      "Doing Doppler Tracking!\n"
     ]
    },
    {
     "name": "stderr",
     "output_type": "stream",
     "text": [
      "WARNING: NoVelocityWarning: No velocity defined on frame, assuming (0., 0., 0.) km / s. [astropy.coordinates.spectral_coordinate]\n",
      "WARNING: NoDistanceWarning: Distance on coordinate object is dimensionless, an arbitrary distance value of 1000000.0 kpc will be set instead. [astropy.coordinates.spectral_coordinate]\n"
     ]
    },
    {
     "name": "stdout",
     "output_type": "stream",
     "text": [
      "Gridding /bb8/lingrui/my_projects/FAST_pipeline/Sun17_A_01/M02/Tsys_psr_Sun17_A_01_M02-M02_211010_103100to211010_104448_icrs.fits\n",
      "Doing Doppler Tracking!\n"
     ]
    },
    {
     "name": "stderr",
     "output_type": "stream",
     "text": [
      "WARNING: NoVelocityWarning: No velocity defined on frame, assuming (0., 0., 0.) km / s. [astropy.coordinates.spectral_coordinate]\n",
      "WARNING: NoDistanceWarning: Distance on coordinate object is dimensionless, an arbitrary distance value of 1000000.0 kpc will be set instead. [astropy.coordinates.spectral_coordinate]\n"
     ]
    },
    {
     "name": "stdout",
     "output_type": "stream",
     "text": [
      "Gridding /bb8/lingrui/my_projects/FAST_pipeline/Sun17_A_01/M03/Tsys_psr_Sun17_A_01_M03-M03_211010_103100to211010_104448_icrs.fits\n",
      "Doing Doppler Tracking!\n"
     ]
    },
    {
     "name": "stderr",
     "output_type": "stream",
     "text": [
      "WARNING: NoVelocityWarning: No velocity defined on frame, assuming (0., 0., 0.) km / s. [astropy.coordinates.spectral_coordinate]\n",
      "WARNING: NoDistanceWarning: Distance on coordinate object is dimensionless, an arbitrary distance value of 1000000.0 kpc will be set instead. [astropy.coordinates.spectral_coordinate]\n"
     ]
    },
    {
     "name": "stdout",
     "output_type": "stream",
     "text": [
      "Gridding /bb8/lingrui/my_projects/FAST_pipeline/Sun17_A_01/M04/Tsys_psr_Sun17_A_01_M04-M04_211010_103100to211010_104448_icrs.fits\n",
      "Doing Doppler Tracking!\n"
     ]
    },
    {
     "name": "stderr",
     "output_type": "stream",
     "text": [
      "WARNING: NoVelocityWarning: No velocity defined on frame, assuming (0., 0., 0.) km / s. [astropy.coordinates.spectral_coordinate]\n",
      "WARNING: NoDistanceWarning: Distance on coordinate object is dimensionless, an arbitrary distance value of 1000000.0 kpc will be set instead. [astropy.coordinates.spectral_coordinate]\n"
     ]
    },
    {
     "name": "stdout",
     "output_type": "stream",
     "text": [
      "Gridding /bb8/lingrui/my_projects/FAST_pipeline/Sun17_A_01/M05/Tsys_psr_Sun17_A_01_M05-M05_211010_103100to211010_104448_icrs.fits\n",
      "Doing Doppler Tracking!\n"
     ]
    },
    {
     "name": "stderr",
     "output_type": "stream",
     "text": [
      "WARNING: NoVelocityWarning: No velocity defined on frame, assuming (0., 0., 0.) km / s. [astropy.coordinates.spectral_coordinate]\n",
      "WARNING: NoDistanceWarning: Distance on coordinate object is dimensionless, an arbitrary distance value of 1000000.0 kpc will be set instead. [astropy.coordinates.spectral_coordinate]\n"
     ]
    },
    {
     "name": "stdout",
     "output_type": "stream",
     "text": [
      "Gridding /bb8/lingrui/my_projects/FAST_pipeline/Sun17_A_01/M06/Tsys_psr_Sun17_A_01_M06-M06_211010_103100to211010_104448_icrs.fits\n",
      "Doing Doppler Tracking!\n"
     ]
    },
    {
     "name": "stderr",
     "output_type": "stream",
     "text": [
      "WARNING: NoVelocityWarning: No velocity defined on frame, assuming (0., 0., 0.) km / s. [astropy.coordinates.spectral_coordinate]\n",
      "WARNING: NoDistanceWarning: Distance on coordinate object is dimensionless, an arbitrary distance value of 1000000.0 kpc will be set instead. [astropy.coordinates.spectral_coordinate]\n"
     ]
    },
    {
     "name": "stdout",
     "output_type": "stream",
     "text": [
      "Gridding /bb8/lingrui/my_projects/FAST_pipeline/Sun17_A_01/M07/Tsys_psr_Sun17_A_01_M07-M07_211010_103100to211010_104448_icrs.fits\n",
      "Doing Doppler Tracking!\n"
     ]
    },
    {
     "name": "stderr",
     "output_type": "stream",
     "text": [
      "WARNING: NoVelocityWarning: No velocity defined on frame, assuming (0., 0., 0.) km / s. [astropy.coordinates.spectral_coordinate]\n",
      "WARNING: NoDistanceWarning: Distance on coordinate object is dimensionless, an arbitrary distance value of 1000000.0 kpc will be set instead. [astropy.coordinates.spectral_coordinate]\n"
     ]
    },
    {
     "name": "stdout",
     "output_type": "stream",
     "text": [
      "Gridding /bb8/lingrui/my_projects/FAST_pipeline/Sun17_A_01/M08/Tsys_psr_Sun17_A_01_M08-M08_211010_103100to211010_104448_icrs.fits\n",
      "Doing Doppler Tracking!\n"
     ]
    },
    {
     "name": "stderr",
     "output_type": "stream",
     "text": [
      "WARNING: NoVelocityWarning: No velocity defined on frame, assuming (0., 0., 0.) km / s. [astropy.coordinates.spectral_coordinate]\n",
      "WARNING: NoDistanceWarning: Distance on coordinate object is dimensionless, an arbitrary distance value of 1000000.0 kpc will be set instead. [astropy.coordinates.spectral_coordinate]\n"
     ]
    },
    {
     "name": "stdout",
     "output_type": "stream",
     "text": [
      "Gridding /bb8/lingrui/my_projects/FAST_pipeline/Sun17_A_01/M09/Tsys_psr_Sun17_A_01_M09-M09_211010_103100to211010_104448_icrs.fits\n",
      "Doing Doppler Tracking!\n"
     ]
    },
    {
     "name": "stderr",
     "output_type": "stream",
     "text": [
      "WARNING: NoVelocityWarning: No velocity defined on frame, assuming (0., 0., 0.) km / s. [astropy.coordinates.spectral_coordinate]\n",
      "WARNING: NoDistanceWarning: Distance on coordinate object is dimensionless, an arbitrary distance value of 1000000.0 kpc will be set instead. [astropy.coordinates.spectral_coordinate]\n"
     ]
    },
    {
     "name": "stdout",
     "output_type": "stream",
     "text": [
      "Gridding /bb8/lingrui/my_projects/FAST_pipeline/Sun17_A_01/M10/Tsys_psr_Sun17_A_01_M10-M10_211010_103100to211010_104448_icrs.fits\n",
      "Doing Doppler Tracking!\n"
     ]
    },
    {
     "name": "stderr",
     "output_type": "stream",
     "text": [
      "WARNING: NoVelocityWarning: No velocity defined on frame, assuming (0., 0., 0.) km / s. [astropy.coordinates.spectral_coordinate]\n",
      "WARNING: NoDistanceWarning: Distance on coordinate object is dimensionless, an arbitrary distance value of 1000000.0 kpc will be set instead. [astropy.coordinates.spectral_coordinate]\n"
     ]
    },
    {
     "name": "stdout",
     "output_type": "stream",
     "text": [
      "Gridding /bb8/lingrui/my_projects/FAST_pipeline/Sun17_A_01/M11/Tsys_psr_Sun17_A_01_M11-M11_211010_103100to211010_104448_icrs.fits\n",
      "Doing Doppler Tracking!\n"
     ]
    },
    {
     "name": "stderr",
     "output_type": "stream",
     "text": [
      "WARNING: NoVelocityWarning: No velocity defined on frame, assuming (0., 0., 0.) km / s. [astropy.coordinates.spectral_coordinate]\n",
      "WARNING: NoDistanceWarning: Distance on coordinate object is dimensionless, an arbitrary distance value of 1000000.0 kpc will be set instead. [astropy.coordinates.spectral_coordinate]\n"
     ]
    },
    {
     "name": "stdout",
     "output_type": "stream",
     "text": [
      "Gridding /bb8/lingrui/my_projects/FAST_pipeline/Sun17_A_01/M12/Tsys_psr_Sun17_A_01_M12-M12_211010_103100to211010_104448_icrs.fits\n",
      "Doing Doppler Tracking!\n"
     ]
    },
    {
     "name": "stderr",
     "output_type": "stream",
     "text": [
      "WARNING: NoVelocityWarning: No velocity defined on frame, assuming (0., 0., 0.) km / s. [astropy.coordinates.spectral_coordinate]\n",
      "WARNING: NoDistanceWarning: Distance on coordinate object is dimensionless, an arbitrary distance value of 1000000.0 kpc will be set instead. [astropy.coordinates.spectral_coordinate]\n"
     ]
    },
    {
     "name": "stdout",
     "output_type": "stream",
     "text": [
      "Gridding /bb8/lingrui/my_projects/FAST_pipeline/Sun17_A_01/M13/Tsys_psr_Sun17_A_01_M13-M13_211010_103100to211010_104448_icrs.fits\n",
      "Doing Doppler Tracking!\n"
     ]
    },
    {
     "name": "stderr",
     "output_type": "stream",
     "text": [
      "WARNING: NoVelocityWarning: No velocity defined on frame, assuming (0., 0., 0.) km / s. [astropy.coordinates.spectral_coordinate]\n",
      "WARNING: NoDistanceWarning: Distance on coordinate object is dimensionless, an arbitrary distance value of 1000000.0 kpc will be set instead. [astropy.coordinates.spectral_coordinate]\n"
     ]
    },
    {
     "name": "stdout",
     "output_type": "stream",
     "text": [
      "Gridding /bb8/lingrui/my_projects/FAST_pipeline/Sun17_A_01/M14/Tsys_psr_Sun17_A_01_M14-M14_211010_103100to211010_104448_icrs.fits\n",
      "Doing Doppler Tracking!\n"
     ]
    },
    {
     "name": "stderr",
     "output_type": "stream",
     "text": [
      "WARNING: NoVelocityWarning: No velocity defined on frame, assuming (0., 0., 0.) km / s. [astropy.coordinates.spectral_coordinate]\n",
      "WARNING: NoDistanceWarning: Distance on coordinate object is dimensionless, an arbitrary distance value of 1000000.0 kpc will be set instead. [astropy.coordinates.spectral_coordinate]\n"
     ]
    },
    {
     "name": "stdout",
     "output_type": "stream",
     "text": [
      "Gridding /bb8/lingrui/my_projects/FAST_pipeline/Sun17_A_01/M15/Tsys_psr_Sun17_A_01_M15-M15_211010_103100to211010_104448_icrs.fits\n",
      "Doing Doppler Tracking!\n"
     ]
    },
    {
     "name": "stderr",
     "output_type": "stream",
     "text": [
      "WARNING: NoVelocityWarning: No velocity defined on frame, assuming (0., 0., 0.) km / s. [astropy.coordinates.spectral_coordinate]\n",
      "WARNING: NoDistanceWarning: Distance on coordinate object is dimensionless, an arbitrary distance value of 1000000.0 kpc will be set instead. [astropy.coordinates.spectral_coordinate]\n"
     ]
    },
    {
     "name": "stdout",
     "output_type": "stream",
     "text": [
      "Gridding /bb8/lingrui/my_projects/FAST_pipeline/Sun17_A_01/M16/Tsys_psr_Sun17_A_01_M16-M16_211010_103100to211010_104448_icrs.fits\n",
      "Doing Doppler Tracking!\n"
     ]
    },
    {
     "name": "stderr",
     "output_type": "stream",
     "text": [
      "WARNING: NoVelocityWarning: No velocity defined on frame, assuming (0., 0., 0.) km / s. [astropy.coordinates.spectral_coordinate]\n",
      "WARNING: NoDistanceWarning: Distance on coordinate object is dimensionless, an arbitrary distance value of 1000000.0 kpc will be set instead. [astropy.coordinates.spectral_coordinate]\n"
     ]
    },
    {
     "name": "stdout",
     "output_type": "stream",
     "text": [
      "Gridding /bb8/lingrui/my_projects/FAST_pipeline/Sun17_A_01/M17/Tsys_psr_Sun17_A_01_M17-M17_211010_103100to211010_104448_icrs.fits\n",
      "Doing Doppler Tracking!\n"
     ]
    },
    {
     "name": "stderr",
     "output_type": "stream",
     "text": [
      "WARNING: NoVelocityWarning: No velocity defined on frame, assuming (0., 0., 0.) km / s. [astropy.coordinates.spectral_coordinate]\n",
      "WARNING: NoDistanceWarning: Distance on coordinate object is dimensionless, an arbitrary distance value of 1000000.0 kpc will be set instead. [astropy.coordinates.spectral_coordinate]\n"
     ]
    },
    {
     "name": "stdout",
     "output_type": "stream",
     "text": [
      "Gridding /bb8/lingrui/my_projects/FAST_pipeline/Sun17_A_01/M18/Tsys_psr_Sun17_A_01_M18-M18_211010_103100to211010_104448_icrs.fits\n",
      "Doing Doppler Tracking!\n"
     ]
    },
    {
     "name": "stderr",
     "output_type": "stream",
     "text": [
      "WARNING: NoVelocityWarning: No velocity defined on frame, assuming (0., 0., 0.) km / s. [astropy.coordinates.spectral_coordinate]\n",
      "WARNING: NoDistanceWarning: Distance on coordinate object is dimensionless, an arbitrary distance value of 1000000.0 kpc will be set instead. [astropy.coordinates.spectral_coordinate]\n"
     ]
    },
    {
     "name": "stdout",
     "output_type": "stream",
     "text": [
      "Gridding /bb8/lingrui/my_projects/FAST_pipeline/Sun17_A_01/M19/Tsys_psr_Sun17_A_01_M19-M19_211010_103100to211010_104448_icrs.fits\n",
      "Doing Doppler Tracking!\n"
     ]
    },
    {
     "name": "stderr",
     "output_type": "stream",
     "text": [
      "WARNING: NoVelocityWarning: No velocity defined on frame, assuming (0., 0., 0.) km / s. [astropy.coordinates.spectral_coordinate]\n",
      "WARNING: NoDistanceWarning: Distance on coordinate object is dimensionless, an arbitrary distance value of 1000000.0 kpc will be set instead. [astropy.coordinates.spectral_coordinate]\n"
     ]
    },
    {
     "name": "stdout",
     "output_type": "stream",
     "text": [
      "Gridding /bb8/lingrui/my_projects/FAST_pipeline/Sun17_A_02/M01/Tsys_psr_Sun17_A_02_M01-M01_211010_105700to211010_111048_icrs.fits\n",
      "Doing Doppler Tracking!\n"
     ]
    },
    {
     "name": "stderr",
     "output_type": "stream",
     "text": [
      "WARNING: NoVelocityWarning: No velocity defined on frame, assuming (0., 0., 0.) km / s. [astropy.coordinates.spectral_coordinate]\n",
      "WARNING: NoDistanceWarning: Distance on coordinate object is dimensionless, an arbitrary distance value of 1000000.0 kpc will be set instead. [astropy.coordinates.spectral_coordinate]\n"
     ]
    },
    {
     "name": "stdout",
     "output_type": "stream",
     "text": [
      "Gridding /bb8/lingrui/my_projects/FAST_pipeline/Sun17_A_02/M02/Tsys_psr_Sun17_A_02_M02-M02_211010_105700to211010_111048_icrs.fits\n",
      "Doing Doppler Tracking!\n"
     ]
    },
    {
     "name": "stderr",
     "output_type": "stream",
     "text": [
      "WARNING: NoVelocityWarning: No velocity defined on frame, assuming (0., 0., 0.) km / s. [astropy.coordinates.spectral_coordinate]\n",
      "WARNING: NoDistanceWarning: Distance on coordinate object is dimensionless, an arbitrary distance value of 1000000.0 kpc will be set instead. [astropy.coordinates.spectral_coordinate]\n"
     ]
    },
    {
     "name": "stdout",
     "output_type": "stream",
     "text": [
      "Gridding /bb8/lingrui/my_projects/FAST_pipeline/Sun17_A_02/M03/Tsys_psr_Sun17_A_02_M03-M03_211010_105700to211010_111048_icrs.fits\n",
      "Doing Doppler Tracking!\n"
     ]
    },
    {
     "name": "stderr",
     "output_type": "stream",
     "text": [
      "WARNING: NoVelocityWarning: No velocity defined on frame, assuming (0., 0., 0.) km / s. [astropy.coordinates.spectral_coordinate]\n",
      "WARNING: NoDistanceWarning: Distance on coordinate object is dimensionless, an arbitrary distance value of 1000000.0 kpc will be set instead. [astropy.coordinates.spectral_coordinate]\n"
     ]
    },
    {
     "name": "stdout",
     "output_type": "stream",
     "text": [
      "Gridding /bb8/lingrui/my_projects/FAST_pipeline/Sun17_A_02/M04/Tsys_psr_Sun17_A_02_M04-M04_211010_105700to211010_111048_icrs.fits\n",
      "Doing Doppler Tracking!\n"
     ]
    },
    {
     "name": "stderr",
     "output_type": "stream",
     "text": [
      "WARNING: NoVelocityWarning: No velocity defined on frame, assuming (0., 0., 0.) km / s. [astropy.coordinates.spectral_coordinate]\n",
      "WARNING: NoDistanceWarning: Distance on coordinate object is dimensionless, an arbitrary distance value of 1000000.0 kpc will be set instead. [astropy.coordinates.spectral_coordinate]\n"
     ]
    },
    {
     "name": "stdout",
     "output_type": "stream",
     "text": [
      "Gridding /bb8/lingrui/my_projects/FAST_pipeline/Sun17_A_02/M05/Tsys_psr_Sun17_A_02_M05-M05_211010_105700to211010_111048_icrs.fits\n",
      "Doing Doppler Tracking!\n"
     ]
    },
    {
     "name": "stderr",
     "output_type": "stream",
     "text": [
      "WARNING: NoVelocityWarning: No velocity defined on frame, assuming (0., 0., 0.) km / s. [astropy.coordinates.spectral_coordinate]\n",
      "WARNING: NoDistanceWarning: Distance on coordinate object is dimensionless, an arbitrary distance value of 1000000.0 kpc will be set instead. [astropy.coordinates.spectral_coordinate]\n"
     ]
    },
    {
     "name": "stdout",
     "output_type": "stream",
     "text": [
      "Gridding /bb8/lingrui/my_projects/FAST_pipeline/Sun17_A_02/M06/Tsys_psr_Sun17_A_02_M06-M06_211010_105700to211010_111048_icrs.fits\n",
      "Doing Doppler Tracking!\n"
     ]
    },
    {
     "name": "stderr",
     "output_type": "stream",
     "text": [
      "WARNING: NoVelocityWarning: No velocity defined on frame, assuming (0., 0., 0.) km / s. [astropy.coordinates.spectral_coordinate]\n",
      "WARNING: NoDistanceWarning: Distance on coordinate object is dimensionless, an arbitrary distance value of 1000000.0 kpc will be set instead. [astropy.coordinates.spectral_coordinate]\n"
     ]
    },
    {
     "name": "stdout",
     "output_type": "stream",
     "text": [
      "Gridding /bb8/lingrui/my_projects/FAST_pipeline/Sun17_A_02/M07/Tsys_psr_Sun17_A_02_M07-M07_211010_105700to211010_111048_icrs.fits\n",
      "Doing Doppler Tracking!\n"
     ]
    },
    {
     "name": "stderr",
     "output_type": "stream",
     "text": [
      "WARNING: NoVelocityWarning: No velocity defined on frame, assuming (0., 0., 0.) km / s. [astropy.coordinates.spectral_coordinate]\n",
      "WARNING: NoDistanceWarning: Distance on coordinate object is dimensionless, an arbitrary distance value of 1000000.0 kpc will be set instead. [astropy.coordinates.spectral_coordinate]\n"
     ]
    },
    {
     "name": "stdout",
     "output_type": "stream",
     "text": [
      "Gridding /bb8/lingrui/my_projects/FAST_pipeline/Sun17_A_02/M08/Tsys_psr_Sun17_A_02_M08-M08_211010_105700to211010_111048_icrs.fits\n",
      "Doing Doppler Tracking!\n"
     ]
    },
    {
     "name": "stderr",
     "output_type": "stream",
     "text": [
      "WARNING: NoVelocityWarning: No velocity defined on frame, assuming (0., 0., 0.) km / s. [astropy.coordinates.spectral_coordinate]\n",
      "WARNING: NoDistanceWarning: Distance on coordinate object is dimensionless, an arbitrary distance value of 1000000.0 kpc will be set instead. [astropy.coordinates.spectral_coordinate]\n"
     ]
    },
    {
     "name": "stdout",
     "output_type": "stream",
     "text": [
      "Gridding /bb8/lingrui/my_projects/FAST_pipeline/Sun17_A_02/M09/Tsys_psr_Sun17_A_02_M09-M09_211010_105700to211010_111048_icrs.fits\n",
      "Doing Doppler Tracking!\n"
     ]
    },
    {
     "name": "stderr",
     "output_type": "stream",
     "text": [
      "WARNING: NoVelocityWarning: No velocity defined on frame, assuming (0., 0., 0.) km / s. [astropy.coordinates.spectral_coordinate]\n",
      "WARNING: NoDistanceWarning: Distance on coordinate object is dimensionless, an arbitrary distance value of 1000000.0 kpc will be set instead. [astropy.coordinates.spectral_coordinate]\n"
     ]
    },
    {
     "name": "stdout",
     "output_type": "stream",
     "text": [
      "Gridding /bb8/lingrui/my_projects/FAST_pipeline/Sun17_A_02/M10/Tsys_psr_Sun17_A_02_M10-M10_211010_105700to211010_111048_icrs.fits\n",
      "Doing Doppler Tracking!\n"
     ]
    },
    {
     "name": "stderr",
     "output_type": "stream",
     "text": [
      "WARNING: NoVelocityWarning: No velocity defined on frame, assuming (0., 0., 0.) km / s. [astropy.coordinates.spectral_coordinate]\n",
      "WARNING: NoDistanceWarning: Distance on coordinate object is dimensionless, an arbitrary distance value of 1000000.0 kpc will be set instead. [astropy.coordinates.spectral_coordinate]\n"
     ]
    },
    {
     "name": "stdout",
     "output_type": "stream",
     "text": [
      "Gridding /bb8/lingrui/my_projects/FAST_pipeline/Sun17_A_02/M11/Tsys_psr_Sun17_A_02_M11-M11_211010_105700to211010_111048_icrs.fits\n",
      "Doing Doppler Tracking!\n"
     ]
    },
    {
     "name": "stderr",
     "output_type": "stream",
     "text": [
      "WARNING: NoVelocityWarning: No velocity defined on frame, assuming (0., 0., 0.) km / s. [astropy.coordinates.spectral_coordinate]\n",
      "WARNING: NoDistanceWarning: Distance on coordinate object is dimensionless, an arbitrary distance value of 1000000.0 kpc will be set instead. [astropy.coordinates.spectral_coordinate]\n"
     ]
    },
    {
     "name": "stdout",
     "output_type": "stream",
     "text": [
      "Gridding /bb8/lingrui/my_projects/FAST_pipeline/Sun17_A_02/M12/Tsys_psr_Sun17_A_02_M12-M12_211010_105700to211010_111048_icrs.fits\n",
      "Doing Doppler Tracking!\n"
     ]
    },
    {
     "name": "stderr",
     "output_type": "stream",
     "text": [
      "WARNING: NoVelocityWarning: No velocity defined on frame, assuming (0., 0., 0.) km / s. [astropy.coordinates.spectral_coordinate]\n",
      "WARNING: NoDistanceWarning: Distance on coordinate object is dimensionless, an arbitrary distance value of 1000000.0 kpc will be set instead. [astropy.coordinates.spectral_coordinate]\n"
     ]
    },
    {
     "name": "stdout",
     "output_type": "stream",
     "text": [
      "Gridding /bb8/lingrui/my_projects/FAST_pipeline/Sun17_A_02/M13/Tsys_psr_Sun17_A_02_M13-M13_211010_105700to211010_111048_icrs.fits\n",
      "Doing Doppler Tracking!\n"
     ]
    },
    {
     "name": "stderr",
     "output_type": "stream",
     "text": [
      "WARNING: NoVelocityWarning: No velocity defined on frame, assuming (0., 0., 0.) km / s. [astropy.coordinates.spectral_coordinate]\n",
      "WARNING: NoDistanceWarning: Distance on coordinate object is dimensionless, an arbitrary distance value of 1000000.0 kpc will be set instead. [astropy.coordinates.spectral_coordinate]\n"
     ]
    },
    {
     "name": "stdout",
     "output_type": "stream",
     "text": [
      "Gridding /bb8/lingrui/my_projects/FAST_pipeline/Sun17_A_02/M14/Tsys_psr_Sun17_A_02_M14-M14_211010_105700to211010_111048_icrs.fits\n",
      "Doing Doppler Tracking!\n"
     ]
    },
    {
     "name": "stderr",
     "output_type": "stream",
     "text": [
      "WARNING: NoVelocityWarning: No velocity defined on frame, assuming (0., 0., 0.) km / s. [astropy.coordinates.spectral_coordinate]\n",
      "WARNING: NoDistanceWarning: Distance on coordinate object is dimensionless, an arbitrary distance value of 1000000.0 kpc will be set instead. [astropy.coordinates.spectral_coordinate]\n"
     ]
    },
    {
     "name": "stdout",
     "output_type": "stream",
     "text": [
      "Gridding /bb8/lingrui/my_projects/FAST_pipeline/Sun17_A_02/M15/Tsys_psr_Sun17_A_02_M15-M15_211010_105700to211010_111048_icrs.fits\n",
      "Doing Doppler Tracking!\n"
     ]
    },
    {
     "name": "stderr",
     "output_type": "stream",
     "text": [
      "WARNING: NoVelocityWarning: No velocity defined on frame, assuming (0., 0., 0.) km / s. [astropy.coordinates.spectral_coordinate]\n",
      "WARNING: NoDistanceWarning: Distance on coordinate object is dimensionless, an arbitrary distance value of 1000000.0 kpc will be set instead. [astropy.coordinates.spectral_coordinate]\n"
     ]
    },
    {
     "name": "stdout",
     "output_type": "stream",
     "text": [
      "Gridding /bb8/lingrui/my_projects/FAST_pipeline/Sun17_A_02/M16/Tsys_psr_Sun17_A_02_M16-M16_211010_105700to211010_111048_icrs.fits\n",
      "Doing Doppler Tracking!\n"
     ]
    },
    {
     "name": "stderr",
     "output_type": "stream",
     "text": [
      "WARNING: NoVelocityWarning: No velocity defined on frame, assuming (0., 0., 0.) km / s. [astropy.coordinates.spectral_coordinate]\n",
      "WARNING: NoDistanceWarning: Distance on coordinate object is dimensionless, an arbitrary distance value of 1000000.0 kpc will be set instead. [astropy.coordinates.spectral_coordinate]\n"
     ]
    },
    {
     "name": "stdout",
     "output_type": "stream",
     "text": [
      "Gridding /bb8/lingrui/my_projects/FAST_pipeline/Sun17_A_02/M17/Tsys_psr_Sun17_A_02_M17-M17_211010_105700to211010_111048_icrs.fits\n",
      "Doing Doppler Tracking!\n"
     ]
    },
    {
     "name": "stderr",
     "output_type": "stream",
     "text": [
      "WARNING: NoVelocityWarning: No velocity defined on frame, assuming (0., 0., 0.) km / s. [astropy.coordinates.spectral_coordinate]\n",
      "WARNING: NoDistanceWarning: Distance on coordinate object is dimensionless, an arbitrary distance value of 1000000.0 kpc will be set instead. [astropy.coordinates.spectral_coordinate]\n"
     ]
    },
    {
     "name": "stdout",
     "output_type": "stream",
     "text": [
      "Gridding /bb8/lingrui/my_projects/FAST_pipeline/Sun17_A_02/M18/Tsys_psr_Sun17_A_02_M18-M18_211010_105700to211010_111048_icrs.fits\n",
      "Doing Doppler Tracking!\n"
     ]
    },
    {
     "name": "stderr",
     "output_type": "stream",
     "text": [
      "WARNING: NoVelocityWarning: No velocity defined on frame, assuming (0., 0., 0.) km / s. [astropy.coordinates.spectral_coordinate]\n",
      "WARNING: NoDistanceWarning: Distance on coordinate object is dimensionless, an arbitrary distance value of 1000000.0 kpc will be set instead. [astropy.coordinates.spectral_coordinate]\n"
     ]
    },
    {
     "name": "stdout",
     "output_type": "stream",
     "text": [
      "Gridding /bb8/lingrui/my_projects/FAST_pipeline/Sun17_A_02/M19/Tsys_psr_Sun17_A_02_M19-M19_211010_105700to211010_111048_icrs.fits\n",
      "Doing Doppler Tracking!\n"
     ]
    },
    {
     "name": "stderr",
     "output_type": "stream",
     "text": [
      "WARNING: NoVelocityWarning: No velocity defined on frame, assuming (0., 0., 0.) km / s. [astropy.coordinates.spectral_coordinate]\n",
      "WARNING: NoDistanceWarning: Distance on coordinate object is dimensionless, an arbitrary distance value of 1000000.0 kpc will be set instead. [astropy.coordinates.spectral_coordinate]\n"
     ]
    },
    {
     "name": "stdout",
     "output_type": "stream",
     "text": [
      "Gridding /bb8/lingrui/my_projects/FAST_pipeline/Sun17_A_03/M01/Tsys_psr_Sun17_A_03_M01-M01_211010_112300to211010_113648_icrs.fits\n",
      "Doing Doppler Tracking!\n"
     ]
    },
    {
     "name": "stderr",
     "output_type": "stream",
     "text": [
      "WARNING: NoVelocityWarning: No velocity defined on frame, assuming (0., 0., 0.) km / s. [astropy.coordinates.spectral_coordinate]\n",
      "WARNING: NoDistanceWarning: Distance on coordinate object is dimensionless, an arbitrary distance value of 1000000.0 kpc will be set instead. [astropy.coordinates.spectral_coordinate]\n"
     ]
    },
    {
     "name": "stdout",
     "output_type": "stream",
     "text": [
      "Gridding /bb8/lingrui/my_projects/FAST_pipeline/Sun17_A_03/M02/Tsys_psr_Sun17_A_03_M02-M02_211010_112300to211010_113648_icrs.fits\n",
      "Doing Doppler Tracking!\n"
     ]
    },
    {
     "name": "stderr",
     "output_type": "stream",
     "text": [
      "WARNING: NoVelocityWarning: No velocity defined on frame, assuming (0., 0., 0.) km / s. [astropy.coordinates.spectral_coordinate]\n",
      "WARNING: NoDistanceWarning: Distance on coordinate object is dimensionless, an arbitrary distance value of 1000000.0 kpc will be set instead. [astropy.coordinates.spectral_coordinate]\n"
     ]
    },
    {
     "name": "stdout",
     "output_type": "stream",
     "text": [
      "Gridding /bb8/lingrui/my_projects/FAST_pipeline/Sun17_A_03/M03/Tsys_psr_Sun17_A_03_M03-M03_211010_112300to211010_113648_icrs.fits\n",
      "Doing Doppler Tracking!\n"
     ]
    },
    {
     "name": "stderr",
     "output_type": "stream",
     "text": [
      "WARNING: NoVelocityWarning: No velocity defined on frame, assuming (0., 0., 0.) km / s. [astropy.coordinates.spectral_coordinate]\n",
      "WARNING: NoDistanceWarning: Distance on coordinate object is dimensionless, an arbitrary distance value of 1000000.0 kpc will be set instead. [astropy.coordinates.spectral_coordinate]\n"
     ]
    },
    {
     "name": "stdout",
     "output_type": "stream",
     "text": [
      "Gridding /bb8/lingrui/my_projects/FAST_pipeline/Sun17_A_03/M04/Tsys_psr_Sun17_A_03_M04-M04_211010_112300to211010_113648_icrs.fits\n",
      "Doing Doppler Tracking!\n"
     ]
    },
    {
     "name": "stderr",
     "output_type": "stream",
     "text": [
      "WARNING: NoVelocityWarning: No velocity defined on frame, assuming (0., 0., 0.) km / s. [astropy.coordinates.spectral_coordinate]\n",
      "WARNING: NoDistanceWarning: Distance on coordinate object is dimensionless, an arbitrary distance value of 1000000.0 kpc will be set instead. [astropy.coordinates.spectral_coordinate]\n"
     ]
    },
    {
     "name": "stdout",
     "output_type": "stream",
     "text": [
      "Gridding /bb8/lingrui/my_projects/FAST_pipeline/Sun17_A_03/M05/Tsys_psr_Sun17_A_03_M05-M05_211010_112300to211010_113648_icrs.fits\n",
      "Doing Doppler Tracking!\n"
     ]
    },
    {
     "name": "stderr",
     "output_type": "stream",
     "text": [
      "WARNING: NoVelocityWarning: No velocity defined on frame, assuming (0., 0., 0.) km / s. [astropy.coordinates.spectral_coordinate]\n",
      "WARNING: NoDistanceWarning: Distance on coordinate object is dimensionless, an arbitrary distance value of 1000000.0 kpc will be set instead. [astropy.coordinates.spectral_coordinate]\n"
     ]
    },
    {
     "name": "stdout",
     "output_type": "stream",
     "text": [
      "Gridding /bb8/lingrui/my_projects/FAST_pipeline/Sun17_A_03/M06/Tsys_psr_Sun17_A_03_M06-M06_211010_112300to211010_113648_icrs.fits\n",
      "Doing Doppler Tracking!\n"
     ]
    },
    {
     "name": "stderr",
     "output_type": "stream",
     "text": [
      "WARNING: NoVelocityWarning: No velocity defined on frame, assuming (0., 0., 0.) km / s. [astropy.coordinates.spectral_coordinate]\n",
      "WARNING: NoDistanceWarning: Distance on coordinate object is dimensionless, an arbitrary distance value of 1000000.0 kpc will be set instead. [astropy.coordinates.spectral_coordinate]\n"
     ]
    },
    {
     "name": "stdout",
     "output_type": "stream",
     "text": [
      "Gridding /bb8/lingrui/my_projects/FAST_pipeline/Sun17_A_03/M07/Tsys_psr_Sun17_A_03_M07-M07_211010_112300to211010_113648_icrs.fits\n",
      "Doing Doppler Tracking!\n"
     ]
    },
    {
     "name": "stderr",
     "output_type": "stream",
     "text": [
      "WARNING: NoVelocityWarning: No velocity defined on frame, assuming (0., 0., 0.) km / s. [astropy.coordinates.spectral_coordinate]\n",
      "WARNING: NoDistanceWarning: Distance on coordinate object is dimensionless, an arbitrary distance value of 1000000.0 kpc will be set instead. [astropy.coordinates.spectral_coordinate]\n"
     ]
    },
    {
     "name": "stdout",
     "output_type": "stream",
     "text": [
      "Gridding /bb8/lingrui/my_projects/FAST_pipeline/Sun17_A_03/M08/Tsys_psr_Sun17_A_03_M08-M08_211010_112300to211010_113648_icrs.fits\n",
      "Doing Doppler Tracking!\n"
     ]
    },
    {
     "name": "stderr",
     "output_type": "stream",
     "text": [
      "WARNING: NoVelocityWarning: No velocity defined on frame, assuming (0., 0., 0.) km / s. [astropy.coordinates.spectral_coordinate]\n",
      "WARNING: NoDistanceWarning: Distance on coordinate object is dimensionless, an arbitrary distance value of 1000000.0 kpc will be set instead. [astropy.coordinates.spectral_coordinate]\n"
     ]
    },
    {
     "name": "stdout",
     "output_type": "stream",
     "text": [
      "Gridding /bb8/lingrui/my_projects/FAST_pipeline/Sun17_A_03/M09/Tsys_psr_Sun17_A_03_M09-M09_211010_112300to211010_113648_icrs.fits\n",
      "Doing Doppler Tracking!\n"
     ]
    },
    {
     "name": "stderr",
     "output_type": "stream",
     "text": [
      "WARNING: NoVelocityWarning: No velocity defined on frame, assuming (0., 0., 0.) km / s. [astropy.coordinates.spectral_coordinate]\n",
      "WARNING: NoDistanceWarning: Distance on coordinate object is dimensionless, an arbitrary distance value of 1000000.0 kpc will be set instead. [astropy.coordinates.spectral_coordinate]\n"
     ]
    },
    {
     "name": "stdout",
     "output_type": "stream",
     "text": [
      "Gridding /bb8/lingrui/my_projects/FAST_pipeline/Sun17_A_03/M10/Tsys_psr_Sun17_A_03_M10-M10_211010_112300to211010_113648_icrs.fits\n",
      "Doing Doppler Tracking!\n"
     ]
    },
    {
     "name": "stderr",
     "output_type": "stream",
     "text": [
      "WARNING: NoVelocityWarning: No velocity defined on frame, assuming (0., 0., 0.) km / s. [astropy.coordinates.spectral_coordinate]\n",
      "WARNING: NoDistanceWarning: Distance on coordinate object is dimensionless, an arbitrary distance value of 1000000.0 kpc will be set instead. [astropy.coordinates.spectral_coordinate]\n"
     ]
    },
    {
     "name": "stdout",
     "output_type": "stream",
     "text": [
      "Gridding /bb8/lingrui/my_projects/FAST_pipeline/Sun17_A_03/M11/Tsys_psr_Sun17_A_03_M11-M11_211010_112300to211010_113648_icrs.fits\n",
      "Doing Doppler Tracking!\n"
     ]
    },
    {
     "name": "stderr",
     "output_type": "stream",
     "text": [
      "WARNING: NoVelocityWarning: No velocity defined on frame, assuming (0., 0., 0.) km / s. [astropy.coordinates.spectral_coordinate]\n",
      "WARNING: NoDistanceWarning: Distance on coordinate object is dimensionless, an arbitrary distance value of 1000000.0 kpc will be set instead. [astropy.coordinates.spectral_coordinate]\n"
     ]
    },
    {
     "name": "stdout",
     "output_type": "stream",
     "text": [
      "Gridding /bb8/lingrui/my_projects/FAST_pipeline/Sun17_A_03/M12/Tsys_psr_Sun17_A_03_M12-M12_211010_112300to211010_113648_icrs.fits\n",
      "Doing Doppler Tracking!\n"
     ]
    },
    {
     "name": "stderr",
     "output_type": "stream",
     "text": [
      "WARNING: NoVelocityWarning: No velocity defined on frame, assuming (0., 0., 0.) km / s. [astropy.coordinates.spectral_coordinate]\n",
      "WARNING: NoDistanceWarning: Distance on coordinate object is dimensionless, an arbitrary distance value of 1000000.0 kpc will be set instead. [astropy.coordinates.spectral_coordinate]\n"
     ]
    },
    {
     "name": "stdout",
     "output_type": "stream",
     "text": [
      "Gridding /bb8/lingrui/my_projects/FAST_pipeline/Sun17_A_03/M13/Tsys_psr_Sun17_A_03_M13-M13_211010_112300to211010_113648_icrs.fits\n",
      "Doing Doppler Tracking!\n"
     ]
    },
    {
     "name": "stderr",
     "output_type": "stream",
     "text": [
      "WARNING: NoVelocityWarning: No velocity defined on frame, assuming (0., 0., 0.) km / s. [astropy.coordinates.spectral_coordinate]\n",
      "WARNING: NoDistanceWarning: Distance on coordinate object is dimensionless, an arbitrary distance value of 1000000.0 kpc will be set instead. [astropy.coordinates.spectral_coordinate]\n"
     ]
    },
    {
     "name": "stdout",
     "output_type": "stream",
     "text": [
      "Gridding /bb8/lingrui/my_projects/FAST_pipeline/Sun17_A_03/M14/Tsys_psr_Sun17_A_03_M14-M14_211010_112300to211010_113648_icrs.fits\n",
      "Doing Doppler Tracking!\n"
     ]
    },
    {
     "name": "stderr",
     "output_type": "stream",
     "text": [
      "WARNING: NoVelocityWarning: No velocity defined on frame, assuming (0., 0., 0.) km / s. [astropy.coordinates.spectral_coordinate]\n",
      "WARNING: NoDistanceWarning: Distance on coordinate object is dimensionless, an arbitrary distance value of 1000000.0 kpc will be set instead. [astropy.coordinates.spectral_coordinate]\n"
     ]
    },
    {
     "name": "stdout",
     "output_type": "stream",
     "text": [
      "Gridding /bb8/lingrui/my_projects/FAST_pipeline/Sun17_A_03/M15/Tsys_psr_Sun17_A_03_M15-M15_211010_112300to211010_113648_icrs.fits\n",
      "Doing Doppler Tracking!\n"
     ]
    },
    {
     "name": "stderr",
     "output_type": "stream",
     "text": [
      "WARNING: NoVelocityWarning: No velocity defined on frame, assuming (0., 0., 0.) km / s. [astropy.coordinates.spectral_coordinate]\n",
      "WARNING: NoDistanceWarning: Distance on coordinate object is dimensionless, an arbitrary distance value of 1000000.0 kpc will be set instead. [astropy.coordinates.spectral_coordinate]\n",
      "/home/lingrui/.local/lib/python3.10/site-packages/scipy/interpolate/_interpolate.py:656: RuntimeWarning: invalid value encountered in add\n",
      "  y_new = slope*(x_new - x_lo)[:, None] + y_lo\n"
     ]
    },
    {
     "name": "stdout",
     "output_type": "stream",
     "text": [
      "Gridding /bb8/lingrui/my_projects/FAST_pipeline/Sun17_A_03/M16/Tsys_psr_Sun17_A_03_M16-M16_211010_112300to211010_113648_icrs.fits\n",
      "Doing Doppler Tracking!\n"
     ]
    },
    {
     "name": "stderr",
     "output_type": "stream",
     "text": [
      "WARNING: NoVelocityWarning: No velocity defined on frame, assuming (0., 0., 0.) km / s. [astropy.coordinates.spectral_coordinate]\n",
      "WARNING: NoDistanceWarning: Distance on coordinate object is dimensionless, an arbitrary distance value of 1000000.0 kpc will be set instead. [astropy.coordinates.spectral_coordinate]\n"
     ]
    },
    {
     "name": "stdout",
     "output_type": "stream",
     "text": [
      "Gridding /bb8/lingrui/my_projects/FAST_pipeline/Sun17_A_03/M17/Tsys_psr_Sun17_A_03_M17-M17_211010_112300to211010_113648_icrs.fits\n",
      "Doing Doppler Tracking!\n"
     ]
    },
    {
     "name": "stderr",
     "output_type": "stream",
     "text": [
      "WARNING: NoVelocityWarning: No velocity defined on frame, assuming (0., 0., 0.) km / s. [astropy.coordinates.spectral_coordinate]\n",
      "WARNING: NoDistanceWarning: Distance on coordinate object is dimensionless, an arbitrary distance value of 1000000.0 kpc will be set instead. [astropy.coordinates.spectral_coordinate]\n"
     ]
    },
    {
     "name": "stdout",
     "output_type": "stream",
     "text": [
      "Gridding /bb8/lingrui/my_projects/FAST_pipeline/Sun17_A_03/M18/Tsys_psr_Sun17_A_03_M18-M18_211010_112300to211010_113648_icrs.fits\n",
      "Doing Doppler Tracking!\n"
     ]
    },
    {
     "name": "stderr",
     "output_type": "stream",
     "text": [
      "WARNING: NoVelocityWarning: No velocity defined on frame, assuming (0., 0., 0.) km / s. [astropy.coordinates.spectral_coordinate]\n",
      "WARNING: NoDistanceWarning: Distance on coordinate object is dimensionless, an arbitrary distance value of 1000000.0 kpc will be set instead. [astropy.coordinates.spectral_coordinate]\n"
     ]
    },
    {
     "name": "stdout",
     "output_type": "stream",
     "text": [
      "Gridding /bb8/lingrui/my_projects/FAST_pipeline/Sun17_A_03/M19/Tsys_psr_Sun17_A_03_M19-M19_211010_112300to211010_113648_icrs.fits\n",
      "Doing Doppler Tracking!\n"
     ]
    },
    {
     "name": "stderr",
     "output_type": "stream",
     "text": [
      "WARNING: NoVelocityWarning: No velocity defined on frame, assuming (0., 0., 0.) km / s. [astropy.coordinates.spectral_coordinate]\n",
      "WARNING: NoDistanceWarning: Distance on coordinate object is dimensionless, an arbitrary distance value of 1000000.0 kpc will be set instead. [astropy.coordinates.spectral_coordinate]\n"
     ]
    },
    {
     "name": "stdout",
     "output_type": "stream",
     "text": [
      "Gridding /bb8/lingrui/my_projects/FAST_pipeline/Sun17_A_04/M01/Tsys_psr_Sun17_A_04_M01-M01_211113_090800to211113_092148_icrs.fits\n",
      "Doing Doppler Tracking!\n"
     ]
    },
    {
     "name": "stderr",
     "output_type": "stream",
     "text": [
      "WARNING: NoVelocityWarning: No velocity defined on frame, assuming (0., 0., 0.) km / s. [astropy.coordinates.spectral_coordinate]\n",
      "WARNING: NoDistanceWarning: Distance on coordinate object is dimensionless, an arbitrary distance value of 1000000.0 kpc will be set instead. [astropy.coordinates.spectral_coordinate]\n"
     ]
    },
    {
     "name": "stdout",
     "output_type": "stream",
     "text": [
      "Gridding /bb8/lingrui/my_projects/FAST_pipeline/Sun17_A_04/M02/Tsys_psr_Sun17_A_04_M02-M02_211113_090800to211113_092148_icrs.fits\n",
      "Doing Doppler Tracking!\n"
     ]
    },
    {
     "name": "stderr",
     "output_type": "stream",
     "text": [
      "WARNING: NoVelocityWarning: No velocity defined on frame, assuming (0., 0., 0.) km / s. [astropy.coordinates.spectral_coordinate]\n",
      "WARNING: NoDistanceWarning: Distance on coordinate object is dimensionless, an arbitrary distance value of 1000000.0 kpc will be set instead. [astropy.coordinates.spectral_coordinate]\n"
     ]
    },
    {
     "name": "stdout",
     "output_type": "stream",
     "text": [
      "Gridding /bb8/lingrui/my_projects/FAST_pipeline/Sun17_A_04/M03/Tsys_psr_Sun17_A_04_M03-M03_211113_090800to211113_092148_icrs.fits\n",
      "Doing Doppler Tracking!\n"
     ]
    },
    {
     "name": "stderr",
     "output_type": "stream",
     "text": [
      "WARNING: NoVelocityWarning: No velocity defined on frame, assuming (0., 0., 0.) km / s. [astropy.coordinates.spectral_coordinate]\n",
      "WARNING: NoDistanceWarning: Distance on coordinate object is dimensionless, an arbitrary distance value of 1000000.0 kpc will be set instead. [astropy.coordinates.spectral_coordinate]\n"
     ]
    },
    {
     "name": "stdout",
     "output_type": "stream",
     "text": [
      "Gridding /bb8/lingrui/my_projects/FAST_pipeline/Sun17_A_04/M04/Tsys_psr_Sun17_A_04_M04-M04_211113_090800to211113_092148_icrs.fits\n",
      "Doing Doppler Tracking!\n"
     ]
    },
    {
     "name": "stderr",
     "output_type": "stream",
     "text": [
      "WARNING: NoVelocityWarning: No velocity defined on frame, assuming (0., 0., 0.) km / s. [astropy.coordinates.spectral_coordinate]\n",
      "WARNING: NoDistanceWarning: Distance on coordinate object is dimensionless, an arbitrary distance value of 1000000.0 kpc will be set instead. [astropy.coordinates.spectral_coordinate]\n"
     ]
    },
    {
     "name": "stdout",
     "output_type": "stream",
     "text": [
      "Gridding /bb8/lingrui/my_projects/FAST_pipeline/Sun17_A_04/M05/Tsys_psr_Sun17_A_04_M05-M05_211113_090800to211113_092148_icrs.fits\n",
      "Doing Doppler Tracking!\n"
     ]
    },
    {
     "name": "stderr",
     "output_type": "stream",
     "text": [
      "WARNING: NoVelocityWarning: No velocity defined on frame, assuming (0., 0., 0.) km / s. [astropy.coordinates.spectral_coordinate]\n",
      "WARNING: NoDistanceWarning: Distance on coordinate object is dimensionless, an arbitrary distance value of 1000000.0 kpc will be set instead. [astropy.coordinates.spectral_coordinate]\n"
     ]
    },
    {
     "name": "stdout",
     "output_type": "stream",
     "text": [
      "Gridding /bb8/lingrui/my_projects/FAST_pipeline/Sun17_A_04/M06/Tsys_psr_Sun17_A_04_M06-M06_211113_090800to211113_092148_icrs.fits\n",
      "Doing Doppler Tracking!\n"
     ]
    },
    {
     "name": "stderr",
     "output_type": "stream",
     "text": [
      "WARNING: NoVelocityWarning: No velocity defined on frame, assuming (0., 0., 0.) km / s. [astropy.coordinates.spectral_coordinate]\n",
      "WARNING: NoDistanceWarning: Distance on coordinate object is dimensionless, an arbitrary distance value of 1000000.0 kpc will be set instead. [astropy.coordinates.spectral_coordinate]\n"
     ]
    },
    {
     "name": "stdout",
     "output_type": "stream",
     "text": [
      "Gridding /bb8/lingrui/my_projects/FAST_pipeline/Sun17_A_04/M07/Tsys_psr_Sun17_A_04_M07-M07_211113_090800to211113_092148_icrs.fits\n",
      "Doing Doppler Tracking!\n"
     ]
    },
    {
     "name": "stderr",
     "output_type": "stream",
     "text": [
      "WARNING: NoVelocityWarning: No velocity defined on frame, assuming (0., 0., 0.) km / s. [astropy.coordinates.spectral_coordinate]\n",
      "WARNING: NoDistanceWarning: Distance on coordinate object is dimensionless, an arbitrary distance value of 1000000.0 kpc will be set instead. [astropy.coordinates.spectral_coordinate]\n"
     ]
    },
    {
     "name": "stdout",
     "output_type": "stream",
     "text": [
      "Gridding /bb8/lingrui/my_projects/FAST_pipeline/Sun17_A_04/M08/Tsys_psr_Sun17_A_04_M08-M08_211113_090800to211113_092148_icrs.fits\n",
      "Doing Doppler Tracking!\n"
     ]
    },
    {
     "name": "stderr",
     "output_type": "stream",
     "text": [
      "WARNING: NoVelocityWarning: No velocity defined on frame, assuming (0., 0., 0.) km / s. [astropy.coordinates.spectral_coordinate]\n",
      "WARNING: NoDistanceWarning: Distance on coordinate object is dimensionless, an arbitrary distance value of 1000000.0 kpc will be set instead. [astropy.coordinates.spectral_coordinate]\n"
     ]
    },
    {
     "name": "stdout",
     "output_type": "stream",
     "text": [
      "Gridding /bb8/lingrui/my_projects/FAST_pipeline/Sun17_A_04/M09/Tsys_psr_Sun17_A_04_M09-M09_211113_090800to211113_092148_icrs.fits\n",
      "Doing Doppler Tracking!\n"
     ]
    },
    {
     "name": "stderr",
     "output_type": "stream",
     "text": [
      "WARNING: NoVelocityWarning: No velocity defined on frame, assuming (0., 0., 0.) km / s. [astropy.coordinates.spectral_coordinate]\n",
      "WARNING: NoDistanceWarning: Distance on coordinate object is dimensionless, an arbitrary distance value of 1000000.0 kpc will be set instead. [astropy.coordinates.spectral_coordinate]\n"
     ]
    },
    {
     "name": "stdout",
     "output_type": "stream",
     "text": [
      "Gridding /bb8/lingrui/my_projects/FAST_pipeline/Sun17_A_04/M10/Tsys_psr_Sun17_A_04_M10-M10_211113_090800to211113_092148_icrs.fits\n",
      "Doing Doppler Tracking!\n"
     ]
    },
    {
     "name": "stderr",
     "output_type": "stream",
     "text": [
      "WARNING: NoVelocityWarning: No velocity defined on frame, assuming (0., 0., 0.) km / s. [astropy.coordinates.spectral_coordinate]\n",
      "WARNING: NoDistanceWarning: Distance on coordinate object is dimensionless, an arbitrary distance value of 1000000.0 kpc will be set instead. [astropy.coordinates.spectral_coordinate]\n"
     ]
    },
    {
     "name": "stdout",
     "output_type": "stream",
     "text": [
      "Gridding /bb8/lingrui/my_projects/FAST_pipeline/Sun17_A_04/M11/Tsys_psr_Sun17_A_04_M11-M11_211113_090800to211113_092148_icrs.fits\n",
      "Doing Doppler Tracking!\n"
     ]
    },
    {
     "name": "stderr",
     "output_type": "stream",
     "text": [
      "WARNING: NoVelocityWarning: No velocity defined on frame, assuming (0., 0., 0.) km / s. [astropy.coordinates.spectral_coordinate]\n",
      "WARNING: NoDistanceWarning: Distance on coordinate object is dimensionless, an arbitrary distance value of 1000000.0 kpc will be set instead. [astropy.coordinates.spectral_coordinate]\n"
     ]
    },
    {
     "name": "stdout",
     "output_type": "stream",
     "text": [
      "Gridding /bb8/lingrui/my_projects/FAST_pipeline/Sun17_A_04/M12/Tsys_psr_Sun17_A_04_M12-M12_211113_090800to211113_092148_icrs.fits\n",
      "Doing Doppler Tracking!\n"
     ]
    },
    {
     "name": "stderr",
     "output_type": "stream",
     "text": [
      "WARNING: NoVelocityWarning: No velocity defined on frame, assuming (0., 0., 0.) km / s. [astropy.coordinates.spectral_coordinate]\n",
      "WARNING: NoDistanceWarning: Distance on coordinate object is dimensionless, an arbitrary distance value of 1000000.0 kpc will be set instead. [astropy.coordinates.spectral_coordinate]\n"
     ]
    },
    {
     "name": "stdout",
     "output_type": "stream",
     "text": [
      "Gridding /bb8/lingrui/my_projects/FAST_pipeline/Sun17_A_04/M13/Tsys_psr_Sun17_A_04_M13-M13_211113_090800to211113_092148_icrs.fits\n",
      "Doing Doppler Tracking!\n"
     ]
    },
    {
     "name": "stderr",
     "output_type": "stream",
     "text": [
      "WARNING: NoVelocityWarning: No velocity defined on frame, assuming (0., 0., 0.) km / s. [astropy.coordinates.spectral_coordinate]\n",
      "WARNING: NoDistanceWarning: Distance on coordinate object is dimensionless, an arbitrary distance value of 1000000.0 kpc will be set instead. [astropy.coordinates.spectral_coordinate]\n"
     ]
    },
    {
     "name": "stdout",
     "output_type": "stream",
     "text": [
      "Gridding /bb8/lingrui/my_projects/FAST_pipeline/Sun17_A_04/M14/Tsys_psr_Sun17_A_04_M14-M14_211113_090800to211113_092148_icrs.fits\n",
      "Doing Doppler Tracking!\n"
     ]
    },
    {
     "name": "stderr",
     "output_type": "stream",
     "text": [
      "WARNING: NoVelocityWarning: No velocity defined on frame, assuming (0., 0., 0.) km / s. [astropy.coordinates.spectral_coordinate]\n",
      "WARNING: NoDistanceWarning: Distance on coordinate object is dimensionless, an arbitrary distance value of 1000000.0 kpc will be set instead. [astropy.coordinates.spectral_coordinate]\n"
     ]
    },
    {
     "name": "stdout",
     "output_type": "stream",
     "text": [
      "Gridding /bb8/lingrui/my_projects/FAST_pipeline/Sun17_A_04/M15/Tsys_psr_Sun17_A_04_M15-M15_211113_090800to211113_092148_icrs.fits\n",
      "Doing Doppler Tracking!\n"
     ]
    },
    {
     "name": "stderr",
     "output_type": "stream",
     "text": [
      "WARNING: NoVelocityWarning: No velocity defined on frame, assuming (0., 0., 0.) km / s. [astropy.coordinates.spectral_coordinate]\n",
      "WARNING: NoDistanceWarning: Distance on coordinate object is dimensionless, an arbitrary distance value of 1000000.0 kpc will be set instead. [astropy.coordinates.spectral_coordinate]\n"
     ]
    },
    {
     "name": "stdout",
     "output_type": "stream",
     "text": [
      "Gridding /bb8/lingrui/my_projects/FAST_pipeline/Sun17_A_04/M16/Tsys_psr_Sun17_A_04_M16-M16_211113_090800to211113_092148_icrs.fits\n",
      "Doing Doppler Tracking!\n"
     ]
    },
    {
     "name": "stderr",
     "output_type": "stream",
     "text": [
      "WARNING: NoVelocityWarning: No velocity defined on frame, assuming (0., 0., 0.) km / s. [astropy.coordinates.spectral_coordinate]\n",
      "WARNING: NoDistanceWarning: Distance on coordinate object is dimensionless, an arbitrary distance value of 1000000.0 kpc will be set instead. [astropy.coordinates.spectral_coordinate]\n"
     ]
    },
    {
     "name": "stdout",
     "output_type": "stream",
     "text": [
      "Gridding /bb8/lingrui/my_projects/FAST_pipeline/Sun17_A_04/M17/Tsys_psr_Sun17_A_04_M17-M17_211113_090800to211113_092148_icrs.fits\n",
      "Doing Doppler Tracking!\n"
     ]
    },
    {
     "name": "stderr",
     "output_type": "stream",
     "text": [
      "WARNING: NoVelocityWarning: No velocity defined on frame, assuming (0., 0., 0.) km / s. [astropy.coordinates.spectral_coordinate]\n",
      "WARNING: NoDistanceWarning: Distance on coordinate object is dimensionless, an arbitrary distance value of 1000000.0 kpc will be set instead. [astropy.coordinates.spectral_coordinate]\n"
     ]
    },
    {
     "name": "stdout",
     "output_type": "stream",
     "text": [
      "Gridding /bb8/lingrui/my_projects/FAST_pipeline/Sun17_A_04/M18/Tsys_psr_Sun17_A_04_M18-M18_211113_090800to211113_092148_icrs.fits\n",
      "Doing Doppler Tracking!\n"
     ]
    },
    {
     "name": "stderr",
     "output_type": "stream",
     "text": [
      "WARNING: NoVelocityWarning: No velocity defined on frame, assuming (0., 0., 0.) km / s. [astropy.coordinates.spectral_coordinate]\n",
      "WARNING: NoDistanceWarning: Distance on coordinate object is dimensionless, an arbitrary distance value of 1000000.0 kpc will be set instead. [astropy.coordinates.spectral_coordinate]\n"
     ]
    },
    {
     "name": "stdout",
     "output_type": "stream",
     "text": [
      "Gridding /bb8/lingrui/my_projects/FAST_pipeline/Sun17_A_04/M19/Tsys_psr_Sun17_A_04_M19-M19_211113_090800to211113_092148_icrs.fits\n",
      "Doing Doppler Tracking!\n"
     ]
    },
    {
     "name": "stderr",
     "output_type": "stream",
     "text": [
      "WARNING: NoVelocityWarning: No velocity defined on frame, assuming (0., 0., 0.) km / s. [astropy.coordinates.spectral_coordinate]\n",
      "WARNING: NoDistanceWarning: Distance on coordinate object is dimensionless, an arbitrary distance value of 1000000.0 kpc will be set instead. [astropy.coordinates.spectral_coordinate]\n"
     ]
    },
    {
     "name": "stdout",
     "output_type": "stream",
     "text": [
      "Gridding /bb8/lingrui/my_projects/FAST_pipeline/Sun17_A_05/M01/Tsys_psr_Sun17_A_05_M01-M01_211023_103700to211023_105048_icrs.fits\n",
      "Doing Doppler Tracking!\n"
     ]
    },
    {
     "name": "stderr",
     "output_type": "stream",
     "text": [
      "WARNING: NoVelocityWarning: No velocity defined on frame, assuming (0., 0., 0.) km / s. [astropy.coordinates.spectral_coordinate]\n",
      "WARNING: NoDistanceWarning: Distance on coordinate object is dimensionless, an arbitrary distance value of 1000000.0 kpc will be set instead. [astropy.coordinates.spectral_coordinate]\n"
     ]
    },
    {
     "name": "stdout",
     "output_type": "stream",
     "text": [
      "Gridding /bb8/lingrui/my_projects/FAST_pipeline/Sun17_A_05/M02/Tsys_psr_Sun17_A_05_M02-M02_211023_103700to211023_105048_icrs.fits\n",
      "Doing Doppler Tracking!\n"
     ]
    },
    {
     "name": "stderr",
     "output_type": "stream",
     "text": [
      "WARNING: NoVelocityWarning: No velocity defined on frame, assuming (0., 0., 0.) km / s. [astropy.coordinates.spectral_coordinate]\n",
      "WARNING: NoDistanceWarning: Distance on coordinate object is dimensionless, an arbitrary distance value of 1000000.0 kpc will be set instead. [astropy.coordinates.spectral_coordinate]\n"
     ]
    },
    {
     "name": "stdout",
     "output_type": "stream",
     "text": [
      "Gridding /bb8/lingrui/my_projects/FAST_pipeline/Sun17_A_05/M03/Tsys_psr_Sun17_A_05_M03-M03_211023_103700to211023_105048_icrs.fits\n",
      "Doing Doppler Tracking!\n"
     ]
    },
    {
     "name": "stderr",
     "output_type": "stream",
     "text": [
      "WARNING: NoVelocityWarning: No velocity defined on frame, assuming (0., 0., 0.) km / s. [astropy.coordinates.spectral_coordinate]\n",
      "WARNING: NoDistanceWarning: Distance on coordinate object is dimensionless, an arbitrary distance value of 1000000.0 kpc will be set instead. [astropy.coordinates.spectral_coordinate]\n"
     ]
    },
    {
     "name": "stdout",
     "output_type": "stream",
     "text": [
      "Gridding /bb8/lingrui/my_projects/FAST_pipeline/Sun17_A_05/M04/Tsys_psr_Sun17_A_05_M04-M04_211023_103700to211023_105048_icrs.fits\n",
      "Doing Doppler Tracking!\n"
     ]
    },
    {
     "name": "stderr",
     "output_type": "stream",
     "text": [
      "WARNING: NoVelocityWarning: No velocity defined on frame, assuming (0., 0., 0.) km / s. [astropy.coordinates.spectral_coordinate]\n",
      "WARNING: NoDistanceWarning: Distance on coordinate object is dimensionless, an arbitrary distance value of 1000000.0 kpc will be set instead. [astropy.coordinates.spectral_coordinate]\n"
     ]
    },
    {
     "name": "stdout",
     "output_type": "stream",
     "text": [
      "Gridding /bb8/lingrui/my_projects/FAST_pipeline/Sun17_A_05/M05/Tsys_psr_Sun17_A_05_M05-M05_211023_103700to211023_105048_icrs.fits\n",
      "Doing Doppler Tracking!\n"
     ]
    },
    {
     "name": "stderr",
     "output_type": "stream",
     "text": [
      "WARNING: NoVelocityWarning: No velocity defined on frame, assuming (0., 0., 0.) km / s. [astropy.coordinates.spectral_coordinate]\n",
      "WARNING: NoDistanceWarning: Distance on coordinate object is dimensionless, an arbitrary distance value of 1000000.0 kpc will be set instead. [astropy.coordinates.spectral_coordinate]\n"
     ]
    },
    {
     "name": "stdout",
     "output_type": "stream",
     "text": [
      "Gridding /bb8/lingrui/my_projects/FAST_pipeline/Sun17_A_05/M06/Tsys_psr_Sun17_A_05_M06-M06_211023_103700to211023_105048_icrs.fits\n",
      "Doing Doppler Tracking!\n"
     ]
    },
    {
     "name": "stderr",
     "output_type": "stream",
     "text": [
      "WARNING: NoVelocityWarning: No velocity defined on frame, assuming (0., 0., 0.) km / s. [astropy.coordinates.spectral_coordinate]\n",
      "WARNING: NoDistanceWarning: Distance on coordinate object is dimensionless, an arbitrary distance value of 1000000.0 kpc will be set instead. [astropy.coordinates.spectral_coordinate]\n"
     ]
    },
    {
     "name": "stdout",
     "output_type": "stream",
     "text": [
      "Gridding /bb8/lingrui/my_projects/FAST_pipeline/Sun17_A_05/M07/Tsys_psr_Sun17_A_05_M07-M07_211023_103700to211023_105048_icrs.fits\n",
      "Doing Doppler Tracking!\n"
     ]
    },
    {
     "name": "stderr",
     "output_type": "stream",
     "text": [
      "WARNING: NoVelocityWarning: No velocity defined on frame, assuming (0., 0., 0.) km / s. [astropy.coordinates.spectral_coordinate]\n",
      "WARNING: NoDistanceWarning: Distance on coordinate object is dimensionless, an arbitrary distance value of 1000000.0 kpc will be set instead. [astropy.coordinates.spectral_coordinate]\n"
     ]
    },
    {
     "name": "stdout",
     "output_type": "stream",
     "text": [
      "Gridding /bb8/lingrui/my_projects/FAST_pipeline/Sun17_A_05/M08/Tsys_psr_Sun17_A_05_M08-M08_211023_103700to211023_105048_icrs.fits\n",
      "Doing Doppler Tracking!\n"
     ]
    },
    {
     "name": "stderr",
     "output_type": "stream",
     "text": [
      "WARNING: NoVelocityWarning: No velocity defined on frame, assuming (0., 0., 0.) km / s. [astropy.coordinates.spectral_coordinate]\n",
      "WARNING: NoDistanceWarning: Distance on coordinate object is dimensionless, an arbitrary distance value of 1000000.0 kpc will be set instead. [astropy.coordinates.spectral_coordinate]\n"
     ]
    },
    {
     "name": "stdout",
     "output_type": "stream",
     "text": [
      "Gridding /bb8/lingrui/my_projects/FAST_pipeline/Sun17_A_05/M09/Tsys_psr_Sun17_A_05_M09-M09_211023_103700to211023_105048_icrs.fits\n",
      "Doing Doppler Tracking!\n"
     ]
    },
    {
     "name": "stderr",
     "output_type": "stream",
     "text": [
      "WARNING: NoVelocityWarning: No velocity defined on frame, assuming (0., 0., 0.) km / s. [astropy.coordinates.spectral_coordinate]\n",
      "WARNING: NoDistanceWarning: Distance on coordinate object is dimensionless, an arbitrary distance value of 1000000.0 kpc will be set instead. [astropy.coordinates.spectral_coordinate]\n"
     ]
    },
    {
     "name": "stdout",
     "output_type": "stream",
     "text": [
      "Gridding /bb8/lingrui/my_projects/FAST_pipeline/Sun17_A_05/M10/Tsys_psr_Sun17_A_05_M10-M10_211023_103700to211023_105048_icrs.fits\n",
      "Doing Doppler Tracking!\n"
     ]
    },
    {
     "name": "stderr",
     "output_type": "stream",
     "text": [
      "WARNING: NoVelocityWarning: No velocity defined on frame, assuming (0., 0., 0.) km / s. [astropy.coordinates.spectral_coordinate]\n",
      "WARNING: NoDistanceWarning: Distance on coordinate object is dimensionless, an arbitrary distance value of 1000000.0 kpc will be set instead. [astropy.coordinates.spectral_coordinate]\n"
     ]
    },
    {
     "name": "stdout",
     "output_type": "stream",
     "text": [
      "Gridding /bb8/lingrui/my_projects/FAST_pipeline/Sun17_A_05/M11/Tsys_psr_Sun17_A_05_M11-M11_211023_103700to211023_105048_icrs.fits\n",
      "Doing Doppler Tracking!\n"
     ]
    },
    {
     "name": "stderr",
     "output_type": "stream",
     "text": [
      "WARNING: NoVelocityWarning: No velocity defined on frame, assuming (0., 0., 0.) km / s. [astropy.coordinates.spectral_coordinate]\n",
      "WARNING: NoDistanceWarning: Distance on coordinate object is dimensionless, an arbitrary distance value of 1000000.0 kpc will be set instead. [astropy.coordinates.spectral_coordinate]\n"
     ]
    },
    {
     "name": "stdout",
     "output_type": "stream",
     "text": [
      "Gridding /bb8/lingrui/my_projects/FAST_pipeline/Sun17_A_05/M12/Tsys_psr_Sun17_A_05_M12-M12_211023_103700to211023_105048_icrs.fits\n",
      "Doing Doppler Tracking!\n"
     ]
    },
    {
     "name": "stderr",
     "output_type": "stream",
     "text": [
      "WARNING: NoVelocityWarning: No velocity defined on frame, assuming (0., 0., 0.) km / s. [astropy.coordinates.spectral_coordinate]\n",
      "WARNING: NoDistanceWarning: Distance on coordinate object is dimensionless, an arbitrary distance value of 1000000.0 kpc will be set instead. [astropy.coordinates.spectral_coordinate]\n"
     ]
    },
    {
     "name": "stdout",
     "output_type": "stream",
     "text": [
      "Gridding /bb8/lingrui/my_projects/FAST_pipeline/Sun17_A_05/M13/Tsys_psr_Sun17_A_05_M13-M13_211023_103700to211023_105048_icrs.fits\n",
      "Doing Doppler Tracking!\n"
     ]
    },
    {
     "name": "stderr",
     "output_type": "stream",
     "text": [
      "WARNING: NoVelocityWarning: No velocity defined on frame, assuming (0., 0., 0.) km / s. [astropy.coordinates.spectral_coordinate]\n",
      "WARNING: NoDistanceWarning: Distance on coordinate object is dimensionless, an arbitrary distance value of 1000000.0 kpc will be set instead. [astropy.coordinates.spectral_coordinate]\n"
     ]
    },
    {
     "name": "stdout",
     "output_type": "stream",
     "text": [
      "Gridding /bb8/lingrui/my_projects/FAST_pipeline/Sun17_A_05/M14/Tsys_psr_Sun17_A_05_M14-M14_211023_103700to211023_105048_icrs.fits\n",
      "Doing Doppler Tracking!\n"
     ]
    },
    {
     "name": "stderr",
     "output_type": "stream",
     "text": [
      "WARNING: NoVelocityWarning: No velocity defined on frame, assuming (0., 0., 0.) km / s. [astropy.coordinates.spectral_coordinate]\n",
      "WARNING: NoDistanceWarning: Distance on coordinate object is dimensionless, an arbitrary distance value of 1000000.0 kpc will be set instead. [astropy.coordinates.spectral_coordinate]\n"
     ]
    },
    {
     "name": "stdout",
     "output_type": "stream",
     "text": [
      "Gridding /bb8/lingrui/my_projects/FAST_pipeline/Sun17_A_05/M15/Tsys_psr_Sun17_A_05_M15-M15_211023_103700to211023_105048_icrs.fits\n",
      "Doing Doppler Tracking!\n"
     ]
    },
    {
     "name": "stderr",
     "output_type": "stream",
     "text": [
      "WARNING: NoVelocityWarning: No velocity defined on frame, assuming (0., 0., 0.) km / s. [astropy.coordinates.spectral_coordinate]\n",
      "WARNING: NoDistanceWarning: Distance on coordinate object is dimensionless, an arbitrary distance value of 1000000.0 kpc will be set instead. [astropy.coordinates.spectral_coordinate]\n"
     ]
    },
    {
     "name": "stdout",
     "output_type": "stream",
     "text": [
      "Gridding /bb8/lingrui/my_projects/FAST_pipeline/Sun17_A_05/M16/Tsys_psr_Sun17_A_05_M16-M16_211023_103700to211023_105048_icrs.fits\n",
      "Doing Doppler Tracking!\n"
     ]
    },
    {
     "name": "stderr",
     "output_type": "stream",
     "text": [
      "WARNING: NoVelocityWarning: No velocity defined on frame, assuming (0., 0., 0.) km / s. [astropy.coordinates.spectral_coordinate]\n",
      "WARNING: NoDistanceWarning: Distance on coordinate object is dimensionless, an arbitrary distance value of 1000000.0 kpc will be set instead. [astropy.coordinates.spectral_coordinate]\n"
     ]
    },
    {
     "name": "stdout",
     "output_type": "stream",
     "text": [
      "Gridding /bb8/lingrui/my_projects/FAST_pipeline/Sun17_A_05/M17/Tsys_psr_Sun17_A_05_M17-M17_211023_103700to211023_105048_icrs.fits\n",
      "Doing Doppler Tracking!\n"
     ]
    },
    {
     "name": "stderr",
     "output_type": "stream",
     "text": [
      "WARNING: NoVelocityWarning: No velocity defined on frame, assuming (0., 0., 0.) km / s. [astropy.coordinates.spectral_coordinate]\n",
      "WARNING: NoDistanceWarning: Distance on coordinate object is dimensionless, an arbitrary distance value of 1000000.0 kpc will be set instead. [astropy.coordinates.spectral_coordinate]\n"
     ]
    },
    {
     "name": "stdout",
     "output_type": "stream",
     "text": [
      "Gridding /bb8/lingrui/my_projects/FAST_pipeline/Sun17_A_05/M18/Tsys_psr_Sun17_A_05_M18-M18_211023_103700to211023_105048_icrs.fits\n",
      "Doing Doppler Tracking!\n"
     ]
    },
    {
     "name": "stderr",
     "output_type": "stream",
     "text": [
      "WARNING: NoVelocityWarning: No velocity defined on frame, assuming (0., 0., 0.) km / s. [astropy.coordinates.spectral_coordinate]\n",
      "WARNING: NoDistanceWarning: Distance on coordinate object is dimensionless, an arbitrary distance value of 1000000.0 kpc will be set instead. [astropy.coordinates.spectral_coordinate]\n"
     ]
    },
    {
     "name": "stdout",
     "output_type": "stream",
     "text": [
      "Gridding /bb8/lingrui/my_projects/FAST_pipeline/Sun17_A_05/M19/Tsys_psr_Sun17_A_05_M19-M19_211023_103700to211023_105048_icrs.fits\n",
      "Doing Doppler Tracking!\n"
     ]
    },
    {
     "name": "stderr",
     "output_type": "stream",
     "text": [
      "WARNING: NoVelocityWarning: No velocity defined on frame, assuming (0., 0., 0.) km / s. [astropy.coordinates.spectral_coordinate]\n",
      "WARNING: NoDistanceWarning: Distance on coordinate object is dimensionless, an arbitrary distance value of 1000000.0 kpc will be set instead. [astropy.coordinates.spectral_coordinate]\n"
     ]
    },
    {
     "name": "stdout",
     "output_type": "stream",
     "text": [
      "Gridding /bb8/lingrui/my_projects/FAST_pipeline/Sun17_A_06/M01/Tsys_psr_Sun17_A_06_M01-M01_211112_064100to211112_065448_icrs.fits\n",
      "Doing Doppler Tracking!\n"
     ]
    },
    {
     "name": "stderr",
     "output_type": "stream",
     "text": [
      "WARNING: NoVelocityWarning: No velocity defined on frame, assuming (0., 0., 0.) km / s. [astropy.coordinates.spectral_coordinate]\n",
      "WARNING: NoDistanceWarning: Distance on coordinate object is dimensionless, an arbitrary distance value of 1000000.0 kpc will be set instead. [astropy.coordinates.spectral_coordinate]\n"
     ]
    },
    {
     "name": "stdout",
     "output_type": "stream",
     "text": [
      "Gridding /bb8/lingrui/my_projects/FAST_pipeline/Sun17_A_06/M02/Tsys_psr_Sun17_A_06_M02-M02_211112_064100to211112_065448_icrs.fits\n",
      "Doing Doppler Tracking!\n"
     ]
    },
    {
     "name": "stderr",
     "output_type": "stream",
     "text": [
      "WARNING: NoVelocityWarning: No velocity defined on frame, assuming (0., 0., 0.) km / s. [astropy.coordinates.spectral_coordinate]\n",
      "WARNING: NoDistanceWarning: Distance on coordinate object is dimensionless, an arbitrary distance value of 1000000.0 kpc will be set instead. [astropy.coordinates.spectral_coordinate]\n"
     ]
    },
    {
     "name": "stdout",
     "output_type": "stream",
     "text": [
      "Gridding /bb8/lingrui/my_projects/FAST_pipeline/Sun17_A_06/M03/Tsys_psr_Sun17_A_06_M03-M03_211112_064100to211112_065448_icrs.fits\n",
      "Doing Doppler Tracking!\n"
     ]
    },
    {
     "name": "stderr",
     "output_type": "stream",
     "text": [
      "WARNING: NoVelocityWarning: No velocity defined on frame, assuming (0., 0., 0.) km / s. [astropy.coordinates.spectral_coordinate]\n",
      "WARNING: NoDistanceWarning: Distance on coordinate object is dimensionless, an arbitrary distance value of 1000000.0 kpc will be set instead. [astropy.coordinates.spectral_coordinate]\n"
     ]
    },
    {
     "name": "stdout",
     "output_type": "stream",
     "text": [
      "Gridding /bb8/lingrui/my_projects/FAST_pipeline/Sun17_A_06/M04/Tsys_psr_Sun17_A_06_M04-M04_211112_064100to211112_065448_icrs.fits\n",
      "Doing Doppler Tracking!\n"
     ]
    },
    {
     "name": "stderr",
     "output_type": "stream",
     "text": [
      "WARNING: NoVelocityWarning: No velocity defined on frame, assuming (0., 0., 0.) km / s. [astropy.coordinates.spectral_coordinate]\n",
      "WARNING: NoDistanceWarning: Distance on coordinate object is dimensionless, an arbitrary distance value of 1000000.0 kpc will be set instead. [astropy.coordinates.spectral_coordinate]\n"
     ]
    },
    {
     "name": "stdout",
     "output_type": "stream",
     "text": [
      "Gridding /bb8/lingrui/my_projects/FAST_pipeline/Sun17_A_06/M05/Tsys_psr_Sun17_A_06_M05-M05_211112_064100to211112_065448_icrs.fits\n",
      "Doing Doppler Tracking!\n"
     ]
    },
    {
     "name": "stderr",
     "output_type": "stream",
     "text": [
      "WARNING: NoVelocityWarning: No velocity defined on frame, assuming (0., 0., 0.) km / s. [astropy.coordinates.spectral_coordinate]\n",
      "WARNING: NoDistanceWarning: Distance on coordinate object is dimensionless, an arbitrary distance value of 1000000.0 kpc will be set instead. [astropy.coordinates.spectral_coordinate]\n"
     ]
    },
    {
     "name": "stdout",
     "output_type": "stream",
     "text": [
      "Gridding /bb8/lingrui/my_projects/FAST_pipeline/Sun17_A_06/M06/Tsys_psr_Sun17_A_06_M06-M06_211112_064100to211112_065448_icrs.fits\n",
      "Doing Doppler Tracking!\n"
     ]
    },
    {
     "name": "stderr",
     "output_type": "stream",
     "text": [
      "WARNING: NoVelocityWarning: No velocity defined on frame, assuming (0., 0., 0.) km / s. [astropy.coordinates.spectral_coordinate]\n",
      "WARNING: NoDistanceWarning: Distance on coordinate object is dimensionless, an arbitrary distance value of 1000000.0 kpc will be set instead. [astropy.coordinates.spectral_coordinate]\n"
     ]
    },
    {
     "name": "stdout",
     "output_type": "stream",
     "text": [
      "Gridding /bb8/lingrui/my_projects/FAST_pipeline/Sun17_A_06/M07/Tsys_psr_Sun17_A_06_M07-M07_211112_064100to211112_065448_icrs.fits\n",
      "Doing Doppler Tracking!\n"
     ]
    },
    {
     "name": "stderr",
     "output_type": "stream",
     "text": [
      "WARNING: NoVelocityWarning: No velocity defined on frame, assuming (0., 0., 0.) km / s. [astropy.coordinates.spectral_coordinate]\n",
      "WARNING: NoDistanceWarning: Distance on coordinate object is dimensionless, an arbitrary distance value of 1000000.0 kpc will be set instead. [astropy.coordinates.spectral_coordinate]\n"
     ]
    },
    {
     "name": "stdout",
     "output_type": "stream",
     "text": [
      "Gridding /bb8/lingrui/my_projects/FAST_pipeline/Sun17_A_06/M08/Tsys_psr_Sun17_A_06_M08-M08_211112_064100to211112_065448_icrs.fits\n",
      "Doing Doppler Tracking!\n"
     ]
    },
    {
     "name": "stderr",
     "output_type": "stream",
     "text": [
      "WARNING: NoVelocityWarning: No velocity defined on frame, assuming (0., 0., 0.) km / s. [astropy.coordinates.spectral_coordinate]\n",
      "WARNING: NoDistanceWarning: Distance on coordinate object is dimensionless, an arbitrary distance value of 1000000.0 kpc will be set instead. [astropy.coordinates.spectral_coordinate]\n"
     ]
    },
    {
     "name": "stdout",
     "output_type": "stream",
     "text": [
      "Gridding /bb8/lingrui/my_projects/FAST_pipeline/Sun17_A_06/M09/Tsys_psr_Sun17_A_06_M09-M09_211112_064100to211112_065448_icrs.fits\n",
      "Doing Doppler Tracking!\n"
     ]
    },
    {
     "name": "stderr",
     "output_type": "stream",
     "text": [
      "WARNING: NoVelocityWarning: No velocity defined on frame, assuming (0., 0., 0.) km / s. [astropy.coordinates.spectral_coordinate]\n",
      "WARNING: NoDistanceWarning: Distance on coordinate object is dimensionless, an arbitrary distance value of 1000000.0 kpc will be set instead. [astropy.coordinates.spectral_coordinate]\n"
     ]
    },
    {
     "name": "stdout",
     "output_type": "stream",
     "text": [
      "Gridding /bb8/lingrui/my_projects/FAST_pipeline/Sun17_A_06/M10/Tsys_psr_Sun17_A_06_M10-M10_211112_064100to211112_065448_icrs.fits\n",
      "Doing Doppler Tracking!\n"
     ]
    },
    {
     "name": "stderr",
     "output_type": "stream",
     "text": [
      "WARNING: NoVelocityWarning: No velocity defined on frame, assuming (0., 0., 0.) km / s. [astropy.coordinates.spectral_coordinate]\n",
      "WARNING: NoDistanceWarning: Distance on coordinate object is dimensionless, an arbitrary distance value of 1000000.0 kpc will be set instead. [astropy.coordinates.spectral_coordinate]\n"
     ]
    },
    {
     "name": "stdout",
     "output_type": "stream",
     "text": [
      "Gridding /bb8/lingrui/my_projects/FAST_pipeline/Sun17_A_06/M11/Tsys_psr_Sun17_A_06_M11-M11_211112_064100to211112_065448_icrs.fits\n",
      "Doing Doppler Tracking!\n"
     ]
    },
    {
     "name": "stderr",
     "output_type": "stream",
     "text": [
      "WARNING: NoVelocityWarning: No velocity defined on frame, assuming (0., 0., 0.) km / s. [astropy.coordinates.spectral_coordinate]\n",
      "WARNING: NoDistanceWarning: Distance on coordinate object is dimensionless, an arbitrary distance value of 1000000.0 kpc will be set instead. [astropy.coordinates.spectral_coordinate]\n"
     ]
    },
    {
     "name": "stdout",
     "output_type": "stream",
     "text": [
      "Gridding /bb8/lingrui/my_projects/FAST_pipeline/Sun17_A_06/M12/Tsys_psr_Sun17_A_06_M12-M12_211112_064100to211112_065448_icrs.fits\n",
      "Doing Doppler Tracking!\n"
     ]
    },
    {
     "name": "stderr",
     "output_type": "stream",
     "text": [
      "WARNING: NoVelocityWarning: No velocity defined on frame, assuming (0., 0., 0.) km / s. [astropy.coordinates.spectral_coordinate]\n",
      "WARNING: NoDistanceWarning: Distance on coordinate object is dimensionless, an arbitrary distance value of 1000000.0 kpc will be set instead. [astropy.coordinates.spectral_coordinate]\n"
     ]
    },
    {
     "name": "stdout",
     "output_type": "stream",
     "text": [
      "Gridding /bb8/lingrui/my_projects/FAST_pipeline/Sun17_A_06/M13/Tsys_psr_Sun17_A_06_M13-M13_211112_064100to211112_065448_icrs.fits\n",
      "Doing Doppler Tracking!\n"
     ]
    },
    {
     "name": "stderr",
     "output_type": "stream",
     "text": [
      "WARNING: NoVelocityWarning: No velocity defined on frame, assuming (0., 0., 0.) km / s. [astropy.coordinates.spectral_coordinate]\n",
      "WARNING: NoDistanceWarning: Distance on coordinate object is dimensionless, an arbitrary distance value of 1000000.0 kpc will be set instead. [astropy.coordinates.spectral_coordinate]\n"
     ]
    },
    {
     "name": "stdout",
     "output_type": "stream",
     "text": [
      "Gridding /bb8/lingrui/my_projects/FAST_pipeline/Sun17_A_06/M14/Tsys_psr_Sun17_A_06_M14-M14_211112_064100to211112_065448_icrs.fits\n",
      "Doing Doppler Tracking!\n"
     ]
    },
    {
     "name": "stderr",
     "output_type": "stream",
     "text": [
      "WARNING: NoVelocityWarning: No velocity defined on frame, assuming (0., 0., 0.) km / s. [astropy.coordinates.spectral_coordinate]\n",
      "WARNING: NoDistanceWarning: Distance on coordinate object is dimensionless, an arbitrary distance value of 1000000.0 kpc will be set instead. [astropy.coordinates.spectral_coordinate]\n"
     ]
    },
    {
     "name": "stdout",
     "output_type": "stream",
     "text": [
      "Gridding /bb8/lingrui/my_projects/FAST_pipeline/Sun17_A_06/M15/Tsys_psr_Sun17_A_06_M15-M15_211112_064100to211112_065448_icrs.fits\n",
      "Doing Doppler Tracking!\n"
     ]
    },
    {
     "name": "stderr",
     "output_type": "stream",
     "text": [
      "WARNING: NoVelocityWarning: No velocity defined on frame, assuming (0., 0., 0.) km / s. [astropy.coordinates.spectral_coordinate]\n",
      "WARNING: NoDistanceWarning: Distance on coordinate object is dimensionless, an arbitrary distance value of 1000000.0 kpc will be set instead. [astropy.coordinates.spectral_coordinate]\n"
     ]
    },
    {
     "name": "stdout",
     "output_type": "stream",
     "text": [
      "Gridding /bb8/lingrui/my_projects/FAST_pipeline/Sun17_A_06/M16/Tsys_psr_Sun17_A_06_M16-M16_211112_064100to211112_065448_icrs.fits\n",
      "Doing Doppler Tracking!\n"
     ]
    },
    {
     "name": "stderr",
     "output_type": "stream",
     "text": [
      "WARNING: NoVelocityWarning: No velocity defined on frame, assuming (0., 0., 0.) km / s. [astropy.coordinates.spectral_coordinate]\n",
      "WARNING: NoDistanceWarning: Distance on coordinate object is dimensionless, an arbitrary distance value of 1000000.0 kpc will be set instead. [astropy.coordinates.spectral_coordinate]\n"
     ]
    },
    {
     "name": "stdout",
     "output_type": "stream",
     "text": [
      "Gridding /bb8/lingrui/my_projects/FAST_pipeline/Sun17_A_06/M17/Tsys_psr_Sun17_A_06_M17-M17_211112_064100to211112_065448_icrs.fits\n",
      "Doing Doppler Tracking!\n"
     ]
    },
    {
     "name": "stderr",
     "output_type": "stream",
     "text": [
      "WARNING: NoVelocityWarning: No velocity defined on frame, assuming (0., 0., 0.) km / s. [astropy.coordinates.spectral_coordinate]\n",
      "WARNING: NoDistanceWarning: Distance on coordinate object is dimensionless, an arbitrary distance value of 1000000.0 kpc will be set instead. [astropy.coordinates.spectral_coordinate]\n"
     ]
    },
    {
     "name": "stdout",
     "output_type": "stream",
     "text": [
      "Gridding /bb8/lingrui/my_projects/FAST_pipeline/Sun17_A_06/M18/Tsys_psr_Sun17_A_06_M18-M18_211112_064100to211112_065448_icrs.fits\n",
      "Doing Doppler Tracking!\n"
     ]
    },
    {
     "name": "stderr",
     "output_type": "stream",
     "text": [
      "WARNING: NoVelocityWarning: No velocity defined on frame, assuming (0., 0., 0.) km / s. [astropy.coordinates.spectral_coordinate]\n",
      "WARNING: NoDistanceWarning: Distance on coordinate object is dimensionless, an arbitrary distance value of 1000000.0 kpc will be set instead. [astropy.coordinates.spectral_coordinate]\n"
     ]
    },
    {
     "name": "stdout",
     "output_type": "stream",
     "text": [
      "Gridding /bb8/lingrui/my_projects/FAST_pipeline/Sun17_A_06/M19/Tsys_psr_Sun17_A_06_M19-M19_211112_064100to211112_065448_icrs.fits\n",
      "Doing Doppler Tracking!\n"
     ]
    },
    {
     "name": "stderr",
     "output_type": "stream",
     "text": [
      "WARNING: NoVelocityWarning: No velocity defined on frame, assuming (0., 0., 0.) km / s. [astropy.coordinates.spectral_coordinate]\n",
      "WARNING: NoDistanceWarning: Distance on coordinate object is dimensionless, an arbitrary distance value of 1000000.0 kpc will be set instead. [astropy.coordinates.spectral_coordinate]\n"
     ]
    },
    {
     "name": "stdout",
     "output_type": "stream",
     "text": [
      "Gridding /bb8/lingrui/my_projects/FAST_pipeline/Sun17_A_07/M01/Tsys_psr_Sun17_A_07_M01-M01_211112_070500to211112_071848_icrs.fits\n",
      "Doing Doppler Tracking!\n"
     ]
    },
    {
     "name": "stderr",
     "output_type": "stream",
     "text": [
      "WARNING: NoVelocityWarning: No velocity defined on frame, assuming (0., 0., 0.) km / s. [astropy.coordinates.spectral_coordinate]\n",
      "WARNING: NoDistanceWarning: Distance on coordinate object is dimensionless, an arbitrary distance value of 1000000.0 kpc will be set instead. [astropy.coordinates.spectral_coordinate]\n"
     ]
    },
    {
     "name": "stdout",
     "output_type": "stream",
     "text": [
      "Gridding /bb8/lingrui/my_projects/FAST_pipeline/Sun17_A_07/M02/Tsys_psr_Sun17_A_07_M02-M02_211112_070500to211112_071848_icrs.fits\n",
      "Doing Doppler Tracking!\n"
     ]
    },
    {
     "name": "stderr",
     "output_type": "stream",
     "text": [
      "WARNING: NoVelocityWarning: No velocity defined on frame, assuming (0., 0., 0.) km / s. [astropy.coordinates.spectral_coordinate]\n",
      "WARNING: NoDistanceWarning: Distance on coordinate object is dimensionless, an arbitrary distance value of 1000000.0 kpc will be set instead. [astropy.coordinates.spectral_coordinate]\n"
     ]
    },
    {
     "name": "stdout",
     "output_type": "stream",
     "text": [
      "Gridding /bb8/lingrui/my_projects/FAST_pipeline/Sun17_A_07/M03/Tsys_psr_Sun17_A_07_M03-M03_211112_070500to211112_071848_icrs.fits\n",
      "Doing Doppler Tracking!\n"
     ]
    },
    {
     "name": "stderr",
     "output_type": "stream",
     "text": [
      "WARNING: NoVelocityWarning: No velocity defined on frame, assuming (0., 0., 0.) km / s. [astropy.coordinates.spectral_coordinate]\n",
      "WARNING: NoDistanceWarning: Distance on coordinate object is dimensionless, an arbitrary distance value of 1000000.0 kpc will be set instead. [astropy.coordinates.spectral_coordinate]\n"
     ]
    },
    {
     "name": "stdout",
     "output_type": "stream",
     "text": [
      "Gridding /bb8/lingrui/my_projects/FAST_pipeline/Sun17_A_07/M04/Tsys_psr_Sun17_A_07_M04-M04_211112_070500to211112_071848_icrs.fits\n",
      "Doing Doppler Tracking!\n"
     ]
    },
    {
     "name": "stderr",
     "output_type": "stream",
     "text": [
      "WARNING: NoVelocityWarning: No velocity defined on frame, assuming (0., 0., 0.) km / s. [astropy.coordinates.spectral_coordinate]\n",
      "WARNING: NoDistanceWarning: Distance on coordinate object is dimensionless, an arbitrary distance value of 1000000.0 kpc will be set instead. [astropy.coordinates.spectral_coordinate]\n"
     ]
    },
    {
     "name": "stdout",
     "output_type": "stream",
     "text": [
      "Gridding /bb8/lingrui/my_projects/FAST_pipeline/Sun17_A_07/M05/Tsys_psr_Sun17_A_07_M05-M05_211112_070500to211112_071848_icrs.fits\n",
      "Doing Doppler Tracking!\n"
     ]
    },
    {
     "name": "stderr",
     "output_type": "stream",
     "text": [
      "WARNING: NoVelocityWarning: No velocity defined on frame, assuming (0., 0., 0.) km / s. [astropy.coordinates.spectral_coordinate]\n",
      "WARNING: NoDistanceWarning: Distance on coordinate object is dimensionless, an arbitrary distance value of 1000000.0 kpc will be set instead. [astropy.coordinates.spectral_coordinate]\n"
     ]
    },
    {
     "name": "stdout",
     "output_type": "stream",
     "text": [
      "Gridding /bb8/lingrui/my_projects/FAST_pipeline/Sun17_A_07/M06/Tsys_psr_Sun17_A_07_M06-M06_211112_070500to211112_071848_icrs.fits\n",
      "Doing Doppler Tracking!\n"
     ]
    },
    {
     "name": "stderr",
     "output_type": "stream",
     "text": [
      "WARNING: NoVelocityWarning: No velocity defined on frame, assuming (0., 0., 0.) km / s. [astropy.coordinates.spectral_coordinate]\n",
      "WARNING: NoDistanceWarning: Distance on coordinate object is dimensionless, an arbitrary distance value of 1000000.0 kpc will be set instead. [astropy.coordinates.spectral_coordinate]\n"
     ]
    },
    {
     "name": "stdout",
     "output_type": "stream",
     "text": [
      "Gridding /bb8/lingrui/my_projects/FAST_pipeline/Sun17_A_07/M07/Tsys_psr_Sun17_A_07_M07-M07_211112_070500to211112_071848_icrs.fits\n",
      "Doing Doppler Tracking!\n"
     ]
    },
    {
     "name": "stderr",
     "output_type": "stream",
     "text": [
      "WARNING: NoVelocityWarning: No velocity defined on frame, assuming (0., 0., 0.) km / s. [astropy.coordinates.spectral_coordinate]\n",
      "WARNING: NoDistanceWarning: Distance on coordinate object is dimensionless, an arbitrary distance value of 1000000.0 kpc will be set instead. [astropy.coordinates.spectral_coordinate]\n"
     ]
    },
    {
     "name": "stdout",
     "output_type": "stream",
     "text": [
      "Gridding /bb8/lingrui/my_projects/FAST_pipeline/Sun17_A_07/M08/Tsys_psr_Sun17_A_07_M08-M08_211112_070500to211112_071848_icrs.fits\n",
      "Doing Doppler Tracking!\n"
     ]
    },
    {
     "name": "stderr",
     "output_type": "stream",
     "text": [
      "WARNING: NoVelocityWarning: No velocity defined on frame, assuming (0., 0., 0.) km / s. [astropy.coordinates.spectral_coordinate]\n",
      "WARNING: NoDistanceWarning: Distance on coordinate object is dimensionless, an arbitrary distance value of 1000000.0 kpc will be set instead. [astropy.coordinates.spectral_coordinate]\n"
     ]
    },
    {
     "name": "stdout",
     "output_type": "stream",
     "text": [
      "Gridding /bb8/lingrui/my_projects/FAST_pipeline/Sun17_A_07/M09/Tsys_psr_Sun17_A_07_M09-M09_211112_070500to211112_071848_icrs.fits\n",
      "Doing Doppler Tracking!\n"
     ]
    },
    {
     "name": "stderr",
     "output_type": "stream",
     "text": [
      "WARNING: NoVelocityWarning: No velocity defined on frame, assuming (0., 0., 0.) km / s. [astropy.coordinates.spectral_coordinate]\n",
      "WARNING: NoDistanceWarning: Distance on coordinate object is dimensionless, an arbitrary distance value of 1000000.0 kpc will be set instead. [astropy.coordinates.spectral_coordinate]\n"
     ]
    },
    {
     "name": "stdout",
     "output_type": "stream",
     "text": [
      "Gridding /bb8/lingrui/my_projects/FAST_pipeline/Sun17_A_07/M10/Tsys_psr_Sun17_A_07_M10-M10_211112_070500to211112_071848_icrs.fits\n",
      "Doing Doppler Tracking!\n"
     ]
    },
    {
     "name": "stderr",
     "output_type": "stream",
     "text": [
      "WARNING: NoVelocityWarning: No velocity defined on frame, assuming (0., 0., 0.) km / s. [astropy.coordinates.spectral_coordinate]\n",
      "WARNING: NoDistanceWarning: Distance on coordinate object is dimensionless, an arbitrary distance value of 1000000.0 kpc will be set instead. [astropy.coordinates.spectral_coordinate]\n"
     ]
    },
    {
     "name": "stdout",
     "output_type": "stream",
     "text": [
      "Gridding /bb8/lingrui/my_projects/FAST_pipeline/Sun17_A_07/M11/Tsys_psr_Sun17_A_07_M11-M11_211112_070500to211112_071848_icrs.fits\n",
      "Doing Doppler Tracking!\n"
     ]
    },
    {
     "name": "stderr",
     "output_type": "stream",
     "text": [
      "WARNING: NoVelocityWarning: No velocity defined on frame, assuming (0., 0., 0.) km / s. [astropy.coordinates.spectral_coordinate]\n",
      "WARNING: NoDistanceWarning: Distance on coordinate object is dimensionless, an arbitrary distance value of 1000000.0 kpc will be set instead. [astropy.coordinates.spectral_coordinate]\n"
     ]
    },
    {
     "name": "stdout",
     "output_type": "stream",
     "text": [
      "Gridding /bb8/lingrui/my_projects/FAST_pipeline/Sun17_A_07/M12/Tsys_psr_Sun17_A_07_M12-M12_211112_070500to211112_071848_icrs.fits\n",
      "Doing Doppler Tracking!\n"
     ]
    },
    {
     "name": "stderr",
     "output_type": "stream",
     "text": [
      "WARNING: NoVelocityWarning: No velocity defined on frame, assuming (0., 0., 0.) km / s. [astropy.coordinates.spectral_coordinate]\n",
      "WARNING: NoDistanceWarning: Distance on coordinate object is dimensionless, an arbitrary distance value of 1000000.0 kpc will be set instead. [astropy.coordinates.spectral_coordinate]\n"
     ]
    },
    {
     "name": "stdout",
     "output_type": "stream",
     "text": [
      "Gridding /bb8/lingrui/my_projects/FAST_pipeline/Sun17_A_07/M13/Tsys_psr_Sun17_A_07_M13-M13_211112_070500to211112_071848_icrs.fits\n",
      "Doing Doppler Tracking!\n"
     ]
    },
    {
     "name": "stderr",
     "output_type": "stream",
     "text": [
      "WARNING: NoVelocityWarning: No velocity defined on frame, assuming (0., 0., 0.) km / s. [astropy.coordinates.spectral_coordinate]\n",
      "WARNING: NoDistanceWarning: Distance on coordinate object is dimensionless, an arbitrary distance value of 1000000.0 kpc will be set instead. [astropy.coordinates.spectral_coordinate]\n"
     ]
    },
    {
     "name": "stdout",
     "output_type": "stream",
     "text": [
      "Gridding /bb8/lingrui/my_projects/FAST_pipeline/Sun17_A_07/M14/Tsys_psr_Sun17_A_07_M14-M14_211112_070500to211112_071848_icrs.fits\n",
      "Doing Doppler Tracking!\n"
     ]
    },
    {
     "name": "stderr",
     "output_type": "stream",
     "text": [
      "WARNING: NoVelocityWarning: No velocity defined on frame, assuming (0., 0., 0.) km / s. [astropy.coordinates.spectral_coordinate]\n",
      "WARNING: NoDistanceWarning: Distance on coordinate object is dimensionless, an arbitrary distance value of 1000000.0 kpc will be set instead. [astropy.coordinates.spectral_coordinate]\n"
     ]
    },
    {
     "name": "stdout",
     "output_type": "stream",
     "text": [
      "Gridding /bb8/lingrui/my_projects/FAST_pipeline/Sun17_A_07/M15/Tsys_psr_Sun17_A_07_M15-M15_211112_070500to211112_071848_icrs.fits\n",
      "Doing Doppler Tracking!\n"
     ]
    },
    {
     "name": "stderr",
     "output_type": "stream",
     "text": [
      "WARNING: NoVelocityWarning: No velocity defined on frame, assuming (0., 0., 0.) km / s. [astropy.coordinates.spectral_coordinate]\n",
      "WARNING: NoDistanceWarning: Distance on coordinate object is dimensionless, an arbitrary distance value of 1000000.0 kpc will be set instead. [astropy.coordinates.spectral_coordinate]\n"
     ]
    },
    {
     "name": "stdout",
     "output_type": "stream",
     "text": [
      "Gridding /bb8/lingrui/my_projects/FAST_pipeline/Sun17_A_07/M16/Tsys_psr_Sun17_A_07_M16-M16_211112_070500to211112_071848_icrs.fits\n",
      "Doing Doppler Tracking!\n"
     ]
    },
    {
     "name": "stderr",
     "output_type": "stream",
     "text": [
      "WARNING: NoVelocityWarning: No velocity defined on frame, assuming (0., 0., 0.) km / s. [astropy.coordinates.spectral_coordinate]\n",
      "WARNING: NoDistanceWarning: Distance on coordinate object is dimensionless, an arbitrary distance value of 1000000.0 kpc will be set instead. [astropy.coordinates.spectral_coordinate]\n"
     ]
    },
    {
     "name": "stdout",
     "output_type": "stream",
     "text": [
      "Gridding /bb8/lingrui/my_projects/FAST_pipeline/Sun17_A_07/M17/Tsys_psr_Sun17_A_07_M17-M17_211112_070500to211112_071848_icrs.fits\n",
      "Doing Doppler Tracking!\n"
     ]
    },
    {
     "name": "stderr",
     "output_type": "stream",
     "text": [
      "WARNING: NoVelocityWarning: No velocity defined on frame, assuming (0., 0., 0.) km / s. [astropy.coordinates.spectral_coordinate]\n",
      "WARNING: NoDistanceWarning: Distance on coordinate object is dimensionless, an arbitrary distance value of 1000000.0 kpc will be set instead. [astropy.coordinates.spectral_coordinate]\n"
     ]
    },
    {
     "name": "stdout",
     "output_type": "stream",
     "text": [
      "Gridding /bb8/lingrui/my_projects/FAST_pipeline/Sun17_A_07/M18/Tsys_psr_Sun17_A_07_M18-M18_211112_070500to211112_071848_icrs.fits\n",
      "Doing Doppler Tracking!\n"
     ]
    },
    {
     "name": "stderr",
     "output_type": "stream",
     "text": [
      "WARNING: NoVelocityWarning: No velocity defined on frame, assuming (0., 0., 0.) km / s. [astropy.coordinates.spectral_coordinate]\n",
      "WARNING: NoDistanceWarning: Distance on coordinate object is dimensionless, an arbitrary distance value of 1000000.0 kpc will be set instead. [astropy.coordinates.spectral_coordinate]\n"
     ]
    },
    {
     "name": "stdout",
     "output_type": "stream",
     "text": [
      "Gridding /bb8/lingrui/my_projects/FAST_pipeline/Sun17_A_07/M19/Tsys_psr_Sun17_A_07_M19-M19_211112_070500to211112_071848_icrs.fits\n",
      "Doing Doppler Tracking!\n"
     ]
    },
    {
     "name": "stderr",
     "output_type": "stream",
     "text": [
      "WARNING: NoVelocityWarning: No velocity defined on frame, assuming (0., 0., 0.) km / s. [astropy.coordinates.spectral_coordinate]\n",
      "WARNING: NoDistanceWarning: Distance on coordinate object is dimensionless, an arbitrary distance value of 1000000.0 kpc will be set instead. [astropy.coordinates.spectral_coordinate]\n"
     ]
    },
    {
     "name": "stdout",
     "output_type": "stream",
     "text": [
      "Gridding /bb8/lingrui/my_projects/FAST_pipeline/Sun17_A_08/M01/Tsys_psr_Sun17_A_08_M01-M01_211112_072900to211112_074248_icrs.fits\n",
      "Doing Doppler Tracking!\n"
     ]
    },
    {
     "name": "stderr",
     "output_type": "stream",
     "text": [
      "WARNING: NoVelocityWarning: No velocity defined on frame, assuming (0., 0., 0.) km / s. [astropy.coordinates.spectral_coordinate]\n",
      "WARNING: NoDistanceWarning: Distance on coordinate object is dimensionless, an arbitrary distance value of 1000000.0 kpc will be set instead. [astropy.coordinates.spectral_coordinate]\n"
     ]
    },
    {
     "name": "stdout",
     "output_type": "stream",
     "text": [
      "Gridding /bb8/lingrui/my_projects/FAST_pipeline/Sun17_A_08/M02/Tsys_psr_Sun17_A_08_M02-M02_211112_072900to211112_074248_icrs.fits\n",
      "Doing Doppler Tracking!\n"
     ]
    },
    {
     "name": "stderr",
     "output_type": "stream",
     "text": [
      "WARNING: NoVelocityWarning: No velocity defined on frame, assuming (0., 0., 0.) km / s. [astropy.coordinates.spectral_coordinate]\n",
      "WARNING: NoDistanceWarning: Distance on coordinate object is dimensionless, an arbitrary distance value of 1000000.0 kpc will be set instead. [astropy.coordinates.spectral_coordinate]\n"
     ]
    },
    {
     "name": "stdout",
     "output_type": "stream",
     "text": [
      "Gridding /bb8/lingrui/my_projects/FAST_pipeline/Sun17_A_08/M03/Tsys_psr_Sun17_A_08_M03-M03_211112_072900to211112_074248_icrs.fits\n",
      "Doing Doppler Tracking!\n"
     ]
    },
    {
     "name": "stderr",
     "output_type": "stream",
     "text": [
      "WARNING: NoVelocityWarning: No velocity defined on frame, assuming (0., 0., 0.) km / s. [astropy.coordinates.spectral_coordinate]\n",
      "WARNING: NoDistanceWarning: Distance on coordinate object is dimensionless, an arbitrary distance value of 1000000.0 kpc will be set instead. [astropy.coordinates.spectral_coordinate]\n"
     ]
    },
    {
     "name": "stdout",
     "output_type": "stream",
     "text": [
      "Gridding /bb8/lingrui/my_projects/FAST_pipeline/Sun17_A_08/M04/Tsys_psr_Sun17_A_08_M04-M04_211112_072900to211112_074248_icrs.fits\n",
      "Doing Doppler Tracking!\n"
     ]
    },
    {
     "name": "stderr",
     "output_type": "stream",
     "text": [
      "WARNING: NoVelocityWarning: No velocity defined on frame, assuming (0., 0., 0.) km / s. [astropy.coordinates.spectral_coordinate]\n",
      "WARNING: NoDistanceWarning: Distance on coordinate object is dimensionless, an arbitrary distance value of 1000000.0 kpc will be set instead. [astropy.coordinates.spectral_coordinate]\n"
     ]
    },
    {
     "name": "stdout",
     "output_type": "stream",
     "text": [
      "Gridding /bb8/lingrui/my_projects/FAST_pipeline/Sun17_A_08/M05/Tsys_psr_Sun17_A_08_M05-M05_211112_072900to211112_074248_icrs.fits\n",
      "Doing Doppler Tracking!\n"
     ]
    },
    {
     "name": "stderr",
     "output_type": "stream",
     "text": [
      "WARNING: NoVelocityWarning: No velocity defined on frame, assuming (0., 0., 0.) km / s. [astropy.coordinates.spectral_coordinate]\n",
      "WARNING: NoDistanceWarning: Distance on coordinate object is dimensionless, an arbitrary distance value of 1000000.0 kpc will be set instead. [astropy.coordinates.spectral_coordinate]\n"
     ]
    },
    {
     "name": "stdout",
     "output_type": "stream",
     "text": [
      "Gridding /bb8/lingrui/my_projects/FAST_pipeline/Sun17_A_08/M06/Tsys_psr_Sun17_A_08_M06-M06_211112_072900to211112_074248_icrs.fits\n",
      "Doing Doppler Tracking!\n"
     ]
    },
    {
     "name": "stderr",
     "output_type": "stream",
     "text": [
      "WARNING: NoVelocityWarning: No velocity defined on frame, assuming (0., 0., 0.) km / s. [astropy.coordinates.spectral_coordinate]\n",
      "WARNING: NoDistanceWarning: Distance on coordinate object is dimensionless, an arbitrary distance value of 1000000.0 kpc will be set instead. [astropy.coordinates.spectral_coordinate]\n"
     ]
    },
    {
     "name": "stdout",
     "output_type": "stream",
     "text": [
      "Gridding /bb8/lingrui/my_projects/FAST_pipeline/Sun17_A_08/M07/Tsys_psr_Sun17_A_08_M07-M07_211112_072900to211112_074248_icrs.fits\n",
      "Doing Doppler Tracking!\n"
     ]
    },
    {
     "name": "stderr",
     "output_type": "stream",
     "text": [
      "WARNING: NoVelocityWarning: No velocity defined on frame, assuming (0., 0., 0.) km / s. [astropy.coordinates.spectral_coordinate]\n",
      "WARNING: NoDistanceWarning: Distance on coordinate object is dimensionless, an arbitrary distance value of 1000000.0 kpc will be set instead. [astropy.coordinates.spectral_coordinate]\n"
     ]
    },
    {
     "name": "stdout",
     "output_type": "stream",
     "text": [
      "Gridding /bb8/lingrui/my_projects/FAST_pipeline/Sun17_A_08/M08/Tsys_psr_Sun17_A_08_M08-M08_211112_072900to211112_074248_icrs.fits\n",
      "Doing Doppler Tracking!\n"
     ]
    },
    {
     "name": "stderr",
     "output_type": "stream",
     "text": [
      "WARNING: NoVelocityWarning: No velocity defined on frame, assuming (0., 0., 0.) km / s. [astropy.coordinates.spectral_coordinate]\n",
      "WARNING: NoDistanceWarning: Distance on coordinate object is dimensionless, an arbitrary distance value of 1000000.0 kpc will be set instead. [astropy.coordinates.spectral_coordinate]\n"
     ]
    },
    {
     "name": "stdout",
     "output_type": "stream",
     "text": [
      "Gridding /bb8/lingrui/my_projects/FAST_pipeline/Sun17_A_08/M09/Tsys_psr_Sun17_A_08_M09-M09_211112_072900to211112_074248_icrs.fits\n",
      "Doing Doppler Tracking!\n"
     ]
    },
    {
     "name": "stderr",
     "output_type": "stream",
     "text": [
      "WARNING: NoVelocityWarning: No velocity defined on frame, assuming (0., 0., 0.) km / s. [astropy.coordinates.spectral_coordinate]\n",
      "WARNING: NoDistanceWarning: Distance on coordinate object is dimensionless, an arbitrary distance value of 1000000.0 kpc will be set instead. [astropy.coordinates.spectral_coordinate]\n"
     ]
    },
    {
     "name": "stdout",
     "output_type": "stream",
     "text": [
      "Gridding /bb8/lingrui/my_projects/FAST_pipeline/Sun17_A_08/M10/Tsys_psr_Sun17_A_08_M10-M10_211112_072900to211112_074248_icrs.fits\n",
      "Doing Doppler Tracking!\n"
     ]
    },
    {
     "name": "stderr",
     "output_type": "stream",
     "text": [
      "WARNING: NoVelocityWarning: No velocity defined on frame, assuming (0., 0., 0.) km / s. [astropy.coordinates.spectral_coordinate]\n",
      "WARNING: NoDistanceWarning: Distance on coordinate object is dimensionless, an arbitrary distance value of 1000000.0 kpc will be set instead. [astropy.coordinates.spectral_coordinate]\n"
     ]
    },
    {
     "name": "stdout",
     "output_type": "stream",
     "text": [
      "Gridding /bb8/lingrui/my_projects/FAST_pipeline/Sun17_A_08/M11/Tsys_psr_Sun17_A_08_M11-M11_211112_072900to211112_074248_icrs.fits\n",
      "Doing Doppler Tracking!\n"
     ]
    },
    {
     "name": "stderr",
     "output_type": "stream",
     "text": [
      "WARNING: NoVelocityWarning: No velocity defined on frame, assuming (0., 0., 0.) km / s. [astropy.coordinates.spectral_coordinate]\n",
      "WARNING: NoDistanceWarning: Distance on coordinate object is dimensionless, an arbitrary distance value of 1000000.0 kpc will be set instead. [astropy.coordinates.spectral_coordinate]\n"
     ]
    },
    {
     "name": "stdout",
     "output_type": "stream",
     "text": [
      "Gridding /bb8/lingrui/my_projects/FAST_pipeline/Sun17_A_08/M12/Tsys_psr_Sun17_A_08_M12-M12_211112_072900to211112_074248_icrs.fits\n",
      "Doing Doppler Tracking!\n"
     ]
    },
    {
     "name": "stderr",
     "output_type": "stream",
     "text": [
      "WARNING: NoVelocityWarning: No velocity defined on frame, assuming (0., 0., 0.) km / s. [astropy.coordinates.spectral_coordinate]\n",
      "WARNING: NoDistanceWarning: Distance on coordinate object is dimensionless, an arbitrary distance value of 1000000.0 kpc will be set instead. [astropy.coordinates.spectral_coordinate]\n"
     ]
    },
    {
     "name": "stdout",
     "output_type": "stream",
     "text": [
      "Gridding /bb8/lingrui/my_projects/FAST_pipeline/Sun17_A_08/M13/Tsys_psr_Sun17_A_08_M13-M13_211112_072900to211112_074248_icrs.fits\n",
      "Doing Doppler Tracking!\n"
     ]
    },
    {
     "name": "stderr",
     "output_type": "stream",
     "text": [
      "WARNING: NoVelocityWarning: No velocity defined on frame, assuming (0., 0., 0.) km / s. [astropy.coordinates.spectral_coordinate]\n",
      "WARNING: NoDistanceWarning: Distance on coordinate object is dimensionless, an arbitrary distance value of 1000000.0 kpc will be set instead. [astropy.coordinates.spectral_coordinate]\n"
     ]
    },
    {
     "name": "stdout",
     "output_type": "stream",
     "text": [
      "Gridding /bb8/lingrui/my_projects/FAST_pipeline/Sun17_A_08/M14/Tsys_psr_Sun17_A_08_M14-M14_211112_072900to211112_074248_icrs.fits\n",
      "Doing Doppler Tracking!\n"
     ]
    },
    {
     "name": "stderr",
     "output_type": "stream",
     "text": [
      "WARNING: NoVelocityWarning: No velocity defined on frame, assuming (0., 0., 0.) km / s. [astropy.coordinates.spectral_coordinate]\n",
      "WARNING: NoDistanceWarning: Distance on coordinate object is dimensionless, an arbitrary distance value of 1000000.0 kpc will be set instead. [astropy.coordinates.spectral_coordinate]\n"
     ]
    },
    {
     "name": "stdout",
     "output_type": "stream",
     "text": [
      "Gridding /bb8/lingrui/my_projects/FAST_pipeline/Sun17_A_08/M15/Tsys_psr_Sun17_A_08_M15-M15_211112_072900to211112_074248_icrs.fits\n",
      "Doing Doppler Tracking!\n"
     ]
    },
    {
     "name": "stderr",
     "output_type": "stream",
     "text": [
      "WARNING: NoVelocityWarning: No velocity defined on frame, assuming (0., 0., 0.) km / s. [astropy.coordinates.spectral_coordinate]\n",
      "WARNING: NoDistanceWarning: Distance on coordinate object is dimensionless, an arbitrary distance value of 1000000.0 kpc will be set instead. [astropy.coordinates.spectral_coordinate]\n"
     ]
    },
    {
     "name": "stdout",
     "output_type": "stream",
     "text": [
      "Gridding /bb8/lingrui/my_projects/FAST_pipeline/Sun17_A_08/M16/Tsys_psr_Sun17_A_08_M16-M16_211112_072900to211112_074248_icrs.fits\n",
      "Doing Doppler Tracking!\n"
     ]
    },
    {
     "name": "stderr",
     "output_type": "stream",
     "text": [
      "WARNING: NoVelocityWarning: No velocity defined on frame, assuming (0., 0., 0.) km / s. [astropy.coordinates.spectral_coordinate]\n",
      "WARNING: NoDistanceWarning: Distance on coordinate object is dimensionless, an arbitrary distance value of 1000000.0 kpc will be set instead. [astropy.coordinates.spectral_coordinate]\n"
     ]
    },
    {
     "name": "stdout",
     "output_type": "stream",
     "text": [
      "Gridding /bb8/lingrui/my_projects/FAST_pipeline/Sun17_A_08/M17/Tsys_psr_Sun17_A_08_M17-M17_211112_072900to211112_074248_icrs.fits\n",
      "Doing Doppler Tracking!\n"
     ]
    },
    {
     "name": "stderr",
     "output_type": "stream",
     "text": [
      "WARNING: NoVelocityWarning: No velocity defined on frame, assuming (0., 0., 0.) km / s. [astropy.coordinates.spectral_coordinate]\n",
      "WARNING: NoDistanceWarning: Distance on coordinate object is dimensionless, an arbitrary distance value of 1000000.0 kpc will be set instead. [astropy.coordinates.spectral_coordinate]\n"
     ]
    },
    {
     "name": "stdout",
     "output_type": "stream",
     "text": [
      "Gridding /bb8/lingrui/my_projects/FAST_pipeline/Sun17_A_08/M18/Tsys_psr_Sun17_A_08_M18-M18_211112_072900to211112_074248_icrs.fits\n",
      "Doing Doppler Tracking!\n"
     ]
    },
    {
     "name": "stderr",
     "output_type": "stream",
     "text": [
      "WARNING: NoVelocityWarning: No velocity defined on frame, assuming (0., 0., 0.) km / s. [astropy.coordinates.spectral_coordinate]\n",
      "WARNING: NoDistanceWarning: Distance on coordinate object is dimensionless, an arbitrary distance value of 1000000.0 kpc will be set instead. [astropy.coordinates.spectral_coordinate]\n"
     ]
    },
    {
     "name": "stdout",
     "output_type": "stream",
     "text": [
      "Gridding /bb8/lingrui/my_projects/FAST_pipeline/Sun17_A_08/M19/Tsys_psr_Sun17_A_08_M19-M19_211112_072900to211112_074248_icrs.fits\n",
      "Doing Doppler Tracking!\n"
     ]
    },
    {
     "name": "stderr",
     "output_type": "stream",
     "text": [
      "WARNING: NoVelocityWarning: No velocity defined on frame, assuming (0., 0., 0.) km / s. [astropy.coordinates.spectral_coordinate]\n",
      "WARNING: NoDistanceWarning: Distance on coordinate object is dimensionless, an arbitrary distance value of 1000000.0 kpc will be set instead. [astropy.coordinates.spectral_coordinate]\n"
     ]
    },
    {
     "name": "stdout",
     "output_type": "stream",
     "text": [
      "Gridding /bb8/lingrui/my_projects/FAST_pipeline/Sun17_A_09/M01/Tsys_psr_Sun17_A_09_M01-M01_211023_110300to211023_111648_icrs.fits\n",
      "Doing Doppler Tracking!\n"
     ]
    },
    {
     "name": "stderr",
     "output_type": "stream",
     "text": [
      "WARNING: NoVelocityWarning: No velocity defined on frame, assuming (0., 0., 0.) km / s. [astropy.coordinates.spectral_coordinate]\n",
      "WARNING: NoDistanceWarning: Distance on coordinate object is dimensionless, an arbitrary distance value of 1000000.0 kpc will be set instead. [astropy.coordinates.spectral_coordinate]\n"
     ]
    },
    {
     "name": "stdout",
     "output_type": "stream",
     "text": [
      "Gridding /bb8/lingrui/my_projects/FAST_pipeline/Sun17_A_09/M02/Tsys_psr_Sun17_A_09_M02-M02_211023_110300to211023_111648_icrs.fits\n",
      "Doing Doppler Tracking!\n"
     ]
    },
    {
     "name": "stderr",
     "output_type": "stream",
     "text": [
      "WARNING: NoVelocityWarning: No velocity defined on frame, assuming (0., 0., 0.) km / s. [astropy.coordinates.spectral_coordinate]\n",
      "WARNING: NoDistanceWarning: Distance on coordinate object is dimensionless, an arbitrary distance value of 1000000.0 kpc will be set instead. [astropy.coordinates.spectral_coordinate]\n"
     ]
    },
    {
     "name": "stdout",
     "output_type": "stream",
     "text": [
      "Gridding /bb8/lingrui/my_projects/FAST_pipeline/Sun17_A_09/M03/Tsys_psr_Sun17_A_09_M03-M03_211023_110300to211023_111648_icrs.fits\n",
      "Doing Doppler Tracking!\n"
     ]
    },
    {
     "name": "stderr",
     "output_type": "stream",
     "text": [
      "WARNING: NoVelocityWarning: No velocity defined on frame, assuming (0., 0., 0.) km / s. [astropy.coordinates.spectral_coordinate]\n",
      "WARNING: NoDistanceWarning: Distance on coordinate object is dimensionless, an arbitrary distance value of 1000000.0 kpc will be set instead. [astropy.coordinates.spectral_coordinate]\n"
     ]
    },
    {
     "name": "stdout",
     "output_type": "stream",
     "text": [
      "Gridding /bb8/lingrui/my_projects/FAST_pipeline/Sun17_A_09/M04/Tsys_psr_Sun17_A_09_M04-M04_211023_110300to211023_111648_icrs.fits\n",
      "Doing Doppler Tracking!\n"
     ]
    },
    {
     "name": "stderr",
     "output_type": "stream",
     "text": [
      "WARNING: NoVelocityWarning: No velocity defined on frame, assuming (0., 0., 0.) km / s. [astropy.coordinates.spectral_coordinate]\n",
      "WARNING: NoDistanceWarning: Distance on coordinate object is dimensionless, an arbitrary distance value of 1000000.0 kpc will be set instead. [astropy.coordinates.spectral_coordinate]\n"
     ]
    },
    {
     "name": "stdout",
     "output_type": "stream",
     "text": [
      "Gridding /bb8/lingrui/my_projects/FAST_pipeline/Sun17_A_09/M05/Tsys_psr_Sun17_A_09_M05-M05_211023_110300to211023_111648_icrs.fits\n",
      "Doing Doppler Tracking!\n"
     ]
    },
    {
     "name": "stderr",
     "output_type": "stream",
     "text": [
      "WARNING: NoVelocityWarning: No velocity defined on frame, assuming (0., 0., 0.) km / s. [astropy.coordinates.spectral_coordinate]\n",
      "WARNING: NoDistanceWarning: Distance on coordinate object is dimensionless, an arbitrary distance value of 1000000.0 kpc will be set instead. [astropy.coordinates.spectral_coordinate]\n"
     ]
    },
    {
     "name": "stdout",
     "output_type": "stream",
     "text": [
      "Gridding /bb8/lingrui/my_projects/FAST_pipeline/Sun17_A_09/M06/Tsys_psr_Sun17_A_09_M06-M06_211023_110300to211023_111648_icrs.fits\n",
      "Doing Doppler Tracking!\n"
     ]
    },
    {
     "name": "stderr",
     "output_type": "stream",
     "text": [
      "WARNING: NoVelocityWarning: No velocity defined on frame, assuming (0., 0., 0.) km / s. [astropy.coordinates.spectral_coordinate]\n",
      "WARNING: NoDistanceWarning: Distance on coordinate object is dimensionless, an arbitrary distance value of 1000000.0 kpc will be set instead. [astropy.coordinates.spectral_coordinate]\n"
     ]
    },
    {
     "name": "stdout",
     "output_type": "stream",
     "text": [
      "Gridding /bb8/lingrui/my_projects/FAST_pipeline/Sun17_A_09/M07/Tsys_psr_Sun17_A_09_M07-M07_211023_110300to211023_111648_icrs.fits\n",
      "Doing Doppler Tracking!\n"
     ]
    },
    {
     "name": "stderr",
     "output_type": "stream",
     "text": [
      "WARNING: NoVelocityWarning: No velocity defined on frame, assuming (0., 0., 0.) km / s. [astropy.coordinates.spectral_coordinate]\n",
      "WARNING: NoDistanceWarning: Distance on coordinate object is dimensionless, an arbitrary distance value of 1000000.0 kpc will be set instead. [astropy.coordinates.spectral_coordinate]\n"
     ]
    },
    {
     "name": "stdout",
     "output_type": "stream",
     "text": [
      "Gridding /bb8/lingrui/my_projects/FAST_pipeline/Sun17_A_09/M08/Tsys_psr_Sun17_A_09_M08-M08_211023_110300to211023_111648_icrs.fits\n",
      "Doing Doppler Tracking!\n"
     ]
    },
    {
     "name": "stderr",
     "output_type": "stream",
     "text": [
      "WARNING: NoVelocityWarning: No velocity defined on frame, assuming (0., 0., 0.) km / s. [astropy.coordinates.spectral_coordinate]\n",
      "WARNING: NoDistanceWarning: Distance on coordinate object is dimensionless, an arbitrary distance value of 1000000.0 kpc will be set instead. [astropy.coordinates.spectral_coordinate]\n"
     ]
    },
    {
     "name": "stdout",
     "output_type": "stream",
     "text": [
      "Gridding /bb8/lingrui/my_projects/FAST_pipeline/Sun17_A_09/M09/Tsys_psr_Sun17_A_09_M09-M09_211023_110300to211023_111648_icrs.fits\n",
      "Doing Doppler Tracking!\n"
     ]
    },
    {
     "name": "stderr",
     "output_type": "stream",
     "text": [
      "WARNING: NoVelocityWarning: No velocity defined on frame, assuming (0., 0., 0.) km / s. [astropy.coordinates.spectral_coordinate]\n",
      "WARNING: NoDistanceWarning: Distance on coordinate object is dimensionless, an arbitrary distance value of 1000000.0 kpc will be set instead. [astropy.coordinates.spectral_coordinate]\n"
     ]
    },
    {
     "name": "stdout",
     "output_type": "stream",
     "text": [
      "Gridding /bb8/lingrui/my_projects/FAST_pipeline/Sun17_A_09/M10/Tsys_psr_Sun17_A_09_M10-M10_211023_110300to211023_111648_icrs.fits\n",
      "Doing Doppler Tracking!\n"
     ]
    },
    {
     "name": "stderr",
     "output_type": "stream",
     "text": [
      "WARNING: NoVelocityWarning: No velocity defined on frame, assuming (0., 0., 0.) km / s. [astropy.coordinates.spectral_coordinate]\n",
      "WARNING: NoDistanceWarning: Distance on coordinate object is dimensionless, an arbitrary distance value of 1000000.0 kpc will be set instead. [astropy.coordinates.spectral_coordinate]\n"
     ]
    },
    {
     "name": "stdout",
     "output_type": "stream",
     "text": [
      "Gridding /bb8/lingrui/my_projects/FAST_pipeline/Sun17_A_09/M11/Tsys_psr_Sun17_A_09_M11-M11_211023_110300to211023_111648_icrs.fits\n",
      "Doing Doppler Tracking!\n"
     ]
    },
    {
     "name": "stderr",
     "output_type": "stream",
     "text": [
      "WARNING: NoVelocityWarning: No velocity defined on frame, assuming (0., 0., 0.) km / s. [astropy.coordinates.spectral_coordinate]\n",
      "WARNING: NoDistanceWarning: Distance on coordinate object is dimensionless, an arbitrary distance value of 1000000.0 kpc will be set instead. [astropy.coordinates.spectral_coordinate]\n"
     ]
    },
    {
     "name": "stdout",
     "output_type": "stream",
     "text": [
      "Gridding /bb8/lingrui/my_projects/FAST_pipeline/Sun17_A_09/M12/Tsys_psr_Sun17_A_09_M12-M12_211023_110300to211023_111648_icrs.fits\n",
      "Doing Doppler Tracking!\n"
     ]
    },
    {
     "name": "stderr",
     "output_type": "stream",
     "text": [
      "WARNING: NoVelocityWarning: No velocity defined on frame, assuming (0., 0., 0.) km / s. [astropy.coordinates.spectral_coordinate]\n",
      "WARNING: NoDistanceWarning: Distance on coordinate object is dimensionless, an arbitrary distance value of 1000000.0 kpc will be set instead. [astropy.coordinates.spectral_coordinate]\n"
     ]
    },
    {
     "name": "stdout",
     "output_type": "stream",
     "text": [
      "Gridding /bb8/lingrui/my_projects/FAST_pipeline/Sun17_A_09/M13/Tsys_psr_Sun17_A_09_M13-M13_211023_110300to211023_111648_icrs.fits\n",
      "Doing Doppler Tracking!\n"
     ]
    },
    {
     "name": "stderr",
     "output_type": "stream",
     "text": [
      "WARNING: NoVelocityWarning: No velocity defined on frame, assuming (0., 0., 0.) km / s. [astropy.coordinates.spectral_coordinate]\n",
      "WARNING: NoDistanceWarning: Distance on coordinate object is dimensionless, an arbitrary distance value of 1000000.0 kpc will be set instead. [astropy.coordinates.spectral_coordinate]\n"
     ]
    },
    {
     "name": "stdout",
     "output_type": "stream",
     "text": [
      "Gridding /bb8/lingrui/my_projects/FAST_pipeline/Sun17_A_09/M14/Tsys_psr_Sun17_A_09_M14-M14_211023_110300to211023_111648_icrs.fits\n",
      "Doing Doppler Tracking!\n"
     ]
    },
    {
     "name": "stderr",
     "output_type": "stream",
     "text": [
      "WARNING: NoVelocityWarning: No velocity defined on frame, assuming (0., 0., 0.) km / s. [astropy.coordinates.spectral_coordinate]\n",
      "WARNING: NoDistanceWarning: Distance on coordinate object is dimensionless, an arbitrary distance value of 1000000.0 kpc will be set instead. [astropy.coordinates.spectral_coordinate]\n"
     ]
    },
    {
     "name": "stdout",
     "output_type": "stream",
     "text": [
      "Gridding /bb8/lingrui/my_projects/FAST_pipeline/Sun17_A_09/M15/Tsys_psr_Sun17_A_09_M15-M15_211023_110300to211023_111648_icrs.fits\n",
      "Doing Doppler Tracking!\n"
     ]
    },
    {
     "name": "stderr",
     "output_type": "stream",
     "text": [
      "WARNING: NoVelocityWarning: No velocity defined on frame, assuming (0., 0., 0.) km / s. [astropy.coordinates.spectral_coordinate]\n",
      "WARNING: NoDistanceWarning: Distance on coordinate object is dimensionless, an arbitrary distance value of 1000000.0 kpc will be set instead. [astropy.coordinates.spectral_coordinate]\n"
     ]
    },
    {
     "name": "stdout",
     "output_type": "stream",
     "text": [
      "Gridding /bb8/lingrui/my_projects/FAST_pipeline/Sun17_A_09/M16/Tsys_psr_Sun17_A_09_M16-M16_211023_110300to211023_111648_icrs.fits\n",
      "Doing Doppler Tracking!\n"
     ]
    },
    {
     "name": "stderr",
     "output_type": "stream",
     "text": [
      "WARNING: NoVelocityWarning: No velocity defined on frame, assuming (0., 0., 0.) km / s. [astropy.coordinates.spectral_coordinate]\n",
      "WARNING: NoDistanceWarning: Distance on coordinate object is dimensionless, an arbitrary distance value of 1000000.0 kpc will be set instead. [astropy.coordinates.spectral_coordinate]\n"
     ]
    },
    {
     "name": "stdout",
     "output_type": "stream",
     "text": [
      "Gridding /bb8/lingrui/my_projects/FAST_pipeline/Sun17_A_09/M17/Tsys_psr_Sun17_A_09_M17-M17_211023_110300to211023_111648_icrs.fits\n",
      "Doing Doppler Tracking!\n"
     ]
    },
    {
     "name": "stderr",
     "output_type": "stream",
     "text": [
      "WARNING: NoVelocityWarning: No velocity defined on frame, assuming (0., 0., 0.) km / s. [astropy.coordinates.spectral_coordinate]\n",
      "WARNING: NoDistanceWarning: Distance on coordinate object is dimensionless, an arbitrary distance value of 1000000.0 kpc will be set instead. [astropy.coordinates.spectral_coordinate]\n"
     ]
    },
    {
     "name": "stdout",
     "output_type": "stream",
     "text": [
      "Gridding /bb8/lingrui/my_projects/FAST_pipeline/Sun17_A_09/M18/Tsys_psr_Sun17_A_09_M18-M18_211023_110300to211023_111648_icrs.fits\n",
      "Doing Doppler Tracking!\n"
     ]
    },
    {
     "name": "stderr",
     "output_type": "stream",
     "text": [
      "WARNING: NoVelocityWarning: No velocity defined on frame, assuming (0., 0., 0.) km / s. [astropy.coordinates.spectral_coordinate]\n",
      "WARNING: NoDistanceWarning: Distance on coordinate object is dimensionless, an arbitrary distance value of 1000000.0 kpc will be set instead. [astropy.coordinates.spectral_coordinate]\n"
     ]
    },
    {
     "name": "stdout",
     "output_type": "stream",
     "text": [
      "Gridding /bb8/lingrui/my_projects/FAST_pipeline/Sun17_A_09/M19/Tsys_psr_Sun17_A_09_M19-M19_211023_110300to211023_111648_icrs.fits\n",
      "Doing Doppler Tracking!\n"
     ]
    },
    {
     "name": "stderr",
     "output_type": "stream",
     "text": [
      "WARNING: NoVelocityWarning: No velocity defined on frame, assuming (0., 0., 0.) km / s. [astropy.coordinates.spectral_coordinate]\n",
      "WARNING: NoDistanceWarning: Distance on coordinate object is dimensionless, an arbitrary distance value of 1000000.0 kpc will be set instead. [astropy.coordinates.spectral_coordinate]\n"
     ]
    },
    {
     "name": "stdout",
     "output_type": "stream",
     "text": [
      "Gridding /bb8/lingrui/my_projects/FAST_pipeline/Sun17_A_10/M01/Tsys_psr_Sun17_A_10_M01-M01_211119_071000to211119_072348_icrs.fits\n",
      "Doing Doppler Tracking!\n"
     ]
    },
    {
     "name": "stderr",
     "output_type": "stream",
     "text": [
      "WARNING: NoVelocityWarning: No velocity defined on frame, assuming (0., 0., 0.) km / s. [astropy.coordinates.spectral_coordinate]\n",
      "WARNING: NoDistanceWarning: Distance on coordinate object is dimensionless, an arbitrary distance value of 1000000.0 kpc will be set instead. [astropy.coordinates.spectral_coordinate]\n"
     ]
    },
    {
     "name": "stdout",
     "output_type": "stream",
     "text": [
      "Gridding /bb8/lingrui/my_projects/FAST_pipeline/Sun17_A_10/M02/Tsys_psr_Sun17_A_10_M02-M02_211119_071000to211119_072348_icrs.fits\n",
      "Doing Doppler Tracking!\n"
     ]
    },
    {
     "name": "stderr",
     "output_type": "stream",
     "text": [
      "WARNING: NoVelocityWarning: No velocity defined on frame, assuming (0., 0., 0.) km / s. [astropy.coordinates.spectral_coordinate]\n",
      "WARNING: NoDistanceWarning: Distance on coordinate object is dimensionless, an arbitrary distance value of 1000000.0 kpc will be set instead. [astropy.coordinates.spectral_coordinate]\n"
     ]
    },
    {
     "name": "stdout",
     "output_type": "stream",
     "text": [
      "Gridding /bb8/lingrui/my_projects/FAST_pipeline/Sun17_A_10/M03/Tsys_psr_Sun17_A_10_M03-M03_211119_071000to211119_072348_icrs.fits\n",
      "Doing Doppler Tracking!\n"
     ]
    },
    {
     "name": "stderr",
     "output_type": "stream",
     "text": [
      "WARNING: NoVelocityWarning: No velocity defined on frame, assuming (0., 0., 0.) km / s. [astropy.coordinates.spectral_coordinate]\n",
      "WARNING: NoDistanceWarning: Distance on coordinate object is dimensionless, an arbitrary distance value of 1000000.0 kpc will be set instead. [astropy.coordinates.spectral_coordinate]\n"
     ]
    },
    {
     "name": "stdout",
     "output_type": "stream",
     "text": [
      "Gridding /bb8/lingrui/my_projects/FAST_pipeline/Sun17_A_10/M04/Tsys_psr_Sun17_A_10_M04-M04_211119_071000to211119_072348_icrs.fits\n",
      "Doing Doppler Tracking!\n"
     ]
    },
    {
     "name": "stderr",
     "output_type": "stream",
     "text": [
      "WARNING: NoVelocityWarning: No velocity defined on frame, assuming (0., 0., 0.) km / s. [astropy.coordinates.spectral_coordinate]\n",
      "WARNING: NoDistanceWarning: Distance on coordinate object is dimensionless, an arbitrary distance value of 1000000.0 kpc will be set instead. [astropy.coordinates.spectral_coordinate]\n"
     ]
    },
    {
     "name": "stdout",
     "output_type": "stream",
     "text": [
      "Gridding /bb8/lingrui/my_projects/FAST_pipeline/Sun17_A_10/M05/Tsys_psr_Sun17_A_10_M05-M05_211119_071000to211119_072348_icrs.fits\n",
      "Doing Doppler Tracking!\n"
     ]
    },
    {
     "name": "stderr",
     "output_type": "stream",
     "text": [
      "WARNING: NoVelocityWarning: No velocity defined on frame, assuming (0., 0., 0.) km / s. [astropy.coordinates.spectral_coordinate]\n",
      "WARNING: NoDistanceWarning: Distance on coordinate object is dimensionless, an arbitrary distance value of 1000000.0 kpc will be set instead. [astropy.coordinates.spectral_coordinate]\n"
     ]
    },
    {
     "name": "stdout",
     "output_type": "stream",
     "text": [
      "Gridding /bb8/lingrui/my_projects/FAST_pipeline/Sun17_A_10/M06/Tsys_psr_Sun17_A_10_M06-M06_211119_071000to211119_072348_icrs.fits\n",
      "Doing Doppler Tracking!\n"
     ]
    },
    {
     "name": "stderr",
     "output_type": "stream",
     "text": [
      "WARNING: NoVelocityWarning: No velocity defined on frame, assuming (0., 0., 0.) km / s. [astropy.coordinates.spectral_coordinate]\n",
      "WARNING: NoDistanceWarning: Distance on coordinate object is dimensionless, an arbitrary distance value of 1000000.0 kpc will be set instead. [astropy.coordinates.spectral_coordinate]\n"
     ]
    },
    {
     "name": "stdout",
     "output_type": "stream",
     "text": [
      "Gridding /bb8/lingrui/my_projects/FAST_pipeline/Sun17_A_10/M07/Tsys_psr_Sun17_A_10_M07-M07_211119_071000to211119_072348_icrs.fits\n",
      "Doing Doppler Tracking!\n"
     ]
    },
    {
     "name": "stderr",
     "output_type": "stream",
     "text": [
      "WARNING: NoVelocityWarning: No velocity defined on frame, assuming (0., 0., 0.) km / s. [astropy.coordinates.spectral_coordinate]\n",
      "WARNING: NoDistanceWarning: Distance on coordinate object is dimensionless, an arbitrary distance value of 1000000.0 kpc will be set instead. [astropy.coordinates.spectral_coordinate]\n"
     ]
    },
    {
     "name": "stdout",
     "output_type": "stream",
     "text": [
      "Gridding /bb8/lingrui/my_projects/FAST_pipeline/Sun17_A_10/M08/Tsys_psr_Sun17_A_10_M08-M08_211119_071000to211119_072348_icrs.fits\n",
      "Doing Doppler Tracking!\n"
     ]
    },
    {
     "name": "stderr",
     "output_type": "stream",
     "text": [
      "WARNING: NoVelocityWarning: No velocity defined on frame, assuming (0., 0., 0.) km / s. [astropy.coordinates.spectral_coordinate]\n",
      "WARNING: NoDistanceWarning: Distance on coordinate object is dimensionless, an arbitrary distance value of 1000000.0 kpc will be set instead. [astropy.coordinates.spectral_coordinate]\n"
     ]
    },
    {
     "name": "stdout",
     "output_type": "stream",
     "text": [
      "Gridding /bb8/lingrui/my_projects/FAST_pipeline/Sun17_A_10/M09/Tsys_psr_Sun17_A_10_M09-M09_211119_071000to211119_072348_icrs.fits\n",
      "Doing Doppler Tracking!\n"
     ]
    },
    {
     "name": "stderr",
     "output_type": "stream",
     "text": [
      "WARNING: NoVelocityWarning: No velocity defined on frame, assuming (0., 0., 0.) km / s. [astropy.coordinates.spectral_coordinate]\n",
      "WARNING: NoDistanceWarning: Distance on coordinate object is dimensionless, an arbitrary distance value of 1000000.0 kpc will be set instead. [astropy.coordinates.spectral_coordinate]\n"
     ]
    },
    {
     "name": "stdout",
     "output_type": "stream",
     "text": [
      "Gridding /bb8/lingrui/my_projects/FAST_pipeline/Sun17_A_10/M10/Tsys_psr_Sun17_A_10_M10-M10_211119_071000to211119_072348_icrs.fits\n",
      "Doing Doppler Tracking!\n"
     ]
    },
    {
     "name": "stderr",
     "output_type": "stream",
     "text": [
      "WARNING: NoVelocityWarning: No velocity defined on frame, assuming (0., 0., 0.) km / s. [astropy.coordinates.spectral_coordinate]\n",
      "WARNING: NoDistanceWarning: Distance on coordinate object is dimensionless, an arbitrary distance value of 1000000.0 kpc will be set instead. [astropy.coordinates.spectral_coordinate]\n"
     ]
    },
    {
     "name": "stdout",
     "output_type": "stream",
     "text": [
      "Gridding /bb8/lingrui/my_projects/FAST_pipeline/Sun17_A_10/M11/Tsys_psr_Sun17_A_10_M11-M11_211119_071000to211119_072348_icrs.fits\n",
      "Doing Doppler Tracking!\n"
     ]
    },
    {
     "name": "stderr",
     "output_type": "stream",
     "text": [
      "WARNING: NoVelocityWarning: No velocity defined on frame, assuming (0., 0., 0.) km / s. [astropy.coordinates.spectral_coordinate]\n",
      "WARNING: NoDistanceWarning: Distance on coordinate object is dimensionless, an arbitrary distance value of 1000000.0 kpc will be set instead. [astropy.coordinates.spectral_coordinate]\n"
     ]
    },
    {
     "name": "stdout",
     "output_type": "stream",
     "text": [
      "Gridding /bb8/lingrui/my_projects/FAST_pipeline/Sun17_A_10/M12/Tsys_psr_Sun17_A_10_M12-M12_211119_071000to211119_072348_icrs.fits\n",
      "Doing Doppler Tracking!\n"
     ]
    },
    {
     "name": "stderr",
     "output_type": "stream",
     "text": [
      "WARNING: NoVelocityWarning: No velocity defined on frame, assuming (0., 0., 0.) km / s. [astropy.coordinates.spectral_coordinate]\n",
      "WARNING: NoDistanceWarning: Distance on coordinate object is dimensionless, an arbitrary distance value of 1000000.0 kpc will be set instead. [astropy.coordinates.spectral_coordinate]\n"
     ]
    },
    {
     "name": "stdout",
     "output_type": "stream",
     "text": [
      "Gridding /bb8/lingrui/my_projects/FAST_pipeline/Sun17_A_10/M13/Tsys_psr_Sun17_A_10_M13-M13_211119_071000to211119_072348_icrs.fits\n",
      "Doing Doppler Tracking!\n"
     ]
    },
    {
     "name": "stderr",
     "output_type": "stream",
     "text": [
      "WARNING: NoVelocityWarning: No velocity defined on frame, assuming (0., 0., 0.) km / s. [astropy.coordinates.spectral_coordinate]\n",
      "WARNING: NoDistanceWarning: Distance on coordinate object is dimensionless, an arbitrary distance value of 1000000.0 kpc will be set instead. [astropy.coordinates.spectral_coordinate]\n"
     ]
    },
    {
     "name": "stdout",
     "output_type": "stream",
     "text": [
      "Gridding /bb8/lingrui/my_projects/FAST_pipeline/Sun17_A_10/M14/Tsys_psr_Sun17_A_10_M14-M14_211119_071000to211119_072348_icrs.fits\n",
      "Doing Doppler Tracking!\n"
     ]
    },
    {
     "name": "stderr",
     "output_type": "stream",
     "text": [
      "WARNING: NoVelocityWarning: No velocity defined on frame, assuming (0., 0., 0.) km / s. [astropy.coordinates.spectral_coordinate]\n",
      "WARNING: NoDistanceWarning: Distance on coordinate object is dimensionless, an arbitrary distance value of 1000000.0 kpc will be set instead. [astropy.coordinates.spectral_coordinate]\n"
     ]
    },
    {
     "name": "stdout",
     "output_type": "stream",
     "text": [
      "Gridding /bb8/lingrui/my_projects/FAST_pipeline/Sun17_A_10/M15/Tsys_psr_Sun17_A_10_M15-M15_211119_071000to211119_072348_icrs.fits\n",
      "Doing Doppler Tracking!\n"
     ]
    },
    {
     "name": "stderr",
     "output_type": "stream",
     "text": [
      "WARNING: NoVelocityWarning: No velocity defined on frame, assuming (0., 0., 0.) km / s. [astropy.coordinates.spectral_coordinate]\n",
      "WARNING: NoDistanceWarning: Distance on coordinate object is dimensionless, an arbitrary distance value of 1000000.0 kpc will be set instead. [astropy.coordinates.spectral_coordinate]\n"
     ]
    },
    {
     "name": "stdout",
     "output_type": "stream",
     "text": [
      "Gridding /bb8/lingrui/my_projects/FAST_pipeline/Sun17_A_10/M16/Tsys_psr_Sun17_A_10_M16-M16_211119_071000to211119_072348_icrs.fits\n",
      "Doing Doppler Tracking!\n"
     ]
    },
    {
     "name": "stderr",
     "output_type": "stream",
     "text": [
      "WARNING: NoVelocityWarning: No velocity defined on frame, assuming (0., 0., 0.) km / s. [astropy.coordinates.spectral_coordinate]\n",
      "WARNING: NoDistanceWarning: Distance on coordinate object is dimensionless, an arbitrary distance value of 1000000.0 kpc will be set instead. [astropy.coordinates.spectral_coordinate]\n"
     ]
    },
    {
     "name": "stdout",
     "output_type": "stream",
     "text": [
      "Gridding /bb8/lingrui/my_projects/FAST_pipeline/Sun17_A_10/M17/Tsys_psr_Sun17_A_10_M17-M17_211119_071000to211119_072348_icrs.fits\n",
      "Doing Doppler Tracking!\n"
     ]
    },
    {
     "name": "stderr",
     "output_type": "stream",
     "text": [
      "WARNING: NoVelocityWarning: No velocity defined on frame, assuming (0., 0., 0.) km / s. [astropy.coordinates.spectral_coordinate]\n",
      "WARNING: NoDistanceWarning: Distance on coordinate object is dimensionless, an arbitrary distance value of 1000000.0 kpc will be set instead. [astropy.coordinates.spectral_coordinate]\n"
     ]
    },
    {
     "name": "stdout",
     "output_type": "stream",
     "text": [
      "Gridding /bb8/lingrui/my_projects/FAST_pipeline/Sun17_A_10/M18/Tsys_psr_Sun17_A_10_M18-M18_211119_071000to211119_072348_icrs.fits\n",
      "Doing Doppler Tracking!\n"
     ]
    },
    {
     "name": "stderr",
     "output_type": "stream",
     "text": [
      "WARNING: NoVelocityWarning: No velocity defined on frame, assuming (0., 0., 0.) km / s. [astropy.coordinates.spectral_coordinate]\n",
      "WARNING: NoDistanceWarning: Distance on coordinate object is dimensionless, an arbitrary distance value of 1000000.0 kpc will be set instead. [astropy.coordinates.spectral_coordinate]\n"
     ]
    },
    {
     "name": "stdout",
     "output_type": "stream",
     "text": [
      "Gridding /bb8/lingrui/my_projects/FAST_pipeline/Sun17_A_10/M19/Tsys_psr_Sun17_A_10_M19-M19_211119_071000to211119_072348_icrs.fits\n",
      "Doing Doppler Tracking!\n"
     ]
    },
    {
     "name": "stderr",
     "output_type": "stream",
     "text": [
      "WARNING: NoVelocityWarning: No velocity defined on frame, assuming (0., 0., 0.) km / s. [astropy.coordinates.spectral_coordinate]\n",
      "WARNING: NoDistanceWarning: Distance on coordinate object is dimensionless, an arbitrary distance value of 1000000.0 kpc will be set instead. [astropy.coordinates.spectral_coordinate]\n",
      "/bb8/lingrui/my_projects/FAST_pipeline/FISH_scripts/gridding_with_doppler_tracking.py:146: RuntimeWarning: invalid value encountered in true_divide\n",
      "  gridded_data = gridder.get_datacube()\n"
     ]
    }
   ],
   "source": [
    "from gridding_with_doppler_tracking import gridding_with_doppler_tracking\n",
    "\n",
    "speclist = 'mygridcont_list'\n",
    "center = [284.5,6.5]\n",
    "outname = 'Sun17_A_scans_all_doppler_cont.fits'\n",
    "vmin = (1.4204-1.45)/1.4204*3e5\n",
    "vmax = (1.4204-1.05)/1.4204*3e5\n",
    "dv   = 500e-3/1024/1.4204*3e5 \n",
    "gridding_with_doppler_tracking(speclist=speclist, center=center, imsize=[360, 360], \\\n",
    "                               cell=1/60, rest_freq=1.420405751768, vmin=vmin, vmax=vmax, \\\n",
    "                               dv=dv, p=0,  outname=outname, psrflag=True, overwrite=False)"
   ]
  }
 ],
 "metadata": {
  "kernelspec": {
   "display_name": "Python 3 (ipykernel)",
   "language": "python",
   "name": "python3"
  },
  "language_info": {
   "codemirror_mode": {
    "name": "ipython",
    "version": 3
   },
   "file_extension": ".py",
   "mimetype": "text/x-python",
   "name": "python",
   "nbconvert_exporter": "python",
   "pygments_lexer": "ipython3",
   "version": "3.10.6"
  }
 },
 "nbformat": 4,
 "nbformat_minor": 5
}
